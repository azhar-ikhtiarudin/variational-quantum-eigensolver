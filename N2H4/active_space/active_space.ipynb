{
 "cells": [
  {
   "cell_type": "code",
   "execution_count": 1,
   "metadata": {},
   "outputs": [],
   "source": [
    "import pennylane as qml\n",
    "from pennylane import qchem\n",
    "from pennylane import numpy as np\n",
    "import matplotlib.pyplot as plt\n",
    "\n",
    "A_to_au_conversion = 1.8897259885789"
   ]
  },
  {
   "cell_type": "code",
   "execution_count": 2,
   "metadata": {},
   "outputs": [],
   "source": [
    "def calc_adapt_vqe_N2H4(threshold, active_electrons=4, active_orbitals=4):\n",
    "    symbols = [\"N\", \"H\", \"H\", \"N\", \"H\", \"H\"]\n",
    "    # ground state coordinate: \n",
    "    geometry = np.array([0.0, 0.0, 0.0 , 0.0, 0.0, 1.015264, 0.978541, 0.0, -0.270591, -0.627449, 1.276052, -0.477492 , -0.897827, 1.825923, 0.332013 , 0.080714, 1.825923, -0.953842])*A_to_au_conversion\n",
    "\n",
    "    H, qubits = qchem.molecular_hamiltonian(\n",
    "        symbols,\n",
    "        geometry,\n",
    "        active_electrons=active_electrons,\n",
    "        active_orbitals=active_orbitals,\n",
    "        # method=\"pyscf\"\n",
    "    )\n",
    "\n",
    "    active_electrons = active_electrons\n",
    "\n",
    "    singles, doubles = qchem.excitations(active_electrons, qubits)\n",
    "\n",
    "    print(f\"Total number of excitations = {len(singles) + len(doubles)}\")\n",
    "    singles_excitations = [qml.SingleExcitation(0.0, x) for x in singles]\n",
    "    doubles_excitations = [qml.DoubleExcitation(0.0, x) for x in doubles]\n",
    "    operator_pool = doubles_excitations + singles_excitations   \n",
    "    hf_state = qchem.hf_state(active_electrons, qubits)\n",
    "    dev = qml.device(\"default.qubit\", wires=qubits)\n",
    "    @qml.qnode(dev)\n",
    "    def circuit():\n",
    "        [qml.PauliX(i) for i in np.nonzero(hf_state)[0]]\n",
    "        return qml.expval(H)\n",
    "    energy_array = []\n",
    "    opt = qml.optimize.AdaptiveOptimizer()\n",
    "    for i in range(len(operator_pool)):\n",
    "        circuit, energy, gradient = opt.step_and_cost(circuit, operator_pool)\n",
    "        energy_array.append(energy)\n",
    "        if i % 3 == 0:\n",
    "            print(\"n = {:},  E = {:.8f} H, Largest Gradient = {:.3f}\".format(i, energy, gradient))\n",
    "            # print(qml.draw(circuit, decimals=None)())\n",
    "            print()\n",
    "        if gradient < threshold*10^(-threshold):\n",
    "            break\n",
    "    return energy_array, circuit\n"
   ]
  },
  {
   "cell_type": "code",
   "execution_count": 3,
   "metadata": {},
   "outputs": [
    {
     "name": "stdout",
     "output_type": "stream",
     "text": [
      "Configuration:  3 8 8\n",
      "Total number of excitations = 360\n"
     ]
    },
    {
     "ename": "",
     "evalue": "",
     "output_type": "error",
     "traceback": [
      "\u001b[1;31mThe Kernel crashed while executing code in the the current cell or a previous cell. Please review the code in the cell(s) to identify a possible cause of the failure. Click <a href='https://aka.ms/vscodeJupyterKernelCrash'>here</a> for more info. View Jupyter <a href='command:jupyter.viewOutput'>log</a> for further details."
     ]
    }
   ],
   "source": [
    "config = [[8, 8]]\n",
    "threshold = 3\n",
    "\n",
    "for i in range(len(config)):\n",
    "    print(\"Configuration: \", threshold, config[i][0], config[i][1])\n",
    "    E, circuit = calc_adapt_vqe_N2H4(threshold, active_electrons=config[i][0], active_orbitals=config[i][1])\n",
    "    \n",
    "    file_path = f\"data/N2H4_{threshold}_{config[i][0]}_{config[i][1]}.txt\"\n",
    "    # Open the file in write mode\n",
    "    with open(file_path, \"w\") as file:\n",
    "        # Write each element of the array to a new line\n",
    "        for element in E:\n",
    "            file.write(str(element) + \"\\n\")\n"
   ]
  }
 ],
 "metadata": {
  "kernelspec": {
   "display_name": "quantum-dev",
   "language": "python",
   "name": "python3"
  },
  "language_info": {
   "codemirror_mode": {
    "name": "ipython",
    "version": 3
   },
   "file_extension": ".py",
   "mimetype": "text/x-python",
   "name": "python",
   "nbconvert_exporter": "python",
   "pygments_lexer": "ipython3",
   "version": "3.8.18"
  }
 },
 "nbformat": 4,
 "nbformat_minor": 2
}
