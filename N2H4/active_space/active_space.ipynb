{
 "cells": [
  {
   "cell_type": "code",
   "execution_count": 1,
   "metadata": {},
   "outputs": [],
   "source": [
    "import pennylane as qml\n",
    "from pennylane import qchem\n",
    "from pennylane import numpy as np\n",
    "import matplotlib.pyplot as plt\n",
    "\n",
    "A_to_au_conversion = 1.8897259885789"
   ]
  },
  {
   "cell_type": "code",
   "execution_count": 2,
   "metadata": {},
   "outputs": [],
   "source": [
    "def calc_adapt_vqe_N2H4(threshold, active_electrons=4, active_orbitals=4):\n",
    "    symbols = [\"N\", \"H\", \"H\", \"N\", \"H\", \"H\"]\n",
    "    # ground state coordinate: \n",
    "    geometry = np.array([0.0, 0.0, 0.0 , 0.0, 0.0, 1.015264, 0.978541, 0.0, -0.270591, -0.627449, 1.276052, -0.477492 , -0.897827, 1.825923, 0.332013 , 0.080714, 1.825923, -0.953842])*A_to_au_conversion\n",
    "\n",
    "    H, qubits = qchem.molecular_hamiltonian(\n",
    "        symbols,\n",
    "        geometry,\n",
    "        active_electrons=active_electrons,\n",
    "        active_orbitals=active_orbitals,\n",
    "        method=\"pyscf\"\n",
    "    )\n",
    "\n",
    "    active_electrons = active_electrons\n",
    "\n",
    "    singles, doubles = qchem.excitations(active_electrons, qubits)\n",
    "\n",
    "    print(f\"Total number of excitations = {len(singles) + len(doubles)}\")\n",
    "    singles_excitations = [qml.SingleExcitation(0.0, x) for x in singles]\n",
    "    doubles_excitations = [qml.DoubleExcitation(0.0, x) for x in doubles]\n",
    "    operator_pool = doubles_excitations + singles_excitations   \n",
    "    hf_state = qchem.hf_state(active_electrons, qubits)\n",
    "    dev = qml.device(\"default.qubit\", wires=qubits)\n",
    "    @qml.qnode(dev)\n",
    "    def circuit():\n",
    "        [qml.PauliX(i) for i in np.nonzero(hf_state)[0]]\n",
    "        return qml.expval(H)\n",
    "    energy_array = []\n",
    "    opt = qml.optimize.AdaptiveOptimizer()\n",
    "    for i in range(len(operator_pool)):\n",
    "        circuit, energy, gradient = opt.step_and_cost(circuit, operator_pool)\n",
    "        energy_array.append(energy)\n",
    "        if i % 3 == 0:\n",
    "            print(\"n = {:},  E = {:.8f} H, Largest Gradient = {:.3f}\".format(i, energy, gradient))\n",
    "            # print(qml.draw(circuit, decimals=None)())\n",
    "            print()\n",
    "        if gradient < threshold*10^(-threshold):\n",
    "            break\n",
    "    return energy_array, circuit\n"
   ]
  },
  {
   "cell_type": "code",
   "execution_count": 4,
   "metadata": {},
   "outputs": [
    {
     "name": "stdout",
     "output_type": "stream",
     "text": [
      "Configuration:  3 2 4\n",
      "Total number of excitations = 15\n",
      "n = 0,  E = -109.73067807 H, Largest Gradient = 0.031\n",
      "\n",
      "n = 3,  E = -109.73244677 H, Largest Gradient = 0.002\n",
      "\n",
      "n = 6,  E = -109.73244975 H, Largest Gradient = 0.000\n",
      "\n",
      "n = 9,  E = -109.73244997 H, Largest Gradient = 0.000\n",
      "\n",
      "n = 12,  E = -109.73245000 H, Largest Gradient = 0.000\n",
      "\n",
      "Configuration:  3 4 4\n",
      "Total number of excitations = 26\n",
      "n = 0,  E = -109.73067807 H, Largest Gradient = 0.069\n",
      "\n",
      "n = 3,  E = -109.73561734 H, Largest Gradient = 0.017\n",
      "\n",
      "n = 6,  E = -109.73591650 H, Largest Gradient = 0.003\n",
      "\n",
      "n = 9,  E = -109.73593322 H, Largest Gradient = 0.002\n",
      "\n",
      "n = 12,  E = -109.73594742 H, Largest Gradient = 0.001\n",
      "\n",
      "n = 15,  E = -109.73595402 H, Largest Gradient = 0.001\n",
      "\n",
      "n = 18,  E = -109.73595544 H, Largest Gradient = 0.000\n",
      "\n",
      "n = 21,  E = -109.73595658 H, Largest Gradient = 0.000\n",
      "\n",
      "n = 24,  E = -109.73595677 H, Largest Gradient = 0.000\n",
      "\n",
      "Configuration:  3 6 4\n",
      "Total number of excitations = 15\n",
      "n = 0,  E = -109.73067807 H, Largest Gradient = 0.069\n",
      "\n"
     ]
    }
   ],
   "source": [
    "config = [[2,4], [4,4], [6,4], [6,6]]\n",
    "threshold = 3\n",
    "\n",
    "for i in range(len(config)):\n",
    "    print(\"Configuration: \", threshold, config[i][0], config[i][1])\n",
    "    E, circuit = calc_adapt_vqe_N2H4(threshold, active_electrons=config[i][0], active_orbitals=config[i][1])\n",
    "    \n",
    "    file_path = f\"data/N2H4_{threshold}_{config[i][0]}_{config[i][1]}.txt\"\n",
    "    # Open the file in write mode\n",
    "    with open(file_path, \"w\") as file:\n",
    "        # Write each element of the array to a new line\n",
    "        for element in E:\n",
    "            file.write(str(element) + \"\\n\")\n"
   ]
  }
 ],
 "metadata": {
  "kernelspec": {
   "display_name": "quantum-dev",
   "language": "python",
   "name": "python3"
  },
  "language_info": {
   "codemirror_mode": {
    "name": "ipython",
    "version": 3
   },
   "file_extension": ".py",
   "mimetype": "text/x-python",
   "name": "python",
   "nbconvert_exporter": "python",
   "pygments_lexer": "ipython3",
   "version": "3.8.18"
  }
 },
 "nbformat": 4,
 "nbformat_minor": 2
}
