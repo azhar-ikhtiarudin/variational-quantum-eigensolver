{
 "cells": [
  {
   "cell_type": "markdown",
   "metadata": {},
   "source": [
    "### 1. Requirement"
   ]
  },
  {
   "cell_type": "code",
   "execution_count": 1,
   "metadata": {},
   "outputs": [],
   "source": [
    "import pennylane as qml\n",
    "from pennylane import qchem\n",
    "from pennylane import numpy as np\n",
    "import matplotlib.pyplot as plt\n",
    "A_to_au_conversion = 1.8897259885789\n",
    "# A_to_au_conversion = 1"
   ]
  },
  {
   "cell_type": "markdown",
   "metadata": {},
   "source": [
    "### 2. Define Functions and Coordinates"
   ]
  },
  {
   "cell_type": "code",
   "execution_count": 6,
   "metadata": {},
   "outputs": [],
   "source": [
    "coordinates = {}\n",
    "\n",
    "\n",
    "coordinates[0]  = np.array([0.0, 0.0, 0.0 , 0.0, 0.0, 1.015264, 0.978541, 0.0, -0.270591, -0.334639, 0.680561, -0.254663 , -0.605017, 1.230432, 0.554843 , 0.373523, 1.230432, -0.731012])\n",
    "coordinates[1]  = np.array([0.0, 0.0, 0.0 , 0.0, 0.0, 1.015264, 0.978541, 0.0, -0.270591, -0.355554, 0.723096, -0.270579 , -0.625932, 1.272967, 0.538927 , 0.352608, 1.272967, -0.746928])\n",
    "coordinates[2]  = np.array([0.0, 0.0, 0.0 , 0.0, 0.0, 1.015264, 0.978541, 0.0, -0.270591, -0.376469, 0.765631, -0.286495 , -0.646847, 1.315502, 0.52301 , 0.331694, 1.315502, -0.762845])\n",
    "coordinates[3]  = np.array([0.0, 0.0, 0.0 , 0.0, 0.0, 1.015264, 0.978541, 0.0, -0.270591, -0.397384, 0.808166, -0.302412 , -0.667762, 1.358037, 0.507094 , 0.310779, 1.358037, -0.778761])\n",
    "coordinates[4]  = np.array([0.0, 0.0, 0.0 , 0.0, 0.0, 1.015264, 0.978541, 0.0, -0.270591, -0.418299, 0.850701, -0.318328 , -0.688677, 1.400572, 0.491177 , 0.289864, 1.400572, -0.794678])\n",
    "coordinates[5]  = np.array([0.0, 0.0, 0.0 , 0.0, 0.0, 1.015264, 0.978541, 0.0, -0.270591, -0.439214, 0.893236, -0.334245 , -0.709592, 1.443107, 0.475261 , 0.268949, 1.443107, -0.810594])\n",
    "coordinates[6]  = np.array([0.0, 0.0, 0.0 , 0.0, 0.0, 1.015264, 0.978541, 0.0, -0.270591, -0.460129, 0.935771, -0.350161 , -0.730507, 1.485643, 0.459345 , 0.248034, 1.485643, -0.82651])\n",
    "coordinates[7]  = np.array([0.0, 0.0, 0.0 , 0.0, 0.0, 1.015264, 0.978541, 0.0, -0.270591, -0.481044, 0.978307, -0.366078 , -0.751422, 1.528178, 0.443428 , 0.227119, 1.528178, -0.842427])\n",
    "coordinates[8]  = np.array([0.0, 0.0, 0.0 , 0.0, 0.0, 1.015264, 0.978541, 0.0, -0.270591, -0.501959, 1.020842, -0.381994 , -0.772337, 1.570713, 0.427512 , 0.206204, 1.570713, -0.858343])\n",
    "coordinates[9]  = np.array([0.0, 0.0, 0.0 , 0.0, 0.0, 1.015264, 0.978541, 0.0, -0.270591, -0.522874, 1.063377, -0.39791 , -0.793252, 1.613248, 0.411595 , 0.185289, 1.613248, -0.87426])\n",
    "coordinates[10] = np.array([0.0, 0.0, 0.0 , 0.0, 0.0, 1.015264, 0.978541, 0.0, -0.270591, -0.543789, 1.105912, -0.413827 , -0.814167, 1.655783, 0.395679 , 0.164374, 1.655783, -0.890176])\n",
    "coordinates[11] = np.array([0.0, 0.0, 0.0 , 0.0, 0.0, 1.015264, 0.978541, 0.0, -0.270591, -0.564704, 1.148447, -0.429743 , -0.835082, 1.698318, 0.379763 , 0.143459, 1.698318, -0.906092])\n",
    "coordinates[12] = np.array([0.0, 0.0, 0.0 , 0.0, 0.0, 1.015264, 0.978541, 0.0, -0.270591, -0.585619, 1.190982, -0.44566 , -0.855997, 1.740853, 0.363846 , 0.122544, 1.740853, -0.922009])\n",
    "coordinates[13] = np.array([0.0, 0.0, 0.0 , 0.0, 0.0, 1.015264, 0.978541, 0.0, -0.270591, -0.606534, 1.233517, -0.461576 , -0.876912, 1.783388, 0.34793 , 0.101629, 1.783388, -0.937925])\n",
    "coordinates[14] = np.array([0.0, 0.0, 0.0 , 0.0, 0.0, 1.015264, 0.978541, 0.0, -0.270591, -0.627449, 1.276052, -0.477492 , -0.897827, 1.825923, 0.332013 , 0.080714, 1.825923, -0.953842])\n",
    "coordinates[15] = np.array([0.0, 0.0, 0.0 , 0.0, 0.0, 1.015264, 0.978541, 0.0, -0.270591, -0.648364, 1.318587, -0.493409 , -0.918742, 1.868458, 0.316097 , 0.059799, 1.868458, -0.969758])\n",
    "coordinates[16] = np.array([0.0, 0.0, 0.0 , 0.0, 0.0, 1.015264, 0.978541, 0.0, -0.270591, -0.669279, 1.361122, -0.509325 , -0.939657, 1.910993, 0.30018 , 0.038884, 1.910993, -0.985675])\n",
    "coordinates[17] = np.array([0.0, 0.0, 0.0 , 0.0, 0.0, 1.015264, 0.978541, 0.0, -0.270591, -0.690194, 1.403657, -0.525242 , -0.960572, 1.953528, 0.284264 , 0.017969, 1.953528, -1.001591])\n",
    "coordinates[18] = np.array([0.0, 0.0, 0.0 , 0.0, 0.0, 1.015264, 0.978541, 0.0, -0.270591, -0.711109, 1.446192, -0.541158 , -0.981487, 1.996063, 0.268348 , -0.002946, 1.996063, -1.017507])\n",
    "coordinates[19] = np.array([0.0, 0.0, 0.0 , 0.0, 0.0, 1.015264, 0.978541, 0.0, -0.270591, -0.732024, 1.488727, -0.557075 , -1.002402, 2.038598, 0.252431 , -0.023861, 2.038598, -1.033424])\n",
    "coordinates[20] = np.array([0.0, 0.0, 0.0 , 0.0, 0.0, 1.015264, 0.978541, 0.0, -0.270591, -0.752939, 1.531262, -0.572991 , -1.023317, 2.081133, 0.236515 , -0.044776, 2.081133, -1.04934])\n",
    "coordinates[21] = np.array([0.0, 0.0, 0.0 , 0.0, 0.0, 1.015264, 0.978541, 0.0, -0.270591, -0.773854, 1.573797, -0.588907 , -1.044232, 2.123669, 0.220598 , -0.065691, 2.123669, -1.065257])\n",
    "coordinates[22] = np.array([0.0, 0.0, 0.0 , 0.0, 0.0, 1.015264, 0.978541, 0.0, -0.270591, -0.794769, 1.616333, -0.604824 , -1.065147, 2.166204, 0.204682 , -0.086606, 2.166204, -1.081173])\n",
    "coordinates[23] = np.array([0.0, 0.0, 0.0 , 0.0, 0.0, 1.015264, 0.978541, 0.0, -0.270591, -0.815684, 1.658868, -0.62074 , -1.086062, 2.208739, 0.188766 , -0.107521, 2.208739, -1.097089])\n",
    "coordinates[24] = np.array([0.0, 0.0, 0.0 , 0.0, 0.0, 1.015264, 0.978541, 0.0, -0.270591, -0.836599, 1.701403, -0.636657 , -1.106977, 2.251274, 0.172849 , -0.128436, 2.251274, -1.113006])\n",
    "coordinates[25] = np.array([0.0, 0.1, 0.0 , 0.0, 0.0, 1.015264, 0.978541, 0.0, -0.270591, -0.836599, 1.701403, -0.636657 , -1.106977, 2.251274, 0.172849 , -0.128436, 2.251274, -1.113006])"
   ]
  },
  {
   "cell_type": "code",
   "execution_count": 3,
   "metadata": {},
   "outputs": [],
   "source": [
    "def calc_vqe_N2H4(i):\n",
    "    symbols = [\"N\", \"H\", \"H\", \"N\", \"H\", \"H\"]\n",
    "    geometry = coordinates[0]\n",
    "    print(geometry)\n",
    "\n",
    "    H, qubits = qchem.molecular_hamiltonian(\n",
    "        symbols,\n",
    "        geometry,\n",
    "        active_electrons=4,\n",
    "        active_orbitals=4,\n",
    "        # method=\"pyscf\"\n",
    "    )\n",
    "    dev = qml.device(\"lightning.qubit\", wires=qubits)\n",
    "    electrons = 4\n",
    "    hf = qml.qchem.hf_state(electrons, qubits)\n",
    "\n",
    "    def circuit(param, wires):\n",
    "        qml.BasisState(hf, wires=wires)\n",
    "        qml.DoubleExcitation(param, wires=[0, 1, 2, 3])\n",
    "\n",
    "    @qml.qnode(dev, interface=\"autograd\")\n",
    "    def cost_fn(param):\n",
    "        circuit(param, wires=range(qubits))\n",
    "        return qml.expval(H)\n",
    "\n",
    "    opt = qml.GradientDescentOptimizer(stepsize=0.4)\n",
    "    theta = np.array(0.0, requires_grad=True)\n",
    "\n",
    "    # store the values of the cost function\n",
    "    energy = [cost_fn(theta)]\n",
    "    # store the values of the circuit parameter\n",
    "    angle = [theta]\n",
    "    max_iterations = 100\n",
    "    conv_tol = 1e-06\n",
    "\n",
    "    for n in range(max_iterations):\n",
    "        theta, prev_energy = opt.step_and_cost(cost_fn, theta)\n",
    "\n",
    "        energy.append(cost_fn(theta))\n",
    "        angle.append(theta)\n",
    "\n",
    "        conv = np.abs(energy[-1] - prev_energy)\n",
    "\n",
    "        if n % 2 == 0:\n",
    "            print(f\"Step = {n},  Energy = {energy[-1]:.8f} Ha\")\n",
    "\n",
    "        if conv <= conv_tol:\n",
    "            break\n",
    "\n",
    "    return energy, angle, n"
   ]
  },
  {
   "cell_type": "markdown",
   "metadata": {},
   "source": [
    "### 3. Calculate"
   ]
  },
  {
   "cell_type": "code",
   "execution_count": 5,
   "metadata": {},
   "outputs": [
    {
     "name": "stdout",
     "output_type": "stream",
     "text": [
      "[ 0.        0.        0.        0.        0.        1.015264  0.978541\n",
      "  0.       -0.270591 -0.334639  0.680561 -0.254663 -0.605017  1.230432\n",
      "  0.554843  0.373523  1.230432 -0.731012]\n"
     ]
    },
    {
     "name": "stderr",
     "output_type": "stream",
     "text": [
      "/home/azhar04/anaconda3/envs/quantum-dev/lib/python3.8/site-packages/pennylane_lightning/lightning_qubit/lightning_qubit.py:822: UserWarning: Pre-compiled binaries for lightning.qubit are not available. Falling back to using the Python-based default.qubit implementation. To manually compile from source, follow the instructions at https://pennylane-lightning.readthedocs.io/en/latest/installation.html.\n",
      "  warn(\n"
     ]
    },
    {
     "name": "stdout",
     "output_type": "stream",
     "text": [
      "Step = 0,  Energy = -92.32387133 Ha\n"
     ]
    }
   ],
   "source": [
    "energy, angle, n = calc_vqe_N2H4(0)"
   ]
  },
  {
   "cell_type": "code",
   "execution_count": null,
   "metadata": {},
   "outputs": [],
   "source": [
    "E_R = []\n",
    "Data = []\n",
    "for i in range(len(coordinates)):\n",
    "    E, angle, n = calc_vqe_N2H4(i)\n",
    "    Data.append(E)\n",
    "    E_R.append(E[-1])"
   ]
  },
  {
   "cell_type": "code",
   "execution_count": null,
   "metadata": {},
   "outputs": [],
   "source": [
    "plt.plot(E_R)"
   ]
  },
  {
   "cell_type": "markdown",
   "metadata": {},
   "source": [
    "### Sample Random Coordinates"
   ]
  },
  {
   "cell_type": "code",
   "execution_count": 7,
   "metadata": {},
   "outputs": [
    {
     "name": "stdout",
     "output_type": "stream",
     "text": [
      "[ 0.        0.        0.        0.        0.        1.015264  0.978541\n",
      "  0.       -0.270591 -0.334639  0.680561 -0.254663 -0.605017  1.230432\n",
      "  0.554843  0.373523  1.230432 -0.731012]\n",
      "Step = 0,  Energy = -92.32387133 Ha\n"
     ]
    }
   ],
   "source": [
    "energy, angle, n = calc_vqe_N2H4(25)"
   ]
  }
 ],
 "metadata": {
  "kernelspec": {
   "display_name": "quantum-dev",
   "language": "python",
   "name": "python3"
  },
  "language_info": {
   "codemirror_mode": {
    "name": "ipython",
    "version": 3
   },
   "file_extension": ".py",
   "mimetype": "text/x-python",
   "name": "python",
   "nbconvert_exporter": "python",
   "pygments_lexer": "ipython3",
   "version": "3.8.18"
  }
 },
 "nbformat": 4,
 "nbformat_minor": 2
}
