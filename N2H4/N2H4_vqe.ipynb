{
 "cells": [
  {
   "cell_type": "markdown",
   "metadata": {},
   "source": [
    "### 1. Requirement"
   ]
  },
  {
   "cell_type": "code",
   "execution_count": 2,
   "metadata": {},
   "outputs": [],
   "source": [
    "import pennylane as qml\n",
    "from pennylane import qchem\n",
    "from pennylane import numpy as np\n",
    "import matplotlib.pyplot as plt\n",
    "A_to_au_conversion = 1.8897259885789\n",
    "# A_to_au_conversion = 1"
   ]
  },
  {
   "cell_type": "markdown",
   "metadata": {},
   "source": [
    "### 2. Define Functions and Coordinates"
   ]
  },
  {
   "cell_type": "code",
   "execution_count": 3,
   "metadata": {},
   "outputs": [],
   "source": [
    "coordinates = {}\n",
    "\n",
    "\n",
    "coordinates[0]  = np.array([0.0, 0.0, 0.0 , 0.0, 0.0, 1.015264, 0.978541, 0.0, -0.270591, -0.334639, 0.680561, -0.254663 , -0.605017, 1.230432, 0.554843 , 0.373523, 1.230432, -0.731012])*A_to_au_conversion\n",
    "coordinates[1]  = np.array([0.0, 0.0, 0.0 , 0.0, 0.0, 1.015264, 0.978541, 0.0, -0.270591, -0.355554, 0.723096, -0.270579 , -0.625932, 1.272967, 0.538927 , 0.352608, 1.272967, -0.746928])*A_to_au_conversion\n",
    "coordinates[2]  = np.array([0.0, 0.0, 0.0 , 0.0, 0.0, 1.015264, 0.978541, 0.0, -0.270591, -0.376469, 0.765631, -0.286495 , -0.646847, 1.315502, 0.52301 , 0.331694, 1.315502, -0.762845])*A_to_au_conversion\n",
    "coordinates[3]  = np.array([0.0, 0.0, 0.0 , 0.0, 0.0, 1.015264, 0.978541, 0.0, -0.270591, -0.397384, 0.808166, -0.302412 , -0.667762, 1.358037, 0.507094 , 0.310779, 1.358037, -0.778761])*A_to_au_conversion\n",
    "coordinates[4]  = np.array([0.0, 0.0, 0.0 , 0.0, 0.0, 1.015264, 0.978541, 0.0, -0.270591, -0.418299, 0.850701, -0.318328 , -0.688677, 1.400572, 0.491177 , 0.289864, 1.400572, -0.794678])*A_to_au_conversion\n",
    "coordinates[5]  = np.array([0.0, 0.0, 0.0 , 0.0, 0.0, 1.015264, 0.978541, 0.0, -0.270591, -0.439214, 0.893236, -0.334245 , -0.709592, 1.443107, 0.475261 , 0.268949, 1.443107, -0.810594])*A_to_au_conversion\n",
    "coordinates[6]  = np.array([0.0, 0.0, 0.0 , 0.0, 0.0, 1.015264, 0.978541, 0.0, -0.270591, -0.460129, 0.935771, -0.350161 , -0.730507, 1.485643, 0.459345 , 0.248034, 1.485643, -0.82651])*A_to_au_conversion\n",
    "coordinates[7]  = np.array([0.0, 0.0, 0.0 , 0.0, 0.0, 1.015264, 0.978541, 0.0, -0.270591, -0.481044, 0.978307, -0.366078 , -0.751422, 1.528178, 0.443428 , 0.227119, 1.528178, -0.842427])*A_to_au_conversion\n",
    "coordinates[8]  = np.array([0.0, 0.0, 0.0 , 0.0, 0.0, 1.015264, 0.978541, 0.0, -0.270591, -0.501959, 1.020842, -0.381994 , -0.772337, 1.570713, 0.427512 , 0.206204, 1.570713, -0.858343])*A_to_au_conversion\n",
    "coordinates[9]  = np.array([0.0, 0.0, 0.0 , 0.0, 0.0, 1.015264, 0.978541, 0.0, -0.270591, -0.522874, 1.063377, -0.39791 , -0.793252, 1.613248, 0.411595 , 0.185289, 1.613248, -0.87426])*A_to_au_conversion\n",
    "coordinates[10] = np.array([0.0, 0.0, 0.0 , 0.0, 0.0, 1.015264, 0.978541, 0.0, -0.270591, -0.543789, 1.105912, -0.413827 , -0.814167, 1.655783, 0.395679 , 0.164374, 1.655783, -0.890176])*A_to_au_conversion\n",
    "coordinates[11] = np.array([0.0, 0.0, 0.0 , 0.0, 0.0, 1.015264, 0.978541, 0.0, -0.270591, -0.564704, 1.148447, -0.429743 , -0.835082, 1.698318, 0.379763 , 0.143459, 1.698318, -0.906092])*A_to_au_conversion\n",
    "coordinates[12] = np.array([0.0, 0.0, 0.0 , 0.0, 0.0, 1.015264, 0.978541, 0.0, -0.270591, -0.585619, 1.190982, -0.44566 , -0.855997, 1.740853, 0.363846 , 0.122544, 1.740853, -0.922009])*A_to_au_conversion\n",
    "coordinates[13] = np.array([0.0, 0.0, 0.0 , 0.0, 0.0, 1.015264, 0.978541, 0.0, -0.270591, -0.606534, 1.233517, -0.461576 , -0.876912, 1.783388, 0.34793 , 0.101629, 1.783388, -0.937925])*A_to_au_conversion\n",
    "coordinates[14] = np.array([0.0, 0.0, 0.0 , 0.0, 0.0, 1.015264, 0.978541, 0.0, -0.270591, -0.627449, 1.276052, -0.477492 , -0.897827, 1.825923, 0.332013 , 0.080714, 1.825923, -0.953842])*A_to_au_conversion\n",
    "coordinates[15] = np.array([0.0, 0.0, 0.0 , 0.0, 0.0, 1.015264, 0.978541, 0.0, -0.270591, -0.648364, 1.318587, -0.493409 , -0.918742, 1.868458, 0.316097 , 0.059799, 1.868458, -0.969758])*A_to_au_conversion\n",
    "coordinates[16] = np.array([0.0, 0.0, 0.0 , 0.0, 0.0, 1.015264, 0.978541, 0.0, -0.270591, -0.669279, 1.361122, -0.509325 , -0.939657, 1.910993, 0.30018 , 0.038884, 1.910993, -0.985675])*A_to_au_conversion\n",
    "coordinates[17] = np.array([0.0, 0.0, 0.0 , 0.0, 0.0, 1.015264, 0.978541, 0.0, -0.270591, -0.690194, 1.403657, -0.525242 , -0.960572, 1.953528, 0.284264 , 0.017969, 1.953528, -1.001591])*A_to_au_conversion\n",
    "coordinates[18] = np.array([0.0, 0.0, 0.0 , 0.0, 0.0, 1.015264, 0.978541, 0.0, -0.270591, -0.711109, 1.446192, -0.541158 , -0.981487, 1.996063, 0.268348 , -0.002946, 1.996063, -1.017507])*A_to_au_conversion\n",
    "coordinates[19] = np.array([0.0, 0.0, 0.0 , 0.0, 0.0, 1.015264, 0.978541, 0.0, -0.270591, -0.732024, 1.488727, -0.557075 , -1.002402, 2.038598, 0.252431 , -0.023861, 2.038598, -1.033424])*A_to_au_conversion\n",
    "coordinates[20] = np.array([0.0, 0.0, 0.0 , 0.0, 0.0, 1.015264, 0.978541, 0.0, -0.270591, -0.752939, 1.531262, -0.572991 , -1.023317, 2.081133, 0.236515 , -0.044776, 2.081133, -1.04934])*A_to_au_conversion\n",
    "coordinates[21] = np.array([0.0, 0.0, 0.0 , 0.0, 0.0, 1.015264, 0.978541, 0.0, -0.270591, -0.773854, 1.573797, -0.588907 , -1.044232, 2.123669, 0.220598 , -0.065691, 2.123669, -1.065257])*A_to_au_conversion\n",
    "coordinates[22] = np.array([0.0, 0.0, 0.0 , 0.0, 0.0, 1.015264, 0.978541, 0.0, -0.270591, -0.794769, 1.616333, -0.604824 , -1.065147, 2.166204, 0.204682 , -0.086606, 2.166204, -1.081173])*A_to_au_conversion\n",
    "coordinates[23] = np.array([0.0, 0.0, 0.0 , 0.0, 0.0, 1.015264, 0.978541, 0.0, -0.270591, -0.815684, 1.658868, -0.62074 , -1.086062, 2.208739, 0.188766 , -0.107521, 2.208739, -1.097089])*A_to_au_conversion\n",
    "coordinates[24] = np.array([0.0, 0.0, 0.0 , 0.0, 0.0, 1.015264, 0.978541, 0.0, -0.270591, -0.836599, 1.701403, -0.636657 , -1.106977, 2.251274, 0.172849 , -0.128436, 2.251274, -1.113006])*A_to_au_conversion\n",
    "# coordinates[25] = np.array([0.0, 0.1, 2.5 , 0.0, 0.0, 1.015264, 0.978541, 0.0, -0.270591, -0.836599, 1.701403, -0.636657 , -1.106977, 2.251274, 0.172849 , -0.128436, 2.251274, -1.113006])"
   ]
  },
  {
   "cell_type": "code",
   "execution_count": 4,
   "metadata": {},
   "outputs": [],
   "source": [
    "def calc_vqe_N2H4(i):\n",
    "    symbols = [\"N\", \"H\", \"H\", \"N\", \"H\", \"H\"]\n",
    "    geometry = coordinates[i]\n",
    "    print(geometry)\n",
    "\n",
    "    H, qubits = qchem.molecular_hamiltonian(\n",
    "        symbols,\n",
    "        geometry,\n",
    "        active_electrons=8,\n",
    "        active_orbitals=8,\n",
    "        method=\"pyscf\"\n",
    "    )\n",
    "    dev = qml.device(\"lightning.qubit\", wires=qubits)\n",
    "    electrons = 8\n",
    "    hf = qml.qchem.hf_state(electrons, qubits)\n",
    "\n",
    "    def circuit(param, wires):\n",
    "        qml.BasisState(hf, wires=wires)\n",
    "        qml.DoubleExcitation(param, wires=[0, 1, 2, 3])\n",
    "\n",
    "    @qml.qnode(dev, interface=\"autograd\")\n",
    "    def cost_fn(param):\n",
    "        circuit(param, wires=range(qubits))\n",
    "        return qml.expval(H)\n",
    "\n",
    "    opt = qml.GradientDescentOptimizer(stepsize=0.4)\n",
    "    theta = np.array(0.0, requires_grad=True)\n",
    "\n",
    "    # store the values of the cost function\n",
    "    energy = [cost_fn(theta)]\n",
    "    # store the values of the circuit parameter\n",
    "    angle = [theta]\n",
    "    max_iterations = 100\n",
    "    conv_tol = 1e-06\n",
    "\n",
    "    for n in range(max_iterations):\n",
    "        theta, prev_energy = opt.step_and_cost(cost_fn, theta)\n",
    "\n",
    "        energy.append(cost_fn(theta))\n",
    "        angle.append(theta)\n",
    "\n",
    "        conv = np.abs(energy[-1] - prev_energy)\n",
    "\n",
    "        if n % 2 == 0:\n",
    "            print(f\"Step = {n},  Energy = {energy[-1]:.8f} Ha\")\n",
    "\n",
    "        if conv <= conv_tol:\n",
    "            break\n",
    "\n",
    "    return energy, angle, n"
   ]
  },
  {
   "cell_type": "markdown",
   "metadata": {},
   "source": [
    "### 3. Calculate"
   ]
  },
  {
   "cell_type": "code",
   "execution_count": 5,
   "metadata": {},
   "outputs": [
    {
     "name": "stdout",
     "output_type": "stream",
     "text": [
      "[ 0.          0.          0.          0.          0.          1.91857077\n",
      "  1.84917436  0.         -0.51134284 -0.63237602  1.28607381 -0.48124329\n",
      " -1.14331635  2.32517933  1.04850124  0.70585612  2.32517933 -1.38141237]\n"
     ]
    },
    {
     "name": "stderr",
     "output_type": "stream",
     "text": [
      "/home/azhar04/anaconda3/envs/quantum-dev/lib/python3.8/site-packages/pennylane_lightning/lightning_qubit/lightning_qubit.py:822: UserWarning: Pre-compiled binaries for lightning.qubit are not available. Falling back to using the Python-based default.qubit implementation. To manually compile from source, follow the instructions at https://pennylane-lightning.readthedocs.io/en/latest/installation.html.\n",
      "  warn(\n"
     ]
    }
   ],
   "source": [
    "energy, angle, n = calc_vqe_N2H4(0)"
   ]
  },
  {
   "cell_type": "code",
   "execution_count": 18,
   "metadata": {},
   "outputs": [
    {
     "name": "stdout",
     "output_type": "stream",
     "text": [
      "[ 0.        0.        0.        0.        0.        1.015264  0.978541\n",
      "  0.       -0.270591 -0.334639  0.680561 -0.254663 -0.605017  1.230432\n",
      "  0.554843  0.373523  1.230432 -0.731012]\n",
      "Step = 0,  Energy = -92.38424589 Ha\n",
      "[ 0.        0.        0.        0.        0.        1.015264  0.978541\n",
      "  0.       -0.270591 -0.355554  0.723096 -0.270579 -0.625932  1.272967\n",
      "  0.538927  0.352608  1.272967 -0.746928]\n",
      "Step = 0,  Energy = -94.31692368 Ha\n",
      "[ 0.        0.        0.        0.        0.        1.015264  0.978541\n",
      "  0.       -0.270591 -0.376469  0.765631 -0.286495 -0.646847  1.315502\n",
      "  0.52301   0.331694  1.315502 -0.762845]\n",
      "Step = 0,  Energy = -95.97443615 Ha\n",
      "[ 0.        0.        0.        0.        0.        1.015264  0.978541\n",
      "  0.       -0.270591 -0.397384  0.808166 -0.302412 -0.667762  1.358037\n",
      "  0.507094  0.310779  1.358037 -0.778761]\n",
      "Step = 0,  Energy = -97.40169074 Ha\n",
      "[ 0.        0.        0.        0.        0.        1.015264  0.978541\n",
      "  0.       -0.270591 -0.418299  0.850701 -0.318328 -0.688677  1.400572\n",
      "  0.491177  0.289864  1.400572 -0.794678]\n",
      "Step = 0,  Energy = -98.63462743 Ha\n",
      "[ 0.        0.        0.        0.        0.        1.015264  0.978541\n",
      "  0.       -0.270591 -0.439214  0.893236 -0.334245 -0.709592  1.443107\n",
      "  0.475261  0.268949  1.443107 -0.810594]\n",
      "Step = 0,  Energy = -99.70251193 Ha\n",
      "[ 0.        0.        0.        0.        0.        1.015264  0.978541\n",
      "  0.       -0.270591 -0.460129  0.935771 -0.350161 -0.730507  1.485643\n",
      "  0.459345  0.248034  1.485643 -0.82651 ]\n",
      "Step = 0,  Energy = -100.62932971 Ha\n",
      "[ 0.        0.        0.        0.        0.        1.015264  0.978541\n",
      "  0.       -0.270591 -0.481044  0.978307 -0.366078 -0.751422  1.528178\n",
      "  0.443428  0.227119  1.528178 -0.842427]\n",
      "Step = 0,  Energy = -101.43488136 Ha\n",
      "[ 0.        0.        0.        0.        0.        1.015264  0.978541\n",
      "  0.       -0.270591 -0.501959  1.020842 -0.381994 -0.772337  1.570713\n",
      "  0.427512  0.206204  1.570713 -0.858343]\n",
      "Step = 0,  Energy = -102.13557899 Ha\n",
      "[ 0.        0.        0.        0.        0.        1.015264  0.978541\n",
      "  0.       -0.270591 -0.522874  1.063377 -0.39791  -0.793252  1.613248\n",
      "  0.411595  0.185289  1.613248 -0.87426 ]\n",
      "Step = 0,  Energy = -102.74526093 Ha\n",
      "[ 0.        0.        0.        0.        0.        1.015264  0.978541\n",
      "  0.       -0.270591 -0.543789  1.105912 -0.413827 -0.814167  1.655783\n",
      "  0.395679  0.164374  1.655783 -0.890176]\n",
      "Step = 0,  Energy = -103.27572267 Ha\n",
      "[ 0.        0.        0.        0.        0.        1.015264  0.978541\n",
      "  0.       -0.270591 -0.564704  1.148447 -0.429743 -0.835082  1.698318\n",
      "  0.379763  0.143459  1.698318 -0.906092]\n",
      "Step = 0,  Energy = -103.73712666 Ha\n",
      "[ 0.        0.        0.        0.        0.        1.015264  0.978541\n",
      "  0.       -0.270591 -0.585619  1.190982 -0.44566  -0.855997  1.740853\n",
      "  0.363846  0.122544  1.740853 -0.922009]\n",
      "Step = 0,  Energy = -104.13830925 Ha\n",
      "[ 0.        0.        0.        0.        0.        1.015264  0.978541\n",
      "  0.       -0.270591 -0.606534  1.233517 -0.461576 -0.876912  1.783388\n",
      "  0.34793   0.101629  1.783388 -0.937925]\n",
      "Step = 0,  Energy = -104.48694962 Ha\n",
      "[ 0.        0.        0.        0.        0.        1.015264  0.978541\n",
      "  0.       -0.270591 -0.627449  1.276052 -0.477492 -0.897827  1.825923\n",
      "  0.332013  0.080714  1.825923 -0.953842]\n",
      "Step = 0,  Energy = -104.78974129 Ha\n",
      "[ 0.        0.        0.        0.        0.        1.015264  0.978541\n",
      "  0.       -0.270591 -0.648364  1.318587 -0.493409 -0.918742  1.868458\n",
      "  0.316097  0.059799  1.868458 -0.969758]\n",
      "Step = 0,  Energy = -105.05251640 Ha\n",
      "[ 0.        0.        0.        0.        0.        1.015264  0.978541\n",
      "  0.       -0.270591 -0.669279  1.361122 -0.509325 -0.939657  1.910993\n",
      "  0.30018   0.038884  1.910993 -0.985675]\n",
      "Step = 0,  Energy = -105.28034738 Ha\n",
      "[ 0.        0.        0.        0.        0.        1.015264  0.978541\n",
      "  0.       -0.270591 -0.690194  1.403657 -0.525242 -0.960572  1.953528\n",
      "  0.284264  0.017969  1.953528 -1.001591]\n",
      "Step = 0,  Energy = -105.47766880 Ha\n",
      "[ 0.        0.        0.        0.        0.        1.015264  0.978541\n",
      "  0.       -0.270591 -0.711109  1.446192 -0.541158 -0.981487  1.996063\n",
      "  0.268348 -0.002946  1.996063 -1.017507]\n",
      "Step = 0,  Energy = -105.64834061 Ha\n",
      "[ 0.        0.        0.        0.        0.        1.015264  0.978541\n",
      "  0.       -0.270591 -0.732024  1.488727 -0.557075 -1.002402  2.038598\n",
      "  0.252431 -0.023861  2.038598 -1.033424]\n",
      "Step = 0,  Energy = -105.79574105 Ha\n",
      "[ 0.        0.        0.        0.        0.        1.015264  0.978541\n",
      "  0.       -0.270591 -0.752939  1.531262 -0.572991 -1.023317  2.081133\n",
      "  0.236515 -0.044776  2.081133 -1.04934 ]\n",
      "Step = 0,  Energy = -105.92281770 Ha\n",
      "[ 0.        0.        0.        0.        0.        1.015264  0.978541\n",
      "  0.       -0.270591 -0.773854  1.573797 -0.588907 -1.044232  2.123669\n",
      "  0.220598 -0.065691  2.123669 -1.065257]\n",
      "Step = 0,  Energy = -106.03215227 Ha\n",
      "[ 0.        0.        0.        0.        0.        1.015264  0.978541\n",
      "  0.       -0.270591 -0.794769  1.616333 -0.604824 -1.065147  2.166204\n",
      "  0.204682 -0.086606  2.166204 -1.081173]\n",
      "Step = 0,  Energy = -106.12599354 Ha\n",
      "[ 0.        0.        0.        0.        0.        1.015264  0.978541\n",
      "  0.       -0.270591 -0.815684  1.658868 -0.62074  -1.086062  2.208739\n",
      "  0.188766 -0.107521  2.208739 -1.097089]\n",
      "Step = 0,  Energy = -106.20631490 Ha\n",
      "[ 0.        0.        0.        0.        0.        1.015264  0.978541\n",
      "  0.       -0.270591 -0.836599  1.701403 -0.636657 -1.106977  2.251274\n",
      "  0.172849 -0.128436  2.251274 -1.113006]\n",
      "Step = 0,  Energy = -106.27483885 Ha\n"
     ]
    }
   ],
   "source": [
    "E_R = []\n",
    "Data = []\n",
    "for i in range(len(coordinates)):\n",
    "    E, angle, n = calc_vqe_N2H4(i)\n",
    "    Data.append(E)\n",
    "    E_R.append(E[-1])"
   ]
  },
  {
   "cell_type": "code",
   "execution_count": 19,
   "metadata": {},
   "outputs": [
    {
     "data": {
      "text/plain": [
       "[<matplotlib.lines.Line2D at 0x7f544cafe940>]"
      ]
     },
     "execution_count": 19,
     "metadata": {},
     "output_type": "execute_result"
    },
    {
     "data": {
      "image/png": "[encoded data removed]",
      "text/plain": [
       "<Figure size 640x480 with 1 Axes>"
      ]
     },
     "metadata": {},
     "output_type": "display_data"
    }
   ],
   "source": [
    "plt.plot(E_R)"
   ]
  },
  {
   "cell_type": "code",
   "execution_count": 20,
   "metadata": {},
   "outputs": [
    {
     "data": {
      "image/png": "[encoded data removed]",
      "text/plain": [
       "<Figure size 640x480 with 1 Axes>"
      ]
     },
     "metadata": {},
     "output_type": "display_data"
    }
   ],
   "source": [
    "import matplotlib.pyplot as plt\n",
    "\n",
    "# Total energy values\n",
    "total_energy_values = [-109.876, -110.212, -110.467, -110.661, -110.807, -110.917, -110.999, -111.059, -111.102, -111.132,\n",
    "                       -111.152, -111.164, -111.171, -111.173, -111.171, -111.167, -111.161, -111.154, -111.145, -111.136,\n",
    "                       -111.127, -111.119, -111.111, -111.104, -111.098]\n",
    "\n",
    "# Create an array of indices for the energy values\n",
    "indices = range(len(total_energy_values))\n",
    "\n",
    "# Plot the energy values\n",
    "plt.plot(indices, total_energy_values, marker='o', linestyle='-')\n",
    "plt.xlabel('Index')\n",
    "plt.ylabel('Total Energy (Hartree)')\n",
    "plt.title('Total Energy Values')\n",
    "plt.grid(True)\n",
    "plt.show()\n"
   ]
  },
  {
   "cell_type": "markdown",
   "metadata": {},
   "source": [
    "### Sample Random Coordinates"
   ]
  },
  {
   "cell_type": "code",
   "execution_count": 12,
   "metadata": {},
   "outputs": [
    {
     "name": "stdout",
     "output_type": "stream",
     "text": [
      "[ 0.        0.1       2.5       0.        0.        1.015264  0.978541\n",
      "  0.       -0.270591 -0.836599  1.701403 -0.636657 -1.106977  2.251274\n",
      "  0.172849 -0.128436  2.251274 -1.113006]\n"
     ]
    },
    {
     "name": "stderr",
     "output_type": "stream",
     "text": [
      "/home/azhar04/anaconda3/envs/quantum-dev/lib/python3.8/site-packages/pennylane_lightning/lightning_qubit/lightning_qubit.py:822: UserWarning: Pre-compiled binaries for lightning.qubit are not available. Falling back to using the Python-based default.qubit implementation. To manually compile from source, follow the instructions at https://pennylane-lightning.readthedocs.io/en/latest/installation.html.\n",
      "  warn(\n"
     ]
    },
    {
     "name": "stdout",
     "output_type": "stream",
     "text": [
      "Step = 0,  Energy = -107.58456555 Ha\n"
     ]
    }
   ],
   "source": [
    "energy, angle, n = calc_vqe_N2H4(25)"
   ]
  },
  {
   "cell_type": "code",
   "execution_count": 14,
   "metadata": {},
   "outputs": [
    {
     "name": "stdout",
     "output_type": "stream",
     "text": [
      "[ 0.        0.1       2.5       0.        0.        1.015264  0.978541\n",
      "  0.       -0.270591 -0.836599  1.701403 -0.636657 -1.106977  2.251274\n",
      "  0.172849 -0.128436  2.251274 -1.113006]\n"
     ]
    },
    {
     "name": "stderr",
     "output_type": "stream",
     "text": [
      "/home/azhar04/anaconda3/envs/quantum-dev/lib/python3.8/site-packages/pennylane_lightning/lightning_qubit/lightning_qubit.py:822: UserWarning: Pre-compiled binaries for lightning.qubit are not available. Falling back to using the Python-based default.qubit implementation. To manually compile from source, follow the instructions at https://pennylane-lightning.readthedocs.io/en/latest/installation.html.\n",
      "  warn(\n"
     ]
    },
    {
     "name": "stdout",
     "output_type": "stream",
     "text": [
      "Step = 0,  Energy = -107.58460684 Ha\n"
     ]
    }
   ],
   "source": [
    "energy, angle, n = calc_vqe_N2H4(25)"
   ]
  }
 ],
 "metadata": {
  "kernelspec": {
   "display_name": "quantum-dev",
   "language": "python",
   "name": "python3"
  },
  "language_info": {
   "codemirror_mode": {
    "name": "ipython",
    "version": 3
   },
   "file_extension": ".py",
   "mimetype": "text/x-python",
   "name": "python",
   "nbconvert_exporter": "python",
   "pygments_lexer": "ipython3",
   "version": "3.8.18"
  }
 },
 "nbformat": 4,
 "nbformat_minor": 2
}
