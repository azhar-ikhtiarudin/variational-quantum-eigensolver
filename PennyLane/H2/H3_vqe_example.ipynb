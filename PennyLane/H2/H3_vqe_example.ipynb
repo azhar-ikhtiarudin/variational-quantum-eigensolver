{
 "cells": [
  {
   "cell_type": "code",
   "execution_count": 1,
   "metadata": {},
   "outputs": [],
   "source": [
    "import pennylane as qml\n",
    "from pennylane import numpy as np\n",
    "import matplotlib.pyplot as plt"
   ]
  },
  {
   "cell_type": "code",
   "execution_count": 2,
   "metadata": {},
   "outputs": [
    {
     "name": "stdout",
     "output_type": "stream",
     "text": [
      "step = 0,  E = -1.24654994 Ha\n",
      "step = 2,  E = -1.27016844 Ha\n",
      "step = 4,  E = -1.27379541 Ha\n",
      "step = 6,  E = -1.27434106 Ha\n",
      "step = 8,  E = -1.27442311 Ha\n",
      "step = 10,  E = -1.27443547 Ha\n",
      "step = 12,  E = -1.27443733 Ha\n",
      "step = 14,  E = -1.27443761 Ha\n",
      "step = 16,  E = -1.27443765 Ha\n",
      "step = 18,  E = -1.27443766 Ha\n",
      "step = 20,  E = -1.27443766 Ha\n"
     ]
    }
   ],
   "source": [
    "\n",
    "# Define the molecule\n",
    "symbols  = ['H', 'H', 'H']\n",
    "geometry = np.array([[0.01076341,  0.04449877,  0.0],\n",
    "                        [0.98729513,  1.63059094,  0.0],\n",
    "                        [1.87262415, -0.00815842,  0.0]], requires_grad = False)\n",
    "electrons = 2\n",
    "charge = 1\n",
    "\n",
    "# Build the electronic Hamiltonian\n",
    "H, qubits = qml.qchem.molecular_hamiltonian(symbols, geometry, charge=charge)\n",
    "\n",
    "# Define the HF state\n",
    "hf_state = qml.qchem.hf_state(electrons, qubits)\n",
    "\n",
    "# Generate single and double excitations\n",
    "singles, doubles = qml.qchem.excitations(electrons, qubits)\n",
    "\n",
    "# Map excitations to the wires the UCCSD circuit will act on\n",
    "s_wires, d_wires = qml.qchem.excitations_to_wires(singles, doubles)\n",
    "\n",
    "# Define the device\n",
    "dev = qml.device(\"default.qubit\", wires=qubits)\n",
    "\n",
    "# Define the qnode\n",
    "@qml.qnode(dev)\n",
    "def circuit(params, wires, s_wires, d_wires, hf_state):\n",
    "    qml.UCCSD(params, wires, s_wires, d_wires, hf_state)\n",
    "    return qml.expval(H)\n",
    "\n",
    "# Define the initial values of the circuit parameters\n",
    "params = np.zeros(len(singles) + len(doubles))\n",
    "\n",
    "# Define the optimizer\n",
    "optimizer = qml.GradientDescentOptimizer(stepsize=0.5)\n",
    "\n",
    "# Optimize the circuit parameters and compute the energy\n",
    "energies = []\n",
    "for n in range(21):\n",
    "    params, energy = optimizer.step_and_cost(circuit, params,\n",
    "    wires=range(qubits), s_wires=s_wires, d_wires=d_wires, hf_state=hf_state)\n",
    "    if n % 2 == 0:\n",
    "        energies.append(energy)\n",
    "        print(\"step = {:},  E = {:.8f} Ha\".format(n, energy))"
   ]
  },
  {
   "cell_type": "code",
   "execution_count": 3,
   "metadata": {},
   "outputs": [
    {
     "data": {
      "text/plain": [
       "[<matplotlib.lines.Line2D at 0x7fefbfad8f90>]"
      ]
     },
     "execution_count": 3,
     "metadata": {},
     "output_type": "execute_result"
    },
    {
     "data": {
      "image/png": "[encoded data removed]",
      "text/plain": [
       "<Figure size 640x480 with 1 Axes>"
      ]
     },
     "metadata": {},
     "output_type": "display_data"
    }
   ],
   "source": [
    "plt.plot(energy)"
   ]
  }
 ],
 "metadata": {
  "kernelspec": {
   "display_name": "quantum-dev",
   "language": "python",
   "name": "python3"
  },
  "language_info": {
   "codemirror_mode": {
    "name": "ipython",
    "version": 3
   },
   "file_extension": ".py",
   "mimetype": "text/x-python",
   "name": "python",
   "nbconvert_exporter": "python",
   "pygments_lexer": "ipython3",
   "version": "3.11.8"
  }
 },
 "nbformat": 4,
 "nbformat_minor": 2
}
