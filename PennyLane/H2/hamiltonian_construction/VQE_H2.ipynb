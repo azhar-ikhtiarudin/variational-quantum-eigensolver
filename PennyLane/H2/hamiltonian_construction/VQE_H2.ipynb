{
  "cells": [
    {
      "cell_type": "code",
      "execution_count": 1,
      "metadata": {
        "id": "bSgFMud10BNo"
      },
      "outputs": [],
      "source": [
        "# This cell is added by sphinx-gallery\n",
        "# It can be customized to whatever you like\n",
        "%matplotlib inline"
      ]
    },
    {
      "cell_type": "code",
      "execution_count": 2,
      "metadata": {
        "id": "hbE71WOZ3lrv"
      },
      "outputs": [],
      "source": [
        "import pennylane as qml\n",
        "import numpy as np\n",
        "import matplotlib.pyplot as plt"
      ]
    },
    {
      "cell_type": "markdown",
      "metadata": {
        "id": "08RHi9RoaxcD"
      },
      "source": [
        "# FCI"
      ]
    },
    {
      "cell_type": "code",
      "execution_count": 3,
      "metadata": {
        "id": "iOtsySIPfls3"
      },
      "outputs": [],
      "source": [
        "from pyscf import gto, scf, ao2mo, fci\n",
        "import numpy as np\n",
        "from matplotlib import pyplot as plt"
      ]
    },
    {
      "cell_type": "code",
      "execution_count": 4,
      "metadata": {
        "id": "LzvrSlY6flOz"
      },
      "outputs": [],
      "source": [
        "def FCI(L, e_list):\n",
        "  mol = gto.M(atom='H 0 0 ' + str(L) + '; H 0 0 0', basis='sto-3g')\n",
        "  mf = scf.RHF(mol).run()\n",
        "  h1 = mf.mo_coeff.T.dot(mf.get_hcore()).dot(mf.mo_coeff)\n",
        "  eri = ao2mo.kernel(mol, mf.mo_coeff)\n",
        "  cisolver = fci.direct_spin1.FCI(mol)\n",
        "  e, ci = cisolver.kernel(h1, eri, h1.shape[1], mol.nelec, ecore=mol.energy_nuc())\n",
        "  e_list += [e]\n",
        "  return e_list\n",
        "  #print(e)"
      ]
    },
    {
      "cell_type": "code",
      "execution_count": 5,
      "metadata": {
        "colab": {
          "base_uri": "https://localhost:8080/"
        },
        "id": "VjcIRjyjiXS0",
        "outputId": "93920952-b9fd-4be9-e04f-2aefbc0fcdaa"
      },
      "outputs": [
        {
          "name": "stdout",
          "output_type": "stream",
          "text": [
            "converged SCF energy = -1.11668438708534\n"
          ]
        },
        {
          "data": {
            "text/plain": [
              "[-1.137270174660903]"
            ]
          },
          "execution_count": 5,
          "metadata": {},
          "output_type": "execute_result"
        }
      ],
      "source": [
        "FCI(0.7414, [])"
      ]
    },
    {
      "cell_type": "code",
      "execution_count": 6,
      "metadata": {
        "id": "X_4MfFusgbsC"
      },
      "outputs": [],
      "source": [
        "e_fci = []\n",
        "\n",
        "bond_length_fci = np.linspace(0.1, 3.0, 30)\n",
        "\n",
        "for i in range(len(bond_length_fci)):\n",
        "  e_fci = FCI(bond_length_fci[i], e_fci)\n",
        "\n",
        "from IPython.display import clear_output\n",
        "clear_output()"
      ]
    },
    {
      "cell_type": "code",
      "execution_count": 7,
      "metadata": {
        "colab": {
          "base_uri": "https://localhost:8080/",
          "height": 284
        },
        "id": "ep4kGaLYixHC",
        "outputId": "ae8f9b46-299b-4d92-e286-2f478245a132"
      },
      "outputs": [
        {
          "data": {
            "text/plain": [
              "[<matplotlib.lines.Line2D at 0x7fbc80903550>]"
            ]
          },
          "execution_count": 7,
          "metadata": {},
          "output_type": "execute_result"
        },
        {
          "data": {
            "image/png": "[encoded data removed]",
            "text/plain": [
              "<Figure size 640x480 with 1 Axes>"
            ]
          },
          "metadata": {},
          "output_type": "display_data"
        }
      ],
      "source": [
        "plt.plot(bond_length_fci, e_fci)"
      ]
    },
    {
      "cell_type": "code",
      "execution_count": 8,
      "metadata": {
        "colab": {
          "base_uri": "https://localhost:8080/"
        },
        "id": "o2cHHWNykISS",
        "outputId": "cc923147-a655-4cb1-b9fb-d68ddd3d10f2"
      },
      "outputs": [
        {
          "data": {
            "text/plain": [
              "0.7"
            ]
          },
          "execution_count": 8,
          "metadata": {},
          "output_type": "execute_result"
        }
      ],
      "source": [
        "bond_length_fci[np.argmin(e_fci)]"
      ]
    },
    {
      "cell_type": "code",
      "execution_count": 9,
      "metadata": {
        "id": "aRH_RB0Gml8U"
      },
      "outputs": [],
      "source": [
        "np.savetxt('./FCI_energy_wide_30.txt', e_fci)\n",
        "#np.savetxt('./FCI_length_crammed.txt', bond_length_fci)"
      ]
    },
    {
      "cell_type": "code",
      "execution_count": 10,
      "metadata": {
        "id": "gbETwYeY0BNy"
      },
      "outputs": [],
      "source": [
        "import pennylane as qml\n",
        "from pennylane import qchem\n",
        "from pennylane import numpy as np"
      ]
    },
    {
      "cell_type": "markdown",
      "metadata": {
        "id": "nzVShOjW71Cy"
      },
      "source": [
        "# VQE"
      ]
    },
    {
      "cell_type": "markdown",
      "metadata": {
        "id": "pyQxSp5c8BgP"
      },
      "source": [
        "## Molecule Geometry"
      ]
    },
    {
      "cell_type": "code",
      "execution_count": 11,
      "metadata": {
        "colab": {
          "base_uri": "https://localhost:8080/",
          "height": 36
        },
        "id": "Q7bWZdDJuiyx",
        "outputId": "d873cf8b-6d4e-48e1-d5e2-b3fc281997de"
      },
      "outputs": [
        {
          "data": {
            "text/plain": [
              "'2\\nin Angstrom\\nH          0.00000        0.00000        0.00000\\nH          0.00000        0.00000        0.74140000'"
            ]
          },
          "execution_count": 11,
          "metadata": {},
          "output_type": "execute_result"
        }
      ],
      "source": [
        "f = open(\"./h2.xyz\")\n",
        "f.read()"
      ]
    },
    {
      "cell_type": "code",
      "execution_count": 12,
      "metadata": {
        "id": "1w9C2L0MzZHE"
      },
      "outputs": [],
      "source": [
        "def change_geometry(L_new, L_prev):\n",
        "  #read input file\n",
        "  fin = open(\"./h2.xyz\", \"rt\")\n",
        "  #read file contents to string\n",
        "  data = fin.read()\n",
        "  #replace all occurrences of the required string\n",
        "  data = data.replace(str(L_prev), str(L_new))\n",
        "  #close the input file\n",
        "  fin.close()\n",
        "  #open the input file in write mode\n",
        "  fin = open(\"./h2.xyz\", \"wt\")\n",
        "  #overrite the input file with the resulting data\n",
        "  fin.write(data)\n",
        "  #close the file\n",
        "  fin.close()\n",
        "  return L_new"
      ]
    },
    {
      "cell_type": "code",
      "execution_count": 13,
      "metadata": {
        "colab": {
          "base_uri": "https://localhost:8080/"
        },
        "id": "vMNHWgYW2Abl",
        "outputId": "cca865f8-10d7-4e96-ad07-9ac4455f5de2"
      },
      "outputs": [
        {
          "data": {
            "text/plain": [
              "0.1"
            ]
          },
          "execution_count": 13,
          "metadata": {},
          "output_type": "execute_result"
        }
      ],
      "source": [
        "change_geometry(0.10, 0.90)"
      ]
    },
    {
      "cell_type": "markdown",
      "metadata": {
        "id": "GxzqHr2R8Z61"
      },
      "source": [
        "## Jordan-Wigner Mapping"
      ]
    },
    {
      "cell_type": "code",
      "execution_count": 14,
      "metadata": {
        "id": "sgms4tpi0BN7"
      },
      "outputs": [],
      "source": [
        "def jordan_wigner_map():\n",
        "  geometry = './h2.xyz'\n",
        "  charge = 0\n",
        "  multiplicity = 1\n",
        "  basis_set = 'sto-3g'\n",
        "  name = 'h2'\n",
        "\n",
        "  h, qubits = qchem.molecular_hamiltonian(\n",
        "      name,\n",
        "      geometry,\n",
        "      charge=charge,\n",
        "      mult=multiplicity,\n",
        "      basis=basis_set,\n",
        "      active_electrons=2,\n",
        "      active_orbitals=2,\n",
        "      mapping='jordan_wigner'\n",
        "  )\n",
        "\n",
        "  #print('Number of qubits = ', qubits)\n",
        "  #print('Hamiltonian is ', h)\n",
        "\n",
        "  return h"
      ]
    },
    {
      "cell_type": "code",
      "execution_count": 15,
      "metadata": {
        "colab": {
          "base_uri": "https://localhost:8080/"
        },
        "id": "uNgyCmlH2qtj",
        "outputId": "c1c5c03e-10cb-485d-9831-aad0cf5ae200"
      },
      "outputs": [
        {
          "ename": "UnboundLocalError",
          "evalue": "cannot access local variable 'geometry_dhf' where it is not associated with a value",
          "output_type": "error",
          "traceback": [
            "\u001b[0;31m---------------------------------------------------------------------------\u001b[0m",
            "\u001b[0;31mUnboundLocalError\u001b[0m                         Traceback (most recent call last)",
            "Cell \u001b[0;32mIn[15], line 1\u001b[0m\n\u001b[0;32m----> 1\u001b[0m \u001b[38;5;28mprint\u001b[39m(\u001b[43mjordan_wigner_map\u001b[49m\u001b[43m(\u001b[49m\u001b[43m)\u001b[49m)\n",
            "Cell \u001b[0;32mIn[14], line 8\u001b[0m, in \u001b[0;36mjordan_wigner_map\u001b[0;34m()\u001b[0m\n\u001b[1;32m      5\u001b[0m basis_set \u001b[38;5;241m=\u001b[39m \u001b[38;5;124m'\u001b[39m\u001b[38;5;124msto-3g\u001b[39m\u001b[38;5;124m'\u001b[39m\n\u001b[1;32m      6\u001b[0m name \u001b[38;5;241m=\u001b[39m \u001b[38;5;124m'\u001b[39m\u001b[38;5;124mh2\u001b[39m\u001b[38;5;124m'\u001b[39m\n\u001b[0;32m----> 8\u001b[0m h, qubits \u001b[38;5;241m=\u001b[39m \u001b[43mqchem\u001b[49m\u001b[38;5;241;43m.\u001b[39;49m\u001b[43mmolecular_hamiltonian\u001b[49m\u001b[43m(\u001b[49m\n\u001b[1;32m      9\u001b[0m \u001b[43m    \u001b[49m\u001b[43mname\u001b[49m\u001b[43m,\u001b[49m\n\u001b[1;32m     10\u001b[0m \u001b[43m    \u001b[49m\u001b[43mgeometry\u001b[49m\u001b[43m,\u001b[49m\n\u001b[1;32m     11\u001b[0m \u001b[43m    \u001b[49m\u001b[43mcharge\u001b[49m\u001b[38;5;241;43m=\u001b[39;49m\u001b[43mcharge\u001b[49m\u001b[43m,\u001b[49m\n\u001b[1;32m     12\u001b[0m \u001b[43m    \u001b[49m\u001b[43mmult\u001b[49m\u001b[38;5;241;43m=\u001b[39;49m\u001b[43mmultiplicity\u001b[49m\u001b[43m,\u001b[49m\n\u001b[1;32m     13\u001b[0m \u001b[43m    \u001b[49m\u001b[43mbasis\u001b[49m\u001b[38;5;241;43m=\u001b[39;49m\u001b[43mbasis_set\u001b[49m\u001b[43m,\u001b[49m\n\u001b[1;32m     14\u001b[0m \u001b[43m    \u001b[49m\u001b[43mactive_electrons\u001b[49m\u001b[38;5;241;43m=\u001b[39;49m\u001b[38;5;241;43m2\u001b[39;49m\u001b[43m,\u001b[49m\n\u001b[1;32m     15\u001b[0m \u001b[43m    \u001b[49m\u001b[43mactive_orbitals\u001b[49m\u001b[38;5;241;43m=\u001b[39;49m\u001b[38;5;241;43m2\u001b[39;49m\u001b[43m,\u001b[49m\n\u001b[1;32m     16\u001b[0m \u001b[43m    \u001b[49m\u001b[43mmapping\u001b[49m\u001b[38;5;241;43m=\u001b[39;49m\u001b[38;5;124;43m'\u001b[39;49m\u001b[38;5;124;43mjordan_wigner\u001b[39;49m\u001b[38;5;124;43m'\u001b[39;49m\n\u001b[1;32m     17\u001b[0m \u001b[43m\u001b[49m\u001b[43m)\u001b[49m\n\u001b[1;32m     19\u001b[0m \u001b[38;5;66;03m#print('Number of qubits = ', qubits)\u001b[39;00m\n\u001b[1;32m     20\u001b[0m \u001b[38;5;66;03m#print('Hamiltonian is ', h)\u001b[39;00m\n\u001b[1;32m     22\u001b[0m \u001b[38;5;28;01mreturn\u001b[39;00m h\n",
            "File \u001b[0;32m~/anaconda3/envs/quantum-dev-2/lib/python3.11/site-packages/pennylane/qchem/openfermion_obs.py:926\u001b[0m, in \u001b[0;36mmolecular_hamiltonian\u001b[0;34m(symbols, coordinates, name, charge, mult, basis, method, active_electrons, active_orbitals, mapping, outpath, wires, alpha, coeff, args, load_data, convert_tol)\u001b[0m\n\u001b[1;32m    921\u001b[0m \u001b[38;5;28;01mif\u001b[39;00m mult \u001b[38;5;241m!=\u001b[39m \u001b[38;5;241m1\u001b[39m:\n\u001b[1;32m    922\u001b[0m     \u001b[38;5;28;01mraise\u001b[39;00m \u001b[38;5;167;01mValueError\u001b[39;00m(\n\u001b[1;32m    923\u001b[0m         \u001b[38;5;124m\"\u001b[39m\u001b[38;5;124mOpenshell systems are not supported for the differentiable workflow. Use \u001b[39m\u001b[38;5;124m\"\u001b[39m\n\u001b[1;32m    924\u001b[0m         \u001b[38;5;124m\"\u001b[39m\u001b[38;5;124m`method = \u001b[39m\u001b[38;5;124m'\u001b[39m\u001b[38;5;124mpyscf\u001b[39m\u001b[38;5;124m'\u001b[39m\u001b[38;5;124m` or change the charge or spin multiplicity of the molecule.\u001b[39m\u001b[38;5;124m\"\u001b[39m\n\u001b[1;32m    925\u001b[0m     )\n\u001b[0;32m--> 926\u001b[0m \u001b[38;5;28;01mif\u001b[39;00m args \u001b[38;5;129;01mis\u001b[39;00m \u001b[38;5;28;01mNone\u001b[39;00m \u001b[38;5;129;01mand\u001b[39;00m \u001b[38;5;28misinstance\u001b[39m(\u001b[43mgeometry_dhf\u001b[49m, qml\u001b[38;5;241m.\u001b[39mnumpy\u001b[38;5;241m.\u001b[39mtensor):\n\u001b[1;32m    927\u001b[0m     geometry_dhf\u001b[38;5;241m.\u001b[39mrequires_grad \u001b[38;5;241m=\u001b[39m \u001b[38;5;28;01mFalse\u001b[39;00m\n\u001b[1;32m    928\u001b[0m mol \u001b[38;5;241m=\u001b[39m qml\u001b[38;5;241m.\u001b[39mqchem\u001b[38;5;241m.\u001b[39mMolecule(\n\u001b[1;32m    929\u001b[0m     symbols,\n\u001b[1;32m    930\u001b[0m     geometry_dhf,\n\u001b[0;32m   (...)\u001b[0m\n\u001b[1;32m    936\u001b[0m     coeff\u001b[38;5;241m=\u001b[39mcoeff,\n\u001b[1;32m    937\u001b[0m )\n",
            "\u001b[0;31mUnboundLocalError\u001b[0m: cannot access local variable 'geometry_dhf' where it is not associated with a value"
          ]
        }
      ],
      "source": [
        "print(jordan_wigner_map())"
      ]
    },
    {
      "cell_type": "markdown",
      "metadata": {
        "id": "vTunO6ej8eal"
      },
      "source": [
        "## Devices"
      ]
    },
    {
      "cell_type": "code",
      "execution_count": null,
      "metadata": {
        "colab": {
          "base_uri": "https://localhost:8080/"
        },
        "id": "a3Ft3f5yzj6A",
        "outputId": "01fb15bc-d318-4ffa-cf9d-e837be139cd0"
      },
      "outputs": [
        {
          "name": "stderr",
          "output_type": "stream",
          "text": [
            "/usr/local/lib/python3.6/dist-packages/qiskit/providers/ibmq/ibmqfactory.py:192: UserWarning: Timestamps in IBMQ backend properties, jobs, and job results are all now in local time instead of UTC.\n",
            "  warnings.warn('Timestamps in IBMQ backend properties, jobs, and job results '\n"
          ]
        }
      ],
      "source": [
        "provider = IBMQ.load_account()\n",
        "backend = provider.get_backend('ibmq_vigo')\n",
        "noise_model = NoiseModel.from_backend(backend)"
      ]
    },
    {
      "cell_type": "code",
      "execution_count": null,
      "metadata": {
        "id": "Ul7H5pSc3_i5"
      },
      "outputs": [],
      "source": [
        "dev_noisy = qml.device(\"qiskit.aer\", wires=qubits, shots=2048, noise_model = noise_model, analytic=False, backend='qasm_simulator')\n",
        "cost_noisy = qml.ExpvalCost(circuit, h, dev_noisy)"
      ]
    },
    {
      "cell_type": "markdown",
      "metadata": {
        "id": "pptkYqOk4PRb"
      },
      "source": [
        "## Ground State Energy as function of bond length"
      ]
    },
    {
      "cell_type": "code",
      "execution_count": null,
      "metadata": {
        "colab": {
          "base_uri": "https://localhost:8080/"
        },
        "id": "XEjoygwG4qke",
        "outputId": "273d6e23-9f68-41bb-87e8-5eac57c55012"
      },
      "outputs": [
        {
          "name": "stdout",
          "output_type": "stream",
          "text": [
            "\n",
            "Bond Length = 0.73 Angstrom\n",
            "Final convergence parameter = 0.00000001 Ha\n",
            "Final value of the ground-state energy = -1.13728561 Ha\n",
            "\n",
            "\n",
            "Bond Length = 0.73 Angstrom\n",
            "Final convergence parameter = 0.00000001 Ha\n",
            "Final value of the ground-state energy = -1.13729350 Ha\n",
            "\n",
            "\n",
            "Bond Length = 0.73 Angstrom\n",
            "Final convergence parameter = 0.00000001 Ha\n",
            "Final value of the ground-state energy = -1.13729945 Ha\n",
            "\n",
            "\n",
            "Bond Length = 0.73 Angstrom\n",
            "Final convergence parameter = 0.00000001 Ha\n",
            "Final value of the ground-state energy = -1.13730349 Ha\n",
            "\n",
            "\n",
            "Bond Length = 0.73 Angstrom\n",
            "Final convergence parameter = 0.00000001 Ha\n",
            "Final value of the ground-state energy = -1.13730562 Ha\n",
            "\n",
            "\n",
            "Bond Length = 0.74 Angstrom\n",
            "Final convergence parameter = 0.00000001 Ha\n",
            "Final value of the ground-state energy = -1.13730585 Ha\n",
            "\n",
            "\n",
            "Bond Length = 0.74 Angstrom\n",
            "Final convergence parameter = 0.00000001 Ha\n",
            "Final value of the ground-state energy = -1.13730420 Ha\n",
            "\n",
            "\n",
            "Bond Length = 0.74 Angstrom\n",
            "Final convergence parameter = 0.00000001 Ha\n",
            "Final value of the ground-state energy = -1.13730067 Ha\n",
            "\n",
            "\n",
            "Bond Length = 0.74 Angstrom\n",
            "Final convergence parameter = 0.00000001 Ha\n",
            "Final value of the ground-state energy = -1.13729529 Ha\n",
            "\n",
            "\n",
            "Bond Length = 0.74 Angstrom\n",
            "Final convergence parameter = 0.00000001 Ha\n",
            "Final value of the ground-state energy = -1.13728807 Ha\n",
            "\n",
            "\n",
            "Bond Length = 0.74 Angstrom\n",
            "Final convergence parameter = 0.00000001 Ha\n",
            "Final value of the ground-state energy = -1.13727901 Ha\n",
            "\n",
            "\n",
            "Bond Length = 0.74 Angstrom\n",
            "Final convergence parameter = 0.00000001 Ha\n",
            "Final value of the ground-state energy = -1.13726813 Ha\n",
            "\n",
            "\n",
            "Bond Length = 0.74 Angstrom\n",
            "Final convergence parameter = 0.00000001 Ha\n",
            "Final value of the ground-state energy = -1.13725544 Ha\n",
            "\n",
            "\n",
            "Bond Length = 0.74 Angstrom\n",
            "Final convergence parameter = 0.00000001 Ha\n",
            "Final value of the ground-state energy = -1.13724096 Ha\n",
            "\n",
            "\n",
            "Bond Length = 0.74 Angstrom\n",
            "Final convergence parameter = 0.00000001 Ha\n",
            "Final value of the ground-state energy = -1.13722469 Ha\n",
            "\n",
            "\n",
            "Bond Length = 0.75 Angstrom\n",
            "Final convergence parameter = 0.00000001 Ha\n",
            "Final value of the ground-state energy = -1.13720665 Ha\n",
            "\n",
            "\n",
            "Bond Length = 0.75 Angstrom\n",
            "Final convergence parameter = 0.00000001 Ha\n",
            "Final value of the ground-state energy = -1.13718685 Ha\n",
            "\n",
            "\n",
            "Bond Length = 0.75 Angstrom\n",
            "Final convergence parameter = 0.00000001 Ha\n",
            "Final value of the ground-state energy = -1.13716530 Ha\n",
            "\n",
            "\n",
            "Bond Length = 0.75 Angstrom\n",
            "Final convergence parameter = 0.00000001 Ha\n",
            "Final value of the ground-state energy = -1.13714201 Ha\n",
            "\n",
            "\n",
            "Bond Length = 0.75 Angstrom\n",
            "Final convergence parameter = 0.00000001 Ha\n",
            "Final value of the ground-state energy = -1.13711700 Ha\n",
            "\n"
          ]
        }
      ],
      "source": [
        "max_iterations = 1000\n",
        "conv_tol = 1e-08\n",
        "\n",
        "qubits = 4\n",
        "\n",
        "energy_list = []\n",
        "bond_length_vqe = np.linspace(0.73, 0.75, 20)\n",
        "\n",
        "L_before = 0.80\n",
        "\n",
        "for k in range(len(bond_length_vqe)):\n",
        "\n",
        "  L = bond_length_vqe[k]\n",
        "\n",
        "  L_before = change_geometry(L, L_before)\n",
        "\n",
        "  dev = qml.device('default.qubit', wires=qubits)\n",
        "\n",
        "  def circuit(params, wires):\n",
        "      #qml.BasisState(np.array([1, 1, 0, 0]), wires=wires)\n",
        "      for i in wires:\n",
        "          qml.Rot(*params[i], wires=i)\n",
        "      qml.CNOT(wires=[2, 3])\n",
        "      qml.CNOT(wires=[2, 0])\n",
        "      qml.CNOT(wires=[3, 1])\n",
        "\n",
        "  h = jordan_wigner_map()\n",
        "\n",
        "  cost_fn = qml.ExpvalCost(circuit, h, dev)\n",
        "\n",
        "  opt = qml.AdamOptimizer(stepsize=0.01)\n",
        "  np.random.seed(0)\n",
        "  params = np.random.normal(0, np.pi, (qubits, 3))\n",
        "\n",
        "  prev_energy = cost_fn(params)\n",
        "\n",
        "  for n in range(max_iterations):\n",
        "      params = opt.step(cost_fn, params)\n",
        "      energy = cost_fn(params)\n",
        "      conv = np.abs(energy - prev_energy)\n",
        "\n",
        "      if conv <= conv_tol:\n",
        "          break\n",
        "\n",
        "      prev_energy = energy\n",
        "\n",
        "  energy_list += [energy]\n",
        "  print()\n",
        "  print('Bond Length = {:.4f} Angstrom'.format(L))\n",
        "  print('Final convergence parameter = {:.8f} Ha'.format(conv))\n",
        "  print('Final value of the ground-state energy = {:.8f} Ha'.format(energy))\n",
        "  print()\n",
        "\n"
      ]
    },
    {
      "cell_type": "code",
      "execution_count": null,
      "metadata": {
        "id": "BwQxtfmNgnXq"
      },
      "outputs": [],
      "source": [
        "np.savetxt('./VQE_energy_vs_L_crammed.txt', energy_list)\n",
        "np.savetxt('./VQE_length_crammed.txt', bond_length_vqe)"
      ]
    },
    {
      "cell_type": "markdown",
      "metadata": {
        "id": "VVwI85aKbk8w"
      },
      "source": [
        "## Ground State Energy as function of number of iterations (fixed bond length)"
      ]
    },
    {
      "cell_type": "code",
      "execution_count": null,
      "metadata": {
        "colab": {
          "base_uri": "https://localhost:8080/"
        },
        "id": "YqaF1moScv3B",
        "outputId": "cfa573f3-8a21-49ec-841c-f4d1b7276d9a"
      },
      "outputs": [
        {
          "data": {
            "text/plain": [
              "0.7414"
            ]
          },
          "execution_count": 21,
          "metadata": {
            "tags": []
          },
          "output_type": "execute_result"
        }
      ],
      "source": [
        "change_geometry(0.7414, 0.7348650)"
      ]
    },
    {
      "cell_type": "code",
      "execution_count": null,
      "metadata": {
        "colab": {
          "base_uri": "https://localhost:8080/",
          "height": 36
        },
        "id": "WbO5UlIjcsZT",
        "outputId": "3599f30f-7bda-45ba-c8bc-e398a1a1a65a"
      },
      "outputs": [
        {
          "data": {
            "application/vnd.google.colaboratory.intrinsic+json": {
              "type": "string"
            },
            "text/plain": [
              "'2\\nin Angstrom\\nH          0.00000        0.00000        0.00000\\nH          0.00000        0.00000        0.74140000\\n'"
            ]
          },
          "execution_count": 30,
          "metadata": {
            "tags": []
          },
          "output_type": "execute_result"
        }
      ],
      "source": [
        "f = open(\"./h2.xyz\")\n",
        "f.read()"
      ]
    },
    {
      "cell_type": "code",
      "execution_count": null,
      "metadata": {
        "colab": {
          "base_uri": "https://localhost:8080/"
        },
        "id": "gYD-u90ldOFy",
        "outputId": "49dd39a8-2697-46af-d0f8-d71e8ad0f5cd"
      },
      "outputs": [
        {
          "name": "stdout",
          "output_type": "stream",
          "text": [
            "(-0.09886396933545721) [I0]\n",
            "+ (0.17119774903432944) [Z0]\n",
            "+ (0.17119774903432936) [Z1]\n",
            "+ (-0.22278593040418498) [Z2]\n",
            "+ (-0.22278593040418496) [Z3]\n",
            "+ (0.16862219158920938) [Z0 Z1]\n",
            "+ (0.04532220205287401) [Y0 X1 X2 Y3]\n",
            "+ (-0.04532220205287401) [Y0 Y1 X2 X3]\n",
            "+ (-0.04532220205287401) [X0 X1 Y2 Y3]\n",
            "+ (0.04532220205287401) [X0 Y1 Y2 X3]\n",
            "+ (0.120544822053018) [Z0 Z2]\n",
            "+ (0.165867024105892) [Z0 Z3]\n",
            "+ (0.165867024105892) [Z1 Z2]\n",
            "+ (0.120544822053018) [Z1 Z3]\n",
            "+ (0.17434844185575687) [Z2 Z3]\n"
          ]
        }
      ],
      "source": [
        "h = jordan_wigner_map()\n",
        "print(h)"
      ]
    },
    {
      "cell_type": "code",
      "execution_count": null,
      "metadata": {
        "id": "UBFYf8-a0BN_"
      },
      "outputs": [],
      "source": [
        "qubits = 4\n",
        "\n",
        "dev = qml.device('default.qubit', wires=qubits)\n",
        "\n",
        "def circuit(params, wires):\n",
        "    #qml.BasisState(np.array([1, 1, 0, 0]), wires=wires)\n",
        "    for i in wires:\n",
        "        qml.Rot(*params[i], wires=i)\n",
        "    qml.CNOT(wires=[2, 3])\n",
        "    qml.CNOT(wires=[2, 0])\n",
        "    qml.CNOT(wires=[3, 1])\n",
        "\n",
        "  \n",
        "cost_fn = qml.ExpvalCost(circuit, h, dev)\n",
        "\n",
        "opt = qml.AdamOptimizer(stepsize=0.01)\n",
        "np.random.seed(0)\n",
        "params = np.random.normal(0, np.pi, (qubits, 3))"
      ]
    },
    {
      "cell_type": "code",
      "execution_count": null,
      "metadata": {
        "colab": {
          "base_uri": "https://localhost:8080/"
        },
        "id": "mbMmztsW0BOB",
        "outputId": "f6e4c74b-39f3-4057-c68c-aa1dd8b3437e"
      },
      "outputs": [
        {
          "name": "stdout",
          "output_type": "stream",
          "text": [
            "Iteration = 20,  Energy = 0.11794595 Ha\n",
            "Iteration = 40,  Energy = 0.00870996 Ha\n",
            "Iteration = 60,  Energy = -0.11372095 Ha\n",
            "Iteration = 80,  Energy = -0.23432854 Ha\n",
            "Iteration = 100,  Energy = -0.34290964 Ha\n",
            "Iteration = 120,  Energy = -0.44178559 Ha\n",
            "Iteration = 140,  Energy = -0.54365110 Ha\n",
            "Iteration = 160,  Energy = -0.65951615 Ha\n",
            "Iteration = 180,  Energy = -0.78372569 Ha\n",
            "Iteration = 200,  Energy = -0.89679510 Ha\n",
            "Iteration = 220,  Energy = -0.98359794 Ha\n",
            "Iteration = 240,  Energy = -1.04249915 Ha\n",
            "Iteration = 260,  Energy = -1.08028547 Ha\n",
            "Iteration = 280,  Energy = -1.10421240 Ha\n",
            "Iteration = 300,  Energy = -1.11906199 Ha\n",
            "Iteration = 320,  Energy = -1.12786286 Ha\n",
            "Iteration = 340,  Energy = -1.13275967 Ha\n",
            "Iteration = 360,  Energy = -1.13528742 Ha\n",
            "Iteration = 380,  Energy = -1.13648213 Ha\n",
            "Iteration = 400,  Energy = -1.13699153 Ha\n",
            "Iteration = 420,  Energy = -1.13718422 Ha\n",
            "Iteration = 440,  Energy = -1.13724763 Ha\n",
            "Iteration = 460,  Energy = -1.13726533 Ha\n",
            "Iteration = 480,  Energy = -1.13726938 Ha\n",
            "Iteration = 500,  Energy = -1.13727009 Ha\n",
            "\n",
            "Final convergence parameter = 0.00000001 Ha\n",
            "Final value of the ground-state energy = -1.13727011 Ha\n",
            "Accuracy with respect to the FCI energy: 0.00108065 Ha (0.67811202 kcal/mol)\n",
            "\n",
            "Final circuit parameters = \n",
            " [[ 5.54193389e+00  3.14092053e+00  3.07479606e+00]\n",
            " [ 7.03997361e+00  3.14155227e+00 -3.07020901e+00]\n",
            " [ 2.98479079e+00 -2.26136252e-01 -1.55282882e-13]\n",
            " [ 1.28993323e+00  9.38358209e-08  4.56873496e+00]]\n"
          ]
        }
      ],
      "source": [
        "max_iterations = 1000\n",
        "conv_tol = 1e-08\n",
        "\n",
        "energy_list = []\n",
        "\n",
        "prev_energy = cost_fn(params)\n",
        "energy_list += [prev_energy]\n",
        "\n",
        "for n in range(max_iterations):\n",
        "    params = opt.step(cost_fn, params)\n",
        "    energy = cost_fn(params)\n",
        "    conv = np.abs(energy - prev_energy)\n",
        "\n",
        "    if (n+1) % 20 == 0:\n",
        "        print('Iteration = {:},  Energy = {:.8f} Ha'.format(n+1, energy))\n",
        "\n",
        "    if conv <= conv_tol:\n",
        "        break\n",
        "\n",
        "    prev_energy = energy\n",
        "    energy_list += [prev_energy]\n",
        "\n",
        "print()\n",
        "print('Final convergence parameter = {:.8f} Ha'.format(conv))\n",
        "print('Final value of the ground-state energy = {:.8f} Ha'.format(energy))\n",
        "print('Accuracy with respect to the FCI energy: {:.8f} Ha ({:.8f} kcal/mol)'.format(\n",
        "    np.abs(energy - (-1.136189454088)), np.abs(energy - (-1.136189454088))*627.503\n",
        "    )\n",
        ")\n",
        "print()\n",
        "print('Final circuit parameters = \\n', params)"
      ]
    },
    {
      "cell_type": "code",
      "execution_count": null,
      "metadata": {
        "colab": {
          "base_uri": "https://localhost:8080/",
          "height": 284
        },
        "id": "WWMScmradtrv",
        "outputId": "8e6c5b56-6aac-4051-8d52-4632ee72e715"
      },
      "outputs": [
        {
          "data": {
            "text/plain": [
              "[<matplotlib.lines.Line2D at 0x7f58046d0a20>]"
            ]
          },
          "execution_count": 27,
          "metadata": {
            "tags": []
          },
          "output_type": "execute_result"
        },
        {
          "data": {
            "image/png": "[encoded data removed]",
            "text/plain": [
              "<Figure size 432x288 with 1 Axes>"
            ]
          },
          "metadata": {
            "needs_background": "light",
            "tags": []
          },
          "output_type": "display_data"
        }
      ],
      "source": [
        "plt.plot(energy_list)"
      ]
    },
    {
      "cell_type": "code",
      "execution_count": null,
      "metadata": {
        "id": "RTWi4UA2jitO"
      },
      "outputs": [],
      "source": [
        "bond_length_vqe = np.linspace(0, len(energy_list)-1, len(energy_list), dtype=int)"
      ]
    },
    {
      "cell_type": "code",
      "execution_count": null,
      "metadata": {
        "id": "47xgdAA3jc_t"
      },
      "outputs": [],
      "source": [
        "np.savetxt('./VQE_energy_vs_iteration.txt', energy_list)\n",
        "np.savetxt('./VQE_length_iteration.txt', bond_length_vqe)"
      ]
    },
    {
      "cell_type": "markdown",
      "metadata": {
        "id": "9YCvZmJb8_zI"
      },
      "source": [
        "## Ground state wave function estimation using the final (optimal) circuit parameters"
      ]
    },
    {
      "cell_type": "code",
      "execution_count": null,
      "metadata": {
        "colab": {
          "base_uri": "https://localhost:8080/"
        },
        "id": "ogSTpVs-oCfa",
        "outputId": "66e42a93-6269-447d-c4ab-3b5170e739f1"
      },
      "outputs": [
        {
          "data": {
            "text/plain": [
              "array([[ 5.54193389e+00,  3.14092053e+00,  3.07479606e+00],\n",
              "       [ 7.03997361e+00,  3.14155227e+00, -3.07020901e+00],\n",
              "       [ 2.98479079e+00, -2.26136252e-01, -1.55282882e-13],\n",
              "       [ 1.28993323e+00,  9.38358209e-08,  4.56873496e+00]])"
            ]
          },
          "execution_count": 46,
          "metadata": {
            "tags": []
          },
          "output_type": "execute_result"
        }
      ],
      "source": [
        "params"
      ]
    },
    {
      "cell_type": "code",
      "execution_count": null,
      "metadata": {
        "id": "860WZxkcpP4Y"
      },
      "outputs": [],
      "source": [
        "dev = qml.device('default.qubit', wires=4, shots=10000)\n",
        "\n",
        "@qml.qnode(dev)\n",
        "def circuit_optimal(params):\n",
        "    #qml.BasisState(np.array([1, 1, 0, 0]), wires=wires)\n",
        "    for i in range(4):\n",
        "        qml.Rot(*params[i], wires=i)\n",
        "    qml.CNOT(wires=[2, 3])\n",
        "    qml.CNOT(wires=[2, 0])\n",
        "    qml.CNOT(wires=[3, 1])\n",
        "    return qml.probs([0, 1, 2, 3])"
      ]
    },
    {
      "cell_type": "code",
      "execution_count": null,
      "metadata": {
        "id": "llG0BI3soSVH"
      },
      "outputs": [],
      "source": [
        "prob_state = circuit_optimal(params)"
      ]
    },
    {
      "cell_type": "code",
      "execution_count": null,
      "metadata": {
        "colab": {
          "base_uri": "https://localhost:8080/"
        },
        "id": "ukAsW2lCuN64",
        "outputId": "bec6ec7f-c072-4298-f8a9-525e5ace3685"
      },
      "outputs": [
        {
          "name": "stdout",
          "output_type": "stream",
          "text": [
            "0.9999998866556078\n",
            "0.01273001216039701 0.11282735554995965\n",
            "0.9872698744952108 0.9936145502634363\n"
          ]
        }
      ],
      "source": [
        "print(prob_state[3] + prob_state[12])\n",
        "print(prob_state[3], np.sqrt(prob_state[3]))\n",
        "print(prob_state[12], np.sqrt(prob_state[12]))"
      ]
    },
    {
      "cell_type": "code",
      "execution_count": null,
      "metadata": {
        "colab": {
          "base_uri": "https://localhost:8080/"
        },
        "id": "fO6yLW_ktbRB",
        "outputId": "48482862-d082-4596-fa61-16566c3e0d8a"
      },
      "outputs": [
        {
          "data": {
            "text/plain": [
              "array([4.54581886e-17, 2.45441679e-22, 1.14247651e-26, 1.27300122e-02,\n",
              "       1.11499004e-07, 1.00066671e-31, 2.80224526e-17, 5.19003104e-12,\n",
              "       4.02510322e-10, 2.17326762e-15, 1.29027530e-33, 1.43768560e-09,\n",
              "       9.87269874e-01, 8.86042076e-25, 3.16476340e-24, 5.86144993e-19])"
            ]
          },
          "execution_count": 80,
          "metadata": {
            "tags": []
          },
          "output_type": "execute_result"
        }
      ],
      "source": [
        "prob_state"
      ]
    },
    {
      "cell_type": "code",
      "execution_count": null,
      "metadata": {
        "id": "dWIUJbAooIpL"
      },
      "outputs": [],
      "source": [
        "np.savetxt('./VQE_optimal_param_0.7414.txt', params)"
      ]
    }
  ],
  "metadata": {
    "colab": {
      "collapsed_sections": [],
      "name": "VQE_H2.ipynb",
      "provenance": []
    },
    "kernelspec": {
      "display_name": "Python 3",
      "language": "python",
      "name": "python3"
    },
    "language_info": {
      "codemirror_mode": {
        "name": "ipython",
        "version": 3
      },
      "file_extension": ".py",
      "mimetype": "text/x-python",
      "name": "python",
      "nbconvert_exporter": "python",
      "pygments_lexer": "ipython3",
      "version": "3.11.8"
    }
  },
  "nbformat": 4,
  "nbformat_minor": 0
}
