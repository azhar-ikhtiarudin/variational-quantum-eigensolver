{
 "cells": [
  {
   "cell_type": "code",
   "execution_count": 2,
   "metadata": {},
   "outputs": [],
   "source": [
    "import pennylane as qml\n",
    "from pennylane import qchem\n",
    "from pennylane import numpy as np\n",
    "import matplotlib.pyplot as plt\n",
    "\n",
    "A_to_au_conversion = 1.8897259885789"
   ]
  },
  {
   "cell_type": "code",
   "execution_count": 3,
   "metadata": {},
   "outputs": [],
   "source": [
    "def calc_vqe_N2H4(threshold, active_electrons, active_orbitals):\n",
    "    symbols = [\"N\", \"H\", \"H\", \"N\", \"H\", \"H\"]\n",
    "    geometry = np.array([0.0, 0.0, 0.0 , 0.0, 0.0, 1.015264, 0.978541, 0.0, -0.270591, -0.627449, 1.276052, -0.477492 , -0.897827, 1.825923, 0.332013 , 0.080714, 1.825923, -0.953842])*A_to_au_conversion\n",
    "    \n",
    "    H, qubits = qchem.molecular_hamiltonian(\n",
    "        symbols,\n",
    "        geometry,\n",
    "        active_electrons=active_electrons,\n",
    "        active_orbitals=active_orbitals,\n",
    "        # method=\"pyscf\"\n",
    "    )\n",
    "    print(\"qubit:\", qubits)\n",
    "    dev = qml.device(\"lightning.qubit\", wires=qubits)\n",
    "    electrons = active_electrons\n",
    "    hf = qml.qchem.hf_state(electrons, qubits)\n",
    "\n",
    "    def circuit(param, wires):\n",
    "        qml.BasisState(hf, wires=wires)\n",
    "        qml.DoubleExcitation(param, wires=[0, 1, 2, 3])\n",
    "\n",
    "    @qml.qnode(dev, interface=\"autograd\")\n",
    "    def cost_fn(param):\n",
    "        circuit(param, wires=range(qubits))\n",
    "        return qml.expval(H)\n",
    "\n",
    "    opt = qml.GradientDescentOptimizer(stepsize=0.4)\n",
    "    theta = np.array(0.0, requires_grad=True)\n",
    "\n",
    "    # store the values of the cost function\n",
    "    energy = [cost_fn(theta)]\n",
    "    # store the values of the circuit parameter\n",
    "    angle = [theta]\n",
    "    max_iterations = 100\n",
    "    conv_tol = threshold\n",
    "\n",
    "    for n in range(max_iterations):\n",
    "        theta, prev_energy = opt.step_and_cost(cost_fn, theta)\n",
    "\n",
    "        energy.append(cost_fn(theta))\n",
    "        angle.append(theta)\n",
    "\n",
    "        conv = np.abs(energy[-1] - prev_energy)\n",
    "        # print(\"conv: \", conv)\n",
    "        print(\"conv: \", conv)\n",
    "        print(f\"Step = {n},  Energy = {energy[-1]:.8f} Ha\")\n",
    "\n",
    "        if conv <= conv_tol:\n",
    "            break\n",
    "\n",
    "    return energy, angle, n"
   ]
  },
  {
   "cell_type": "code",
   "execution_count": 4,
   "metadata": {},
   "outputs": [
    {
     "name": "stdout",
     "output_type": "stream",
     "text": [
      "Configuration:  1e-06 14 14\n"
     ]
    },
    {
     "ename": "ValueError",
     "evalue": "The number of core (2) + active orbitals (14) cannot be greater than the total number of orbitals (14)",
     "output_type": "error",
     "traceback": [
      "\u001b[0;31m---------------------------------------------------------------------------\u001b[0m",
      "\u001b[0;31mValueError\u001b[0m                                Traceback (most recent call last)",
      "Cell \u001b[0;32mIn[4], line 6\u001b[0m\n\u001b[1;32m      4\u001b[0m \u001b[38;5;28;01mfor\u001b[39;00m i \u001b[38;5;129;01min\u001b[39;00m \u001b[38;5;28mrange\u001b[39m(\u001b[38;5;28mlen\u001b[39m(config)):\n\u001b[1;32m      5\u001b[0m     \u001b[38;5;28mprint\u001b[39m(\u001b[38;5;124m\"\u001b[39m\u001b[38;5;124mConfiguration: \u001b[39m\u001b[38;5;124m\"\u001b[39m, threshold, config[i][\u001b[38;5;241m0\u001b[39m], config[i][\u001b[38;5;241m1\u001b[39m])\n\u001b[0;32m----> 6\u001b[0m     E, angle, n \u001b[38;5;241m=\u001b[39m \u001b[43mcalc_vqe_N2H4\u001b[49m\u001b[43m(\u001b[49m\u001b[43mthreshold\u001b[49m\u001b[43m,\u001b[49m\u001b[43m \u001b[49m\u001b[43mactive_electrons\u001b[49m\u001b[38;5;241;43m=\u001b[39;49m\u001b[43mconfig\u001b[49m\u001b[43m[\u001b[49m\u001b[43mi\u001b[49m\u001b[43m]\u001b[49m\u001b[43m[\u001b[49m\u001b[38;5;241;43m0\u001b[39;49m\u001b[43m]\u001b[49m\u001b[43m,\u001b[49m\u001b[43m \u001b[49m\u001b[43mactive_orbitals\u001b[49m\u001b[38;5;241;43m=\u001b[39;49m\u001b[43mconfig\u001b[49m\u001b[43m[\u001b[49m\u001b[43mi\u001b[49m\u001b[43m]\u001b[49m\u001b[43m[\u001b[49m\u001b[38;5;241;43m1\u001b[39;49m\u001b[43m]\u001b[49m\u001b[43m)\u001b[49m\n\u001b[1;32m      8\u001b[0m     \u001b[38;5;66;03m# file_path = f\"data/N2H4_{threshold}_{config[i][0]}_{config[i][1]}.txt\"\u001b[39;00m\n\u001b[1;32m      9\u001b[0m     \u001b[38;5;66;03m# # Open the file in write mode\u001b[39;00m\n\u001b[1;32m     10\u001b[0m     \u001b[38;5;66;03m# with open(file_path, \"w\") as file:\u001b[39;00m\n\u001b[1;32m     11\u001b[0m     \u001b[38;5;66;03m#     # Write each element of the array to a new line\u001b[39;00m\n\u001b[1;32m     12\u001b[0m     \u001b[38;5;66;03m#     for element in E:\u001b[39;00m\n\u001b[1;32m     13\u001b[0m     \u001b[38;5;66;03m#         file.write(str(element) + \"\\n\")\u001b[39;00m\n",
      "Cell \u001b[0;32mIn[3], line 5\u001b[0m, in \u001b[0;36mcalc_vqe_N2H4\u001b[0;34m(threshold, active_electrons, active_orbitals)\u001b[0m\n\u001b[1;32m      2\u001b[0m symbols \u001b[38;5;241m=\u001b[39m [\u001b[38;5;124m\"\u001b[39m\u001b[38;5;124mN\u001b[39m\u001b[38;5;124m\"\u001b[39m, \u001b[38;5;124m\"\u001b[39m\u001b[38;5;124mH\u001b[39m\u001b[38;5;124m\"\u001b[39m, \u001b[38;5;124m\"\u001b[39m\u001b[38;5;124mH\u001b[39m\u001b[38;5;124m\"\u001b[39m, \u001b[38;5;124m\"\u001b[39m\u001b[38;5;124mN\u001b[39m\u001b[38;5;124m\"\u001b[39m, \u001b[38;5;124m\"\u001b[39m\u001b[38;5;124mH\u001b[39m\u001b[38;5;124m\"\u001b[39m, \u001b[38;5;124m\"\u001b[39m\u001b[38;5;124mH\u001b[39m\u001b[38;5;124m\"\u001b[39m]\n\u001b[1;32m      3\u001b[0m geometry \u001b[38;5;241m=\u001b[39m np\u001b[38;5;241m.\u001b[39marray([\u001b[38;5;241m0.0\u001b[39m, \u001b[38;5;241m0.0\u001b[39m, \u001b[38;5;241m0.0\u001b[39m , \u001b[38;5;241m0.0\u001b[39m, \u001b[38;5;241m0.0\u001b[39m, \u001b[38;5;241m1.015264\u001b[39m, \u001b[38;5;241m0.978541\u001b[39m, \u001b[38;5;241m0.0\u001b[39m, \u001b[38;5;241m-\u001b[39m\u001b[38;5;241m0.270591\u001b[39m, \u001b[38;5;241m-\u001b[39m\u001b[38;5;241m0.627449\u001b[39m, \u001b[38;5;241m1.276052\u001b[39m, \u001b[38;5;241m-\u001b[39m\u001b[38;5;241m0.477492\u001b[39m , \u001b[38;5;241m-\u001b[39m\u001b[38;5;241m0.897827\u001b[39m, \u001b[38;5;241m1.825923\u001b[39m, \u001b[38;5;241m0.332013\u001b[39m , \u001b[38;5;241m0.080714\u001b[39m, \u001b[38;5;241m1.825923\u001b[39m, \u001b[38;5;241m-\u001b[39m\u001b[38;5;241m0.953842\u001b[39m])\u001b[38;5;241m*\u001b[39mA_to_au_conversion\n\u001b[0;32m----> 5\u001b[0m H, qubits \u001b[38;5;241m=\u001b[39m \u001b[43mqchem\u001b[49m\u001b[38;5;241;43m.\u001b[39;49m\u001b[43mmolecular_hamiltonian\u001b[49m\u001b[43m(\u001b[49m\n\u001b[1;32m      6\u001b[0m \u001b[43m    \u001b[49m\u001b[43msymbols\u001b[49m\u001b[43m,\u001b[49m\n\u001b[1;32m      7\u001b[0m \u001b[43m    \u001b[49m\u001b[43mgeometry\u001b[49m\u001b[43m,\u001b[49m\n\u001b[1;32m      8\u001b[0m \u001b[43m    \u001b[49m\u001b[43mactive_electrons\u001b[49m\u001b[38;5;241;43m=\u001b[39;49m\u001b[43mactive_electrons\u001b[49m\u001b[43m,\u001b[49m\n\u001b[1;32m      9\u001b[0m \u001b[43m    \u001b[49m\u001b[43mactive_orbitals\u001b[49m\u001b[38;5;241;43m=\u001b[39;49m\u001b[43mactive_orbitals\u001b[49m\u001b[43m,\u001b[49m\n\u001b[1;32m     10\u001b[0m \u001b[43m    \u001b[49m\u001b[38;5;66;43;03m# method=\"pyscf\"\u001b[39;49;00m\n\u001b[1;32m     11\u001b[0m \u001b[43m\u001b[49m\u001b[43m)\u001b[49m\n\u001b[1;32m     12\u001b[0m \u001b[38;5;28mprint\u001b[39m(\u001b[38;5;124m\"\u001b[39m\u001b[38;5;124mqubit:\u001b[39m\u001b[38;5;124m\"\u001b[39m, qubits)\n\u001b[1;32m     13\u001b[0m dev \u001b[38;5;241m=\u001b[39m qml\u001b[38;5;241m.\u001b[39mdevice(\u001b[38;5;124m\"\u001b[39m\u001b[38;5;124mlightning.qubit\u001b[39m\u001b[38;5;124m\"\u001b[39m, wires\u001b[38;5;241m=\u001b[39mqubits)\n",
      "File \u001b[0;32m~/anaconda3/envs/quantum-dev/lib/python3.8/site-packages/pennylane/qchem/openfermion_obs.py:938\u001b[0m, in \u001b[0;36mmolecular_hamiltonian\u001b[0;34m(symbols, coordinates, name, charge, mult, basis, method, active_electrons, active_orbitals, mapping, outpath, wires, alpha, coeff, args, load_data, convert_tol)\u001b[0m\n\u001b[1;32m    927\u001b[0m     geometry_dhf\u001b[38;5;241m.\u001b[39mrequires_grad \u001b[38;5;241m=\u001b[39m \u001b[38;5;28;01mFalse\u001b[39;00m\n\u001b[1;32m    928\u001b[0m mol \u001b[38;5;241m=\u001b[39m qml\u001b[38;5;241m.\u001b[39mqchem\u001b[38;5;241m.\u001b[39mMolecule(\n\u001b[1;32m    929\u001b[0m     symbols,\n\u001b[1;32m    930\u001b[0m     geometry_dhf,\n\u001b[0;32m   (...)\u001b[0m\n\u001b[1;32m    936\u001b[0m     coeff\u001b[38;5;241m=\u001b[39mcoeff,\n\u001b[1;32m    937\u001b[0m )\n\u001b[0;32m--> 938\u001b[0m core, active \u001b[38;5;241m=\u001b[39m \u001b[43mqml\u001b[49m\u001b[38;5;241;43m.\u001b[39;49m\u001b[43mqchem\u001b[49m\u001b[38;5;241;43m.\u001b[39;49m\u001b[43mactive_space\u001b[49m\u001b[43m(\u001b[49m\n\u001b[1;32m    939\u001b[0m \u001b[43m    \u001b[49m\u001b[43mmol\u001b[49m\u001b[38;5;241;43m.\u001b[39;49m\u001b[43mn_electrons\u001b[49m\u001b[43m,\u001b[49m\u001b[43m \u001b[49m\u001b[43mmol\u001b[49m\u001b[38;5;241;43m.\u001b[39;49m\u001b[43mn_orbitals\u001b[49m\u001b[43m,\u001b[49m\u001b[43m \u001b[49m\u001b[43mmult\u001b[49m\u001b[43m,\u001b[49m\u001b[43m \u001b[49m\u001b[43mactive_electrons\u001b[49m\u001b[43m,\u001b[49m\u001b[43m \u001b[49m\u001b[43mactive_orbitals\u001b[49m\n\u001b[1;32m    940\u001b[0m \u001b[43m\u001b[49m\u001b[43m)\u001b[49m\n\u001b[1;32m    942\u001b[0m requires_grad \u001b[38;5;241m=\u001b[39m args \u001b[38;5;129;01mis\u001b[39;00m \u001b[38;5;129;01mnot\u001b[39;00m \u001b[38;5;28;01mNone\u001b[39;00m\n\u001b[1;32m    943\u001b[0m h \u001b[38;5;241m=\u001b[39m (\n\u001b[1;32m    944\u001b[0m     qml\u001b[38;5;241m.\u001b[39mqchem\u001b[38;5;241m.\u001b[39mdiff_hamiltonian(mol, core\u001b[38;5;241m=\u001b[39mcore, active\u001b[38;5;241m=\u001b[39mactive)(\u001b[38;5;241m*\u001b[39margs)\n\u001b[1;32m    945\u001b[0m     \u001b[38;5;28;01mif\u001b[39;00m requires_grad\n\u001b[1;32m    946\u001b[0m     \u001b[38;5;28;01melse\u001b[39;00m qml\u001b[38;5;241m.\u001b[39mqchem\u001b[38;5;241m.\u001b[39mdiff_hamiltonian(mol, core\u001b[38;5;241m=\u001b[39mcore, active\u001b[38;5;241m=\u001b[39mactive)()\n\u001b[1;32m    947\u001b[0m )\n",
      "File \u001b[0;32m~/anaconda3/envs/quantum-dev/lib/python3.8/site-packages/pennylane/qchem/structure.py:177\u001b[0m, in \u001b[0;36mactive_space\u001b[0;34m(electrons, orbitals, mult, active_electrons, active_orbitals)\u001b[0m\n\u001b[1;32m    172\u001b[0m     \u001b[38;5;28;01mraise\u001b[39;00m \u001b[38;5;167;01mValueError\u001b[39;00m(\n\u001b[1;32m    173\u001b[0m         \u001b[38;5;124mf\u001b[39m\u001b[38;5;124m\"\u001b[39m\u001b[38;5;124mThe number of active orbitals (\u001b[39m\u001b[38;5;132;01m{\u001b[39;00mactive_orbitals\u001b[38;5;132;01m}\u001b[39;00m\u001b[38;5;124m) \u001b[39m\u001b[38;5;124m\"\u001b[39m \u001b[38;5;124mf\u001b[39m\u001b[38;5;124m\"\u001b[39m\u001b[38;5;124mhas to be greater than 0.\u001b[39m\u001b[38;5;124m\"\u001b[39m\n\u001b[1;32m    174\u001b[0m     )\n\u001b[1;32m    176\u001b[0m \u001b[38;5;28;01mif\u001b[39;00m ncore_orbs \u001b[38;5;241m+\u001b[39m active_orbitals \u001b[38;5;241m>\u001b[39m orbitals:\n\u001b[0;32m--> 177\u001b[0m     \u001b[38;5;28;01mraise\u001b[39;00m \u001b[38;5;167;01mValueError\u001b[39;00m(\n\u001b[1;32m    178\u001b[0m         \u001b[38;5;124mf\u001b[39m\u001b[38;5;124m\"\u001b[39m\u001b[38;5;124mThe number of core (\u001b[39m\u001b[38;5;132;01m{\u001b[39;00mncore_orbs\u001b[38;5;132;01m}\u001b[39;00m\u001b[38;5;124m) + active orbitals (\u001b[39m\u001b[38;5;132;01m{\u001b[39;00mactive_orbitals\u001b[38;5;132;01m}\u001b[39;00m\u001b[38;5;124m) cannot \u001b[39m\u001b[38;5;124m\"\u001b[39m\n\u001b[1;32m    179\u001b[0m         \u001b[38;5;124mf\u001b[39m\u001b[38;5;124m\"\u001b[39m\u001b[38;5;124mbe greater than the total number of orbitals (\u001b[39m\u001b[38;5;132;01m{\u001b[39;00morbitals\u001b[38;5;132;01m}\u001b[39;00m\u001b[38;5;124m)\u001b[39m\u001b[38;5;124m\"\u001b[39m\n\u001b[1;32m    180\u001b[0m     )\n\u001b[1;32m    182\u001b[0m homo \u001b[38;5;241m=\u001b[39m (electrons \u001b[38;5;241m+\u001b[39m mult \u001b[38;5;241m-\u001b[39m \u001b[38;5;241m1\u001b[39m) \u001b[38;5;241m/\u001b[39m \u001b[38;5;241m2\u001b[39m\n\u001b[1;32m    183\u001b[0m \u001b[38;5;28;01mif\u001b[39;00m ncore_orbs \u001b[38;5;241m+\u001b[39m active_orbitals \u001b[38;5;241m<\u001b[39m\u001b[38;5;241m=\u001b[39m homo:\n",
      "\u001b[0;31mValueError\u001b[0m: The number of core (2) + active orbitals (14) cannot be greater than the total number of orbitals (14)"
     ]
    }
   ],
   "source": [
    "config = [[14, 14]]\n",
    "threshold = 1e-6\n",
    "\n",
    "for i in range(len(config)):\n",
    "    print(\"Configuration: \", threshold, config[i][0], config[i][1])\n",
    "    E, angle, n = calc_vqe_N2H4(threshold, active_electrons=config[i][0], active_orbitals=config[i][1])\n",
    "    \n",
    "    # file_path = f\"data/N2H4_{threshold}_{config[i][0]}_{config[i][1]}.txt\"\n",
    "    # # Open the file in write mode\n",
    "    # with open(file_path, \"w\") as file:\n",
    "    #     # Write each element of the array to a new line\n",
    "    #     for element in E:\n",
    "    #         file.write(str(element) + \"\\n\")"
   ]
  },
  {
   "cell_type": "code",
   "execution_count": null,
   "metadata": {},
   "outputs": [],
   "source": []
  }
 ],
 "metadata": {
  "kernelspec": {
   "display_name": "quantum-dev",
   "language": "python",
   "name": "python3"
  },
  "language_info": {
   "codemirror_mode": {
    "name": "ipython",
    "version": 3
   },
   "file_extension": ".py",
   "mimetype": "text/x-python",
   "name": "python",
   "nbconvert_exporter": "python",
   "pygments_lexer": "ipython3",
   "version": "3.8.18"
  }
 },
 "nbformat": 4,
 "nbformat_minor": 2
}
