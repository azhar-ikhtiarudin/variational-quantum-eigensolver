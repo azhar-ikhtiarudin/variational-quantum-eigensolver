{
 "cells": [
  {
   "cell_type": "code",
   "execution_count": 1,
   "metadata": {},
   "outputs": [],
   "source": [
    "import pennylane as qml\n",
    "from pennylane import qchem\n",
    "from pennylane import numpy as np\n",
    "import matplotlib.pyplot as plt\n",
    "\n",
    "A_to_au_conversion = 1.8897259885789"
   ]
  },
  {
   "cell_type": "code",
   "execution_count": 2,
   "metadata": {},
   "outputs": [],
   "source": [
    "def calc_vqe_N2H4(threshold, active_electrons, active_orbitals):\n",
    "    symbols = [\"N\", \"H\", \"H\", \"N\", \"H\", \"H\"]\n",
    "    geometry = np.array([0.0, 0.0, 0.0 , 0.0, 0.0, 1.015264, 0.978541, 0.0, -0.270591, -0.627449, 1.276052, -0.477492 , -0.897827, 1.825923, 0.332013 , 0.080714, 1.825923, -0.953842])*A_to_au_conversion\n",
    "    \n",
    "    H, qubits = qchem.molecular_hamiltonian(\n",
    "        symbols,\n",
    "        geometry,\n",
    "        active_electrons=active_electrons,\n",
    "        active_orbitals=active_orbitals,\n",
    "        # method=\"pyscf\"\n",
    "    )\n",
    "    print(\"qubit:\", qubits)\n",
    "    dev = qml.device(\"lightning.qubit\", wires=qubits)\n",
    "    electrons = active_electrons\n",
    "    hf = qml.qchem.hf_state(electrons, qubits)\n",
    "\n",
    "    def circuit(param, wires):\n",
    "        qml.BasisState(hf, wires=wires)\n",
    "        qml.DoubleExcitation(param, wires=[0, 1, 2, 3])\n",
    "\n",
    "    @qml.qnode(dev, interface=\"autograd\")\n",
    "    def cost_fn(param):\n",
    "        circuit(param, wires=range(qubits))\n",
    "        return qml.expval(H)\n",
    "\n",
    "    opt = qml.GradientDescentOptimizer(stepsize=0.4)\n",
    "    theta = np.array(0.0, requires_grad=True)\n",
    "\n",
    "    # store the values of the cost function\n",
    "    energy = [cost_fn(theta)]\n",
    "    # store the values of the circuit parameter\n",
    "    angle = [theta]\n",
    "    max_iterations = 100\n",
    "    conv_tol = threshold\n",
    "\n",
    "    for n in range(max_iterations):\n",
    "        theta, prev_energy = opt.step_and_cost(cost_fn, theta)\n",
    "\n",
    "        energy.append(cost_fn(theta))\n",
    "        angle.append(theta)\n",
    "\n",
    "        conv = np.abs(energy[-1] - prev_energy)\n",
    "        # print(\"conv: \", conv)\n",
    "        print(\"conv: \", conv)\n",
    "        print(f\"Step = {n},  Energy = {energy[-1]:.8f} Ha\")\n",
    "\n",
    "        if conv <= conv_tol:\n",
    "            break\n",
    "\n",
    "    return energy, angle, n"
   ]
  },
  {
   "cell_type": "code",
   "execution_count": 3,
   "metadata": {},
   "outputs": [
    {
     "name": "stdout",
     "output_type": "stream",
     "text": [
      "Configuration:  1e-06 2 2\n",
      "qubit: 4\n",
      "conv:  0.0003517105892569816\n",
      "Step = 0,  Energy = -109.73102982 Ha\n"
     ]
    },
    {
     "name": "stderr",
     "output_type": "stream",
     "text": [
      "/home/azhar04/anaconda3/envs/quantum-dev/lib/python3.8/site-packages/pennylane_lightning/lightning_qubit/lightning_qubit.py:822: UserWarning: Pre-compiled binaries for lightning.qubit are not available. Falling back to using the Python-based default.qubit implementation. To manually compile from source, follow the instructions at https://pennylane-lightning.readthedocs.io/en/latest/installation.html.\n",
      "  warn(\n"
     ]
    },
    {
     "name": "stdout",
     "output_type": "stream",
     "text": [
      "conv:  0.0002381623210538919\n",
      "Step = 1,  Energy = -109.73126798 Ha\n",
      "conv:  0.00016123024323633217\n",
      "Step = 2,  Energy = -109.73142921 Ha\n",
      "conv:  0.00010912962608244925\n",
      "Step = 3,  Energy = -109.73153834 Ha\n",
      "conv:  7.385612161669997e-05\n",
      "Step = 4,  Energy = -109.73161219 Ha\n",
      "conv:  4.9979845769598796e-05\n",
      "Step = 5,  Energy = -109.73166217 Ha\n",
      "conv:  3.3820447995935865e-05\n",
      "Step = 6,  Energy = -109.73169599 Ha\n",
      "conv:  2.288482419032789e-05\n",
      "Step = 7,  Energy = -109.73171888 Ha\n",
      "conv:  1.5484772532659008e-05\n",
      "Step = 8,  Energy = -109.73173436 Ha\n",
      "conv:  1.0477427139221618e-05\n",
      "Step = 9,  Energy = -109.73174484 Ha\n",
      "conv:  7.089236234492091e-06\n",
      "Step = 10,  Energy = -109.73175193 Ha\n",
      "conv:  4.796681054131113e-06\n",
      "Step = 11,  Energy = -109.73175673 Ha\n",
      "conv:  3.2454874769882736e-06\n",
      "Step = 12,  Energy = -109.73175997 Ha\n",
      "conv:  2.195924878378719e-06\n",
      "Step = 13,  Energy = -109.73176217 Ha\n",
      "conv:  1.4857780854526936e-06\n",
      "Step = 14,  Energy = -109.73176365 Ha\n",
      "conv:  1.005286279109896e-06\n",
      "Step = 15,  Energy = -109.73176466 Ha\n",
      "conv:  6.801818415169691e-07\n",
      "Step = 16,  Energy = -109.73176534 Ha\n"
     ]
    }
   ],
   "source": [
    "config = [[2,2]]\n",
    "threshold = 1e-6\n",
    "\n",
    "for i in range(len(config)):\n",
    "    print(\"Configuration: \", threshold, config[i][0], config[i][1])\n",
    "    E, angle, n = calc_vqe_N2H4(threshold, active_electrons=config[i][0], active_orbitals=config[i][1])\n",
    "    \n",
    "    file_path = f\"data/N2H4_{threshold}_{config[i][0]}_{config[i][1]}.txt\"\n",
    "    # Open the file in write mode\n",
    "    with open(file_path, \"w\") as file:\n",
    "        # Write each element of the array to a new line\n",
    "        for element in E:\n",
    "            file.write(str(element) + \"\\n\")"
   ]
  },
  {
   "cell_type": "code",
   "execution_count": null,
   "metadata": {},
   "outputs": [],
   "source": []
  }
 ],
 "metadata": {
  "kernelspec": {
   "display_name": "quantum-dev",
   "language": "python",
   "name": "python3"
  },
  "language_info": {
   "codemirror_mode": {
    "name": "ipython",
    "version": 3
   },
   "file_extension": ".py",
   "mimetype": "text/x-python",
   "name": "python",
   "nbconvert_exporter": "python",
   "pygments_lexer": "ipython3",
   "version": "3.8.18"
  }
 },
 "nbformat": 4,
 "nbformat_minor": 2
}
