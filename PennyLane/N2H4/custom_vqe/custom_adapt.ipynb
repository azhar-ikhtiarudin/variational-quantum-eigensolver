{
 "cells": [
  {
   "cell_type": "markdown",
   "metadata": {},
   "source": [
    "### Import"
   ]
  },
  {
   "cell_type": "code",
   "execution_count": 1,
   "metadata": {},
   "outputs": [],
   "source": [
    "import pennylane as qml\n",
    "from pennylane import qchem\n",
    "from pennylane import numpy as np\n",
    "import matplotlib.pyplot as plt\n",
    "\n",
    "import copy\n",
    "from typing import Sequence, Callable\n",
    "from pennylane.tape import QuantumTape\n",
    "# from pennylane import transform\n",
    "\n",
    "A_to_au_conversion = 1.8897259885789\n",
    "\n",
    "active_electrons = 2\n",
    "active_orbitals = 2"
   ]
  },
  {
   "cell_type": "markdown",
   "metadata": {},
   "source": [
    "### Structure"
   ]
  },
  {
   "cell_type": "code",
   "execution_count": 2,
   "metadata": {},
   "outputs": [],
   "source": [
    "symbols = [\"N\", \"H\", \"H\", \"N\", \"H\", \"H\"]\n",
    "# ground state coordinate: \n",
    "geometry = np.array([0.0, 0.0, 0.0 , 0.0, 0.0, 1.015264, 0.978541, 0.0, -0.270591, -0.627449, 1.276052, -0.477492 , -0.897827, 1.825923, 0.332013 , 0.080714, 1.825923, -0.953842])*A_to_au_conversion"
   ]
  },
  {
   "cell_type": "markdown",
   "metadata": {},
   "source": [
    "### Project Setup"
   ]
  },
  {
   "cell_type": "markdown",
   "metadata": {},
   "source": [
    "##### Generate qubit hamiltonian of the molecule"
   ]
  },
  {
   "cell_type": "code",
   "execution_count": 3,
   "metadata": {},
   "outputs": [],
   "source": [
    "H, qubits = qchem.molecular_hamiltonian(\n",
    "    symbols,\n",
    "    geometry,\n",
    "    active_electrons=active_electrons,\n",
    "    active_orbitals=active_orbitals,\n",
    "    # method=\"pyscf\"\n",
    ")"
   ]
  },
  {
   "cell_type": "code",
   "execution_count": 4,
   "metadata": {},
   "outputs": [
    {
     "name": "stdout",
     "output_type": "stream",
     "text": [
      "<Hamiltonian: terms=27, wires=[0, 1, 2, 3]>\n"
     ]
    }
   ],
   "source": [
    "H"
   ]
  },
  {
   "cell_type": "code",
   "execution_count": 5,
   "metadata": {},
   "outputs": [
    {
     "name": "stdout",
     "output_type": "stream",
     "text": [
      "  (-109.09386199364083) [I0]\n",
      "+ (-0.18501660577739165) [Z2]\n",
      "+ (-0.1850166057773916) [Z3]\n",
      "+ (0.0362401199071864) [Z0]\n",
      "+ (0.03624011990718645) [Z1]\n",
      "+ (0.00031259622325041354) [Y0 Y2]\n",
      "+ (0.00031259622325041354) [X0 X2]\n",
      "+ (0.0038017750347166136) [Y1 Y3]\n",
      "+ (0.0038017750347166136) [X1 X3]\n",
      "+ (0.11823111975967318) [Z0 Z2]\n",
      "+ (0.11823111975967318) [Z1 Z3]\n",
      "+ (0.1259959308950873) [Z0 Z3]\n",
      "+ (0.1259959308950873) [Z1 Z2]\n",
      "+ (0.1344267750292456) [Z0 Z1]\n",
      "+ (0.15972466562037296) [Z2 Z3]\n",
      "+ (-0.0034891781656083863) [Y0 Z1 Y2]\n",
      "+ (-0.0034891781656083863) [X0 Z1 X2]\n",
      "+ (-0.0034891781656083863) [Y1 Z2 Y3]\n",
      "+ (-0.0034891781656083863) [X1 Z2 X3]\n",
      "+ (-0.007764811135414104) [Y0 Y1 X2 X3]\n",
      "+ (-0.007764811135414104) [X0 X1 Y2 Y3]\n",
      "+ (0.00031259622325041354) [Z0 Y1 Z2 Y3]\n",
      "+ (0.00031259622325041354) [Z0 X1 Z2 X3]\n",
      "+ (0.0038017750347166136) [Y0 Z1 Y2 Z3]\n",
      "+ (0.0038017750347166136) [X0 Z1 X2 Z3]\n",
      "+ (0.007764811135414104) [Y0 X1 X2 Y3]\n",
      "+ (0.007764811135414104) [X0 Y1 Y2 X3]\n"
     ]
    }
   ],
   "source": [
    "print(H)"
   ]
  },
  {
   "cell_type": "code",
   "execution_count": 6,
   "metadata": {},
   "outputs": [
    {
     "name": "stdout",
     "output_type": "stream",
     "text": [
      "4\n"
     ]
    }
   ],
   "source": [
    "print(qubits)"
   ]
  },
  {
   "cell_type": "code",
   "execution_count": 7,
   "metadata": {},
   "outputs": [
    {
     "data": {
      "text/plain": [
       "27"
      ]
     },
     "execution_count": 7,
     "metadata": {},
     "output_type": "execute_result"
    }
   ],
   "source": [
    "H.num_params"
   ]
  },
  {
   "cell_type": "code",
   "execution_count": 8,
   "metadata": {},
   "outputs": [
    {
     "data": {
      "text/plain": [
       "[Identity(wires=[0]),\n",
       " PauliZ(wires=[0]),\n",
       " PauliY(wires=[0]) @ PauliZ(wires=[1]) @ PauliY(wires=[2]),\n",
       " PauliX(wires=[0]) @ PauliZ(wires=[1]) @ PauliX(wires=[2]),\n",
       " PauliZ(wires=[2]),\n",
       " PauliZ(wires=[0]) @ PauliZ(wires=[2]),\n",
       " PauliZ(wires=[1]),\n",
       " PauliZ(wires=[0]) @ PauliZ(wires=[1]),\n",
       " PauliY(wires=[0]) @ PauliY(wires=[2]),\n",
       " PauliX(wires=[0]) @ PauliX(wires=[2]),\n",
       " PauliY(wires=[1]) @ PauliZ(wires=[2]) @ PauliY(wires=[3]),\n",
       " PauliZ(wires=[0]) @ PauliY(wires=[1]) @ PauliZ(wires=[2]) @ PauliY(wires=[3]),\n",
       " PauliX(wires=[1]) @ PauliZ(wires=[2]) @ PauliX(wires=[3]),\n",
       " PauliZ(wires=[0]) @ PauliX(wires=[1]) @ PauliZ(wires=[2]) @ PauliX(wires=[3]),\n",
       " PauliY(wires=[0]) @ PauliX(wires=[1]) @ PauliX(wires=[2]) @ PauliY(wires=[3]),\n",
       " PauliY(wires=[0]) @ PauliY(wires=[1]) @ PauliX(wires=[2]) @ PauliX(wires=[3]),\n",
       " PauliX(wires=[0]) @ PauliX(wires=[1]) @ PauliY(wires=[2]) @ PauliY(wires=[3]),\n",
       " PauliX(wires=[0]) @ PauliY(wires=[1]) @ PauliY(wires=[2]) @ PauliX(wires=[3]),\n",
       " PauliZ(wires=[3]),\n",
       " PauliZ(wires=[0]) @ PauliZ(wires=[3]),\n",
       " PauliY(wires=[0]) @ PauliZ(wires=[1]) @ PauliY(wires=[2]) @ PauliZ(wires=[3]),\n",
       " PauliX(wires=[0]) @ PauliZ(wires=[1]) @ PauliX(wires=[2]) @ PauliZ(wires=[3]),\n",
       " PauliZ(wires=[1]) @ PauliZ(wires=[3]),\n",
       " PauliZ(wires=[1]) @ PauliZ(wires=[2]),\n",
       " PauliY(wires=[1]) @ PauliY(wires=[3]),\n",
       " PauliX(wires=[1]) @ PauliX(wires=[3]),\n",
       " PauliZ(wires=[2]) @ PauliZ(wires=[3])]"
      ]
     },
     "execution_count": 8,
     "metadata": {},
     "output_type": "execute_result"
    }
   ],
   "source": [
    "H.ops"
   ]
  },
  {
   "cell_type": "code",
   "execution_count": 9,
   "metadata": {},
   "outputs": [
    {
     "data": {
      "text/plain": [
       "<bound method Hamiltonian.sparse_matrix of <Hamiltonian: terms=27, wires=[0, 1, 2, 3]>>"
      ]
     },
     "execution_count": 9,
     "metadata": {},
     "output_type": "execute_result"
    }
   ],
   "source": [
    "H.sparse_matrix"
   ]
  },
  {
   "cell_type": "code",
   "execution_count": 10,
   "metadata": {},
   "outputs": [
    {
     "data": {
      "text/plain": [
       "([tensor(-109.09386199, requires_grad=False),\n",
       "  tensor(0.03624012, requires_grad=False),\n",
       "  tensor(-0.00348918, requires_grad=False),\n",
       "  tensor(-0.00348918, requires_grad=False),\n",
       "  tensor(-0.18501661, requires_grad=False),\n",
       "  tensor(0.11823112, requires_grad=False),\n",
       "  tensor(0.03624012, requires_grad=False),\n",
       "  tensor(0.13442678, requires_grad=False),\n",
       "  tensor(0.0003126, requires_grad=False),\n",
       "  tensor(0.0003126, requires_grad=False),\n",
       "  tensor(-0.00348918, requires_grad=False),\n",
       "  tensor(0.0003126, requires_grad=False),\n",
       "  tensor(-0.00348918, requires_grad=False),\n",
       "  tensor(0.0003126, requires_grad=False),\n",
       "  tensor(0.00776481, requires_grad=False),\n",
       "  tensor(-0.00776481, requires_grad=False),\n",
       "  tensor(-0.00776481, requires_grad=False),\n",
       "  tensor(0.00776481, requires_grad=False),\n",
       "  tensor(-0.18501661, requires_grad=False),\n",
       "  tensor(0.12599593, requires_grad=False),\n",
       "  tensor(0.00380178, requires_grad=False),\n",
       "  tensor(0.00380178, requires_grad=False),\n",
       "  tensor(0.11823112, requires_grad=False),\n",
       "  tensor(0.12599593, requires_grad=False),\n",
       "  tensor(0.00380178, requires_grad=False),\n",
       "  tensor(0.00380178, requires_grad=False),\n",
       "  tensor(0.15972467, requires_grad=False)],\n",
       " [Identity(wires=[0]),\n",
       "  PauliZ(wires=[0]),\n",
       "  PauliY(wires=[0]) @ PauliZ(wires=[1]) @ PauliY(wires=[2]),\n",
       "  PauliX(wires=[0]) @ PauliZ(wires=[1]) @ PauliX(wires=[2]),\n",
       "  PauliZ(wires=[2]),\n",
       "  PauliZ(wires=[0]) @ PauliZ(wires=[2]),\n",
       "  PauliZ(wires=[1]),\n",
       "  PauliZ(wires=[0]) @ PauliZ(wires=[1]),\n",
       "  PauliY(wires=[0]) @ PauliY(wires=[2]),\n",
       "  PauliX(wires=[0]) @ PauliX(wires=[2]),\n",
       "  PauliY(wires=[1]) @ PauliZ(wires=[2]) @ PauliY(wires=[3]),\n",
       "  PauliZ(wires=[0]) @ PauliY(wires=[1]) @ PauliZ(wires=[2]) @ PauliY(wires=[3]),\n",
       "  PauliX(wires=[1]) @ PauliZ(wires=[2]) @ PauliX(wires=[3]),\n",
       "  PauliZ(wires=[0]) @ PauliX(wires=[1]) @ PauliZ(wires=[2]) @ PauliX(wires=[3]),\n",
       "  PauliY(wires=[0]) @ PauliX(wires=[1]) @ PauliX(wires=[2]) @ PauliY(wires=[3]),\n",
       "  PauliY(wires=[0]) @ PauliY(wires=[1]) @ PauliX(wires=[2]) @ PauliX(wires=[3]),\n",
       "  PauliX(wires=[0]) @ PauliX(wires=[1]) @ PauliY(wires=[2]) @ PauliY(wires=[3]),\n",
       "  PauliX(wires=[0]) @ PauliY(wires=[1]) @ PauliY(wires=[2]) @ PauliX(wires=[3]),\n",
       "  PauliZ(wires=[3]),\n",
       "  PauliZ(wires=[0]) @ PauliZ(wires=[3]),\n",
       "  PauliY(wires=[0]) @ PauliZ(wires=[1]) @ PauliY(wires=[2]) @ PauliZ(wires=[3]),\n",
       "  PauliX(wires=[0]) @ PauliZ(wires=[1]) @ PauliX(wires=[2]) @ PauliZ(wires=[3]),\n",
       "  PauliZ(wires=[1]) @ PauliZ(wires=[3]),\n",
       "  PauliZ(wires=[1]) @ PauliZ(wires=[2]),\n",
       "  PauliY(wires=[1]) @ PauliY(wires=[3]),\n",
       "  PauliX(wires=[1]) @ PauliX(wires=[3]),\n",
       "  PauliZ(wires=[2]) @ PauliZ(wires=[3])])"
      ]
     },
     "execution_count": 10,
     "metadata": {},
     "output_type": "execute_result"
    }
   ],
   "source": [
    "H.terms()"
   ]
  },
  {
   "cell_type": "code",
   "execution_count": 11,
   "metadata": {},
   "outputs": [
    {
     "name": "stdout",
     "output_type": "stream",
     "text": [
      "<function draw.<locals>.wrapper at 0x7f698a10f7e0>\n"
     ]
    }
   ],
   "source": [
    "print(qml.draw(H, decimals=None))"
   ]
  },
  {
   "cell_type": "markdown",
   "metadata": {},
   "source": [
    "H"
   ]
  },
  {
   "cell_type": "markdown",
   "metadata": {},
   "source": [
    "##### Generate Excitations"
   ]
  },
  {
   "cell_type": "code",
   "execution_count": 12,
   "metadata": {},
   "outputs": [],
   "source": [
    "singles, doubles = qchem.excitations(active_electrons, qubits)"
   ]
  },
  {
   "cell_type": "code",
   "execution_count": 13,
   "metadata": {},
   "outputs": [
    {
     "data": {
      "text/plain": [
       "[[0, 2], [1, 3]]"
      ]
     },
     "execution_count": 13,
     "metadata": {},
     "output_type": "execute_result"
    }
   ],
   "source": [
    "singles"
   ]
  },
  {
   "cell_type": "code",
   "execution_count": 14,
   "metadata": {},
   "outputs": [
    {
     "data": {
      "text/plain": [
       "[[0, 1, 2, 3]]"
      ]
     },
     "execution_count": 14,
     "metadata": {},
     "output_type": "execute_result"
    }
   ],
   "source": [
    "doubles"
   ]
  },
  {
   "cell_type": "code",
   "execution_count": 15,
   "metadata": {},
   "outputs": [
    {
     "name": "stdout",
     "output_type": "stream",
     "text": [
      "Total number of excitations = 3\n"
     ]
    }
   ],
   "source": [
    "print(f\"Total number of excitations = {len(singles) + len(doubles)}\")"
   ]
  },
  {
   "cell_type": "code",
   "execution_count": 16,
   "metadata": {},
   "outputs": [
    {
     "data": {
      "text/plain": [
       "[SingleExcitation(0.0, wires=[0, 2]), SingleExcitation(0.0, wires=[1, 3])]"
      ]
     },
     "execution_count": 16,
     "metadata": {},
     "output_type": "execute_result"
    }
   ],
   "source": [
    "singles_excitations = [qml.SingleExcitation(0.0, x) for x in singles]\n",
    "singles_excitations"
   ]
  },
  {
   "cell_type": "code",
   "execution_count": 17,
   "metadata": {},
   "outputs": [
    {
     "data": {
      "text/plain": [
       "[DoubleExcitation(0.0, wires=[0, 1, 2, 3])]"
      ]
     },
     "execution_count": 17,
     "metadata": {},
     "output_type": "execute_result"
    }
   ],
   "source": [
    "doubles_excitations = [qml.DoubleExcitation(0.0, x) for x in doubles]\n",
    "doubles_excitations"
   ]
  },
  {
   "cell_type": "code",
   "execution_count": 18,
   "metadata": {},
   "outputs": [
    {
     "data": {
      "text/plain": [
       "[DoubleExcitation(0.0, wires=[0, 1, 2, 3]),\n",
       " SingleExcitation(0.0, wires=[0, 2]),\n",
       " SingleExcitation(0.0, wires=[1, 3])]"
      ]
     },
     "execution_count": 18,
     "metadata": {},
     "output_type": "execute_result"
    }
   ],
   "source": [
    "operator_pool = doubles_excitations + singles_excitations\n",
    "operator_pool"
   ]
  },
  {
   "cell_type": "code",
   "execution_count": 19,
   "metadata": {},
   "outputs": [
    {
     "data": {
      "text/plain": [
       "array([1, 1, 0, 0])"
      ]
     },
     "execution_count": 19,
     "metadata": {},
     "output_type": "execute_result"
    }
   ],
   "source": [
    "hf_state = qchem.hf_state(active_electrons, qubits)\n",
    "hf_state"
   ]
  },
  {
   "cell_type": "markdown",
   "metadata": {},
   "source": [
    "### Adaptive Optimizer"
   ]
  },
  {
   "cell_type": "markdown",
   "metadata": {},
   "source": [
    "##### Helper Functions"
   ]
  },
  {
   "cell_type": "code",
   "execution_count": 20,
   "metadata": {},
   "outputs": [
    {
     "ename": "TypeError",
     "evalue": "'module' object is not callable",
     "output_type": "error",
     "traceback": [
      "\u001b[0;31m---------------------------------------------------------------------------\u001b[0m",
      "\u001b[0;31mTypeError\u001b[0m                                 Traceback (most recent call last)",
      "Cell \u001b[0;32mIn[20], line 4\u001b[0m\n\u001b[1;32m      1\u001b[0m \u001b[38;5;28;01mfrom\u001b[39;00m \u001b[38;5;21;01mtyping\u001b[39;00m \u001b[38;5;28;01mimport\u001b[39;00m Sequence, Callable\n\u001b[1;32m      2\u001b[0m \u001b[38;5;28;01mfrom\u001b[39;00m \u001b[38;5;21;01mpennylane\u001b[39;00m \u001b[38;5;28;01mimport\u001b[39;00m transforms\n\u001b[0;32m----> 4\u001b[0m \u001b[38;5;129;43m@transforms\u001b[39;49m\n\u001b[1;32m      5\u001b[0m \u001b[38;5;28;43;01mdef\u001b[39;49;00m\u001b[43m \u001b[49m\u001b[38;5;21;43mappend_gate\u001b[39;49m\u001b[43m(\u001b[49m\u001b[43mtape\u001b[49m\u001b[43m:\u001b[49m\u001b[43m \u001b[49m\u001b[43mQuantumTape\u001b[49m\u001b[43m,\u001b[49m\u001b[43m \u001b[49m\u001b[43mparams\u001b[49m\u001b[43m,\u001b[49m\u001b[43m \u001b[49m\u001b[43mgates\u001b[49m\u001b[43m)\u001b[49m\u001b[43m \u001b[49m\u001b[38;5;241;43m-\u001b[39;49m\u001b[38;5;241;43m>\u001b[39;49m\u001b[43m \u001b[49m\u001b[43m(\u001b[49m\u001b[43mSequence\u001b[49m\u001b[43m[\u001b[49m\u001b[43mQuantumTape\u001b[49m\u001b[43m]\u001b[49m\u001b[43m,\u001b[49m\u001b[43m \u001b[49m\u001b[43mCallable\u001b[49m\u001b[43m)\u001b[49m\u001b[43m:\u001b[49m\n\u001b[1;32m      6\u001b[0m \u001b[38;5;250;43m    \u001b[39;49m\u001b[38;5;124;43;03m\"\"\"Append parameterized gates to an existing tape.\u001b[39;49;00m\n\u001b[1;32m      7\u001b[0m \n\u001b[1;32m      8\u001b[0m \u001b[38;5;124;43;03m    Args:\u001b[39;49;00m\n\u001b[0;32m   (...)\u001b[0m\n\u001b[1;32m     16\u001b[0m \n\u001b[1;32m     17\u001b[0m \u001b[38;5;124;43;03m    \"\"\"\u001b[39;49;00m\n\u001b[1;32m     18\u001b[0m \u001b[43m    \u001b[49m\u001b[43mnew_operations\u001b[49m\u001b[43m \u001b[49m\u001b[38;5;241;43m=\u001b[39;49m\u001b[43m \u001b[49m\u001b[43m[\u001b[49m\u001b[43m]\u001b[49m\n",
      "\u001b[0;31mTypeError\u001b[0m: 'module' object is not callable"
     ]
    }
   ],
   "source": [
    "from typing import Sequence, Callable\n",
    "from pennylane import transforms\n",
    "\n",
    "@transforms\n",
    "def append_gate(tape: QuantumTape, params, gates) -> (Sequence[QuantumTape], Callable):\n",
    "    \"\"\"Append parameterized gates to an existing tape.\n",
    "\n",
    "    Args:\n",
    "\n",
    "        tape (QuantumTape or QNode or Callable): quantum circuit to transform by adding gates\n",
    "        params (array[float]): parameters of the gates to be added\n",
    "        gates (list[Operator]): list of the gates to be added\n",
    "\n",
    "    Returns:\n",
    "        qnode (QNode) or quantum function (Callable) or tuple[List[QuantumTape], function]: The transformed circuit as described in :func:`qml.transform <pennylane.transform>`.\n",
    "\n",
    "    \"\"\"\n",
    "    new_operations = []\n",
    "\n",
    "    for i, g in enumerate(gates):\n",
    "        g = copy.copy(g)\n",
    "        new_params = (params[i], *g.data[1:])\n",
    "        g.data = new_params\n",
    "        new_operations.append(g)\n",
    "\n",
    "    new_tape = type(tape)(tape.operations + new_operations, tape.measurements, shots=tape.shots)\n",
    "\n",
    "    def null_postprocessing(results):\n",
    "        \"\"\"A postprocesing function returned by a transform that only converts the batch of results\n",
    "        into a result for a single ``QuantumTape``.\n",
    "        \"\"\"\n",
    "        return results[0]  # pragma: no cover\n",
    "\n",
    "    return [new_tape], null_postprocessing\n",
    "\n"
   ]
  },
  {
   "cell_type": "code",
   "execution_count": null,
   "metadata": {},
   "outputs": [],
   "source": [
    "from pennylane.optimize.adaptive import AdaptiveOptimizer"
   ]
  },
  {
   "cell_type": "markdown",
   "metadata": {},
   "source": [
    "##### Adaptive Optimizer Class"
   ]
  },
  {
   "cell_type": "code",
   "execution_count": null,
   "metadata": {},
   "outputs": [
    {
     "data": {
      "text/plain": [
       "<pennylane.optimize.adaptive.AdaptiveOptimizer at 0x7fb1a0112b80>"
      ]
     },
     "execution_count": 23,
     "metadata": {},
     "output_type": "execute_result"
    }
   ],
   "source": [
    "qml.optimize.AdaptiveOptimizer()"
   ]
  },
  {
   "cell_type": "code",
   "execution_count": null,
   "metadata": {},
   "outputs": [],
   "source": [
    "class AdaptiveOptimizer:\n",
    "    def __init__(self, param_steps=10, stepsize=0.5):\n",
    "        self.param_steps = param_steps\n",
    "        self.stepsize = stepsize\n",
    "    \n",
    "    @staticmethod\n",
    "    def _circuit(params, gates, initial_circuit):\n",
    "        final_circuit = append_gate(initial_circuit, params, gates)\n",
    "        return final_circuit()\n",
    "    \n",
    "    def step(self, circuit, operator_pool, params_zero=True):\n",
    "        return self.step_and_cost(circuit, operator_pool, params_zero=params_zero)\n",
    "    \n",
    "    def step_and_cost(self, circuit, operator_pool, drain_pool = False, params_zero=True):\n",
    "        cost = circuit()\n",
    "        qnode = copy.copy(circuit)\n",
    "\n",
    "        if drain_pool:\n",
    "            operator_pool = [\n",
    "                gate\n",
    "                for gate in operator_pool\n",
    "                if all(\n",
    "                    gate.name != operation.name or gate.wires != operation.wires\n",
    "                    for operation in circuit.tape.operations\n",
    "                )\n",
    "            ]\n",
    "        \n",
    "        params = np.array([gate.parameters[0] for gate in operator_pool])\n",
    "        qnode.func = self._circuit\n",
    "        grads = qml.grad(qnode)(params, gates=operator_pool, initial_circuit=circuit.func)\n",
    "\n",
    "        selected_gates = [operator_pool[np.argmax(abs(grads))]]\n",
    "        optimizer = qml.GradientDescentOptimizer(stepsize=self.stepsize)\n",
    "\n",
    "        if params_zero:\n",
    "            params = np.zeros(len(selected_gates))\n",
    "        else:\n",
    "            params = np.array([gate.parameters[0] for gate in selected_gates], requires_grad = True)\n",
    "        \n",
    "        for _ in range(self.param_steps):\n",
    "            params, _ = optimizer.step_and_cost(\n",
    "                qnode, params, gates=selected_gates, initial_circuit=circuit.func\n",
    "            )\n",
    "        \n",
    "        qnode.func = append_gate(circuit.func, params, selected_gates)\n",
    "\n",
    "        return qnode, cost, max(abs(qml.math.toarray(grads)))"
   ]
  },
  {
   "cell_type": "code",
   "execution_count": null,
   "metadata": {},
   "outputs": [],
   "source": [
    "from pennylane.optimize.adaptive import append_gate\n",
    "\n"
   ]
  },
  {
   "cell_type": "markdown",
   "metadata": {},
   "source": [
    "### Custom Optimizer"
   ]
  },
  {
   "cell_type": "code",
   "execution_count": 3,
   "metadata": {},
   "outputs": [
    {
     "name": "stdout",
     "output_type": "stream",
     "text": [
      "Configuration:  3 2 2\n"
     ]
    },
    {
     "ename": "ImportError",
     "evalue": "This feature requires openfermionpyscf. It can be installed with: pip install openfermionpyscf.",
     "output_type": "error",
     "traceback": [
      "\u001b[0;31m---------------------------------------------------------------------------\u001b[0m",
      "\u001b[0;31mModuleNotFoundError\u001b[0m                       Traceback (most recent call last)",
      "File \u001b[0;32m~/anaconda3/envs/quantum-dev-2/lib/python3.11/site-packages/pennylane/qchem/openfermion_obs.py:33\u001b[0m, in \u001b[0;36m_import_of\u001b[0;34m()\u001b[0m\n\u001b[1;32m     31\u001b[0m \u001b[38;5;28;01mtry\u001b[39;00m:\n\u001b[1;32m     32\u001b[0m     \u001b[38;5;66;03m# pylint: disable=import-outside-toplevel, unused-import, multiple-imports\u001b[39;00m\n\u001b[0;32m---> 33\u001b[0m     \u001b[38;5;28;01mimport\u001b[39;00m \u001b[38;5;21;01mopenfermion\u001b[39;00m\u001b[38;5;241m,\u001b[39m \u001b[38;5;21;01mopenfermionpyscf\u001b[39;00m\n\u001b[1;32m     34\u001b[0m \u001b[38;5;28;01mexcept\u001b[39;00m \u001b[38;5;167;01mImportError\u001b[39;00m \u001b[38;5;28;01mas\u001b[39;00m Error:\n",
      "\u001b[0;31mModuleNotFoundError\u001b[0m: No module named 'openfermion'",
      "\nThe above exception was the direct cause of the following exception:\n",
      "\u001b[0;31mImportError\u001b[0m                               Traceback (most recent call last)",
      "Cell \u001b[0;32mIn[3], line 98\u001b[0m\n\u001b[1;32m     96\u001b[0m \u001b[38;5;28;01mfor\u001b[39;00m i \u001b[38;5;129;01min\u001b[39;00m \u001b[38;5;28mrange\u001b[39m(\u001b[38;5;28mlen\u001b[39m(config)):\n\u001b[1;32m     97\u001b[0m     \u001b[38;5;28mprint\u001b[39m(\u001b[38;5;124m\"\u001b[39m\u001b[38;5;124mConfiguration: \u001b[39m\u001b[38;5;124m\"\u001b[39m, threshold, config[i][\u001b[38;5;241m0\u001b[39m], config[i][\u001b[38;5;241m1\u001b[39m])\n\u001b[0;32m---> 98\u001b[0m     E, circuit \u001b[38;5;241m=\u001b[39m \u001b[43mcalc_adapt_vqe_N2H4\u001b[49m\u001b[43m(\u001b[49m\u001b[43mthreshold\u001b[49m\u001b[43m,\u001b[49m\u001b[43m \u001b[49m\u001b[43mactive_electrons\u001b[49m\u001b[38;5;241;43m=\u001b[39;49m\u001b[43mconfig\u001b[49m\u001b[43m[\u001b[49m\u001b[43mi\u001b[49m\u001b[43m]\u001b[49m\u001b[43m[\u001b[49m\u001b[38;5;241;43m0\u001b[39;49m\u001b[43m]\u001b[49m\u001b[43m,\u001b[49m\u001b[43m \u001b[49m\u001b[43mactive_orbitals\u001b[49m\u001b[38;5;241;43m=\u001b[39;49m\u001b[43mconfig\u001b[49m\u001b[43m[\u001b[49m\u001b[43mi\u001b[49m\u001b[43m]\u001b[49m\u001b[43m[\u001b[49m\u001b[38;5;241;43m1\u001b[39;49m\u001b[43m]\u001b[49m\u001b[43m)\u001b[49m\n\u001b[1;32m    100\u001b[0m     file_path \u001b[38;5;241m=\u001b[39m \u001b[38;5;124mf\u001b[39m\u001b[38;5;124m\"\u001b[39m\u001b[38;5;124mdata/N2H4_\u001b[39m\u001b[38;5;132;01m{\u001b[39;00mthreshold\u001b[38;5;132;01m}\u001b[39;00m\u001b[38;5;124m_\u001b[39m\u001b[38;5;132;01m{\u001b[39;00mconfig[i][\u001b[38;5;241m0\u001b[39m]\u001b[38;5;132;01m}\u001b[39;00m\u001b[38;5;124m_\u001b[39m\u001b[38;5;132;01m{\u001b[39;00mconfig[i][\u001b[38;5;241m1\u001b[39m]\u001b[38;5;132;01m}\u001b[39;00m\u001b[38;5;124m_\u001b[39m\u001b[38;5;132;01m{\u001b[39;00msetting\u001b[38;5;132;01m}\u001b[39;00m\u001b[38;5;124m.txt\u001b[39m\u001b[38;5;124m\"\u001b[39m\n\u001b[1;32m    101\u001b[0m     \u001b[38;5;66;03m# Open the file in write mode\u001b[39;00m\n",
      "Cell \u001b[0;32mIn[3], line 57\u001b[0m, in \u001b[0;36mcalc_adapt_vqe_N2H4\u001b[0;34m(threshold, active_electrons, active_orbitals)\u001b[0m\n\u001b[1;32m     54\u001b[0m \u001b[38;5;66;03m# ground state coordinate: \u001b[39;00m\n\u001b[1;32m     55\u001b[0m geometry \u001b[38;5;241m=\u001b[39m pnp\u001b[38;5;241m.\u001b[39marray([\u001b[38;5;241m0.0\u001b[39m, \u001b[38;5;241m0.0\u001b[39m, \u001b[38;5;241m0.0\u001b[39m , \u001b[38;5;241m0.0\u001b[39m, \u001b[38;5;241m0.0\u001b[39m, \u001b[38;5;241m1.015264\u001b[39m, \u001b[38;5;241m0.978541\u001b[39m, \u001b[38;5;241m0.0\u001b[39m, \u001b[38;5;241m-\u001b[39m\u001b[38;5;241m0.270591\u001b[39m, \u001b[38;5;241m-\u001b[39m\u001b[38;5;241m0.627449\u001b[39m, \u001b[38;5;241m1.276052\u001b[39m, \u001b[38;5;241m-\u001b[39m\u001b[38;5;241m0.477492\u001b[39m , \u001b[38;5;241m-\u001b[39m\u001b[38;5;241m0.897827\u001b[39m, \u001b[38;5;241m1.825923\u001b[39m, \u001b[38;5;241m0.332013\u001b[39m , \u001b[38;5;241m0.080714\u001b[39m, \u001b[38;5;241m1.825923\u001b[39m, \u001b[38;5;241m-\u001b[39m\u001b[38;5;241m0.953842\u001b[39m])\u001b[38;5;241m*\u001b[39mA_to_au_conversion\n\u001b[0;32m---> 57\u001b[0m H, qubits \u001b[38;5;241m=\u001b[39m \u001b[43mqchem\u001b[49m\u001b[38;5;241;43m.\u001b[39;49m\u001b[43mmolecular_hamiltonian\u001b[49m\u001b[43m(\u001b[49m\n\u001b[1;32m     58\u001b[0m \u001b[43m    \u001b[49m\u001b[43msymbols\u001b[49m\u001b[43m,\u001b[49m\n\u001b[1;32m     59\u001b[0m \u001b[43m    \u001b[49m\u001b[43mgeometry\u001b[49m\u001b[43m,\u001b[49m\n\u001b[1;32m     60\u001b[0m \u001b[43m    \u001b[49m\u001b[43mactive_electrons\u001b[49m\u001b[38;5;241;43m=\u001b[39;49m\u001b[43mactive_electrons\u001b[49m\u001b[43m,\u001b[49m\n\u001b[1;32m     61\u001b[0m \u001b[43m    \u001b[49m\u001b[43mactive_orbitals\u001b[49m\u001b[38;5;241;43m=\u001b[39;49m\u001b[43mactive_orbitals\u001b[49m\u001b[43m,\u001b[49m\n\u001b[1;32m     62\u001b[0m \u001b[43m    \u001b[49m\u001b[43mbasis\u001b[49m\u001b[38;5;241;43m=\u001b[39;49m\u001b[38;5;124;43m'\u001b[39;49m\u001b[38;5;124;43m6-311g\u001b[39;49m\u001b[38;5;124;43m'\u001b[39;49m\u001b[43m,\u001b[49m\n\u001b[1;32m     63\u001b[0m \u001b[43m    \u001b[49m\u001b[43mmethod\u001b[49m\u001b[38;5;241;43m=\u001b[39;49m\u001b[38;5;124;43m\"\u001b[39;49m\u001b[38;5;124;43mpyscf\u001b[39;49m\u001b[38;5;124;43m\"\u001b[39;49m\n\u001b[1;32m     64\u001b[0m \u001b[43m\u001b[49m\u001b[43m)\u001b[49m\n\u001b[1;32m     65\u001b[0m active_electrons \u001b[38;5;241m=\u001b[39m active_electrons\n\u001b[1;32m     66\u001b[0m singles, doubles \u001b[38;5;241m=\u001b[39m qchem\u001b[38;5;241m.\u001b[39mexcitations(active_electrons, qubits)\n",
      "File \u001b[0;32m~/anaconda3/envs/quantum-dev-2/lib/python3.11/site-packages/pennylane/qchem/openfermion_obs.py:967\u001b[0m, in \u001b[0;36mmolecular_hamiltonian\u001b[0;34m(symbols, coordinates, name, charge, mult, basis, method, active_electrons, active_orbitals, mapping, outpath, wires, alpha, coeff, args, load_data, convert_tol)\u001b[0m\n\u001b[1;32m    964\u001b[0m         h \u001b[38;5;241m=\u001b[39m qml\u001b[38;5;241m.\u001b[39mmap_wires(h, wires_map)\n\u001b[1;32m    965\u001b[0m     \u001b[38;5;28;01mreturn\u001b[39;00m h, \u001b[38;5;241m2\u001b[39m \u001b[38;5;241m*\u001b[39m \u001b[38;5;28mlen\u001b[39m(active)\n\u001b[0;32m--> 967\u001b[0m openfermion, _ \u001b[38;5;241m=\u001b[39m \u001b[43m_import_of\u001b[49m\u001b[43m(\u001b[49m\u001b[43m)\u001b[49m\n\u001b[1;32m    969\u001b[0m hf_file \u001b[38;5;241m=\u001b[39m meanfield(symbols, geometry_hf, name, charge, mult, basis, method, outpath)\n\u001b[1;32m    971\u001b[0m molecule \u001b[38;5;241m=\u001b[39m openfermion\u001b[38;5;241m.\u001b[39mMolecularData(filename\u001b[38;5;241m=\u001b[39mhf_file)\n",
      "File \u001b[0;32m~/anaconda3/envs/quantum-dev-2/lib/python3.11/site-packages/pennylane/qchem/openfermion_obs.py:35\u001b[0m, in \u001b[0;36m_import_of\u001b[0;34m()\u001b[0m\n\u001b[1;32m     33\u001b[0m     \u001b[38;5;28;01mimport\u001b[39;00m \u001b[38;5;21;01mopenfermion\u001b[39;00m\u001b[38;5;241m,\u001b[39m \u001b[38;5;21;01mopenfermionpyscf\u001b[39;00m\n\u001b[1;32m     34\u001b[0m \u001b[38;5;28;01mexcept\u001b[39;00m \u001b[38;5;167;01mImportError\u001b[39;00m \u001b[38;5;28;01mas\u001b[39;00m Error:\n\u001b[0;32m---> 35\u001b[0m     \u001b[38;5;28;01mraise\u001b[39;00m \u001b[38;5;167;01mImportError\u001b[39;00m(\n\u001b[1;32m     36\u001b[0m         \u001b[38;5;124m\"\u001b[39m\u001b[38;5;124mThis feature requires openfermionpyscf. \u001b[39m\u001b[38;5;124m\"\u001b[39m\n\u001b[1;32m     37\u001b[0m         \u001b[38;5;124m\"\u001b[39m\u001b[38;5;124mIt can be installed with: pip install openfermionpyscf.\u001b[39m\u001b[38;5;124m\"\u001b[39m\n\u001b[1;32m     38\u001b[0m     ) \u001b[38;5;28;01mfrom\u001b[39;00m \u001b[38;5;21;01mError\u001b[39;00m\n\u001b[1;32m     40\u001b[0m \u001b[38;5;28;01mreturn\u001b[39;00m openfermion, openfermionpyscf\n",
      "\u001b[0;31mImportError\u001b[0m: This feature requires openfermionpyscf. It can be installed with: pip install openfermionpyscf."
     ]
    }
   ],
   "source": [
    "import pennylane as qml\n",
    "import numpy as np\n",
    "import matplotlib.pyplot as plt\n",
    "import copy\n",
    "\n",
    "from pennylane import qchem\n",
    "from pennylane import numpy as pnp\n",
    "from pennylane.optimize.adaptive import AdaptiveOptimizer\n",
    "from pennylane.optimize.adaptive import append_gate\n",
    "\n",
    "A_to_au_conversion = 1.8897259885789\n",
    "\n",
    "class CustomOptimizer(AdaptiveOptimizer):\n",
    "    def custom_step(self, circuit, operator_pool, drain_pool=False, params_zero=True):\n",
    "        cost = circuit()\n",
    "        qnode = copy.copy(circuit)\n",
    "        if drain_pool:\n",
    "            operator_pool = [\n",
    "                gate\n",
    "                for gate in operator_pool\n",
    "                if all(\n",
    "                    gate.name != operation.name or gate.wires != operation.wires\n",
    "                    for operation in circuit.tape.operations\n",
    "                )\n",
    "            ]\n",
    "\n",
    "        params = pnp.array([gate.parameters[0] for gate in operator_pool], requires_grad=True)\n",
    "        qnode.func = self._circuit\n",
    "        grads = qml.grad(qnode)(params, gates=operator_pool, initial_circuit=circuit.func)\n",
    "        selected_gates = [operator_pool[pnp.argmax(abs(grads))]]\n",
    "\n",
    "        optimizer = qml.AdagradOptimizer(stepsize=self.stepsize)\n",
    "        # === AdagradOptimizer, RMSPropOptimizer\n",
    "        # === GradientDescentOptimizer, AdamOptimizer, MomentumOptimizer, NesterovMomentumOptimizer, QNGOptimizer, ShotAdaptiveOptimizer\n",
    "        # === QNSPSAOptimizer, RiemannianGradientOptimizer, RotoselectOptimizer, RotosolveOptimizer, SPSAOptimizer\n",
    "\n",
    "        if params_zero:\n",
    "            params = pnp.zeros(len(selected_gates))\n",
    "        else:\n",
    "            params = pnp.array([gate.parameters[0] for gate in selected_gates], requires_grad=True)\n",
    "\n",
    "        for _ in range(self.param_steps):\n",
    "            params, _ = optimizer.step_and_cost(\n",
    "                qnode, params, gates=selected_gates, initial_circuit=circuit.func\n",
    "            )\n",
    "\n",
    "        qnode.func = append_gate(circuit.func, params, selected_gates)\n",
    "\n",
    "        return qnode, cost, max(abs(qml.math.toarray(grads)))\n",
    "\n",
    "\n",
    "def calc_adapt_vqe_N2H4(threshold, active_electrons=4, active_orbitals=4):\n",
    "    symbols = [\"N\", \"H\", \"H\", \"N\", \"H\", \"H\"]\n",
    "    # ground state coordinate: \n",
    "    geometry = pnp.array([0.0, 0.0, 0.0 , 0.0, 0.0, 1.015264, 0.978541, 0.0, -0.270591, -0.627449, 1.276052, -0.477492 , -0.897827, 1.825923, 0.332013 , 0.080714, 1.825923, -0.953842])*A_to_au_conversion\n",
    "\n",
    "    H, qubits = qchem.molecular_hamiltonian(\n",
    "        symbols,\n",
    "        geometry,\n",
    "        active_electrons=active_electrons,\n",
    "        active_orbitals=active_orbitals,\n",
    "        basis='6-311g',\n",
    "        method=\"pyscf\"\n",
    "    )\n",
    "    active_electrons = active_electrons\n",
    "    singles, doubles = qchem.excitations(active_electrons, qubits)\n",
    "    print(f\"Total number of excitations = {len(singles) + len(doubles)}\")\n",
    "    singles_excitations = [qml.SingleExcitation(0.0, x) for x in singles]\n",
    "    doubles_excitations = [qml.DoubleExcitation(0.0, x) for x in doubles]\n",
    "    operator_pool = doubles_excitations + singles_excitations   \n",
    "    hf_state = qchem.hf_state(active_electrons, qubits)\n",
    "    dev = qml.device(\"default.qubit\", wires=qubits)\n",
    "    @qml.qnode(dev)\n",
    "    def circuit():\n",
    "        [qml.PauliX(i) for i in np.nonzero(hf_state)[0]]\n",
    "        return qml.expval(H)\n",
    "    energy_array = []\n",
    "\n",
    "    \n",
    "    opt = CustomOptimizer()\n",
    "    for i in range(len(operator_pool)):\n",
    "        circuit, energy, gradient = opt.custom_step(circuit, operator_pool)\n",
    "        energy_array.append(energy)\n",
    "        if i % 1 == 0:\n",
    "            print(\"n = {:},  E = {:.8f} H, Largest Gradient = {:.3f}\".format(i, energy, gradient))\n",
    "            # print(qml.draw(circuit, decimals=None)())\n",
    "            print()\n",
    "        if gradient < threshold*10^(-threshold):\n",
    "            break\n",
    "    return energy_array, circuit\n",
    "\n",
    "config = [[2,2]]\n",
    "threshold = 3\n",
    "setting='basis-6-311g'\n",
    "\n",
    "for i in range(len(config)):\n",
    "    print(\"Configuration: \", threshold, config[i][0], config[i][1])\n",
    "    E, circuit = calc_adapt_vqe_N2H4(threshold, active_electrons=config[i][0], active_orbitals=config[i][1])\n",
    "    \n",
    "    file_path = f\"data/N2H4_{threshold}_{config[i][0]}_{config[i][1]}_{setting}.txt\"\n",
    "    # Open the file in write mode\n",
    "    with open(file_path, \"w\") as file:\n",
    "        # Write each element of the array to a new line\n",
    "        for element in E:\n",
    "            file.write(str(element) + \"\\n\")"
   ]
  }
 ],
 "metadata": {
  "kernelspec": {
   "display_name": "quantum-dev",
   "language": "python",
   "name": "python3"
  },
  "language_info": {
   "codemirror_mode": {
    "name": "ipython",
    "version": 3
   },
   "file_extension": ".py",
   "mimetype": "text/x-python",
   "name": "python",
   "nbconvert_exporter": "python",
   "pygments_lexer": "ipython3",
   "version": "3.11.8"
  }
 },
 "nbformat": 4,
 "nbformat_minor": 2
}
