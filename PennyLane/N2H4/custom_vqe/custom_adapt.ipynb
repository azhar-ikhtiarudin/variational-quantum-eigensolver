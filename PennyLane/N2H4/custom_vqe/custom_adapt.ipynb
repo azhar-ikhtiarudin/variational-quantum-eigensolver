{
 "cells": [
  {
   "cell_type": "markdown",
   "metadata": {},
   "source": [
    "### Import"
   ]
  },
  {
   "cell_type": "code",
   "execution_count": 1,
   "metadata": {},
   "outputs": [],
   "source": [
    "import pennylane as qml\n",
    "from pennylane import qchem\n",
    "from pennylane import numpy as np\n",
    "import matplotlib.pyplot as plt\n",
    "\n",
    "import copy\n",
    "from typing import Sequence, Callable\n",
    "from pennylane.tape import QuantumTape\n",
    "# from pennylane import transform\n",
    "\n",
    "A_to_au_conversion = 1.8897259885789\n",
    "\n",
    "active_electrons = 2\n",
    "active_orbitals = 2"
   ]
  },
  {
   "cell_type": "markdown",
   "metadata": {},
   "source": [
    "### Structure"
   ]
  },
  {
   "cell_type": "code",
   "execution_count": 2,
   "metadata": {},
   "outputs": [],
   "source": [
    "symbols = [\"N\", \"H\", \"H\", \"N\", \"H\", \"H\"]\n",
    "# ground state coordinate: \n",
    "geometry = np.array([0.0, 0.0, 0.0 , 0.0, 0.0, 1.015264, 0.978541, 0.0, -0.270591, -0.627449, 1.276052, -0.477492 , -0.897827, 1.825923, 0.332013 , 0.080714, 1.825923, -0.953842])*A_to_au_conversion"
   ]
  },
  {
   "cell_type": "markdown",
   "metadata": {},
   "source": [
    "### Project Setup"
   ]
  },
  {
   "cell_type": "markdown",
   "metadata": {},
   "source": [
    "##### Generate qubit hamiltonian of the molecule"
   ]
  },
  {
   "cell_type": "code",
   "execution_count": 3,
   "metadata": {},
   "outputs": [],
   "source": [
    "H, qubits = qchem.molecular_hamiltonian(\n",
    "    symbols,\n",
    "    geometry,\n",
    "    active_electrons=active_electrons,\n",
    "    active_orbitals=active_orbitals,\n",
    "    # method=\"pyscf\"\n",
    ")"
   ]
  },
  {
   "cell_type": "code",
   "execution_count": 4,
   "metadata": {},
   "outputs": [
    {
     "name": "stdout",
     "output_type": "stream",
     "text": [
      "<Hamiltonian: terms=27, wires=[0, 1, 2, 3]>\n"
     ]
    }
   ],
   "source": [
    "H"
   ]
  },
  {
   "cell_type": "code",
   "execution_count": 5,
   "metadata": {},
   "outputs": [
    {
     "name": "stdout",
     "output_type": "stream",
     "text": [
      "  (-109.09386199364083) [I0]\n",
      "+ (-0.18501660577739165) [Z2]\n",
      "+ (-0.1850166057773916) [Z3]\n",
      "+ (0.0362401199071864) [Z0]\n",
      "+ (0.03624011990718645) [Z1]\n",
      "+ (0.00031259622325041354) [Y0 Y2]\n",
      "+ (0.00031259622325041354) [X0 X2]\n",
      "+ (0.0038017750347166136) [Y1 Y3]\n",
      "+ (0.0038017750347166136) [X1 X3]\n",
      "+ (0.11823111975967318) [Z0 Z2]\n",
      "+ (0.11823111975967318) [Z1 Z3]\n",
      "+ (0.1259959308950873) [Z0 Z3]\n",
      "+ (0.1259959308950873) [Z1 Z2]\n",
      "+ (0.1344267750292456) [Z0 Z1]\n",
      "+ (0.15972466562037296) [Z2 Z3]\n",
      "+ (-0.0034891781656083863) [Y0 Z1 Y2]\n",
      "+ (-0.0034891781656083863) [X0 Z1 X2]\n",
      "+ (-0.0034891781656083863) [Y1 Z2 Y3]\n",
      "+ (-0.0034891781656083863) [X1 Z2 X3]\n",
      "+ (-0.007764811135414104) [Y0 Y1 X2 X3]\n",
      "+ (-0.007764811135414104) [X0 X1 Y2 Y3]\n",
      "+ (0.00031259622325041354) [Z0 Y1 Z2 Y3]\n",
      "+ (0.00031259622325041354) [Z0 X1 Z2 X3]\n",
      "+ (0.0038017750347166136) [Y0 Z1 Y2 Z3]\n",
      "+ (0.0038017750347166136) [X0 Z1 X2 Z3]\n",
      "+ (0.007764811135414104) [Y0 X1 X2 Y3]\n",
      "+ (0.007764811135414104) [X0 Y1 Y2 X3]\n"
     ]
    }
   ],
   "source": [
    "print(H)"
   ]
  },
  {
   "cell_type": "code",
   "execution_count": 6,
   "metadata": {},
   "outputs": [
    {
     "name": "stdout",
     "output_type": "stream",
     "text": [
      "4\n"
     ]
    }
   ],
   "source": [
    "print(qubits)"
   ]
  },
  {
   "cell_type": "code",
   "execution_count": 7,
   "metadata": {},
   "outputs": [
    {
     "data": {
      "text/plain": [
       "27"
      ]
     },
     "execution_count": 7,
     "metadata": {},
     "output_type": "execute_result"
    }
   ],
   "source": [
    "H.num_params"
   ]
  },
  {
   "cell_type": "code",
   "execution_count": 8,
   "metadata": {},
   "outputs": [
    {
     "data": {
      "text/plain": [
       "[Identity(wires=[0]),\n",
       " PauliZ(wires=[0]),\n",
       " PauliY(wires=[0]) @ PauliZ(wires=[1]) @ PauliY(wires=[2]),\n",
       " PauliX(wires=[0]) @ PauliZ(wires=[1]) @ PauliX(wires=[2]),\n",
       " PauliZ(wires=[2]),\n",
       " PauliZ(wires=[0]) @ PauliZ(wires=[2]),\n",
       " PauliZ(wires=[1]),\n",
       " PauliZ(wires=[0]) @ PauliZ(wires=[1]),\n",
       " PauliY(wires=[0]) @ PauliY(wires=[2]),\n",
       " PauliX(wires=[0]) @ PauliX(wires=[2]),\n",
       " PauliY(wires=[1]) @ PauliZ(wires=[2]) @ PauliY(wires=[3]),\n",
       " PauliZ(wires=[0]) @ PauliY(wires=[1]) @ PauliZ(wires=[2]) @ PauliY(wires=[3]),\n",
       " PauliX(wires=[1]) @ PauliZ(wires=[2]) @ PauliX(wires=[3]),\n",
       " PauliZ(wires=[0]) @ PauliX(wires=[1]) @ PauliZ(wires=[2]) @ PauliX(wires=[3]),\n",
       " PauliY(wires=[0]) @ PauliX(wires=[1]) @ PauliX(wires=[2]) @ PauliY(wires=[3]),\n",
       " PauliY(wires=[0]) @ PauliY(wires=[1]) @ PauliX(wires=[2]) @ PauliX(wires=[3]),\n",
       " PauliX(wires=[0]) @ PauliX(wires=[1]) @ PauliY(wires=[2]) @ PauliY(wires=[3]),\n",
       " PauliX(wires=[0]) @ PauliY(wires=[1]) @ PauliY(wires=[2]) @ PauliX(wires=[3]),\n",
       " PauliZ(wires=[3]),\n",
       " PauliZ(wires=[0]) @ PauliZ(wires=[3]),\n",
       " PauliY(wires=[0]) @ PauliZ(wires=[1]) @ PauliY(wires=[2]) @ PauliZ(wires=[3]),\n",
       " PauliX(wires=[0]) @ PauliZ(wires=[1]) @ PauliX(wires=[2]) @ PauliZ(wires=[3]),\n",
       " PauliZ(wires=[1]) @ PauliZ(wires=[3]),\n",
       " PauliZ(wires=[1]) @ PauliZ(wires=[2]),\n",
       " PauliY(wires=[1]) @ PauliY(wires=[3]),\n",
       " PauliX(wires=[1]) @ PauliX(wires=[3]),\n",
       " PauliZ(wires=[2]) @ PauliZ(wires=[3])]"
      ]
     },
     "execution_count": 8,
     "metadata": {},
     "output_type": "execute_result"
    }
   ],
   "source": [
    "H.ops"
   ]
  },
  {
   "cell_type": "code",
   "execution_count": 9,
   "metadata": {},
   "outputs": [
    {
     "data": {
      "text/plain": [
       "<bound method Hamiltonian.sparse_matrix of <Hamiltonian: terms=27, wires=[0, 1, 2, 3]>>"
      ]
     },
     "execution_count": 9,
     "metadata": {},
     "output_type": "execute_result"
    }
   ],
   "source": [
    "H.sparse_matrix"
   ]
  },
  {
   "cell_type": "code",
   "execution_count": 10,
   "metadata": {},
   "outputs": [
    {
     "data": {
      "text/plain": [
       "([tensor(-109.09386199, requires_grad=False),\n",
       "  tensor(0.03624012, requires_grad=False),\n",
       "  tensor(-0.00348918, requires_grad=False),\n",
       "  tensor(-0.00348918, requires_grad=False),\n",
       "  tensor(-0.18501661, requires_grad=False),\n",
       "  tensor(0.11823112, requires_grad=False),\n",
       "  tensor(0.03624012, requires_grad=False),\n",
       "  tensor(0.13442678, requires_grad=False),\n",
       "  tensor(0.0003126, requires_grad=False),\n",
       "  tensor(0.0003126, requires_grad=False),\n",
       "  tensor(-0.00348918, requires_grad=False),\n",
       "  tensor(0.0003126, requires_grad=False),\n",
       "  tensor(-0.00348918, requires_grad=False),\n",
       "  tensor(0.0003126, requires_grad=False),\n",
       "  tensor(0.00776481, requires_grad=False),\n",
       "  tensor(-0.00776481, requires_grad=False),\n",
       "  tensor(-0.00776481, requires_grad=False),\n",
       "  tensor(0.00776481, requires_grad=False),\n",
       "  tensor(-0.18501661, requires_grad=False),\n",
       "  tensor(0.12599593, requires_grad=False),\n",
       "  tensor(0.00380178, requires_grad=False),\n",
       "  tensor(0.00380178, requires_grad=False),\n",
       "  tensor(0.11823112, requires_grad=False),\n",
       "  tensor(0.12599593, requires_grad=False),\n",
       "  tensor(0.00380178, requires_grad=False),\n",
       "  tensor(0.00380178, requires_grad=False),\n",
       "  tensor(0.15972467, requires_grad=False)],\n",
       " [Identity(wires=[0]),\n",
       "  PauliZ(wires=[0]),\n",
       "  PauliY(wires=[0]) @ PauliZ(wires=[1]) @ PauliY(wires=[2]),\n",
       "  PauliX(wires=[0]) @ PauliZ(wires=[1]) @ PauliX(wires=[2]),\n",
       "  PauliZ(wires=[2]),\n",
       "  PauliZ(wires=[0]) @ PauliZ(wires=[2]),\n",
       "  PauliZ(wires=[1]),\n",
       "  PauliZ(wires=[0]) @ PauliZ(wires=[1]),\n",
       "  PauliY(wires=[0]) @ PauliY(wires=[2]),\n",
       "  PauliX(wires=[0]) @ PauliX(wires=[2]),\n",
       "  PauliY(wires=[1]) @ PauliZ(wires=[2]) @ PauliY(wires=[3]),\n",
       "  PauliZ(wires=[0]) @ PauliY(wires=[1]) @ PauliZ(wires=[2]) @ PauliY(wires=[3]),\n",
       "  PauliX(wires=[1]) @ PauliZ(wires=[2]) @ PauliX(wires=[3]),\n",
       "  PauliZ(wires=[0]) @ PauliX(wires=[1]) @ PauliZ(wires=[2]) @ PauliX(wires=[3]),\n",
       "  PauliY(wires=[0]) @ PauliX(wires=[1]) @ PauliX(wires=[2]) @ PauliY(wires=[3]),\n",
       "  PauliY(wires=[0]) @ PauliY(wires=[1]) @ PauliX(wires=[2]) @ PauliX(wires=[3]),\n",
       "  PauliX(wires=[0]) @ PauliX(wires=[1]) @ PauliY(wires=[2]) @ PauliY(wires=[3]),\n",
       "  PauliX(wires=[0]) @ PauliY(wires=[1]) @ PauliY(wires=[2]) @ PauliX(wires=[3]),\n",
       "  PauliZ(wires=[3]),\n",
       "  PauliZ(wires=[0]) @ PauliZ(wires=[3]),\n",
       "  PauliY(wires=[0]) @ PauliZ(wires=[1]) @ PauliY(wires=[2]) @ PauliZ(wires=[3]),\n",
       "  PauliX(wires=[0]) @ PauliZ(wires=[1]) @ PauliX(wires=[2]) @ PauliZ(wires=[3]),\n",
       "  PauliZ(wires=[1]) @ PauliZ(wires=[3]),\n",
       "  PauliZ(wires=[1]) @ PauliZ(wires=[2]),\n",
       "  PauliY(wires=[1]) @ PauliY(wires=[3]),\n",
       "  PauliX(wires=[1]) @ PauliX(wires=[3]),\n",
       "  PauliZ(wires=[2]) @ PauliZ(wires=[3])])"
      ]
     },
     "execution_count": 10,
     "metadata": {},
     "output_type": "execute_result"
    }
   ],
   "source": [
    "H.terms()"
   ]
  },
  {
   "cell_type": "code",
   "execution_count": 11,
   "metadata": {},
   "outputs": [
    {
     "name": "stdout",
     "output_type": "stream",
     "text": [
      "<function draw.<locals>.wrapper at 0x7f698a10f7e0>\n"
     ]
    }
   ],
   "source": [
    "print(qml.draw(H, decimals=None))"
   ]
  },
  {
   "cell_type": "markdown",
   "metadata": {},
   "source": [
    "H"
   ]
  },
  {
   "cell_type": "markdown",
   "metadata": {},
   "source": [
    "##### Generate Excitations"
   ]
  },
  {
   "cell_type": "code",
   "execution_count": 12,
   "metadata": {},
   "outputs": [],
   "source": [
    "singles, doubles = qchem.excitations(active_electrons, qubits)"
   ]
  },
  {
   "cell_type": "code",
   "execution_count": 13,
   "metadata": {},
   "outputs": [
    {
     "data": {
      "text/plain": [
       "[[0, 2], [1, 3]]"
      ]
     },
     "execution_count": 13,
     "metadata": {},
     "output_type": "execute_result"
    }
   ],
   "source": [
    "singles"
   ]
  },
  {
   "cell_type": "code",
   "execution_count": 14,
   "metadata": {},
   "outputs": [
    {
     "data": {
      "text/plain": [
       "[[0, 1, 2, 3]]"
      ]
     },
     "execution_count": 14,
     "metadata": {},
     "output_type": "execute_result"
    }
   ],
   "source": [
    "doubles"
   ]
  },
  {
   "cell_type": "code",
   "execution_count": 15,
   "metadata": {},
   "outputs": [
    {
     "name": "stdout",
     "output_type": "stream",
     "text": [
      "Total number of excitations = 3\n"
     ]
    }
   ],
   "source": [
    "print(f\"Total number of excitations = {len(singles) + len(doubles)}\")"
   ]
  },
  {
   "cell_type": "code",
   "execution_count": 16,
   "metadata": {},
   "outputs": [
    {
     "data": {
      "text/plain": [
       "[SingleExcitation(0.0, wires=[0, 2]), SingleExcitation(0.0, wires=[1, 3])]"
      ]
     },
     "execution_count": 16,
     "metadata": {},
     "output_type": "execute_result"
    }
   ],
   "source": [
    "singles_excitations = [qml.SingleExcitation(0.0, x) for x in singles]\n",
    "singles_excitations"
   ]
  },
  {
   "cell_type": "code",
   "execution_count": 17,
   "metadata": {},
   "outputs": [
    {
     "data": {
      "text/plain": [
       "[DoubleExcitation(0.0, wires=[0, 1, 2, 3])]"
      ]
     },
     "execution_count": 17,
     "metadata": {},
     "output_type": "execute_result"
    }
   ],
   "source": [
    "doubles_excitations = [qml.DoubleExcitation(0.0, x) for x in doubles]\n",
    "doubles_excitations"
   ]
  },
  {
   "cell_type": "code",
   "execution_count": 18,
   "metadata": {},
   "outputs": [
    {
     "data": {
      "text/plain": [
       "[DoubleExcitation(0.0, wires=[0, 1, 2, 3]),\n",
       " SingleExcitation(0.0, wires=[0, 2]),\n",
       " SingleExcitation(0.0, wires=[1, 3])]"
      ]
     },
     "execution_count": 18,
     "metadata": {},
     "output_type": "execute_result"
    }
   ],
   "source": [
    "operator_pool = doubles_excitations + singles_excitations\n",
    "operator_pool"
   ]
  },
  {
   "cell_type": "code",
   "execution_count": 19,
   "metadata": {},
   "outputs": [
    {
     "data": {
      "text/plain": [
       "array([1, 1, 0, 0])"
      ]
     },
     "execution_count": 19,
     "metadata": {},
     "output_type": "execute_result"
    }
   ],
   "source": [
    "hf_state = qchem.hf_state(active_electrons, qubits)\n",
    "hf_state"
   ]
  },
  {
   "cell_type": "markdown",
   "metadata": {},
   "source": [
    "### Adaptive Optimizer"
   ]
  },
  {
   "cell_type": "markdown",
   "metadata": {},
   "source": [
    "##### Helper Functions"
   ]
  },
  {
   "cell_type": "code",
   "execution_count": 20,
   "metadata": {},
   "outputs": [
    {
     "ename": "TypeError",
     "evalue": "'module' object is not callable",
     "output_type": "error",
     "traceback": [
      "\u001b[0;31m---------------------------------------------------------------------------\u001b[0m",
      "\u001b[0;31mTypeError\u001b[0m                                 Traceback (most recent call last)",
      "Cell \u001b[0;32mIn[20], line 4\u001b[0m\n\u001b[1;32m      1\u001b[0m \u001b[38;5;28;01mfrom\u001b[39;00m \u001b[38;5;21;01mtyping\u001b[39;00m \u001b[38;5;28;01mimport\u001b[39;00m Sequence, Callable\n\u001b[1;32m      2\u001b[0m \u001b[38;5;28;01mfrom\u001b[39;00m \u001b[38;5;21;01mpennylane\u001b[39;00m \u001b[38;5;28;01mimport\u001b[39;00m transforms\n\u001b[0;32m----> 4\u001b[0m \u001b[38;5;129;43m@transforms\u001b[39;49m\n\u001b[1;32m      5\u001b[0m \u001b[38;5;28;43;01mdef\u001b[39;49;00m\u001b[43m \u001b[49m\u001b[38;5;21;43mappend_gate\u001b[39;49m\u001b[43m(\u001b[49m\u001b[43mtape\u001b[49m\u001b[43m:\u001b[49m\u001b[43m \u001b[49m\u001b[43mQuantumTape\u001b[49m\u001b[43m,\u001b[49m\u001b[43m \u001b[49m\u001b[43mparams\u001b[49m\u001b[43m,\u001b[49m\u001b[43m \u001b[49m\u001b[43mgates\u001b[49m\u001b[43m)\u001b[49m\u001b[43m \u001b[49m\u001b[38;5;241;43m-\u001b[39;49m\u001b[38;5;241;43m>\u001b[39;49m\u001b[43m \u001b[49m\u001b[43m(\u001b[49m\u001b[43mSequence\u001b[49m\u001b[43m[\u001b[49m\u001b[43mQuantumTape\u001b[49m\u001b[43m]\u001b[49m\u001b[43m,\u001b[49m\u001b[43m \u001b[49m\u001b[43mCallable\u001b[49m\u001b[43m)\u001b[49m\u001b[43m:\u001b[49m\n\u001b[1;32m      6\u001b[0m \u001b[38;5;250;43m    \u001b[39;49m\u001b[38;5;124;43;03m\"\"\"Append parameterized gates to an existing tape.\u001b[39;49;00m\n\u001b[1;32m      7\u001b[0m \n\u001b[1;32m      8\u001b[0m \u001b[38;5;124;43;03m    Args:\u001b[39;49;00m\n\u001b[0;32m   (...)\u001b[0m\n\u001b[1;32m     16\u001b[0m \n\u001b[1;32m     17\u001b[0m \u001b[38;5;124;43;03m    \"\"\"\u001b[39;49;00m\n\u001b[1;32m     18\u001b[0m \u001b[43m    \u001b[49m\u001b[43mnew_operations\u001b[49m\u001b[43m \u001b[49m\u001b[38;5;241;43m=\u001b[39;49m\u001b[43m \u001b[49m\u001b[43m[\u001b[49m\u001b[43m]\u001b[49m\n",
      "\u001b[0;31mTypeError\u001b[0m: 'module' object is not callable"
     ]
    }
   ],
   "source": [
    "from typing import Sequence, Callable\n",
    "from pennylane import transforms\n",
    "\n",
    "@transforms\n",
    "def append_gate(tape: QuantumTape, params, gates) -> (Sequence[QuantumTape], Callable):\n",
    "    \"\"\"Append parameterized gates to an existing tape.\n",
    "\n",
    "    Args:\n",
    "\n",
    "        tape (QuantumTape or QNode or Callable): quantum circuit to transform by adding gates\n",
    "        params (array[float]): parameters of the gates to be added\n",
    "        gates (list[Operator]): list of the gates to be added\n",
    "\n",
    "    Returns:\n",
    "        qnode (QNode) or quantum function (Callable) or tuple[List[QuantumTape], function]: The transformed circuit as described in :func:`qml.transform <pennylane.transform>`.\n",
    "\n",
    "    \"\"\"\n",
    "    new_operations = []\n",
    "\n",
    "    for i, g in enumerate(gates):\n",
    "        g = copy.copy(g)\n",
    "        new_params = (params[i], *g.data[1:])\n",
    "        g.data = new_params\n",
    "        new_operations.append(g)\n",
    "\n",
    "    new_tape = type(tape)(tape.operations + new_operations, tape.measurements, shots=tape.shots)\n",
    "\n",
    "    def null_postprocessing(results):\n",
    "        \"\"\"A postprocesing function returned by a transform that only converts the batch of results\n",
    "        into a result for a single ``QuantumTape``.\n",
    "        \"\"\"\n",
    "        return results[0]  # pragma: no cover\n",
    "\n",
    "    return [new_tape], null_postprocessing\n",
    "\n"
   ]
  },
  {
   "cell_type": "code",
   "execution_count": null,
   "metadata": {},
   "outputs": [],
   "source": [
    "from pennylane.optimize.adaptive import AdaptiveOptimizer"
   ]
  },
  {
   "cell_type": "markdown",
   "metadata": {},
   "source": [
    "##### Adaptive Optimizer Class"
   ]
  },
  {
   "cell_type": "code",
   "execution_count": null,
   "metadata": {},
   "outputs": [
    {
     "data": {
      "text/plain": [
       "<pennylane.optimize.adaptive.AdaptiveOptimizer at 0x7fb1a0112b80>"
      ]
     },
     "execution_count": 23,
     "metadata": {},
     "output_type": "execute_result"
    }
   ],
   "source": [
    "qml.optimize.AdaptiveOptimizer()"
   ]
  },
  {
   "cell_type": "code",
   "execution_count": null,
   "metadata": {},
   "outputs": [],
   "source": [
    "class AdaptiveOptimizer:\n",
    "    def __init__(self, param_steps=10, stepsize=0.5):\n",
    "        self.param_steps = param_steps\n",
    "        self.stepsize = stepsize\n",
    "    \n",
    "    @staticmethod\n",
    "    def _circuit(params, gates, initial_circuit):\n",
    "        final_circuit = append_gate(initial_circuit, params, gates)\n",
    "        return final_circuit()\n",
    "    \n",
    "    def step(self, circuit, operator_pool, params_zero=True):\n",
    "        return self.step_and_cost(circuit, operator_pool, params_zero=params_zero)\n",
    "    \n",
    "    def step_and_cost(self, circuit, operator_pool, drain_pool = False, params_zero=True):\n",
    "        cost = circuit()\n",
    "        qnode = copy.copy(circuit)\n",
    "\n",
    "        if drain_pool:\n",
    "            operator_pool = [\n",
    "                gate\n",
    "                for gate in operator_pool\n",
    "                if all(\n",
    "                    gate.name != operation.name or gate.wires != operation.wires\n",
    "                    for operation in circuit.tape.operations\n",
    "                )\n",
    "            ]\n",
    "        \n",
    "        params = np.array([gate.parameters[0] for gate in operator_pool])\n",
    "        qnode.func = self._circuit\n",
    "        grads = qml.grad(qnode)(params, gates=operator_pool, initial_circuit=circuit.func)\n",
    "\n",
    "        selected_gates = [operator_pool[np.argmax(abs(grads))]]\n",
    "        optimizer = qml.GradientDescentOptimizer(stepsize=self.stepsize)\n",
    "\n",
    "        if params_zero:\n",
    "            params = np.zeros(len(selected_gates))\n",
    "        else:\n",
    "            params = np.array([gate.parameters[0] for gate in selected_gates], requires_grad = True)\n",
    "        \n",
    "        for _ in range(self.param_steps):\n",
    "            params, _ = optimizer.step_and_cost(\n",
    "                qnode, params, gates=selected_gates, initial_circuit=circuit.func\n",
    "            )\n",
    "        \n",
    "        qnode.func = append_gate(circuit.func, params, selected_gates)\n",
    "\n",
    "        return qnode, cost, max(abs(qml.math.toarray(grads)))"
   ]
  },
  {
   "cell_type": "code",
   "execution_count": null,
   "metadata": {},
   "outputs": [],
   "source": [
    "from pennylane.optimize.adaptive import append_gate\n",
    "\n"
   ]
  },
  {
   "cell_type": "markdown",
   "metadata": {},
   "source": [
    "### Custom Optimizer"
   ]
  },
  {
   "cell_type": "code",
   "execution_count": 5,
   "metadata": {},
   "outputs": [
    {
     "name": "stdout",
     "output_type": "stream",
     "text": [
      "Configuration:  3 2 2\n",
      "Total number of excitations = 3\n",
      "n = 0,  E = -109.73067811 H, Largest Gradient = 0.031\n",
      "\n",
      "n = 1,  E = -109.73176676 H, Largest Gradient = 0.000\n",
      "\n",
      "n = 2,  E = -109.73176739 H, Largest Gradient = 0.000\n",
      "\n"
     ]
    }
   ],
   "source": [
    "import pennylane as qml\n",
    "import numpy as np\n",
    "import matplotlib.pyplot as plt\n",
    "import copy\n",
    "\n",
    "from pennylane import qchem\n",
    "from pennylane import numpy as pnp\n",
    "from pennylane.optimize.adaptive import AdaptiveOptimizer\n",
    "from pennylane.optimize.adaptive import append_gate\n",
    "\n",
    "A_to_au_conversion = 1.8897259885789\n",
    "\n",
    "class CustomOptimizer(AdaptiveOptimizer):\n",
    "    def custom_step(self, circuit, operator_pool, drain_pool=False, params_zero=True):\n",
    "        cost = circuit()\n",
    "        qnode = copy.copy(circuit)\n",
    "        if drain_pool:\n",
    "            operator_pool = [\n",
    "                gate\n",
    "                for gate in operator_pool\n",
    "                if all(\n",
    "                    gate.name != operation.name or gate.wires != operation.wires\n",
    "                    for operation in circuit.tape.operations\n",
    "                )\n",
    "            ]\n",
    "\n",
    "        params = pnp.array([gate.parameters[0] for gate in operator_pool], requires_grad=True)\n",
    "        qnode.func = self._circuit\n",
    "        grads = qml.grad(qnode)(params, gates=operator_pool, initial_circuit=circuit.func)\n",
    "        selected_gates = [operator_pool[pnp.argmax(abs(grads))]]\n",
    "\n",
    "        optimizer = qml.AdagradOptimizer(stepsize=self.stepsize)\n",
    "        # === AdagradOptimizer, RMSPropOptimizer\n",
    "        # === GradientDescentOptimizer, AdamOptimizer, MomentumOptimizer, NesterovMomentumOptimizer, QNGOptimizer, ShotAdaptiveOptimizer\n",
    "        # === QNSPSAOptimizer, RiemannianGradientOptimizer, RotoselectOptimizer, RotosolveOptimizer, SPSAOptimizer\n",
    "\n",
    "        if params_zero:\n",
    "            params = pnp.zeros(len(selected_gates))\n",
    "        else:\n",
    "            params = pnp.array([gate.parameters[0] for gate in selected_gates], requires_grad=True)\n",
    "\n",
    "        for _ in range(self.param_steps):\n",
    "            params, _ = optimizer.step_and_cost(\n",
    "                qnode, params, gates=selected_gates, initial_circuit=circuit.func\n",
    "            )\n",
    "\n",
    "        qnode.func = append_gate(circuit.func, params, selected_gates)\n",
    "\n",
    "        return qnode, cost, max(abs(qml.math.toarray(grads)))\n",
    "\n",
    "\n",
    "def calc_adapt_vqe_N2H4(threshold, active_electrons=4, active_orbitals=4):\n",
    "    symbols = [\"N\", \"H\", \"H\", \"N\", \"H\", \"H\"]\n",
    "    # ground state coordinate: \n",
    "    geometry = pnp.array([0.0, 0.0, 0.0 , 0.0, 0.0, 1.015264, 0.978541, 0.0, -0.270591, -0.627449, 1.276052, -0.477492 , -0.897827, 1.825923, 0.332013 , 0.080714, 1.825923, -0.953842])*A_to_au_conversion\n",
    "\n",
    "    H, qubits = qchem.molecular_hamiltonian(\n",
    "        symbols,\n",
    "        geometry,\n",
    "        active_electrons=active_electrons,\n",
    "        active_orbitals=active_orbitals,\n",
    "        basis='sto-3g',\n",
    "        # method=\"pyscf\"\n",
    "    )\n",
    "    active_electrons = active_electrons\n",
    "    singles, doubles = qchem.excitations(active_electrons, qubits)\n",
    "    print(f\"Total number of excitations = {len(singles) + len(doubles)}\")\n",
    "    singles_excitations = [qml.SingleExcitation(0.0, x) for x in singles]\n",
    "    doubles_excitations = [qml.DoubleExcitation(0.0, x) for x in doubles]\n",
    "    operator_pool = doubles_excitations + singles_excitations   \n",
    "    hf_state = qchem.hf_state(active_electrons, qubits)\n",
    "    dev = qml.device(\"default.qubit\", wires=qubits)\n",
    "    @qml.qnode(dev)\n",
    "    def circuit():\n",
    "        [qml.PauliX(i) for i in np.nonzero(hf_state)[0]]\n",
    "        return qml.expval(H)\n",
    "    energy_array = []\n",
    "\n",
    "    \n",
    "    opt = CustomOptimizer()\n",
    "    for i in range(len(operator_pool)):\n",
    "        circuit, energy, gradient = opt.custom_step(circuit, operator_pool)\n",
    "        energy_array.append(energy)\n",
    "        if i % 1 == 0:\n",
    "            print(\"n = {:},  E = {:.8f} H, Largest Gradient = {:.3f}\".format(i, energy, gradient))\n",
    "            # print(qml.draw(circuit, decimals=None)())\n",
    "            print()\n",
    "        if gradient < threshold*10^(-threshold):\n",
    "            break\n",
    "    return energy_array, circuit\n",
    "\n",
    "config = [[2,2]]\n",
    "threshold = 3\n",
    "setting='test'\n",
    "\n",
    "for i in range(len(config)):\n",
    "    print(\"Configuration: \", threshold, config[i][0], config[i][1])\n",
    "    E, circuit = calc_adapt_vqe_N2H4(threshold, active_electrons=config[i][0], active_orbitals=config[i][1])\n",
    "    \n",
    "    file_path = f\"data/N2H4_{threshold}_{config[i][0]}_{config[i][1]}_{setting}.txt\"\n",
    "    # Open the file in write mode\n",
    "    with open(file_path, \"w\") as file:\n",
    "        # Write each element of the array to a new line\n",
    "        for element in E:\n",
    "            file.write(str(element) + \"\\n\")"
   ]
  },
  {
   "cell_type": "code",
   "execution_count": 11,
   "metadata": {},
   "outputs": [
    {
     "data": {
      "text/plain": [
       "<QNode: device='<default.qubit device (wires=4) at 0x7fdcca14d910>', interface='auto', diff_method='best'>"
      ]
     },
     "execution_count": 11,
     "metadata": {},
     "output_type": "execute_result"
    }
   ],
   "source": [
    "circuit"
   ]
  },
  {
   "cell_type": "code",
   "execution_count": 8,
   "metadata": {},
   "outputs": [
    {
     "name": "stdout",
     "output_type": "stream",
     "text": [
      "0: ──X─╭G²────╭G─┤ ╭<𝓗>\n",
      "1: ──X─├G²─╭G─│──┤ ├<𝓗>\n",
      "2: ────├G²─│──╰G─┤ ├<𝓗>\n",
      "3: ────╰G²─╰G────┤ ╰<𝓗>\n"
     ]
    }
   ],
   "source": [
    "print(qml.draw(circuit, decimals=None)())"
   ]
  },
  {
   "cell_type": "code",
   "execution_count": 15,
   "metadata": {},
   "outputs": [
    {
     "data": {
      "text/plain": [
       "<QuantumScript: wires=[0, 1, 2, 3], params=3>"
      ]
     },
     "execution_count": 15,
     "metadata": {},
     "output_type": "execute_result"
    }
   ],
   "source": [
    "circuit.qtape"
   ]
  }
 ],
 "metadata": {
  "kernelspec": {
   "display_name": "quantum-dev",
   "language": "python",
   "name": "python3"
  },
  "language_info": {
   "codemirror_mode": {
    "name": "ipython",
    "version": 3
   },
   "file_extension": ".py",
   "mimetype": "text/x-python",
   "name": "python",
   "nbconvert_exporter": "python",
   "pygments_lexer": "ipython3",
   "version": "3.11.8"
  }
 },
 "nbformat": 4,
 "nbformat_minor": 2
}
