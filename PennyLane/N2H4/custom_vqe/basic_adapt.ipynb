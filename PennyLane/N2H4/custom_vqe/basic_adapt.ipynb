{
 "cells": [
  {
   "cell_type": "markdown",
   "metadata": {},
   "source": [
    "### Import"
   ]
  },
  {
   "cell_type": "code",
   "execution_count": 4,
   "metadata": {},
   "outputs": [],
   "source": [
    "import pennylane as qml\n",
    "from pennylane import qchem\n",
    "from pennylane import numpy as np\n",
    "import matplotlib.pyplot as plt\n",
    "\n",
    "A_to_au_conversion = 1.8897259885789\n",
    "\n",
    "active_electrons = 2\n",
    "active_orbitals = 2"
   ]
  },
  {
   "cell_type": "markdown",
   "metadata": {},
   "source": [
    "### Structure"
   ]
  },
  {
   "cell_type": "code",
   "execution_count": 5,
   "metadata": {},
   "outputs": [],
   "source": [
    "symbols = [\"N\", \"H\", \"H\", \"N\", \"H\", \"H\"]\n",
    "# ground state coordinate: \n",
    "geometry = np.array([0.0, 0.0, 0.0 , 0.0, 0.0, 1.015264, 0.978541, 0.0, -0.270591, -0.627449, 1.276052, -0.477492 , -0.897827, 1.825923, 0.332013 , 0.080714, 1.825923, -0.953842])*A_to_au_conversion"
   ]
  },
  {
   "cell_type": "markdown",
   "metadata": {},
   "source": [
    "#### Generate qubit hamiltonian of the molecule"
   ]
  },
  {
   "cell_type": "code",
   "execution_count": 7,
   "metadata": {},
   "outputs": [],
   "source": [
    "H, qubits = qchem.molecular_hamiltonian(\n",
    "    symbols,\n",
    "    geometry,\n",
    "    active_electrons=active_electrons,\n",
    "    active_orbitals=active_orbitals,\n",
    "    # method=\"pyscf\"\n",
    ")"
   ]
  },
  {
   "cell_type": "code",
   "execution_count": 16,
   "metadata": {},
   "outputs": [
    {
     "name": "stdout",
     "output_type": "stream",
     "text": [
      "<Hamiltonian: terms=27, wires=[0, 1, 2, 3]>\n"
     ]
    }
   ],
   "source": [
    "H"
   ]
  },
  {
   "cell_type": "code",
   "execution_count": 8,
   "metadata": {},
   "outputs": [
    {
     "name": "stdout",
     "output_type": "stream",
     "text": [
      "  (-109.09386199364073) [I0]\n",
      "+ (-0.18501660577737972) [Z3]\n",
      "+ (-0.18501660577737963) [Z2]\n",
      "+ (0.036240119907183815) [Z1]\n",
      "+ (0.03624011990718384) [Z0]\n",
      "+ (0.0003125962232503304) [Y0 Y2]\n",
      "+ (0.0003125962232503304) [X0 X2]\n",
      "+ (0.00380177503471649) [Y1 Y3]\n",
      "+ (0.00380177503471649) [X1 X3]\n",
      "+ (0.11823111975967418) [Z0 Z2]\n",
      "+ (0.11823111975967418) [Z1 Z3]\n",
      "+ (0.12599593089508843) [Z0 Z3]\n",
      "+ (0.12599593089508843) [Z1 Z2]\n",
      "+ (0.134426775029246) [Z0 Z1]\n",
      "+ (0.1597246656203749) [Z2 Z3]\n",
      "+ (-0.003489178165608661) [Y0 Z1 Y2]\n",
      "+ (-0.003489178165608661) [X0 Z1 X2]\n",
      "+ (-0.003489178165608661) [Y1 Z2 Y3]\n",
      "+ (-0.003489178165608661) [X1 Z2 X3]\n",
      "+ (-0.007764811135414218) [Y0 Y1 X2 X3]\n",
      "+ (-0.007764811135414218) [X0 X1 Y2 Y3]\n",
      "+ (0.0003125962232503304) [Z0 Y1 Z2 Y3]\n",
      "+ (0.0003125962232503304) [Z0 X1 Z2 X3]\n",
      "+ (0.00380177503471649) [Y0 Z1 Y2 Z3]\n",
      "+ (0.00380177503471649) [X0 Z1 X2 Z3]\n",
      "+ (0.007764811135414218) [Y0 X1 X2 Y3]\n",
      "+ (0.007764811135414218) [X0 Y1 Y2 X3]\n"
     ]
    }
   ],
   "source": [
    "print(H)"
   ]
  },
  {
   "cell_type": "code",
   "execution_count": 9,
   "metadata": {},
   "outputs": [
    {
     "name": "stdout",
     "output_type": "stream",
     "text": [
      "4\n"
     ]
    }
   ],
   "source": [
    "print(qubits)"
   ]
  },
  {
   "cell_type": "code",
   "execution_count": 14,
   "metadata": {},
   "outputs": [
    {
     "data": {
      "text/plain": [
       "27"
      ]
     },
     "execution_count": 14,
     "metadata": {},
     "output_type": "execute_result"
    }
   ],
   "source": [
    "H.num_params"
   ]
  },
  {
   "cell_type": "code",
   "execution_count": 22,
   "metadata": {},
   "outputs": [
    {
     "data": {
      "text/plain": [
       "[Identity(wires=[0]),\n",
       " PauliZ(wires=[0]),\n",
       " PauliY(wires=[0]) @ PauliZ(wires=[1]) @ PauliY(wires=[2]),\n",
       " PauliX(wires=[0]) @ PauliZ(wires=[1]) @ PauliX(wires=[2]),\n",
       " PauliZ(wires=[2]),\n",
       " PauliZ(wires=[0]) @ PauliZ(wires=[2]),\n",
       " PauliZ(wires=[1]),\n",
       " PauliZ(wires=[0]) @ PauliZ(wires=[1]),\n",
       " PauliY(wires=[0]) @ PauliY(wires=[2]),\n",
       " PauliX(wires=[0]) @ PauliX(wires=[2]),\n",
       " PauliY(wires=[1]) @ PauliZ(wires=[2]) @ PauliY(wires=[3]),\n",
       " PauliZ(wires=[0]) @ PauliY(wires=[1]) @ PauliZ(wires=[2]) @ PauliY(wires=[3]),\n",
       " PauliX(wires=[1]) @ PauliZ(wires=[2]) @ PauliX(wires=[3]),\n",
       " PauliZ(wires=[0]) @ PauliX(wires=[1]) @ PauliZ(wires=[2]) @ PauliX(wires=[3]),\n",
       " PauliY(wires=[0]) @ PauliX(wires=[1]) @ PauliX(wires=[2]) @ PauliY(wires=[3]),\n",
       " PauliY(wires=[0]) @ PauliY(wires=[1]) @ PauliX(wires=[2]) @ PauliX(wires=[3]),\n",
       " PauliX(wires=[0]) @ PauliX(wires=[1]) @ PauliY(wires=[2]) @ PauliY(wires=[3]),\n",
       " PauliX(wires=[0]) @ PauliY(wires=[1]) @ PauliY(wires=[2]) @ PauliX(wires=[3]),\n",
       " PauliZ(wires=[3]),\n",
       " PauliZ(wires=[0]) @ PauliZ(wires=[3]),\n",
       " PauliY(wires=[0]) @ PauliZ(wires=[1]) @ PauliY(wires=[2]) @ PauliZ(wires=[3]),\n",
       " PauliX(wires=[0]) @ PauliZ(wires=[1]) @ PauliX(wires=[2]) @ PauliZ(wires=[3]),\n",
       " PauliZ(wires=[1]) @ PauliZ(wires=[3]),\n",
       " PauliZ(wires=[1]) @ PauliZ(wires=[2]),\n",
       " PauliY(wires=[1]) @ PauliY(wires=[3]),\n",
       " PauliX(wires=[1]) @ PauliX(wires=[3]),\n",
       " PauliZ(wires=[2]) @ PauliZ(wires=[3])]"
      ]
     },
     "execution_count": 22,
     "metadata": {},
     "output_type": "execute_result"
    }
   ],
   "source": [
    "H.ops"
   ]
  },
  {
   "cell_type": "code",
   "execution_count": 18,
   "metadata": {},
   "outputs": [
    {
     "data": {
      "text/plain": [
       "<bound method Hamiltonian.sparse_matrix of <Hamiltonian: terms=27, wires=[0, 1, 2, 3]>>"
      ]
     },
     "execution_count": 18,
     "metadata": {},
     "output_type": "execute_result"
    }
   ],
   "source": [
    "H.sparse_matrix"
   ]
  },
  {
   "cell_type": "code",
   "execution_count": 20,
   "metadata": {},
   "outputs": [
    {
     "data": {
      "text/plain": [
       "([tensor(-109.09386199, requires_grad=False),\n",
       "  tensor(0.03624012, requires_grad=False),\n",
       "  tensor(-0.00348918, requires_grad=False),\n",
       "  tensor(-0.00348918, requires_grad=False),\n",
       "  tensor(-0.18501661, requires_grad=False),\n",
       "  tensor(0.11823112, requires_grad=False),\n",
       "  tensor(0.03624012, requires_grad=False),\n",
       "  tensor(0.13442678, requires_grad=False),\n",
       "  tensor(0.0003126, requires_grad=False),\n",
       "  tensor(0.0003126, requires_grad=False),\n",
       "  tensor(-0.00348918, requires_grad=False),\n",
       "  tensor(0.0003126, requires_grad=False),\n",
       "  tensor(-0.00348918, requires_grad=False),\n",
       "  tensor(0.0003126, requires_grad=False),\n",
       "  tensor(0.00776481, requires_grad=False),\n",
       "  tensor(-0.00776481, requires_grad=False),\n",
       "  tensor(-0.00776481, requires_grad=False),\n",
       "  tensor(0.00776481, requires_grad=False),\n",
       "  tensor(-0.18501661, requires_grad=False),\n",
       "  tensor(0.12599593, requires_grad=False),\n",
       "  tensor(0.00380178, requires_grad=False),\n",
       "  tensor(0.00380178, requires_grad=False),\n",
       "  tensor(0.11823112, requires_grad=False),\n",
       "  tensor(0.12599593, requires_grad=False),\n",
       "  tensor(0.00380178, requires_grad=False),\n",
       "  tensor(0.00380178, requires_grad=False),\n",
       "  tensor(0.15972467, requires_grad=False)],\n",
       " [Identity(wires=[0]),\n",
       "  PauliZ(wires=[0]),\n",
       "  PauliY(wires=[0]) @ PauliZ(wires=[1]) @ PauliY(wires=[2]),\n",
       "  PauliX(wires=[0]) @ PauliZ(wires=[1]) @ PauliX(wires=[2]),\n",
       "  PauliZ(wires=[2]),\n",
       "  PauliZ(wires=[0]) @ PauliZ(wires=[2]),\n",
       "  PauliZ(wires=[1]),\n",
       "  PauliZ(wires=[0]) @ PauliZ(wires=[1]),\n",
       "  PauliY(wires=[0]) @ PauliY(wires=[2]),\n",
       "  PauliX(wires=[0]) @ PauliX(wires=[2]),\n",
       "  PauliY(wires=[1]) @ PauliZ(wires=[2]) @ PauliY(wires=[3]),\n",
       "  PauliZ(wires=[0]) @ PauliY(wires=[1]) @ PauliZ(wires=[2]) @ PauliY(wires=[3]),\n",
       "  PauliX(wires=[1]) @ PauliZ(wires=[2]) @ PauliX(wires=[3]),\n",
       "  PauliZ(wires=[0]) @ PauliX(wires=[1]) @ PauliZ(wires=[2]) @ PauliX(wires=[3]),\n",
       "  PauliY(wires=[0]) @ PauliX(wires=[1]) @ PauliX(wires=[2]) @ PauliY(wires=[3]),\n",
       "  PauliY(wires=[0]) @ PauliY(wires=[1]) @ PauliX(wires=[2]) @ PauliX(wires=[3]),\n",
       "  PauliX(wires=[0]) @ PauliX(wires=[1]) @ PauliY(wires=[2]) @ PauliY(wires=[3]),\n",
       "  PauliX(wires=[0]) @ PauliY(wires=[1]) @ PauliY(wires=[2]) @ PauliX(wires=[3]),\n",
       "  PauliZ(wires=[3]),\n",
       "  PauliZ(wires=[0]) @ PauliZ(wires=[3]),\n",
       "  PauliY(wires=[0]) @ PauliZ(wires=[1]) @ PauliY(wires=[2]) @ PauliZ(wires=[3]),\n",
       "  PauliX(wires=[0]) @ PauliZ(wires=[1]) @ PauliX(wires=[2]) @ PauliZ(wires=[3]),\n",
       "  PauliZ(wires=[1]) @ PauliZ(wires=[3]),\n",
       "  PauliZ(wires=[1]) @ PauliZ(wires=[2]),\n",
       "  PauliY(wires=[1]) @ PauliY(wires=[3]),\n",
       "  PauliX(wires=[1]) @ PauliX(wires=[3]),\n",
       "  PauliZ(wires=[2]) @ PauliZ(wires=[3])])"
      ]
     },
     "execution_count": 20,
     "metadata": {},
     "output_type": "execute_result"
    }
   ],
   "source": [
    "H.terms()"
   ]
  },
  {
   "cell_type": "code",
   "execution_count": 24,
   "metadata": {},
   "outputs": [
    {
     "name": "stdout",
     "output_type": "stream",
     "text": [
      "<function draw.<locals>.wrapper at 0x7fcd310d2a60>\n"
     ]
    }
   ],
   "source": [
    "print(qml.draw(H, decimals=None))"
   ]
  },
  {
   "cell_type": "markdown",
   "metadata": {},
   "source": [
    "H"
   ]
  },
  {
   "cell_type": "code",
   "execution_count": 25,
   "metadata": {},
   "outputs": [],
   "source": [
    "singles, doubles = qchem.excitations(active_electrons, qubits)"
   ]
  },
  {
   "cell_type": "code",
   "execution_count": 26,
   "metadata": {},
   "outputs": [
    {
     "data": {
      "text/plain": [
       "[[0, 2], [1, 3]]"
      ]
     },
     "execution_count": 26,
     "metadata": {},
     "output_type": "execute_result"
    }
   ],
   "source": [
    "singles"
   ]
  },
  {
   "cell_type": "code",
   "execution_count": 27,
   "metadata": {},
   "outputs": [
    {
     "data": {
      "text/plain": [
       "[[0, 1, 2, 3]]"
      ]
     },
     "execution_count": 27,
     "metadata": {},
     "output_type": "execute_result"
    }
   ],
   "source": [
    "doubles"
   ]
  },
  {
   "cell_type": "code",
   "execution_count": 28,
   "metadata": {},
   "outputs": [
    {
     "name": "stdout",
     "output_type": "stream",
     "text": [
      "Total number of excitations = 3\n"
     ]
    }
   ],
   "source": [
    "print(f\"Total number of excitations = {len(singles) + len(doubles)}\")"
   ]
  },
  {
   "cell_type": "code",
   "execution_count": 30,
   "metadata": {},
   "outputs": [
    {
     "data": {
      "text/plain": [
       "[SingleExcitation(0.0, wires=[0, 2]), SingleExcitation(0.0, wires=[1, 3])]"
      ]
     },
     "execution_count": 30,
     "metadata": {},
     "output_type": "execute_result"
    }
   ],
   "source": [
    "singles_excitations = [qml.SingleExcitation(0.0, x) for x in singles]\n",
    "singles_excitations"
   ]
  },
  {
   "cell_type": "code",
   "execution_count": 31,
   "metadata": {},
   "outputs": [
    {
     "data": {
      "text/plain": [
       "[DoubleExcitation(0.0, wires=[0, 1, 2, 3])]"
      ]
     },
     "execution_count": 31,
     "metadata": {},
     "output_type": "execute_result"
    }
   ],
   "source": [
    "doubles_excitations = [qml.DoubleExcitation(0.0, x) for x in doubles]\n",
    "doubles_excitations"
   ]
  },
  {
   "cell_type": "code",
   "execution_count": 32,
   "metadata": {},
   "outputs": [
    {
     "data": {
      "text/plain": [
       "[DoubleExcitation(0.0, wires=[0, 1, 2, 3]),\n",
       " SingleExcitation(0.0, wires=[0, 2]),\n",
       " SingleExcitation(0.0, wires=[1, 3])]"
      ]
     },
     "execution_count": 32,
     "metadata": {},
     "output_type": "execute_result"
    }
   ],
   "source": [
    "operator_pool = doubles_excitations + singles_excitations\n",
    "operator_pool"
   ]
  },
  {
   "cell_type": "code",
   "execution_count": 33,
   "metadata": {},
   "outputs": [
    {
     "data": {
      "text/plain": [
       "tensor([1, 1, 0, 0], requires_grad=True)"
      ]
     },
     "execution_count": 33,
     "metadata": {},
     "output_type": "execute_result"
    }
   ],
   "source": [
    "hf_state = qchem.hf_state(active_electrons, qubits)\n",
    "hf_state"
   ]
  }
 ],
 "metadata": {
  "kernelspec": {
   "display_name": "quantum-dev",
   "language": "python",
   "name": "python3"
  },
  "language_info": {
   "codemirror_mode": {
    "name": "ipython",
    "version": 3
   },
   "file_extension": ".py",
   "mimetype": "text/x-python",
   "name": "python",
   "nbconvert_exporter": "python",
   "pygments_lexer": "ipython3",
   "version": "3.8.18"
  }
 },
 "nbformat": 4,
 "nbformat_minor": 2
}
