{
 "cells": [
  {
   "cell_type": "code",
   "execution_count": 1,
   "metadata": {},
   "outputs": [],
   "source": [
    "import pennylane as qml\n",
    "import numpy as np"
   ]
  },
  {
   "cell_type": "code",
   "execution_count": 2,
   "metadata": {},
   "outputs": [],
   "source": [
    "def excitations(electrons, orbitals, delta_sz=0):\n",
    "    if not electrons > 0:\n",
    "        raise ValueError(\n",
    "            f\"The number of active electrons has to be greater than 0 \\n\"\n",
    "            f\"Got n_electrons = {electrons}\"\n",
    "        )\n",
    "\n",
    "    if orbitals <= electrons:\n",
    "        raise ValueError(\n",
    "            f\"The number of active spin-orbitals ({orbitals}) \"\n",
    "            f\"has to be greater than the number of active electrons ({electrons}).\"\n",
    "        )\n",
    "\n",
    "    if delta_sz not in (0, 1, -1, 2, -2):\n",
    "        raise ValueError(\n",
    "            f\"Expected values for 'delta_sz' are 0, +/- 1 and +/- 2 but got ({delta_sz}).\"\n",
    "        )\n",
    "\n",
    "    # define the spin projection 'sz' of the single-particle states\n",
    "    sz = np.array([0.5 if (i % 2 == 0) else -0.5 for i in range(orbitals)])\n",
    "\n",
    "    singles = [\n",
    "        [r, p]\n",
    "        for r in range(electrons)\n",
    "        for p in range(electrons, orbitals)\n",
    "        if sz[p] - sz[r] == delta_sz\n",
    "    ]\n",
    "    doubles = [\n",
    "        [s, r, q, p]\n",
    "        for s in range(electrons - 1)\n",
    "        for r in range(s + 1, electrons)\n",
    "        for q in range(electrons, orbitals - 1)\n",
    "        for p in range(q + 1, orbitals)\n",
    "        if (sz[p] + sz[q] - sz[r] - sz[s]) == delta_sz\n",
    "    ]\n",
    "\n",
    "    return singles, doubles"
   ]
  }
 ],
 "metadata": {
  "kernelspec": {
   "display_name": "quantum-dev-2",
   "language": "python",
   "name": "python3"
  },
  "language_info": {
   "codemirror_mode": {
    "name": "ipython",
    "version": 3
   },
   "file_extension": ".py",
   "mimetype": "text/x-python",
   "name": "python",
   "nbconvert_exporter": "python",
   "pygments_lexer": "ipython3",
   "version": "3.11.8"
  }
 },
 "nbformat": 4,
 "nbformat_minor": 2
}
