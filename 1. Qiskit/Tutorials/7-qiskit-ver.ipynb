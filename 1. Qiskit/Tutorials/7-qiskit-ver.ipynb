{
 "cells": [
  {
   "cell_type": "code",
   "execution_count": 2,
   "metadata": {},
   "outputs": [
    {
     "name": "stdout",
     "output_type": "stream",
     "text": [
      "Collecting qiskit-machine-learning\n",
      "  Downloading qiskit_machine_learning-0.7.2-py3-none-any.whl.metadata (12 kB)\n",
      "Requirement already satisfied: qiskit>=0.44 in /home/azhar04/anaconda3/envs/quantum-dev-2/lib/python3.11/site-packages (from qiskit-machine-learning) (0.45.0)\n",
      "Collecting qiskit-algorithms>=0.2.0 (from qiskit-machine-learning)\n",
      "  Using cached qiskit_algorithms-0.3.0-py3-none-any.whl.metadata (4.2 kB)\n",
      "Requirement already satisfied: scipy>=1.4 in /home/azhar04/anaconda3/envs/quantum-dev-2/lib/python3.11/site-packages (from qiskit-machine-learning) (1.11.4)\n",
      "Requirement already satisfied: numpy>=1.17 in /home/azhar04/anaconda3/envs/quantum-dev-2/lib/python3.11/site-packages (from qiskit-machine-learning) (1.26.4)\n",
      "Requirement already satisfied: psutil>=5 in /home/azhar04/anaconda3/envs/quantum-dev-2/lib/python3.11/site-packages (from qiskit-machine-learning) (5.9.0)\n",
      "Collecting scikit-learn>=1.2.0 (from qiskit-machine-learning)\n",
      "  Downloading scikit_learn-1.5.0-cp311-cp311-manylinux_2_17_x86_64.manylinux2014_x86_64.whl.metadata (11 kB)\n",
      "Collecting fastdtw (from qiskit-machine-learning)\n",
      "  Downloading fastdtw-0.3.4.tar.gz (133 kB)\n",
      "\u001b[2K     \u001b[90m━━━━━━━━━━━━━━━━━━━━━━━━━━━━━━━━━━━━━━━\u001b[0m \u001b[32m133.4/133.4 kB\u001b[0m \u001b[31m1.9 MB/s\u001b[0m eta \u001b[36m0:00:00\u001b[0ma \u001b[36m0:00:01\u001b[0m\n",
      "\u001b[?25h  Preparing metadata (setup.py) ... \u001b[?25ldone\n",
      "\u001b[?25hRequirement already satisfied: setuptools>=40.1.0 in /home/azhar04/anaconda3/envs/quantum-dev-2/lib/python3.11/site-packages (from qiskit-machine-learning) (68.2.2)\n",
      "Requirement already satisfied: dill>=0.3.4 in /home/azhar04/anaconda3/envs/quantum-dev-2/lib/python3.11/site-packages (from qiskit-machine-learning) (0.3.8)\n",
      "Requirement already satisfied: qiskit-terra==0.45.0 in /home/azhar04/anaconda3/envs/quantum-dev-2/lib/python3.11/site-packages (from qiskit>=0.44->qiskit-machine-learning) (0.45.0)\n",
      "Requirement already satisfied: rustworkx>=0.13.0 in /home/azhar04/anaconda3/envs/quantum-dev-2/lib/python3.11/site-packages (from qiskit-terra==0.45.0->qiskit>=0.44->qiskit-machine-learning) (0.14.1)\n",
      "Requirement already satisfied: ply>=3.10 in /home/azhar04/anaconda3/envs/quantum-dev-2/lib/python3.11/site-packages (from qiskit-terra==0.45.0->qiskit>=0.44->qiskit-machine-learning) (3.11)\n",
      "Requirement already satisfied: sympy>=1.3 in /home/azhar04/anaconda3/envs/quantum-dev-2/lib/python3.11/site-packages (from qiskit-terra==0.45.0->qiskit>=0.44->qiskit-machine-learning) (1.12)\n",
      "Requirement already satisfied: python-dateutil>=2.8.0 in /home/azhar04/anaconda3/envs/quantum-dev-2/lib/python3.11/site-packages (from qiskit-terra==0.45.0->qiskit>=0.44->qiskit-machine-learning) (2.8.2)\n",
      "Requirement already satisfied: stevedore>=3.0.0 in /home/azhar04/anaconda3/envs/quantum-dev-2/lib/python3.11/site-packages (from qiskit-terra==0.45.0->qiskit>=0.44->qiskit-machine-learning) (5.2.0)\n",
      "Requirement already satisfied: symengine<0.10,>=0.9 in /home/azhar04/anaconda3/envs/quantum-dev-2/lib/python3.11/site-packages (from qiskit-terra==0.45.0->qiskit>=0.44->qiskit-machine-learning) (0.9.2)\n",
      "Collecting joblib>=1.2.0 (from scikit-learn>=1.2.0->qiskit-machine-learning)\n",
      "  Downloading joblib-1.4.2-py3-none-any.whl.metadata (5.4 kB)\n",
      "Collecting threadpoolctl>=3.1.0 (from scikit-learn>=1.2.0->qiskit-machine-learning)\n",
      "  Downloading threadpoolctl-3.5.0-py3-none-any.whl.metadata (13 kB)\n",
      "Requirement already satisfied: six>=1.5 in /home/azhar04/anaconda3/envs/quantum-dev-2/lib/python3.11/site-packages (from python-dateutil>=2.8.0->qiskit-terra==0.45.0->qiskit>=0.44->qiskit-machine-learning) (1.16.0)\n",
      "Requirement already satisfied: pbr!=2.1.0,>=2.0.0 in /home/azhar04/anaconda3/envs/quantum-dev-2/lib/python3.11/site-packages (from stevedore>=3.0.0->qiskit-terra==0.45.0->qiskit>=0.44->qiskit-machine-learning) (6.0.0)\n",
      "Requirement already satisfied: mpmath>=0.19 in /home/azhar04/anaconda3/envs/quantum-dev-2/lib/python3.11/site-packages (from sympy>=1.3->qiskit-terra==0.45.0->qiskit>=0.44->qiskit-machine-learning) (1.3.0)\n",
      "Downloading qiskit_machine_learning-0.7.2-py3-none-any.whl (97 kB)\n",
      "\u001b[2K   \u001b[90m━━━━━━━━━━━━━━━━━━━━━━━━━━━━━━━━━━━━━━━━\u001b[0m \u001b[32m97.8/97.8 kB\u001b[0m \u001b[31m7.3 MB/s\u001b[0m eta \u001b[36m0:00:00\u001b[0m\n",
      "\u001b[?25hUsing cached qiskit_algorithms-0.3.0-py3-none-any.whl (308 kB)\n",
      "Downloading scikit_learn-1.5.0-cp311-cp311-manylinux_2_17_x86_64.manylinux2014_x86_64.whl (13.3 MB)\n",
      "\u001b[2K   \u001b[90m━━━━━━━━━━━━━━━━━━━━━━━━━━━━━━━━━━━━━━━━\u001b[0m \u001b[32m13.3/13.3 MB\u001b[0m \u001b[31m6.0 MB/s\u001b[0m eta \u001b[36m0:00:00\u001b[0m00:01\u001b[0m00:01\u001b[0m\n",
      "\u001b[?25hDownloading joblib-1.4.2-py3-none-any.whl (301 kB)\n",
      "\u001b[2K   \u001b[90m━━━━━━━━━━━━━━━━━━━━━━━━━━━━━━━━━━━━━━━━\u001b[0m \u001b[32m301.8/301.8 kB\u001b[0m \u001b[31m6.7 MB/s\u001b[0m eta \u001b[36m0:00:00\u001b[0m:00:01\u001b[0m\n",
      "\u001b[?25hDownloading threadpoolctl-3.5.0-py3-none-any.whl (18 kB)\n",
      "Building wheels for collected packages: fastdtw\n",
      "  Building wheel for fastdtw (setup.py) ... \u001b[?25ldone\n",
      "\u001b[?25h  Created wheel for fastdtw: filename=fastdtw-0.3.4-py3-none-any.whl size=3565 sha256=2639831dddd0ec7a5bdbb65f88d7aaa66f6677f2c7fccf0ec242f2a9d0d6811d\n",
      "  Stored in directory: /home/azhar04/.cache/pip/wheels/5c/8a/f6/fd3df9a9714677410a5ccbf3ca519e66db4a54a1c46ea95332\n",
      "Successfully built fastdtw\n",
      "Installing collected packages: threadpoolctl, joblib, fastdtw, scikit-learn, qiskit-algorithms, qiskit-machine-learning\n",
      "Successfully installed fastdtw-0.3.4 joblib-1.4.2 qiskit-algorithms-0.3.0 qiskit-machine-learning-0.7.2 scikit-learn-1.5.0 threadpoolctl-3.5.0\n"
     ]
    }
   ],
   "source": [
    "!pip install qiskit-machine-learning"
   ]
  },
  {
   "cell_type": "code",
   "execution_count": 3,
   "metadata": {},
   "outputs": [
    {
     "data": {
      "text/plain": [
       "'0.45.0'"
      ]
     },
     "execution_count": 3,
     "metadata": {},
     "output_type": "execute_result"
    }
   ],
   "source": [
    "import qiskit\n",
    "\n",
    "qiskit.version.get_version_info()"
   ]
  },
  {
   "cell_type": "code",
   "execution_count": 4,
   "metadata": {},
   "outputs": [
    {
     "data": {
      "text/plain": [
       "'0.20.0'"
      ]
     },
     "execution_count": 4,
     "metadata": {},
     "output_type": "execute_result"
    }
   ],
   "source": [
    "import qiskit_ibm_runtime\n",
    "\n",
    "qiskit_ibm_runtime.version.get_version_info()"
   ]
  }
 ],
 "metadata": {
  "kernelspec": {
   "display_name": "quantum-dev-2",
   "language": "python",
   "name": "python3"
  },
  "language_info": {
   "codemirror_mode": {
    "name": "ipython",
    "version": 3
   },
   "file_extension": ".py",
   "mimetype": "text/x-python",
   "name": "python",
   "nbconvert_exporter": "python",
   "pygments_lexer": "ipython3",
   "version": "3.11.8"
  }
 },
 "nbformat": 4,
 "nbformat_minor": 2
}
