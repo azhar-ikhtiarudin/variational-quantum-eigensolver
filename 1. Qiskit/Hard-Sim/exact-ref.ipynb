{
 "cells": [
  {
   "cell_type": "code",
   "execution_count": 6,
   "metadata": {},
   "outputs": [],
   "source": [
    "from qiskit_algorithms import NumPyMinimumEigensolver\n",
    "from qiskit.quantum_info import Statevector, Operator, SparsePauliOp"
   ]
  },
  {
   "cell_type": "code",
   "execution_count": 12,
   "metadata": {},
   "outputs": [
    {
     "name": "stdout",
     "output_type": "stream",
     "text": [
      "Reference value: -1.13709\n"
     ]
    }
   ],
   "source": [
    "hamiltonian = SparsePauliOp.from_list(\n",
    "                [(\"IIII\", -0.0996), \n",
    "                (\"IIIZ\", 0.1711), \n",
    "                (\"IIZI\", 0.1711), \n",
    "                (\"IZII\", -0.2225), \n",
    "                (\"ZIII\", -0.2225), \n",
    "                (\"IIZZ\", 0.1686), \n",
    "                (\"IZIZ\", 0.1205), \n",
    "                (\"ZIIZ\", 0.1658), \n",
    "                (\"IZZI\", 0.1658), \n",
    "                (\"ZIZI\", 0.1205), \n",
    "                (\"ZZII\", 0.1743), \n",
    "                (\"XYYX\", 0.0453), \n",
    "                (\"YXXY\", 0.0453), \n",
    "                (\"YYXX\", -0.0453), \n",
    "                (\"XXYY\", -0.0453)]\n",
    "            )\n",
    "\n",
    "numpy_solver = NumPyMinimumEigensolver()\n",
    "result = numpy_solver.compute_minimum_eigenvalue(operator=hamiltonian)\n",
    "ref_value = result.eigenvalue.real\n",
    "print(f\"Reference value: {ref_value:.5f}\")"
   ]
  },
  {
   "cell_type": "code",
   "execution_count": 11,
   "metadata": {},
   "outputs": [
    {
     "name": "stdout",
     "output_type": "stream",
     "text": [
      "Reference value: -1.86572\n"
     ]
    }
   ],
   "source": [
    "hamiltonian = SparsePauliOp.from_list(\n",
    "    [(\"IIII\", -0.81054), \n",
    "     (\"IZIZ\", 0.16614), \n",
    "     (\"ZIZI\", 0.16892), \n",
    "     (\"ZIII\", 0.17218), \n",
    "     (\"IIZI\", 0.17218), \n",
    "     (\"IZII\", -0.22573), \n",
    "     (\"IIIZ\", -0.22573), \n",
    "     (\"ZZII\", 0.12091), \n",
    "     (\"IIZZ\", 0.12091), \n",
    "     (\"ZIIZ\", 0.166145), \n",
    "     (\"IZZI\", 0.166145), \n",
    "     (\"YYYY\", 0.04523), \n",
    "     (\"XXYY\", 0.04523), \n",
    "     (\"YYXX\", 0.04523), \n",
    "     (\"XXXX\", 0.04523)]\n",
    ")\n",
    "\n",
    "numpy_solver = NumPyMinimumEigensolver()\n",
    "result = numpy_solver.compute_minimum_eigenvalue(operator=hamiltonian)\n",
    "ref_value = result.eigenvalue.real\n",
    "print(f\"Reference value: {ref_value:.5f}\")"
   ]
  },
  {
   "cell_type": "code",
   "execution_count": 13,
   "metadata": {},
   "outputs": [
    {
     "ename": "ModuleNotFoundError",
     "evalue": "No module named 'qiskit.algorithms'",
     "output_type": "error",
     "traceback": [
      "\u001b[0;31m---------------------------------------------------------------------------\u001b[0m",
      "\u001b[0;31mModuleNotFoundError\u001b[0m                       Traceback (most recent call last)",
      "Cell \u001b[0;32mIn[13], line 1\u001b[0m\n\u001b[0;32m----> 1\u001b[0m \u001b[38;5;28;01mfrom\u001b[39;00m \u001b[38;5;21;01mqiskit\u001b[39;00m\u001b[38;5;21;01m.\u001b[39;00m\u001b[38;5;21;01malgorithms\u001b[39;00m\u001b[38;5;21;01m.\u001b[39;00m\u001b[38;5;21;01mminimum_eigensolvers\u001b[39;00m \u001b[38;5;28;01mimport\u001b[39;00m VQE  \u001b[38;5;66;03m# new import!!!\u001b[39;00m\n\u001b[1;32m      2\u001b[0m \u001b[38;5;28;01mfrom\u001b[39;00m \u001b[38;5;21;01mqiskit\u001b[39;00m\u001b[38;5;21;01m.\u001b[39;00m\u001b[38;5;21;01malgorithms\u001b[39;00m\u001b[38;5;21;01m.\u001b[39;00m\u001b[38;5;21;01moptimizers\u001b[39;00m \u001b[38;5;28;01mimport\u001b[39;00m SPSA\n\u001b[1;32m      3\u001b[0m \u001b[38;5;28;01mfrom\u001b[39;00m \u001b[38;5;21;01mqiskit\u001b[39;00m\u001b[38;5;21;01m.\u001b[39;00m\u001b[38;5;21;01mcircuit\u001b[39;00m\u001b[38;5;21;01m.\u001b[39;00m\u001b[38;5;21;01mlibrary\u001b[39;00m \u001b[38;5;28;01mimport\u001b[39;00m TwoLocal\n",
      "\u001b[0;31mModuleNotFoundError\u001b[0m: No module named 'qiskit.algorithms'"
     ]
    }
   ],
   "source": [
    "from qiskit.algorithms.minimum_eigensolvers import VQE  # new import!!!\n",
    "from qiskit.algorithms.optimizers import SPSA\n",
    "from qiskit.circuit.library import TwoLocal\n",
    "from qiskit.quantum_info import SparsePauliOp\n",
    "from qiskit.primitives import Estimator\n",
    "from qiskit_aer.primitives import Estimator as AerEstimator\n",
    " \n",
    "ansatz = TwoLocal(2, 'ry', 'cz')\n",
    "opt = SPSA(maxiter=50)\n",
    " \n",
    "# shot-based simulation\n",
    "estimator = Estimator(options={\"shots\": 2048})\n",
    "vqe = VQE(estimator, ansatz, opt)\n",
    " \n",
    "# another option\n",
    "aer_estimator = AerEstimator(run_options={\"shots\": 2048, \"seed\": 42})\n",
    "vqe = VQE(aer_estimator, ansatz, opt)\n",
    " \n",
    "hamiltonian = SparsePauliOp.from_list([(\"XX\", 1), (\"XY\", 1)])\n",
    "result = vqe.compute_minimum_eigenvalue(hamiltonian)\n",
    " \n",
    "print(result.eigenvalue)"
   ]
  }
 ],
 "metadata": {
  "kernelspec": {
   "display_name": "qiskit-1-2",
   "language": "python",
   "name": "python3"
  },
  "language_info": {
   "codemirror_mode": {
    "name": "ipython",
    "version": 3
   },
   "file_extension": ".py",
   "mimetype": "text/x-python",
   "name": "python",
   "nbconvert_exporter": "python",
   "pygments_lexer": "ipython3",
   "version": "3.12.3"
  }
 },
 "nbformat": 4,
 "nbformat_minor": 2
}
