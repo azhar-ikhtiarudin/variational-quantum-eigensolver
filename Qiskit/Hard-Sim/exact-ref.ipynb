{
 "cells": [
  {
   "cell_type": "code",
   "execution_count": 3,
   "metadata": {},
   "outputs": [
    {
     "name": "stdout",
     "output_type": "stream",
     "text": [
      "Collecting qiskit-algorithms\n",
      "  Using cached qiskit_algorithms-0.3.0-py3-none-any.whl.metadata (4.2 kB)\n",
      "Requirement already satisfied: qiskit>=0.44 in /home/azhar04/anaconda3/envs/qiskit-1-2/lib/python3.12/site-packages (from qiskit-algorithms) (1.0.2)\n",
      "Requirement already satisfied: scipy>=1.4 in /home/azhar04/anaconda3/envs/qiskit-1-2/lib/python3.12/site-packages (from qiskit-algorithms) (1.13.1)\n",
      "Requirement already satisfied: numpy>=1.17 in /home/azhar04/anaconda3/envs/qiskit-1-2/lib/python3.12/site-packages (from qiskit-algorithms) (1.26.4)\n",
      "Requirement already satisfied: rustworkx>=0.14.0 in /home/azhar04/anaconda3/envs/qiskit-1-2/lib/python3.12/site-packages (from qiskit>=0.44->qiskit-algorithms) (0.14.2)\n",
      "Requirement already satisfied: sympy>=1.3 in /home/azhar04/anaconda3/envs/qiskit-1-2/lib/python3.12/site-packages (from qiskit>=0.44->qiskit-algorithms) (1.12.1)\n",
      "Requirement already satisfied: dill>=0.3 in /home/azhar04/anaconda3/envs/qiskit-1-2/lib/python3.12/site-packages (from qiskit>=0.44->qiskit-algorithms) (0.3.8)\n",
      "Requirement already satisfied: python-dateutil>=2.8.0 in /home/azhar04/anaconda3/envs/qiskit-1-2/lib/python3.12/site-packages (from qiskit>=0.44->qiskit-algorithms) (2.9.0)\n",
      "Requirement already satisfied: stevedore>=3.0.0 in /home/azhar04/anaconda3/envs/qiskit-1-2/lib/python3.12/site-packages (from qiskit>=0.44->qiskit-algorithms) (5.2.0)\n",
      "Requirement already satisfied: typing-extensions in /home/azhar04/anaconda3/envs/qiskit-1-2/lib/python3.12/site-packages (from qiskit>=0.44->qiskit-algorithms) (4.12.1)\n",
      "Requirement already satisfied: symengine>=0.11 in /home/azhar04/anaconda3/envs/qiskit-1-2/lib/python3.12/site-packages (from qiskit>=0.44->qiskit-algorithms) (0.11.0)\n",
      "Requirement already satisfied: six>=1.5 in /home/azhar04/anaconda3/envs/qiskit-1-2/lib/python3.12/site-packages (from python-dateutil>=2.8.0->qiskit>=0.44->qiskit-algorithms) (1.16.0)\n",
      "Requirement already satisfied: pbr!=2.1.0,>=2.0.0 in /home/azhar04/anaconda3/envs/qiskit-1-2/lib/python3.12/site-packages (from stevedore>=3.0.0->qiskit>=0.44->qiskit-algorithms) (6.0.0)\n",
      "Requirement already satisfied: mpmath<1.4.0,>=1.1.0 in /home/azhar04/anaconda3/envs/qiskit-1-2/lib/python3.12/site-packages (from sympy>=1.3->qiskit>=0.44->qiskit-algorithms) (1.3.0)\n",
      "Using cached qiskit_algorithms-0.3.0-py3-none-any.whl (308 kB)\n",
      "Installing collected packages: qiskit-algorithms\n",
      "Successfully installed qiskit-algorithms-0.3.0\n"
     ]
    }
   ],
   "source": [
    "!pip install qiskit-algorithms"
   ]
  },
  {
   "cell_type": "code",
   "execution_count": 5,
   "metadata": {},
   "outputs": [
    {
     "name": "stdout",
     "output_type": "stream",
     "text": [
      "Reference value: -1.13709\n"
     ]
    }
   ],
   "source": [
    "from qiskit_algorithms import NumPyMinimumEigensolver\n",
    "from qiskit.quantum_info import Statevector, Operator, SparsePauliOp\n",
    "\n",
    "hamiltonian = SparsePauliOp.from_list(\n",
    "                [(\"IIII\", -0.0996), \n",
    "                (\"IIIZ\", 0.1711), \n",
    "                (\"IIZI\", 0.1711), \n",
    "                (\"IZII\", -0.2225), \n",
    "                (\"ZIII\", -0.2225), \n",
    "                (\"IIZZ\", 0.1686), \n",
    "                (\"IZIZ\", 0.1205), \n",
    "                (\"ZIIZ\", 0.1658), \n",
    "                (\"IZZI\", 0.1658), \n",
    "                (\"ZIZI\", 0.1205), \n",
    "                (\"ZZII\", 0.1743), \n",
    "                (\"XYYX\", 0.0453), \n",
    "                (\"YXXY\", 0.0453), \n",
    "                (\"YYXX\", -0.0453), \n",
    "                (\"XXYY\", -0.0453)]\n",
    "            )\n",
    "\n",
    "numpy_solver = NumPyMinimumEigensolver()\n",
    "result = numpy_solver.compute_minimum_eigenvalue(operator=hamiltonian)\n",
    "ref_value = result.eigenvalue.real\n",
    "print(f\"Reference value: {ref_value:.5f}\")"
   ]
  }
 ],
 "metadata": {
  "kernelspec": {
   "display_name": "qiskit-1-2",
   "language": "python",
   "name": "python3"
  },
  "language_info": {
   "codemirror_mode": {
    "name": "ipython",
    "version": 3
   },
   "file_extension": ".py",
   "mimetype": "text/x-python",
   "name": "python",
   "nbconvert_exporter": "python",
   "pygments_lexer": "ipython3",
   "version": "3.12.3"
  }
 },
 "nbformat": 4,
 "nbformat_minor": 2
}
