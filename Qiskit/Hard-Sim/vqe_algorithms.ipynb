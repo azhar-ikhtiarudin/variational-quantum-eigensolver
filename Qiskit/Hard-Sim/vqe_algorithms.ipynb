{
 "cells": [
  {
   "cell_type": "code",
   "execution_count": 3,
   "metadata": {},
   "outputs": [
    {
     "name": "stdout",
     "output_type": "stream",
     "text": [
      "-1.0078125\n"
     ]
    }
   ],
   "source": [
    "from qiskit_algorithms.minimum_eigensolvers import VQE  # new import!!!\n",
    "from qiskit_algorithms.optimizers import SPSA\n",
    "from qiskit.circuit.library import TwoLocal\n",
    "from qiskit.quantum_info import SparsePauliOp\n",
    "from qiskit.primitives import Estimator\n",
    "from qiskit_aer.primitives import Estimator as AerEstimator\n",
    " \n",
    "ansatz = TwoLocal(2, 'ry', 'cz')\n",
    "opt = SPSA(maxiter=50)\n",
    " \n",
    "# shot-based simulation\n",
    "estimator = Estimator(options={\"shots\": 2048})\n",
    "vqe = VQE(estimator, ansatz, opt)\n",
    " \n",
    "# another option\n",
    "aer_estimator = AerEstimator(run_options={\"shots\": 2048, \"seed\": 42})\n",
    "vqe = VQE(aer_estimator, ansatz, opt)\n",
    " \n",
    "hamiltonian = SparsePauliOp.from_list([(\"XX\", 1), (\"XY\", 1)])\n",
    "result = vqe.compute_minimum_eigenvalue(hamiltonian)\n",
    " \n",
    "print(result.eigenvalue)"
   ]
  },
  {
   "cell_type": "code",
   "execution_count": 6,
   "metadata": {},
   "outputs": [
    {
     "ename": "AlgorithmError",
     "evalue": "'The primitive job to evaluate the energy failed!'",
     "output_type": "error",
     "traceback": [
      "\u001b[0;31m---------------------------------------------------------------------------\u001b[0m",
      "\u001b[0;31mTypeError\u001b[0m                                 Traceback (most recent call last)",
      "File \u001b[0;32m~/anaconda3/envs/qiskit-1-2/lib/python3.12/site-packages/qiskit_algorithms/minimum_eigensolvers/vqe.py:265\u001b[0m, in \u001b[0;36mVQE._get_evaluate_energy.<locals>.evaluate_energy\u001b[0;34m(parameters)\u001b[0m\n\u001b[1;32m    264\u001b[0m \u001b[38;5;28;01mtry\u001b[39;00m:\n\u001b[0;32m--> 265\u001b[0m     job \u001b[38;5;241m=\u001b[39m \u001b[38;5;28;43mself\u001b[39;49m\u001b[38;5;241;43m.\u001b[39;49m\u001b[43mestimator\u001b[49m\u001b[38;5;241;43m.\u001b[39;49m\u001b[43mrun\u001b[49m\u001b[43m(\u001b[49m\u001b[43mbatch_size\u001b[49m\u001b[43m \u001b[49m\u001b[38;5;241;43m*\u001b[39;49m\u001b[43m \u001b[49m\u001b[43m[\u001b[49m\u001b[43mansatz\u001b[49m\u001b[43m]\u001b[49m\u001b[43m,\u001b[49m\u001b[43m \u001b[49m\u001b[43mbatch_size\u001b[49m\u001b[43m \u001b[49m\u001b[38;5;241;43m*\u001b[39;49m\u001b[43m \u001b[49m\u001b[43m[\u001b[49m\u001b[43moperator\u001b[49m\u001b[43m]\u001b[49m\u001b[43m,\u001b[49m\u001b[43m \u001b[49m\u001b[43mparameters\u001b[49m\u001b[43m)\u001b[49m\n\u001b[1;32m    266\u001b[0m     estimator_result \u001b[38;5;241m=\u001b[39m job\u001b[38;5;241m.\u001b[39mresult()\n",
      "\u001b[0;31mTypeError\u001b[0m: FakeBackendV2.run() takes 2 positional arguments but 4 were given",
      "\nThe above exception was the direct cause of the following exception:\n",
      "\u001b[0;31mAlgorithmError\u001b[0m                            Traceback (most recent call last)",
      "Cell \u001b[0;32mIn[6], line 22\u001b[0m\n\u001b[1;32m     17\u001b[0m \u001b[38;5;66;03m# another option\u001b[39;00m\n\u001b[1;32m     18\u001b[0m \u001b[38;5;66;03m# aer_estimator = AerEstimator(run_options={\"shots\": 2048, \"seed\": 42})\u001b[39;00m\n\u001b[1;32m     19\u001b[0m \u001b[38;5;66;03m# vqe = VQE(FakeOsaka, ansatz, opt)\u001b[39;00m\n\u001b[1;32m     21\u001b[0m hamiltonian \u001b[38;5;241m=\u001b[39m SparsePauliOp\u001b[38;5;241m.\u001b[39mfrom_list([(\u001b[38;5;124m\"\u001b[39m\u001b[38;5;124mXX\u001b[39m\u001b[38;5;124m\"\u001b[39m, \u001b[38;5;241m1\u001b[39m), (\u001b[38;5;124m\"\u001b[39m\u001b[38;5;124mXY\u001b[39m\u001b[38;5;124m\"\u001b[39m, \u001b[38;5;241m1\u001b[39m)])\n\u001b[0;32m---> 22\u001b[0m result \u001b[38;5;241m=\u001b[39m \u001b[43mvqe\u001b[49m\u001b[38;5;241;43m.\u001b[39;49m\u001b[43mcompute_minimum_eigenvalue\u001b[49m\u001b[43m(\u001b[49m\u001b[43mhamiltonian\u001b[49m\u001b[43m)\u001b[49m\n\u001b[1;32m     24\u001b[0m \u001b[38;5;28mprint\u001b[39m(result\u001b[38;5;241m.\u001b[39meigenvalue)\n",
      "File \u001b[0;32m~/anaconda3/envs/qiskit-1-2/lib/python3.12/site-packages/qiskit_algorithms/minimum_eigensolvers/vqe.py:194\u001b[0m, in \u001b[0;36mVQE.compute_minimum_eigenvalue\u001b[0;34m(self, operator, aux_operators)\u001b[0m\n\u001b[1;32m    189\u001b[0m \u001b[38;5;28;01melse\u001b[39;00m:\n\u001b[1;32m    190\u001b[0m     \u001b[38;5;66;03m# we always want to submit as many estimations per job as possible for minimal\u001b[39;00m\n\u001b[1;32m    191\u001b[0m     \u001b[38;5;66;03m# overhead on the hardware\u001b[39;00m\n\u001b[1;32m    192\u001b[0m     was_updated \u001b[38;5;241m=\u001b[39m _set_default_batchsize(\u001b[38;5;28mself\u001b[39m\u001b[38;5;241m.\u001b[39moptimizer)\n\u001b[0;32m--> 194\u001b[0m     optimizer_result \u001b[38;5;241m=\u001b[39m \u001b[38;5;28;43mself\u001b[39;49m\u001b[38;5;241;43m.\u001b[39;49m\u001b[43moptimizer\u001b[49m\u001b[38;5;241;43m.\u001b[39;49m\u001b[43mminimize\u001b[49m\u001b[43m(\u001b[49m\n\u001b[1;32m    195\u001b[0m \u001b[43m        \u001b[49m\u001b[43mfun\u001b[49m\u001b[38;5;241;43m=\u001b[39;49m\u001b[43mevaluate_energy\u001b[49m\u001b[43m,\u001b[49m\u001b[43m  \u001b[49m\u001b[38;5;66;43;03m# type: ignore[arg-type]\u001b[39;49;00m\n\u001b[1;32m    196\u001b[0m \u001b[43m        \u001b[49m\u001b[43mx0\u001b[49m\u001b[38;5;241;43m=\u001b[39;49m\u001b[43minitial_point\u001b[49m\u001b[43m,\u001b[49m\n\u001b[1;32m    197\u001b[0m \u001b[43m        \u001b[49m\u001b[43mjac\u001b[49m\u001b[38;5;241;43m=\u001b[39;49m\u001b[43mevaluate_gradient\u001b[49m\u001b[43m,\u001b[49m\u001b[43m  \u001b[49m\u001b[38;5;66;43;03m# type: ignore[arg-type]\u001b[39;49;00m\n\u001b[1;32m    198\u001b[0m \u001b[43m        \u001b[49m\u001b[43mbounds\u001b[49m\u001b[38;5;241;43m=\u001b[39;49m\u001b[43mbounds\u001b[49m\u001b[43m,\u001b[49m\n\u001b[1;32m    199\u001b[0m \u001b[43m    \u001b[49m\u001b[43m)\u001b[49m\n\u001b[1;32m    201\u001b[0m     \u001b[38;5;66;03m# reset to original value\u001b[39;00m\n\u001b[1;32m    202\u001b[0m     \u001b[38;5;28;01mif\u001b[39;00m was_updated:\n",
      "File \u001b[0;32m~/anaconda3/envs/qiskit-1-2/lib/python3.12/site-packages/qiskit_algorithms/optimizers/spsa.py:515\u001b[0m, in \u001b[0;36mSPSA.minimize\u001b[0;34m(self, fun, x0, jac, bounds)\u001b[0m\n\u001b[1;32m    513\u001b[0m x0 \u001b[38;5;241m=\u001b[39m np\u001b[38;5;241m.\u001b[39masarray(x0)\n\u001b[1;32m    514\u001b[0m \u001b[38;5;28;01mif\u001b[39;00m \u001b[38;5;28mself\u001b[39m\u001b[38;5;241m.\u001b[39mlearning_rate \u001b[38;5;129;01mis\u001b[39;00m \u001b[38;5;28;01mNone\u001b[39;00m \u001b[38;5;129;01mand\u001b[39;00m \u001b[38;5;28mself\u001b[39m\u001b[38;5;241m.\u001b[39mperturbation \u001b[38;5;129;01mis\u001b[39;00m \u001b[38;5;28;01mNone\u001b[39;00m:\n\u001b[0;32m--> 515\u001b[0m     get_eta, get_eps \u001b[38;5;241m=\u001b[39m \u001b[38;5;28;43mself\u001b[39;49m\u001b[38;5;241;43m.\u001b[39;49m\u001b[43mcalibrate\u001b[49m\u001b[43m(\u001b[49m\u001b[43mfun\u001b[49m\u001b[43m,\u001b[49m\u001b[43m \u001b[49m\u001b[43mx0\u001b[49m\u001b[43m,\u001b[49m\u001b[43m \u001b[49m\u001b[43mmax_evals_grouped\u001b[49m\u001b[38;5;241;43m=\u001b[39;49m\u001b[38;5;28;43mself\u001b[39;49m\u001b[38;5;241;43m.\u001b[39;49m\u001b[43m_max_evals_grouped\u001b[49m\u001b[43m)\u001b[49m\n\u001b[1;32m    516\u001b[0m \u001b[38;5;28;01melse\u001b[39;00m:\n\u001b[1;32m    517\u001b[0m     get_eta, get_eps \u001b[38;5;241m=\u001b[39m _validate_pert_and_learningrate(\n\u001b[1;32m    518\u001b[0m         \u001b[38;5;28mself\u001b[39m\u001b[38;5;241m.\u001b[39mperturbation, \u001b[38;5;28mself\u001b[39m\u001b[38;5;241m.\u001b[39mlearning_rate\n\u001b[1;32m    519\u001b[0m     )\n",
      "File \u001b[0;32m~/anaconda3/envs/qiskit-1-2/lib/python3.12/site-packages/qiskit_algorithms/optimizers/spsa.py:335\u001b[0m, in \u001b[0;36mSPSA.calibrate\u001b[0;34m(loss, initial_point, c, stability_constant, target_magnitude, alpha, gamma, modelspace, max_evals_grouped)\u001b[0m\n\u001b[1;32m    332\u001b[0m     pert \u001b[38;5;241m=\u001b[39m bernoulli_perturbation(dim)\n\u001b[1;32m    333\u001b[0m     points \u001b[38;5;241m+\u001b[39m\u001b[38;5;241m=\u001b[39m [initial_point \u001b[38;5;241m+\u001b[39m c \u001b[38;5;241m*\u001b[39m pert, initial_point \u001b[38;5;241m-\u001b[39m c \u001b[38;5;241m*\u001b[39m pert]\n\u001b[0;32m--> 335\u001b[0m losses \u001b[38;5;241m=\u001b[39m \u001b[43m_batch_evaluate\u001b[49m\u001b[43m(\u001b[49m\u001b[43mloss\u001b[49m\u001b[43m,\u001b[49m\u001b[43m \u001b[49m\u001b[43mpoints\u001b[49m\u001b[43m,\u001b[49m\u001b[43m \u001b[49m\u001b[43mmax_evals_grouped\u001b[49m\u001b[43m)\u001b[49m\n\u001b[1;32m    337\u001b[0m avg_magnitudes \u001b[38;5;241m=\u001b[39m \u001b[38;5;241m0.0\u001b[39m\n\u001b[1;32m    338\u001b[0m \u001b[38;5;28;01mfor\u001b[39;00m i \u001b[38;5;129;01min\u001b[39;00m \u001b[38;5;28mrange\u001b[39m(steps):\n",
      "File \u001b[0;32m~/anaconda3/envs/qiskit-1-2/lib/python3.12/site-packages/qiskit_algorithms/optimizers/spsa.py:713\u001b[0m, in \u001b[0;36m_batch_evaluate\u001b[0;34m(function, points, max_evals_grouped, unpack_points)\u001b[0m\n\u001b[1;32m    711\u001b[0m         results \u001b[38;5;241m+\u001b[39m\u001b[38;5;241m=\u001b[39m _as_list(function(\u001b[38;5;241m*\u001b[39mbatch))\n\u001b[1;32m    712\u001b[0m     \u001b[38;5;28;01melse\u001b[39;00m:\n\u001b[0;32m--> 713\u001b[0m         results \u001b[38;5;241m+\u001b[39m\u001b[38;5;241m=\u001b[39m _as_list(\u001b[43mfunction\u001b[49m\u001b[43m(\u001b[49m\u001b[43mbatch\u001b[49m\u001b[43m)\u001b[49m)\n\u001b[1;32m    715\u001b[0m \u001b[38;5;28;01mreturn\u001b[39;00m results\n",
      "File \u001b[0;32m~/anaconda3/envs/qiskit-1-2/lib/python3.12/site-packages/qiskit_algorithms/minimum_eigensolvers/vqe.py:268\u001b[0m, in \u001b[0;36mVQE._get_evaluate_energy.<locals>.evaluate_energy\u001b[0;34m(parameters)\u001b[0m\n\u001b[1;32m    266\u001b[0m     estimator_result \u001b[38;5;241m=\u001b[39m job\u001b[38;5;241m.\u001b[39mresult()\n\u001b[1;32m    267\u001b[0m \u001b[38;5;28;01mexcept\u001b[39;00m \u001b[38;5;167;01mException\u001b[39;00m \u001b[38;5;28;01mas\u001b[39;00m exc:\n\u001b[0;32m--> 268\u001b[0m     \u001b[38;5;28;01mraise\u001b[39;00m AlgorithmError(\u001b[38;5;124m\"\u001b[39m\u001b[38;5;124mThe primitive job to evaluate the energy failed!\u001b[39m\u001b[38;5;124m\"\u001b[39m) \u001b[38;5;28;01mfrom\u001b[39;00m \u001b[38;5;21;01mexc\u001b[39;00m\n\u001b[1;32m    270\u001b[0m values \u001b[38;5;241m=\u001b[39m estimator_result\u001b[38;5;241m.\u001b[39mvalues\n\u001b[1;32m    272\u001b[0m \u001b[38;5;28;01mif\u001b[39;00m \u001b[38;5;28mself\u001b[39m\u001b[38;5;241m.\u001b[39mcallback \u001b[38;5;129;01mis\u001b[39;00m \u001b[38;5;129;01mnot\u001b[39;00m \u001b[38;5;28;01mNone\u001b[39;00m:\n",
      "\u001b[0;31mAlgorithmError\u001b[0m: 'The primitive job to evaluate the energy failed!'"
     ]
    }
   ],
   "source": [
    "from qiskit_ibm_runtime.fake_provider import FakeOsaka\n",
    "\n",
    "from qiskit_algorithms.minimum_eigensolvers import VQE  # new import!!!\n",
    "from qiskit_algorithms.optimizers import SPSA\n",
    "from qiskit.circuit.library import TwoLocal\n",
    "from qiskit.quantum_info import SparsePauliOp\n",
    "from qiskit.primitives import Estimator\n",
    "from qiskit_aer.primitives import Estimator as AerEstimator\n",
    " \n",
    "ansatz = TwoLocal(2, 'ry', 'cz')\n",
    "opt = SPSA(maxiter=50)\n",
    " \n",
    "# shot-based simulation\n",
    "estimator = Estimator(options={\"shots\": 2048})\n",
    "vqe = VQE(FakeOsaka(), ansatz, opt)\n",
    " \n",
    "# another option\n",
    "# aer_estimator = AerEstimator(run_options={\"shots\": 2048, \"seed\": 42})\n",
    "# vqe = VQE(FakeOsaka, ansatz, opt)\n",
    " \n",
    "hamiltonian = SparsePauliOp.from_list([(\"XX\", 1), (\"XY\", 1)])\n",
    "result = vqe.compute_minimum_eigenvalue(hamiltonian)\n",
    " \n",
    "print(result.eigenvalue)"
   ]
  }
 ],
 "metadata": {
  "kernelspec": {
   "display_name": "qiskit-1-2",
   "language": "python",
   "name": "python3"
  },
  "language_info": {
   "codemirror_mode": {
    "name": "ipython",
    "version": 3
   },
   "file_extension": ".py",
   "mimetype": "text/x-python",
   "name": "python",
   "nbconvert_exporter": "python",
   "pygments_lexer": "ipython3",
   "version": "3.12.3"
  }
 },
 "nbformat": 4,
 "nbformat_minor": 2
}
