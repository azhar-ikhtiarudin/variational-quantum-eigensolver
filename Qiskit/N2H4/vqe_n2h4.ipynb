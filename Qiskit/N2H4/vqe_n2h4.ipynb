{
 "cells": [
  {
   "cell_type": "markdown",
   "metadata": {},
   "source": [
    "#### Import Requirements"
   ]
  },
  {
   "cell_type": "code",
   "execution_count": 4,
   "metadata": {},
   "outputs": [],
   "source": [
    "from qiskit_nature.second_q.drivers import PySCFDriver\n",
    "from qiskit_nature.second_q.formats.molecule_info import MoleculeInfo\n",
    "from qiskit_nature.second_q.transformers import ActiveSpaceTransformer\n",
    "# from qiskit_nature.second_q.mappers import ParityMapper, QubitConverter\n",
    "from qiskit.algorithms.optimizers import SLSQP, SPSA\n",
    "from qiskit.primitives import Estimator\n",
    "# from qiskit_nature.second_q.algorithms import VQEUCCFactory\n",
    "from qiskit_nature.second_q.circuit.library import UCCSD\n",
    "from qiskit_nature.second_q.algorithms import GroundStateEigensolver\n",
    "import time, datetime\n",
    "from qiskit_ibm_runtime import QiskitRuntimeService\n",
    "from qiskit_nature.second_q.transformers import ActiveSpaceTransformer\n",
    "# import openpyxl\n",
    "# from openpyxl import Workbook\n",
    "from qiskit_nature.second_q.mappers import JordanWignerMapper\n",
    "from qiskit_algorithms import VQE\n",
    "from qiskit_algorithms.optimizers import SLSQP\n",
    "from qiskit.primitives import Estimator\n",
    "from qiskit_nature.second_q.circuit.library import HartreeFock, UCCSD\n",
    "import matplotlib.pyplot as plt \n",
    "import numpy as np"
   ]
  },
  {
   "cell_type": "markdown",
   "metadata": {},
   "source": [
    "#### Setup Coordinates"
   ]
  },
  {
   "cell_type": "code",
   "execution_count": 2,
   "metadata": {},
   "outputs": [],
   "source": [
    "coordinates = {}\n",
    "\n",
    "coordinates[0] = [(0.0, 0.0, 0.0),(0.0, 0.0, 1.015264),(0.978541, 0.0, -0.270591),(-0.615359, 1.251464, -0.468292),(-0.885737, 1.801335, 0.341214),(0.779673, 2.334672, -1.406667)]\n",
    "coordinates[1] = [(0.0, 0.0, 0.0),(0.0, 0.0, 1.015264),(0.978541, 0.0, -0.270591),(-0.615359, 1.251464, -0.468292),(-0.885737, 1.801335, 0.341214),(-0.022471, 1.711828, -0.867101)]\n",
    "coordinates[2] = [(0.0, 0.0, 0.0),(0.0, 0.0, 1.015264),(0.978541, 0.0, -0.270591),(-0.615359, 1.251464, -0.468292),(-0.885737, 1.801335, 0.341214),(0.012405, 1.738908, -0.890561)]\n",
    "coordinates[3] = [(0.0, 0.0, 0.0),(0.0, 0.0, 1.015264),(0.978541, 0.0, -0.270591),(-0.615359, 1.251464, -0.468292),(-0.885737, 1.801335, 0.341214),(0.047281, 1.765988, -0.91402)]\n",
    "coordinates[4] = [(0.0, 0.0, 0.0),(0.0, 0.0, 1.015264),(0.978541, 0.0, -0.270591),(-0.615359, 1.251464, -0.468292),(-0.885737, 1.801335, 0.341214),(0.082157, 1.793068, -0.937479)]\n",
    "coordinates[5] = [(0.0, 0.0, 0.0),(0.0, 0.0, 1.015264),(0.978541, 0.0, -0.270591),(-0.615359, 1.251464, -0.468292),(-0.885737, 1.801335, 0.341214),(0.117033, 1.820149, -0.960939)]\n",
    "coordinates[6] = [(0.0, 0.0, 0.0),(0.0, 0.0, 1.015264),(0.978541, 0.0, -0.270591),(-0.615359, 1.251464, -0.468292),(-0.885737, 1.801335, 0.341214),(0.151908, 1.847229, -0.984398)]\n",
    "coordinates[7] = [(0.0, 0.0, 0.0),(0.0, 0.0, 1.015264),(0.978541, 0.0, -0.270591),(-0.615359, 1.251464, -0.468292),(-0.885737, 1.801335, 0.341214),(0.186784, 1.874309, -1.007857)]\n",
    "coordinates[8] = [(0.0, 0.0, 0.0),(0.0, 0.0, 1.015264),(0.978541, 0.0, -0.270591),(-0.615359, 1.251464, -0.468292),(-0.885737, 1.801335, 0.341214),(0.22166, 1.901389, -1.031317)]\n",
    "coordinates[9] = [(0.0, 0.0, 0.0),(0.0, 0.0, 1.015264),(0.978541, 0.0, -0.270591),(-0.615359, 1.251464, -0.468292),(-0.885737, 1.801335, 0.341214),(0.256536, 1.928469, -1.054776)]\n",
    "coordinates[10] = [(0.0, 0.0, 0.0),(0.0, 0.0, 1.015264),(0.978541, 0.0, -0.270591),(-0.615359, 1.251464, -0.468292),(-0.885737, 1.801335, 0.341214),(0.291412, 1.955549, -1.078236)]\n",
    "coordinates[11] = [(0.0, 0.0, 0.0),(0.0, 0.0, 1.015264),(0.978541, 0.0, -0.270591),(-0.615359, 1.251464, -0.468292),(-0.885737, 1.801335, 0.341214),(0.326287, 1.98263, -1.101695)]\n",
    "coordinates[12] = [(0.0, 0.0, 0.0),(0.0, 0.0, 1.015264),(0.978541, 0.0, -0.270591),(-0.615359, 1.251464, -0.468292),(-0.885737, 1.801335, 0.341214),(0.361163, 2.00971, -1.125154)]\n",
    "coordinates[13] = [(0.0, 0.0, 0.0),(0.0, 0.0, 1.015264),(0.978541, 0.0, -0.270591),(-0.615359, 1.251464, -0.468292),(-0.885737, 1.801335, 0.341214),(0.396039, 2.03679, -1.148614)]\n",
    "coordinates[14] = [(0.0, 0.0, 0.0),(0.0, 0.0, 1.015264),(0.978541, 0.0, -0.270591),(-0.615359, 1.251464, -0.468292),(-0.885737, 1.801335, 0.341214),(0.430915, 2.06387, -1.172073)]\n",
    "coordinates[15] = [(0.0, 0.0, 0.0),(0.0, 0.0, 1.015264),(0.978541, 0.0, -0.270591),(-0.615359, 1.251464, -0.468292),(-0.885737, 1.801335, 0.341214),(0.465791, 2.09095, -1.195532)]\n",
    "coordinates[16] = [(0.0, 0.0, 0.0),(0.0, 0.0, 1.015264),(0.978541, 0.0, -0.270591),(-0.615359, 1.251464, -0.468292),(-0.885737, 1.801335, 0.341214),(0.500666, 2.118031, -1.218992)]\n",
    "coordinates[17] = [(0.0, 0.0, 0.0),(0.0, 0.0, 1.015264),(0.978541, 0.0, -0.270591),(-0.615359, 1.251464, -0.468292),(-0.885737, 1.801335, 0.341214),(0.535542, 2.145111, -1.242451)]\n",
    "coordinates[18] = [(0.0, 0.0, 0.0),(0.0, 0.0, 1.015264),(0.978541, 0.0, -0.270591),(-0.615359, 1.251464, -0.468292),(-0.885737, 1.801335, 0.341214),(0.570418, 2.172191, -1.265911)]\n",
    "coordinates[19] = [(0.0, 0.0, 0.0),(0.0, 0.0, 1.015264),(0.978541, 0.0, -0.270591),(-0.615359, 1.251464, -0.468292),(-0.885737, 1.801335, 0.341214),(0.605294, 2.199271, -1.28937)]\n",
    "coordinates[20] = [(0.0, 0.0, 0.0),(0.0, 0.0, 1.015264),(0.978541, 0.0, -0.270591),(-0.615359, 1.251464, -0.468292),(-0.885737, 1.801335, 0.341214),(0.640169, 2.226351, -1.312829)]\n",
    "coordinates[21] = [(0.0, 0.0, 0.0),(0.0, 0.0, 1.015264),(0.978541, 0.0, -0.270591),(-0.615359, 1.251464, -0.468292),(-0.885737, 1.801335, 0.341214),(0.675045, 2.253432, -1.336289)]\n",
    "coordinates[22] = [(0.0, 0.0, 0.0),(0.0, 0.0, 1.015264),(0.978541, 0.0, -0.270591),(-0.615359, 1.251464, -0.468292),(-0.885737, 1.801335, 0.341214),(0.709921, 2.280512, -1.359748)]\n",
    "coordinates[23] = [(0.0, 0.0, 0.0),(0.0, 0.0, 1.015264),(0.978541, 0.0, -0.270591),(-0.615359, 1.251464, -0.468292),(-0.885737, 1.801335, 0.341214),(0.744797, 2.307592, -1.383207)]\n",
    "coordinates[24] = [(0.0, 0.0, 0.0),(0.0, 0.0, 1.015264),(0.978541, 0.0, -0.270591),(-0.615359, 1.251464, -0.468292),(-0.885737, 1.801335, 0.341214),(0.779673, 2.334672, -1.406667)]"
   ]
  },
  {
   "cell_type": "markdown",
   "metadata": {},
   "source": [
    "#### VQE Algorithm"
   ]
  },
  {
   "cell_type": "code",
   "execution_count": 10,
   "metadata": {},
   "outputs": [
    {
     "name": "stdout",
     "output_type": "stream",
     "text": [
      "(9, 9)\n",
      "14\n",
      "(1, 1)\n",
      "2\n",
      "=== GROUND STATE ENERGY ===\n",
      " \n",
      "* Electronic ground state energy (Hartree): -148.108916183516\n",
      "  - computed part:      -1.004533447363\n",
      "  - ActiveSpaceTransformer extracted energy part: -147.104382736154\n",
      "~ Nuclear repulsion energy (Hartree): 38.534821130542\n",
      "> Total ground state energy (Hartree): -109.574095052975\n",
      " \n",
      "=== MEASURED OBSERVABLES ===\n",
      " \n",
      "  0:  # Particles: 2.000 S: 0.000 S^2: 0.000 M: 0.000\n",
      " \n",
      "=== DIPOLE MOMENTS ===\n",
      " \n",
      "~ Nuclear dipole moment (a.u.): [-6.49127727  24.37038998  -6.80079173]\n",
      " \n",
      "  0: \n",
      "  * Electronic dipole moment (a.u.): [-6.951709172907  24.411808516002  -7.914594279901]\n",
      "    - computed part:      [0.209174019363  5.56967378992  -3.060307967513]\n",
      "    - ActiveSpaceTransformer extracted energy part: [-7.16088319227  18.842134726082  -4.854286312388]\n",
      "  > Dipole moment (a.u.): [0.460431902907  -0.041418536002  1.113802549901]  Total: 1.205930824096\n",
      "                 (debye): [1.17030105387  -0.10527540778  2.83100343335]  Total: 3.065170127058\n",
      " \n"
     ]
    }
   ],
   "source": [
    "for i in range(1):\n",
    "    driver = PySCFDriver.from_molecule(\n",
    "        MoleculeInfo([\"N\", \"H\", \"H\", \"N\", \"H\", \"H\"], \n",
    "        coordinates[i],\n",
    "        charge=0,\n",
    "        multiplicity=1),\n",
    "        basis='sto3g'\n",
    "        # basis='631+g**'\n",
    "    )\n",
    "    problem = driver.run()\n",
    "    print(problem.num_particles)\n",
    "    # print(problem.num_parameters)\n",
    "    print(problem.num_spatial_orbitals)\n",
    "\n",
    "    transformer = ActiveSpaceTransformer(num_electrons=2, num_spatial_orbitals=2)\n",
    "    transformed_problem = transformer.transform(problem)\n",
    "    print(transformed_problem.num_particles)\n",
    "    print(transformed_problem.num_spatial_orbitals)\n",
    "\n",
    "    mapper = JordanWignerMapper()\n",
    "\n",
    "    ansatz = UCCSD(\n",
    "    transformed_problem.num_spatial_orbitals,\n",
    "    transformed_problem.num_particles,\n",
    "    mapper,\n",
    "    initial_state=HartreeFock(\n",
    "        transformed_problem.num_spatial_orbitals,\n",
    "        transformed_problem.num_particles,\n",
    "        mapper,\n",
    "        ),\n",
    "    )\n",
    "\n",
    "    counts = []\n",
    "    values = []\n",
    "\n",
    "    def iteration_value(eval_count, parameters, mean, std):\n",
    "        counts.append(eval_count)\n",
    "        values.append(mean)\n",
    "\n",
    "    vqe_solver = VQE(Estimator(), ansatz, SLSQP(), callback=iteration_value)\n",
    "    vqe_solver.initial_point = [0.0] * ansatz.num_parameters\n",
    "\n",
    "    calc = GroundStateEigensolver(mapper, vqe_solver)\n",
    "    res = calc.solve(transformed_problem)\n",
    "    print(res)\n"
   ]
  },
  {
   "cell_type": "code",
   "execution_count": 11,
   "metadata": {},
   "outputs": [
    {
     "data": {
      "image/png": "[encoded data removed]",
      "text/plain": [
       "<Figure size 640x480 with 1 Axes>"
      ]
     },
     "metadata": {},
     "output_type": "display_data"
    }
   ],
   "source": [
    "plt.plot(values)\n",
    "config = [2,2]\n",
    "file_path = f\"data/N2H4_{config[0]}_{config[1]}.txt\"\n",
    "# Open the file in write mode\n",
    "with open(file_path, \"w\") as file:\n",
    "    # Write each element of the array to a new line\n",
    "    for element in values:\n",
    "        file.write(str(element) + \"\\n\")"
   ]
  },
  {
   "cell_type": "code",
   "execution_count": 7,
   "metadata": {},
   "outputs": [
    {
     "name": "stdout",
     "output_type": "stream",
     "text": [
      "(9, 9)\n",
      "14\n",
      "(2, 2)\n",
      "4\n",
      "=== GROUND STATE ENERGY ===\n",
      " \n",
      "* Electronic ground state energy (Hartree): -148.143504703301\n",
      "  - computed part:      -3.746050210938\n",
      "  - ActiveSpaceTransformer extracted energy part: -144.397454492363\n",
      "~ Nuclear repulsion energy (Hartree): 38.534821130542\n",
      "> Total ground state energy (Hartree): -109.608683572759\n",
      " \n",
      "=== MEASURED OBSERVABLES ===\n",
      " \n",
      "  0:  # Particles: 4.000 S: 0.000 S^2: 0.000 M: 0.000\n",
      " \n",
      "=== DIPOLE MOMENTS ===\n",
      " \n",
      "~ Nuclear dipole moment (a.u.): [-6.49127727  24.37038998  -6.80079173]\n",
      " \n",
      "  0: \n",
      "  * Electronic dipole moment (a.u.): [-7.128667982179  24.127387544117  -7.763001377534]\n",
      "    - computed part:      [-1.110471659709  9.090643286662  -4.590323328837]\n",
      "    - ActiveSpaceTransformer extracted energy part: [-6.018196322471  15.036744257454  -3.172678048697]\n",
      "  > Dipole moment (a.u.): [0.637390712179  0.243002435883  0.962209647534]  Total: 1.179476370948\n",
      "                 (debye): [1.620085440391  0.617650525544  2.445692745104]  Total: 2.997929620476\n",
      " \n"
     ]
    }
   ],
   "source": [
    "for i in range(1):\n",
    "    driver = PySCFDriver.from_molecule(\n",
    "        MoleculeInfo([\"N\", \"H\", \"H\", \"N\", \"H\", \"H\"], \n",
    "        coordinates[i],\n",
    "        charge=0,\n",
    "        multiplicity=1),\n",
    "        basis='sto3g'\n",
    "        # basis='631+g**'\n",
    "    )\n",
    "    problem = driver.run()\n",
    "    print(problem.num_particles)\n",
    "    # print(problem.num_parameters)\n",
    "    print(problem.num_spatial_orbitals)\n",
    "\n",
    "    transformer = ActiveSpaceTransformer(num_electrons=4, num_spatial_orbitals=4)\n",
    "    transformed_problem = transformer.transform(problem)\n",
    "    print(transformed_problem.num_particles)\n",
    "    print(transformed_problem.num_spatial_orbitals)\n",
    "\n",
    "    mapper = JordanWignerMapper()\n",
    "\n",
    "    ansatz = UCCSD(\n",
    "    transformed_problem.num_spatial_orbitals,\n",
    "    transformed_problem.num_particles,\n",
    "    mapper,\n",
    "    initial_state=HartreeFock(\n",
    "        transformed_problem.num_spatial_orbitals,\n",
    "        transformed_problem.num_particles,\n",
    "        mapper,\n",
    "        ),\n",
    "    )\n",
    "\n",
    "    counts = []\n",
    "    values = []\n",
    "\n",
    "    def iteration_value(eval_count, parameters, mean, std):\n",
    "        counts.append(eval_count)\n",
    "        values.append(mean)\n",
    "\n",
    "    vqe_solver = VQE(Estimator(), ansatz, SLSQP(), callback=iteration_value)\n",
    "    vqe_solver.initial_point = [0.0] * ansatz.num_parameters\n",
    "\n",
    "    calc = GroundStateEigensolver(mapper, vqe_solver)\n",
    "    res = calc.solve(transformed_problem)\n",
    "    print(res)\n"
   ]
  },
  {
   "cell_type": "code",
   "execution_count": 9,
   "metadata": {},
   "outputs": [
    {
     "data": {
      "image/png": "[encoded data removed]",
      "text/plain": [
       "<Figure size 640x480 with 1 Axes>"
      ]
     },
     "metadata": {},
     "output_type": "display_data"
    }
   ],
   "source": [
    "plt.plot(values)\n",
    "config = [4,4]\n",
    "file_path = f\"data/N2H4_{config[0]}_{config[1]}.txt\"\n",
    "# Open the file in write mode\n",
    "with open(file_path, \"w\") as file:\n",
    "    # Write each element of the array to a new line\n",
    "    for element in values:\n",
    "        file.write(str(element) + \"\\n\")"
   ]
  },
  {
   "cell_type": "code",
   "execution_count": 12,
   "metadata": {},
   "outputs": [
    {
     "name": "stdout",
     "output_type": "stream",
     "text": [
      "(9, 9)\n",
      "14\n",
      "(3, 3)\n",
      "6\n",
      "=== GROUND STATE ENERGY ===\n",
      " \n",
      "* Electronic ground state energy (Hartree): -148.158045259932\n",
      "  - computed part:      -8.201690025866\n",
      "  - ActiveSpaceTransformer extracted energy part: -139.956355234066\n",
      "~ Nuclear repulsion energy (Hartree): 38.534821130542\n",
      "> Total ground state energy (Hartree): -109.623224129391\n",
      " \n",
      "=== MEASURED OBSERVABLES ===\n",
      " \n",
      "  0:  # Particles: 6.000 S: 0.000 S^2: 0.000 M: 0.000\n",
      " \n",
      "=== DIPOLE MOMENTS ===\n",
      " \n",
      "~ Nuclear dipole moment (a.u.): [-6.49127727  24.37038998  -6.80079173]\n",
      " \n",
      "  0: \n",
      "  * Electronic dipole moment (a.u.): [-7.006281990904  24.087022769983  -7.748878827127]\n",
      "    - computed part:      [-2.348072473213  10.84900046792  -5.622283945278]\n",
      "    - ActiveSpaceTransformer extracted energy part: [-4.658209517691  13.238022302063  -2.126594881849]\n",
      "  > Dipole moment (a.u.): [0.515004720904  0.283367210017  0.948087097127]  Total: 1.115524980448\n",
      "                 (debye): [1.309011308334  0.720247538065  2.409796805833]  Total: 2.835381414702\n",
      " \n"
     ]
    }
   ],
   "source": [
    "for i in range(1):\n",
    "    driver = PySCFDriver.from_molecule(\n",
    "        MoleculeInfo([\"N\", \"H\", \"H\", \"N\", \"H\", \"H\"], \n",
    "        coordinates[i],\n",
    "        charge=0,\n",
    "        multiplicity=1),\n",
    "        basis='sto3g'\n",
    "        # basis='631+g**'\n",
    "    )\n",
    "    problem = driver.run()\n",
    "    print(problem.num_particles)\n",
    "    # print(problem.num_parameters)\n",
    "    print(problem.num_spatial_orbitals)\n",
    "\n",
    "    transformer = ActiveSpaceTransformer(num_electrons=6, num_spatial_orbitals=6)\n",
    "    transformed_problem = transformer.transform(problem)\n",
    "    print(transformed_problem.num_particles)\n",
    "    print(transformed_problem.num_spatial_orbitals)\n",
    "\n",
    "    mapper = JordanWignerMapper()\n",
    "\n",
    "    ansatz = UCCSD(\n",
    "    transformed_problem.num_spatial_orbitals,\n",
    "    transformed_problem.num_particles,\n",
    "    mapper,\n",
    "    initial_state=HartreeFock(\n",
    "        transformed_problem.num_spatial_orbitals,\n",
    "        transformed_problem.num_particles,\n",
    "        mapper,\n",
    "        ),\n",
    "    )\n",
    "\n",
    "    counts = []\n",
    "    values = []\n",
    "\n",
    "    def iteration_value(eval_count, parameters, mean, std):\n",
    "        counts.append(eval_count)\n",
    "        values.append(mean)\n",
    "\n",
    "    vqe_solver = VQE(Estimator(), ansatz, SLSQP(), callback=iteration_value)\n",
    "    vqe_solver.initial_point = [0.0] * ansatz.num_parameters\n",
    "\n",
    "    calc = GroundStateEigensolver(mapper, vqe_solver)\n",
    "    res = calc.solve(transformed_problem)\n",
    "    print(res)\n"
   ]
  },
  {
   "cell_type": "code",
   "execution_count": 13,
   "metadata": {},
   "outputs": [
    {
     "data": {
      "image/png": "[encoded data removed]",
      "text/plain": [
       "<Figure size 640x480 with 1 Axes>"
      ]
     },
     "metadata": {},
     "output_type": "display_data"
    }
   ],
   "source": [
    "plt.plot(values)\n",
    "config = [6,6]\n",
    "file_path = f\"data/N2H4_{config[0]}_{config[1]}.txt\"\n",
    "# Open the file in write mode\n",
    "with open(file_path, \"w\") as file:\n",
    "    # Write each element of the array to a new line\n",
    "    for element in values:\n",
    "        file.write(str(element) + \"\\n\")"
   ]
  },
  {
   "cell_type": "code",
   "execution_count": 14,
   "metadata": {},
   "outputs": [
    {
     "name": "stdout",
     "output_type": "stream",
     "text": [
      "(9, 9)\n",
      "14\n",
      "(4, 4)\n",
      "8\n"
     ]
    }
   ],
   "source": [
    "for i in range(1):\n",
    "    driver = PySCFDriver.from_molecule(\n",
    "        MoleculeInfo([\"N\", \"H\", \"H\", \"N\", \"H\", \"H\"], \n",
    "        coordinates[i],\n",
    "        charge=0,\n",
    "        multiplicity=1),\n",
    "        basis='sto3g'\n",
    "        # basis='631+g**'\n",
    "    )\n",
    "    problem = driver.run()\n",
    "    print(problem.num_particles)\n",
    "    # print(problem.num_parameters)\n",
    "    print(problem.num_spatial_orbitals)\n",
    "\n",
    "    transformer = ActiveSpaceTransformer(num_electrons=8, num_spatial_orbitals=8)\n",
    "    transformed_problem = transformer.transform(problem)\n",
    "    print(transformed_problem.num_particles)\n",
    "    print(transformed_problem.num_spatial_orbitals)\n",
    "\n",
    "    mapper = JordanWignerMapper()\n",
    "\n",
    "    ansatz = UCCSD(\n",
    "    transformed_problem.num_spatial_orbitals,\n",
    "    transformed_problem.num_particles,\n",
    "    mapper,\n",
    "    initial_state=HartreeFock(\n",
    "        transformed_problem.num_spatial_orbitals,\n",
    "        transformed_problem.num_particles,\n",
    "        mapper,\n",
    "        ),\n",
    "    )\n",
    "\n",
    "    counts = []\n",
    "    values = []\n",
    "\n",
    "    def iteration_value(eval_count, parameters, mean, std):\n",
    "        counts.append(eval_count)\n",
    "        values.append(mean)\n",
    "\n",
    "    vqe_solver = VQE(Estimator(), ansatz, SLSQP(), callback=iteration_value)\n",
    "    vqe_solver.initial_point = [0.0] * ansatz.num_parameters\n",
    "\n",
    "    calc = GroundStateEigensolver(mapper, vqe_solver)\n",
    "    res = calc.solve(transformed_problem)\n",
    "    print(res)\n"
   ]
  }
 ],
 "metadata": {
  "kernelspec": {
   "display_name": "quantum-dev",
   "language": "python",
   "name": "python3"
  },
  "language_info": {
   "codemirror_mode": {
    "name": "ipython",
    "version": 3
   },
   "file_extension": ".py",
   "mimetype": "text/x-python",
   "name": "python",
   "nbconvert_exporter": "python",
   "pygments_lexer": "ipython3",
   "version": "3.8.18"
  }
 },
 "nbformat": 4,
 "nbformat_minor": 2
}
