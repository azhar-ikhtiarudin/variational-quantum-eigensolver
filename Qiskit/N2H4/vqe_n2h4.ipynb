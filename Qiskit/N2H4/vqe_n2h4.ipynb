{
 "cells": [
  {
   "cell_type": "markdown",
   "metadata": {},
   "source": [
    "#### Import Requirements"
   ]
  },
  {
   "cell_type": "code",
   "execution_count": 1,
   "metadata": {},
   "outputs": [
    {
     "name": "stderr",
     "output_type": "stream",
     "text": [
      "/tmp/ipykernel_862/2479329570.py:5: DeprecationWarning: ``qiskit.algorithms`` has been migrated to an independent package: https://github.com/qiskit-community/qiskit-algorithms. The ``qiskit.algorithms`` import path is deprecated as of qiskit-terra 0.25.0 and will be removed no earlier than 3 months after the release date. Please run ``pip install qiskit_algorithms`` and use ``import qiskit_algorithms`` instead.\n",
      "  from qiskit.algorithms.optimizers import SLSQP, SPSA\n"
     ]
    }
   ],
   "source": [
    "from qiskit_nature.second_q.drivers import PySCFDriver\n",
    "from qiskit_nature.second_q.formats.molecule_info import MoleculeInfo\n",
    "from qiskit_nature.second_q.transformers import ActiveSpaceTransformer\n",
    "# from qiskit_nature.second_q.mappers import ParityMapper, QubitConverter\n",
    "from qiskit.algorithms.optimizers import SLSQP, SPSA\n",
    "from qiskit.primitives import Estimator\n",
    "# from qiskit_nature.second_q.algorithms import VQEUCCFactory\n",
    "from qiskit_nature.second_q.circuit.library import UCCSD\n",
    "from qiskit_nature.second_q.algorithms import GroundStateEigensolver\n",
    "import time, datetime\n",
    "from qiskit_ibm_runtime import QiskitRuntimeService\n",
    "from qiskit_nature.second_q.transformers import ActiveSpaceTransformer\n",
    "# import openpyxl\n",
    "# from openpyxl import Workbook\n",
    "from qiskit_nature.second_q.mappers import JordanWignerMapper\n",
    "from qiskit_algorithms import VQE\n",
    "from qiskit_algorithms.optimizers import SLSQP\n",
    "from qiskit.primitives import Estimator\n",
    "from qiskit_nature.second_q.circuit.library import HartreeFock, UCCSD\n",
    "import matplotlib.pyplot as plt \n",
    "import numpy as np"
   ]
  },
  {
   "cell_type": "markdown",
   "metadata": {},
   "source": [
    "#### Setup Coordinates"
   ]
  },
  {
   "cell_type": "code",
   "execution_count": 2,
   "metadata": {},
   "outputs": [],
   "source": [
    "coordinates = {}\n",
    "\n",
    "coordinates[0] = [(0.0, 0.0, 0.0),(0.0, 0.0, 1.015264),(0.978541, 0.0, -0.270591),(-0.615359, 1.251464, -0.468292),(-0.885737, 1.801335, 0.341214),(0.779673, 2.334672, -1.406667)]\n",
    "coordinates[1] = [(0.0, 0.0, 0.0),(0.0, 0.0, 1.015264),(0.978541, 0.0, -0.270591),(-0.615359, 1.251464, -0.468292),(-0.885737, 1.801335, 0.341214),(-0.022471, 1.711828, -0.867101)]\n",
    "coordinates[2] = [(0.0, 0.0, 0.0),(0.0, 0.0, 1.015264),(0.978541, 0.0, -0.270591),(-0.615359, 1.251464, -0.468292),(-0.885737, 1.801335, 0.341214),(0.012405, 1.738908, -0.890561)]\n",
    "coordinates[3] = [(0.0, 0.0, 0.0),(0.0, 0.0, 1.015264),(0.978541, 0.0, -0.270591),(-0.615359, 1.251464, -0.468292),(-0.885737, 1.801335, 0.341214),(0.047281, 1.765988, -0.91402)]\n",
    "coordinates[4] = [(0.0, 0.0, 0.0),(0.0, 0.0, 1.015264),(0.978541, 0.0, -0.270591),(-0.615359, 1.251464, -0.468292),(-0.885737, 1.801335, 0.341214),(0.082157, 1.793068, -0.937479)]\n",
    "coordinates[5] = [(0.0, 0.0, 0.0),(0.0, 0.0, 1.015264),(0.978541, 0.0, -0.270591),(-0.615359, 1.251464, -0.468292),(-0.885737, 1.801335, 0.341214),(0.117033, 1.820149, -0.960939)]\n",
    "coordinates[6] = [(0.0, 0.0, 0.0),(0.0, 0.0, 1.015264),(0.978541, 0.0, -0.270591),(-0.615359, 1.251464, -0.468292),(-0.885737, 1.801335, 0.341214),(0.151908, 1.847229, -0.984398)]\n",
    "coordinates[7] = [(0.0, 0.0, 0.0),(0.0, 0.0, 1.015264),(0.978541, 0.0, -0.270591),(-0.615359, 1.251464, -0.468292),(-0.885737, 1.801335, 0.341214),(0.186784, 1.874309, -1.007857)]\n",
    "coordinates[8] = [(0.0, 0.0, 0.0),(0.0, 0.0, 1.015264),(0.978541, 0.0, -0.270591),(-0.615359, 1.251464, -0.468292),(-0.885737, 1.801335, 0.341214),(0.22166, 1.901389, -1.031317)]\n",
    "coordinates[9] = [(0.0, 0.0, 0.0),(0.0, 0.0, 1.015264),(0.978541, 0.0, -0.270591),(-0.615359, 1.251464, -0.468292),(-0.885737, 1.801335, 0.341214),(0.256536, 1.928469, -1.054776)]\n",
    "coordinates[10] = [(0.0, 0.0, 0.0),(0.0, 0.0, 1.015264),(0.978541, 0.0, -0.270591),(-0.615359, 1.251464, -0.468292),(-0.885737, 1.801335, 0.341214),(0.291412, 1.955549, -1.078236)]\n",
    "coordinates[11] = [(0.0, 0.0, 0.0),(0.0, 0.0, 1.015264),(0.978541, 0.0, -0.270591),(-0.615359, 1.251464, -0.468292),(-0.885737, 1.801335, 0.341214),(0.326287, 1.98263, -1.101695)]\n",
    "coordinates[12] = [(0.0, 0.0, 0.0),(0.0, 0.0, 1.015264),(0.978541, 0.0, -0.270591),(-0.615359, 1.251464, -0.468292),(-0.885737, 1.801335, 0.341214),(0.361163, 2.00971, -1.125154)]\n",
    "coordinates[13] = [(0.0, 0.0, 0.0),(0.0, 0.0, 1.015264),(0.978541, 0.0, -0.270591),(-0.615359, 1.251464, -0.468292),(-0.885737, 1.801335, 0.341214),(0.396039, 2.03679, -1.148614)]\n",
    "coordinates[14] = [(0.0, 0.0, 0.0),(0.0, 0.0, 1.015264),(0.978541, 0.0, -0.270591),(-0.615359, 1.251464, -0.468292),(-0.885737, 1.801335, 0.341214),(0.430915, 2.06387, -1.172073)]\n",
    "coordinates[15] = [(0.0, 0.0, 0.0),(0.0, 0.0, 1.015264),(0.978541, 0.0, -0.270591),(-0.615359, 1.251464, -0.468292),(-0.885737, 1.801335, 0.341214),(0.465791, 2.09095, -1.195532)]\n",
    "coordinates[16] = [(0.0, 0.0, 0.0),(0.0, 0.0, 1.015264),(0.978541, 0.0, -0.270591),(-0.615359, 1.251464, -0.468292),(-0.885737, 1.801335, 0.341214),(0.500666, 2.118031, -1.218992)]\n",
    "coordinates[17] = [(0.0, 0.0, 0.0),(0.0, 0.0, 1.015264),(0.978541, 0.0, -0.270591),(-0.615359, 1.251464, -0.468292),(-0.885737, 1.801335, 0.341214),(0.535542, 2.145111, -1.242451)]\n",
    "coordinates[18] = [(0.0, 0.0, 0.0),(0.0, 0.0, 1.015264),(0.978541, 0.0, -0.270591),(-0.615359, 1.251464, -0.468292),(-0.885737, 1.801335, 0.341214),(0.570418, 2.172191, -1.265911)]\n",
    "coordinates[19] = [(0.0, 0.0, 0.0),(0.0, 0.0, 1.015264),(0.978541, 0.0, -0.270591),(-0.615359, 1.251464, -0.468292),(-0.885737, 1.801335, 0.341214),(0.605294, 2.199271, -1.28937)]\n",
    "coordinates[20] = [(0.0, 0.0, 0.0),(0.0, 0.0, 1.015264),(0.978541, 0.0, -0.270591),(-0.615359, 1.251464, -0.468292),(-0.885737, 1.801335, 0.341214),(0.640169, 2.226351, -1.312829)]\n",
    "coordinates[21] = [(0.0, 0.0, 0.0),(0.0, 0.0, 1.015264),(0.978541, 0.0, -0.270591),(-0.615359, 1.251464, -0.468292),(-0.885737, 1.801335, 0.341214),(0.675045, 2.253432, -1.336289)]\n",
    "coordinates[22] = [(0.0, 0.0, 0.0),(0.0, 0.0, 1.015264),(0.978541, 0.0, -0.270591),(-0.615359, 1.251464, -0.468292),(-0.885737, 1.801335, 0.341214),(0.709921, 2.280512, -1.359748)]\n",
    "coordinates[23] = [(0.0, 0.0, 0.0),(0.0, 0.0, 1.015264),(0.978541, 0.0, -0.270591),(-0.615359, 1.251464, -0.468292),(-0.885737, 1.801335, 0.341214),(0.744797, 2.307592, -1.383207)]\n",
    "coordinates[24] = [(0.0, 0.0, 0.0),(0.0, 0.0, 1.015264),(0.978541, 0.0, -0.270591),(-0.615359, 1.251464, -0.468292),(-0.885737, 1.801335, 0.341214),(0.779673, 2.334672, -1.406667)]"
   ]
  },
  {
   "cell_type": "markdown",
   "metadata": {},
   "source": [
    "#### VQE Algorithm"
   ]
  },
  {
   "cell_type": "code",
   "execution_count": 10,
   "metadata": {},
   "outputs": [
    {
     "name": "stdout",
     "output_type": "stream",
     "text": [
      "(9, 9)\n",
      "14\n",
      "(1, 1)\n",
      "2\n",
      "=== GROUND STATE ENERGY ===\n",
      " \n",
      "* Electronic ground state energy (Hartree): -148.108916183516\n",
      "  - computed part:      -1.004533447363\n",
      "  - ActiveSpaceTransformer extracted energy part: -147.104382736154\n",
      "~ Nuclear repulsion energy (Hartree): 38.534821130542\n",
      "> Total ground state energy (Hartree): -109.574095052975\n",
      " \n",
      "=== MEASURED OBSERVABLES ===\n",
      " \n",
      "  0:  # Particles: 2.000 S: 0.000 S^2: 0.000 M: 0.000\n",
      " \n",
      "=== DIPOLE MOMENTS ===\n",
      " \n",
      "~ Nuclear dipole moment (a.u.): [-6.49127727  24.37038998  -6.80079173]\n",
      " \n",
      "  0: \n",
      "  * Electronic dipole moment (a.u.): [-6.951709172907  24.411808516002  -7.914594279901]\n",
      "    - computed part:      [0.209174019363  5.56967378992  -3.060307967513]\n",
      "    - ActiveSpaceTransformer extracted energy part: [-7.16088319227  18.842134726082  -4.854286312388]\n",
      "  > Dipole moment (a.u.): [0.460431902907  -0.041418536002  1.113802549901]  Total: 1.205930824096\n",
      "                 (debye): [1.17030105387  -0.10527540778  2.83100343335]  Total: 3.065170127058\n",
      " \n"
     ]
    }
   ],
   "source": [
    "for i in range(1):\n",
    "    driver = PySCFDriver.from_molecule(\n",
    "        MoleculeInfo([\"N\", \"H\", \"H\", \"N\", \"H\", \"H\"], \n",
    "        coordinates[i],\n",
    "        charge=0,\n",
    "        multiplicity=1),\n",
    "        basis='sto3g'\n",
    "        # basis='631+g**'\n",
    "    )\n",
    "    problem = driver.run()\n",
    "    print(problem.num_particles)\n",
    "    # print(problem.num_parameters)\n",
    "    print(problem.num_spatial_orbitals)\n",
    "\n",
    "    transformer = ActiveSpaceTransformer(num_electrons=2, num_spatial_orbitals=2)\n",
    "    transformed_problem = transformer.transform(problem)\n",
    "    print(transformed_problem.num_particles)\n",
    "    print(transformed_problem.num_spatial_orbitals)\n",
    "\n",
    "    mapper = JordanWignerMapper()\n",
    "\n",
    "    ansatz = UCCSD(\n",
    "    transformed_problem.num_spatial_orbitals,\n",
    "    transformed_problem.num_particles,\n",
    "    mapper,\n",
    "    initial_state=HartreeFock(\n",
    "        transformed_problem.num_spatial_orbitals,\n",
    "        transformed_problem.num_particles,\n",
    "        mapper,\n",
    "        ),\n",
    "    )\n",
    "\n",
    "    counts = []\n",
    "    values = []\n",
    "\n",
    "    def iteration_value(eval_count, parameters, mean, std):\n",
    "        counts.append(eval_count)\n",
    "        values.append(mean)\n",
    "\n",
    "    vqe_solver = VQE(Estimator(), ansatz, SLSQP(), callback=iteration_value)\n",
    "    vqe_solver.initial_point = [0.0] * ansatz.num_parameters\n",
    "\n",
    "    calc = GroundStateEigensolver(mapper, vqe_solver)\n",
    "    res = calc.solve(transformed_problem)\n",
    "    print(res)\n"
   ]
  },
  {
   "cell_type": "code",
   "execution_count": 11,
   "metadata": {},
   "outputs": [
    {
     "data": {
      "image/png": "[encoded data removed]",
      "text/plain": [
       "<Figure size 640x480 with 1 Axes>"
      ]
     },
     "metadata": {},
     "output_type": "display_data"
    }
   ],
   "source": [
    "plt.plot(values)\n",
    "config = [2,2]\n",
    "file_path = f\"data/N2H4_{config[0]}_{config[1]}.txt\"\n",
    "# Open the file in write mode\n",
    "with open(file_path, \"w\") as file:\n",
    "    # Write each element of the array to a new line\n",
    "    for element in values:\n",
    "        file.write(str(element) + \"\\n\")"
   ]
  },
  {
   "cell_type": "code",
   "execution_count": 7,
   "metadata": {},
   "outputs": [
    {
     "name": "stdout",
     "output_type": "stream",
     "text": [
      "(9, 9)\n",
      "14\n",
      "(2, 2)\n",
      "4\n",
      "=== GROUND STATE ENERGY ===\n",
      " \n",
      "* Electronic ground state energy (Hartree): -148.143504703301\n",
      "  - computed part:      -3.746050210938\n",
      "  - ActiveSpaceTransformer extracted energy part: -144.397454492363\n",
      "~ Nuclear repulsion energy (Hartree): 38.534821130542\n",
      "> Total ground state energy (Hartree): -109.608683572759\n",
      " \n",
      "=== MEASURED OBSERVABLES ===\n",
      " \n",
      "  0:  # Particles: 4.000 S: 0.000 S^2: 0.000 M: 0.000\n",
      " \n",
      "=== DIPOLE MOMENTS ===\n",
      " \n",
      "~ Nuclear dipole moment (a.u.): [-6.49127727  24.37038998  -6.80079173]\n",
      " \n",
      "  0: \n",
      "  * Electronic dipole moment (a.u.): [-7.128667982179  24.127387544117  -7.763001377534]\n",
      "    - computed part:      [-1.110471659709  9.090643286662  -4.590323328837]\n",
      "    - ActiveSpaceTransformer extracted energy part: [-6.018196322471  15.036744257454  -3.172678048697]\n",
      "  > Dipole moment (a.u.): [0.637390712179  0.243002435883  0.962209647534]  Total: 1.179476370948\n",
      "                 (debye): [1.620085440391  0.617650525544  2.445692745104]  Total: 2.997929620476\n",
      " \n"
     ]
    }
   ],
   "source": [
    "for i in range(1):\n",
    "    driver = PySCFDriver.from_molecule(\n",
    "        MoleculeInfo([\"N\", \"H\", \"H\", \"N\", \"H\", \"H\"], \n",
    "        coordinates[i],\n",
    "        charge=0,\n",
    "        multiplicity=1),\n",
    "        basis='sto3g'\n",
    "        # basis='631+g**'\n",
    "    )\n",
    "    problem = driver.run()\n",
    "    print(problem.num_particles)\n",
    "    # print(problem.num_parameters)\n",
    "    print(problem.num_spatial_orbitals)\n",
    "\n",
    "    transformer = ActiveSpaceTransformer(num_electrons=4, num_spatial_orbitals=4)\n",
    "    transformed_problem = transformer.transform(problem)\n",
    "    print(transformed_problem.num_particles)\n",
    "    print(transformed_problem.num_spatial_orbitals)\n",
    "\n",
    "    mapper = JordanWignerMapper()\n",
    "\n",
    "    ansatz = UCCSD(\n",
    "    transformed_problem.num_spatial_orbitals,\n",
    "    transformed_problem.num_particles,\n",
    "    mapper,\n",
    "    initial_state=HartreeFock(\n",
    "        transformed_problem.num_spatial_orbitals,\n",
    "        transformed_problem.num_particles,\n",
    "        mapper,\n",
    "        ),\n",
    "    )\n",
    "\n",
    "    counts = []\n",
    "    values = []\n",
    "\n",
    "    def iteration_value(eval_count, parameters, mean, std):\n",
    "        counts.append(eval_count)\n",
    "        values.append(mean)\n",
    "\n",
    "    vqe_solver = VQE(Estimator(), ansatz, SLSQP(), callback=iteration_value)\n",
    "    vqe_solver.initial_point = [0.0] * ansatz.num_parameters\n",
    "\n",
    "    calc = GroundStateEigensolver(mapper, vqe_solver)\n",
    "    res = calc.solve(transformed_problem)\n",
    "    print(res)\n"
   ]
  },
  {
   "cell_type": "code",
   "execution_count": 9,
   "metadata": {},
   "outputs": [
    {
     "data": {
      "image/png": "[encoded data removed]",
      "text/plain": [
       "<Figure size 640x480 with 1 Axes>"
      ]
     },
     "metadata": {},
     "output_type": "display_data"
    }
   ],
   "source": [
    "plt.plot(values)\n",
    "config = [4,4]\n",
    "file_path = f\"data/N2H4_{config[0]}_{config[1]}.txt\"\n",
    "# Open the file in write mode\n",
    "with open(file_path, \"w\") as file:\n",
    "    # Write each element of the array to a new line\n",
    "    for element in values:\n",
    "        file.write(str(element) + \"\\n\")"
   ]
  },
  {
   "cell_type": "code",
   "execution_count": 12,
   "metadata": {},
   "outputs": [
    {
     "name": "stdout",
     "output_type": "stream",
     "text": [
      "(9, 9)\n",
      "14\n",
      "(3, 3)\n",
      "6\n",
      "=== GROUND STATE ENERGY ===\n",
      " \n",
      "* Electronic ground state energy (Hartree): -148.158045259932\n",
      "  - computed part:      -8.201690025866\n",
      "  - ActiveSpaceTransformer extracted energy part: -139.956355234066\n",
      "~ Nuclear repulsion energy (Hartree): 38.534821130542\n",
      "> Total ground state energy (Hartree): -109.623224129391\n",
      " \n",
      "=== MEASURED OBSERVABLES ===\n",
      " \n",
      "  0:  # Particles: 6.000 S: 0.000 S^2: 0.000 M: 0.000\n",
      " \n",
      "=== DIPOLE MOMENTS ===\n",
      " \n",
      "~ Nuclear dipole moment (a.u.): [-6.49127727  24.37038998  -6.80079173]\n",
      " \n",
      "  0: \n",
      "  * Electronic dipole moment (a.u.): [-7.006281990904  24.087022769983  -7.748878827127]\n",
      "    - computed part:      [-2.348072473213  10.84900046792  -5.622283945278]\n",
      "    - ActiveSpaceTransformer extracted energy part: [-4.658209517691  13.238022302063  -2.126594881849]\n",
      "  > Dipole moment (a.u.): [0.515004720904  0.283367210017  0.948087097127]  Total: 1.115524980448\n",
      "                 (debye): [1.309011308334  0.720247538065  2.409796805833]  Total: 2.835381414702\n",
      " \n"
     ]
    }
   ],
   "source": [
    "for i in range(1):\n",
    "    driver = PySCFDriver.from_molecule(\n",
    "        MoleculeInfo([\"N\", \"H\", \"H\", \"N\", \"H\", \"H\"], \n",
    "        coordinates[i],\n",
    "        charge=0,\n",
    "        multiplicity=1),\n",
    "        basis='sto3g'\n",
    "        # basis='631+g**'\n",
    "    )\n",
    "    problem = driver.run()\n",
    "    print(problem.num_particles)\n",
    "    # print(problem.num_parameters)\n",
    "    print(problem.num_spatial_orbitals)\n",
    "\n",
    "    transformer = ActiveSpaceTransformer(num_electrons=6, num_spatial_orbitals=6)\n",
    "    transformed_problem = transformer.transform(problem)\n",
    "    print(transformed_problem.num_particles)\n",
    "    print(transformed_problem.num_spatial_orbitals)\n",
    "\n",
    "    mapper = JordanWignerMapper()\n",
    "\n",
    "    ansatz = UCCSD(\n",
    "    transformed_problem.num_spatial_orbitals,\n",
    "    transformed_problem.num_particles,\n",
    "    mapper,\n",
    "    initial_state=HartreeFock(\n",
    "        transformed_problem.num_spatial_orbitals,\n",
    "        transformed_problem.num_particles,\n",
    "        mapper,\n",
    "        ),\n",
    "    )\n",
    "\n",
    "    counts = []\n",
    "    values = []\n",
    "\n",
    "    def iteration_value(eval_count, parameters, mean, std):\n",
    "        counts.append(eval_count)\n",
    "        values.append(mean)\n",
    "\n",
    "    vqe_solver = VQE(Estimator(), ansatz, SLSQP(), callback=iteration_value)\n",
    "    vqe_solver.initial_point = [0.0] * ansatz.num_parameters\n",
    "\n",
    "    calc = GroundStateEigensolver(mapper, vqe_solver)\n",
    "    res = calc.solve(transformed_problem)\n",
    "    print(res)\n"
   ]
  },
  {
   "cell_type": "code",
   "execution_count": 13,
   "metadata": {},
   "outputs": [
    {
     "data": {
      "image/png": "[encoded data removed]",
      "text/plain": [
       "<Figure size 640x480 with 1 Axes>"
      ]
     },
     "metadata": {},
     "output_type": "display_data"
    }
   ],
   "source": [
    "plt.plot(values)\n",
    "config = [6,6]\n",
    "file_path = f\"data/N2H4_{config[0]}_{config[1]}.txt\"\n",
    "# Open the file in write mode\n",
    "with open(file_path, \"w\") as file:\n",
    "    # Write each element of the array to a new line\n",
    "    for element in values:\n",
    "        file.write(str(element) + \"\\n\")"
   ]
  },
  {
   "cell_type": "code",
   "execution_count": 14,
   "metadata": {},
   "outputs": [
    {
     "name": "stdout",
     "output_type": "stream",
     "text": [
      "(9, 9)\n",
      "14\n",
      "(4, 4)\n",
      "8\n"
     ]
    },
    {
     "ename": "KeyboardInterrupt",
     "evalue": "",
     "output_type": "error",
     "traceback": [
      "\u001b[0;31m---------------------------------------------------------------------------\u001b[0m",
      "\u001b[0;31mKeyboardInterrupt\u001b[0m                         Traceback (most recent call last)",
      "Cell \u001b[0;32mIn[14], line 44\u001b[0m\n\u001b[1;32m     41\u001b[0m vqe_solver\u001b[38;5;241m.\u001b[39minitial_point \u001b[38;5;241m=\u001b[39m [\u001b[38;5;241m0.0\u001b[39m] \u001b[38;5;241m*\u001b[39m ansatz\u001b[38;5;241m.\u001b[39mnum_parameters\n\u001b[1;32m     43\u001b[0m calc \u001b[38;5;241m=\u001b[39m GroundStateEigensolver(mapper, vqe_solver)\n\u001b[0;32m---> 44\u001b[0m res \u001b[38;5;241m=\u001b[39m \u001b[43mcalc\u001b[49m\u001b[38;5;241;43m.\u001b[39;49m\u001b[43msolve\u001b[49m\u001b[43m(\u001b[49m\u001b[43mtransformed_problem\u001b[49m\u001b[43m)\u001b[49m\n\u001b[1;32m     45\u001b[0m \u001b[38;5;28mprint\u001b[39m(res)\n",
      "File \u001b[0;32m~/anaconda3/envs/quantum-dev/lib/python3.8/site-packages/qiskit_nature/second_q/algorithms/ground_state_solvers/ground_state_eigensolver.py:73\u001b[0m, in \u001b[0;36mGroundStateEigensolver.solve\u001b[0;34m(self, problem, aux_operators)\u001b[0m\n\u001b[1;32m     62\u001b[0m \u001b[38;5;250m\u001b[39m\u001b[38;5;124;03m\"\"\"Compute Ground State properties.\u001b[39;00m\n\u001b[1;32m     63\u001b[0m \n\u001b[1;32m     64\u001b[0m \u001b[38;5;124;03mArgs:\u001b[39;00m\n\u001b[0;32m   (...)\u001b[0m\n\u001b[1;32m     70\u001b[0m \u001b[38;5;124;03m    :meth:`~.BaseProblem.interpret`.\u001b[39;00m\n\u001b[1;32m     71\u001b[0m \u001b[38;5;124;03m\"\"\"\u001b[39;00m\n\u001b[1;32m     72\u001b[0m main_operator, aux_ops \u001b[38;5;241m=\u001b[39m \u001b[38;5;28mself\u001b[39m\u001b[38;5;241m.\u001b[39mget_qubit_operators(problem, aux_operators)\n\u001b[0;32m---> 73\u001b[0m raw_mes_result \u001b[38;5;241m=\u001b[39m \u001b[38;5;28;43mself\u001b[39;49m\u001b[38;5;241;43m.\u001b[39;49m\u001b[43msolver\u001b[49m\u001b[38;5;241;43m.\u001b[39;49m\u001b[43mcompute_minimum_eigenvalue\u001b[49m\u001b[43m(\u001b[49m\u001b[43mmain_operator\u001b[49m\u001b[43m,\u001b[49m\u001b[43m \u001b[49m\u001b[43maux_ops\u001b[49m\u001b[43m)\u001b[49m\n\u001b[1;32m     75\u001b[0m eigenstate_result \u001b[38;5;241m=\u001b[39m EigenstateResult\u001b[38;5;241m.\u001b[39mfrom_result(raw_mes_result)\n\u001b[1;32m     76\u001b[0m result \u001b[38;5;241m=\u001b[39m problem\u001b[38;5;241m.\u001b[39minterpret(eigenstate_result)\n",
      "File \u001b[0;32m~/anaconda3/envs/quantum-dev/lib/python3.8/site-packages/qiskit_algorithms/minimum_eigensolvers/vqe.py:191\u001b[0m, in \u001b[0;36mVQE.compute_minimum_eigenvalue\u001b[0;34m(self, operator, aux_operators)\u001b[0m\n\u001b[1;32m    186\u001b[0m \u001b[38;5;28;01melse\u001b[39;00m:\n\u001b[1;32m    187\u001b[0m     \u001b[38;5;66;03m# we always want to submit as many estimations per job as possible for minimal\u001b[39;00m\n\u001b[1;32m    188\u001b[0m     \u001b[38;5;66;03m# overhead on the hardware\u001b[39;00m\n\u001b[1;32m    189\u001b[0m     was_updated \u001b[38;5;241m=\u001b[39m _set_default_batchsize(\u001b[38;5;28mself\u001b[39m\u001b[38;5;241m.\u001b[39moptimizer)\n\u001b[0;32m--> 191\u001b[0m     optimizer_result \u001b[38;5;241m=\u001b[39m \u001b[38;5;28;43mself\u001b[39;49m\u001b[38;5;241;43m.\u001b[39;49m\u001b[43moptimizer\u001b[49m\u001b[38;5;241;43m.\u001b[39;49m\u001b[43mminimize\u001b[49m\u001b[43m(\u001b[49m\n\u001b[1;32m    192\u001b[0m \u001b[43m        \u001b[49m\u001b[43mfun\u001b[49m\u001b[38;5;241;43m=\u001b[39;49m\u001b[43mevaluate_energy\u001b[49m\u001b[43m,\u001b[49m\u001b[43m \u001b[49m\u001b[43mx0\u001b[49m\u001b[38;5;241;43m=\u001b[39;49m\u001b[43minitial_point\u001b[49m\u001b[43m,\u001b[49m\u001b[43m \u001b[49m\u001b[43mjac\u001b[49m\u001b[38;5;241;43m=\u001b[39;49m\u001b[43mevaluate_gradient\u001b[49m\u001b[43m,\u001b[49m\u001b[43m \u001b[49m\u001b[43mbounds\u001b[49m\u001b[38;5;241;43m=\u001b[39;49m\u001b[43mbounds\u001b[49m\n\u001b[1;32m    193\u001b[0m \u001b[43m    \u001b[49m\u001b[43m)\u001b[49m\n\u001b[1;32m    195\u001b[0m     \u001b[38;5;66;03m# reset to original value\u001b[39;00m\n\u001b[1;32m    196\u001b[0m     \u001b[38;5;28;01mif\u001b[39;00m was_updated:\n",
      "File \u001b[0;32m~/anaconda3/envs/quantum-dev/lib/python3.8/site-packages/qiskit_algorithms/optimizers/scipy_optimizer.py:148\u001b[0m, in \u001b[0;36mSciPyOptimizer.minimize\u001b[0;34m(self, fun, x0, jac, bounds)\u001b[0m\n\u001b[1;32m    145\u001b[0m     swapped_deprecated_args \u001b[38;5;241m=\u001b[39m \u001b[38;5;28;01mTrue\u001b[39;00m\n\u001b[1;32m    146\u001b[0m     \u001b[38;5;28mself\u001b[39m\u001b[38;5;241m.\u001b[39m_options[\u001b[38;5;124m\"\u001b[39m\u001b[38;5;124mmaxfun\u001b[39m\u001b[38;5;124m\"\u001b[39m] \u001b[38;5;241m=\u001b[39m \u001b[38;5;28mself\u001b[39m\u001b[38;5;241m.\u001b[39m_options\u001b[38;5;241m.\u001b[39mpop(\u001b[38;5;124m\"\u001b[39m\u001b[38;5;124mmaxiter\u001b[39m\u001b[38;5;124m\"\u001b[39m)\n\u001b[0;32m--> 148\u001b[0m raw_result \u001b[38;5;241m=\u001b[39m \u001b[43mminimize\u001b[49m\u001b[43m(\u001b[49m\n\u001b[1;32m    149\u001b[0m \u001b[43m    \u001b[49m\u001b[43mfun\u001b[49m\u001b[38;5;241;43m=\u001b[39;49m\u001b[43mfun\u001b[49m\u001b[43m,\u001b[49m\n\u001b[1;32m    150\u001b[0m \u001b[43m    \u001b[49m\u001b[43mx0\u001b[49m\u001b[38;5;241;43m=\u001b[39;49m\u001b[43mx0\u001b[49m\u001b[43m,\u001b[49m\n\u001b[1;32m    151\u001b[0m \u001b[43m    \u001b[49m\u001b[43mmethod\u001b[49m\u001b[38;5;241;43m=\u001b[39;49m\u001b[38;5;28;43mself\u001b[39;49m\u001b[38;5;241;43m.\u001b[39;49m\u001b[43m_method\u001b[49m\u001b[43m,\u001b[49m\n\u001b[1;32m    152\u001b[0m \u001b[43m    \u001b[49m\u001b[43mjac\u001b[49m\u001b[38;5;241;43m=\u001b[39;49m\u001b[43mjac\u001b[49m\u001b[43m,\u001b[49m\n\u001b[1;32m    153\u001b[0m \u001b[43m    \u001b[49m\u001b[43mbounds\u001b[49m\u001b[38;5;241;43m=\u001b[39;49m\u001b[43mbounds\u001b[49m\u001b[43m,\u001b[49m\n\u001b[1;32m    154\u001b[0m \u001b[43m    \u001b[49m\u001b[43moptions\u001b[49m\u001b[38;5;241;43m=\u001b[39;49m\u001b[38;5;28;43mself\u001b[39;49m\u001b[38;5;241;43m.\u001b[39;49m\u001b[43m_options\u001b[49m\u001b[43m,\u001b[49m\n\u001b[1;32m    155\u001b[0m \u001b[43m    \u001b[49m\u001b[38;5;241;43m*\u001b[39;49m\u001b[38;5;241;43m*\u001b[39;49m\u001b[38;5;28;43mself\u001b[39;49m\u001b[38;5;241;43m.\u001b[39;49m\u001b[43m_kwargs\u001b[49m\u001b[43m,\u001b[49m\n\u001b[1;32m    156\u001b[0m \u001b[43m\u001b[49m\u001b[43m)\u001b[49m\n\u001b[1;32m    157\u001b[0m \u001b[38;5;28;01mif\u001b[39;00m swapped_deprecated_args:\n\u001b[1;32m    158\u001b[0m     \u001b[38;5;28mself\u001b[39m\u001b[38;5;241m.\u001b[39m_options[\u001b[38;5;124m\"\u001b[39m\u001b[38;5;124mmaxiter\u001b[39m\u001b[38;5;124m\"\u001b[39m] \u001b[38;5;241m=\u001b[39m \u001b[38;5;28mself\u001b[39m\u001b[38;5;241m.\u001b[39m_options\u001b[38;5;241m.\u001b[39mpop(\u001b[38;5;124m\"\u001b[39m\u001b[38;5;124mmaxfun\u001b[39m\u001b[38;5;124m\"\u001b[39m)\n",
      "File \u001b[0;32m~/anaconda3/envs/quantum-dev/lib/python3.8/site-packages/scipy/optimize/_minimize.py:708\u001b[0m, in \u001b[0;36mminimize\u001b[0;34m(fun, x0, args, method, jac, hess, hessp, bounds, constraints, tol, callback, options)\u001b[0m\n\u001b[1;32m    705\u001b[0m     res \u001b[38;5;241m=\u001b[39m _minimize_cobyla(fun, x0, args, constraints, callback\u001b[38;5;241m=\u001b[39mcallback,\n\u001b[1;32m    706\u001b[0m                             \u001b[38;5;241m*\u001b[39m\u001b[38;5;241m*\u001b[39moptions)\n\u001b[1;32m    707\u001b[0m \u001b[38;5;28;01melif\u001b[39;00m meth \u001b[38;5;241m==\u001b[39m \u001b[38;5;124m'\u001b[39m\u001b[38;5;124mslsqp\u001b[39m\u001b[38;5;124m'\u001b[39m:\n\u001b[0;32m--> 708\u001b[0m     res \u001b[38;5;241m=\u001b[39m \u001b[43m_minimize_slsqp\u001b[49m\u001b[43m(\u001b[49m\u001b[43mfun\u001b[49m\u001b[43m,\u001b[49m\u001b[43m \u001b[49m\u001b[43mx0\u001b[49m\u001b[43m,\u001b[49m\u001b[43m \u001b[49m\u001b[43margs\u001b[49m\u001b[43m,\u001b[49m\u001b[43m \u001b[49m\u001b[43mjac\u001b[49m\u001b[43m,\u001b[49m\u001b[43m \u001b[49m\u001b[43mbounds\u001b[49m\u001b[43m,\u001b[49m\n\u001b[1;32m    709\u001b[0m \u001b[43m                          \u001b[49m\u001b[43mconstraints\u001b[49m\u001b[43m,\u001b[49m\u001b[43m \u001b[49m\u001b[43mcallback\u001b[49m\u001b[38;5;241;43m=\u001b[39;49m\u001b[43mcallback\u001b[49m\u001b[43m,\u001b[49m\u001b[43m \u001b[49m\u001b[38;5;241;43m*\u001b[39;49m\u001b[38;5;241;43m*\u001b[39;49m\u001b[43moptions\u001b[49m\u001b[43m)\u001b[49m\n\u001b[1;32m    710\u001b[0m \u001b[38;5;28;01melif\u001b[39;00m meth \u001b[38;5;241m==\u001b[39m \u001b[38;5;124m'\u001b[39m\u001b[38;5;124mtrust-constr\u001b[39m\u001b[38;5;124m'\u001b[39m:\n\u001b[1;32m    711\u001b[0m     res \u001b[38;5;241m=\u001b[39m _minimize_trustregion_constr(fun, x0, args, jac, hess, hessp,\n\u001b[1;32m    712\u001b[0m                                        bounds, constraints,\n\u001b[1;32m    713\u001b[0m                                        callback\u001b[38;5;241m=\u001b[39mcallback, \u001b[38;5;241m*\u001b[39m\u001b[38;5;241m*\u001b[39moptions)\n",
      "File \u001b[0;32m~/anaconda3/envs/quantum-dev/lib/python3.8/site-packages/scipy/optimize/_slsqp_py.py:432\u001b[0m, in \u001b[0;36m_minimize_slsqp\u001b[0;34m(func, x0, args, jac, bounds, constraints, maxiter, ftol, iprint, disp, eps, callback, finite_diff_rel_step, **unknown_options)\u001b[0m\n\u001b[1;32m    429\u001b[0m     c \u001b[38;5;241m=\u001b[39m _eval_constraint(x, cons)\n\u001b[1;32m    431\u001b[0m \u001b[38;5;28;01mif\u001b[39;00m mode \u001b[38;5;241m==\u001b[39m \u001b[38;5;241m-\u001b[39m\u001b[38;5;241m1\u001b[39m:  \u001b[38;5;66;03m# gradient evaluation required\u001b[39;00m\n\u001b[0;32m--> 432\u001b[0m     g \u001b[38;5;241m=\u001b[39m append(\u001b[43mwrapped_grad\u001b[49m\u001b[43m(\u001b[49m\u001b[43mx\u001b[49m\u001b[43m)\u001b[49m, \u001b[38;5;241m0.0\u001b[39m)\n\u001b[1;32m    433\u001b[0m     a \u001b[38;5;241m=\u001b[39m _eval_con_normals(x, cons, la, n, m, meq, mieq)\n\u001b[1;32m    435\u001b[0m \u001b[38;5;28;01mif\u001b[39;00m majiter \u001b[38;5;241m>\u001b[39m majiter_prev:\n\u001b[1;32m    436\u001b[0m     \u001b[38;5;66;03m# call callback if major iteration has incremented\u001b[39;00m\n",
      "File \u001b[0;32m~/anaconda3/envs/quantum-dev/lib/python3.8/site-packages/scipy/optimize/_optimize.py:277\u001b[0m, in \u001b[0;36m_clip_x_for_func.<locals>.eval\u001b[0;34m(x)\u001b[0m\n\u001b[1;32m    275\u001b[0m \u001b[38;5;28;01mdef\u001b[39;00m \u001b[38;5;21meval\u001b[39m(x):\n\u001b[1;32m    276\u001b[0m     x \u001b[38;5;241m=\u001b[39m _check_clip_x(x, bounds)\n\u001b[0;32m--> 277\u001b[0m     \u001b[38;5;28;01mreturn\u001b[39;00m \u001b[43mfunc\u001b[49m\u001b[43m(\u001b[49m\u001b[43mx\u001b[49m\u001b[43m)\u001b[49m\n",
      "File \u001b[0;32m~/anaconda3/envs/quantum-dev/lib/python3.8/site-packages/scipy/optimize/_differentiable_functions.py:273\u001b[0m, in \u001b[0;36mScalarFunction.grad\u001b[0;34m(self, x)\u001b[0m\n\u001b[1;32m    271\u001b[0m \u001b[38;5;28;01mif\u001b[39;00m \u001b[38;5;129;01mnot\u001b[39;00m np\u001b[38;5;241m.\u001b[39marray_equal(x, \u001b[38;5;28mself\u001b[39m\u001b[38;5;241m.\u001b[39mx):\n\u001b[1;32m    272\u001b[0m     \u001b[38;5;28mself\u001b[39m\u001b[38;5;241m.\u001b[39m_update_x_impl(x)\n\u001b[0;32m--> 273\u001b[0m \u001b[38;5;28;43mself\u001b[39;49m\u001b[38;5;241;43m.\u001b[39;49m\u001b[43m_update_grad\u001b[49m\u001b[43m(\u001b[49m\u001b[43m)\u001b[49m\n\u001b[1;32m    274\u001b[0m \u001b[38;5;28;01mreturn\u001b[39;00m \u001b[38;5;28mself\u001b[39m\u001b[38;5;241m.\u001b[39mg\n",
      "File \u001b[0;32m~/anaconda3/envs/quantum-dev/lib/python3.8/site-packages/scipy/optimize/_differentiable_functions.py:256\u001b[0m, in \u001b[0;36mScalarFunction._update_grad\u001b[0;34m(self)\u001b[0m\n\u001b[1;32m    254\u001b[0m \u001b[38;5;28;01mdef\u001b[39;00m \u001b[38;5;21m_update_grad\u001b[39m(\u001b[38;5;28mself\u001b[39m):\n\u001b[1;32m    255\u001b[0m     \u001b[38;5;28;01mif\u001b[39;00m \u001b[38;5;129;01mnot\u001b[39;00m \u001b[38;5;28mself\u001b[39m\u001b[38;5;241m.\u001b[39mg_updated:\n\u001b[0;32m--> 256\u001b[0m         \u001b[38;5;28;43mself\u001b[39;49m\u001b[38;5;241;43m.\u001b[39;49m\u001b[43m_update_grad_impl\u001b[49m\u001b[43m(\u001b[49m\u001b[43m)\u001b[49m\n\u001b[1;32m    257\u001b[0m         \u001b[38;5;28mself\u001b[39m\u001b[38;5;241m.\u001b[39mg_updated \u001b[38;5;241m=\u001b[39m \u001b[38;5;28;01mTrue\u001b[39;00m\n",
      "File \u001b[0;32m~/anaconda3/envs/quantum-dev/lib/python3.8/site-packages/scipy/optimize/_differentiable_functions.py:173\u001b[0m, in \u001b[0;36mScalarFunction.__init__.<locals>.update_grad\u001b[0;34m()\u001b[0m\n\u001b[1;32m    171\u001b[0m \u001b[38;5;28mself\u001b[39m\u001b[38;5;241m.\u001b[39m_update_fun()\n\u001b[1;32m    172\u001b[0m \u001b[38;5;28mself\u001b[39m\u001b[38;5;241m.\u001b[39mngev \u001b[38;5;241m+\u001b[39m\u001b[38;5;241m=\u001b[39m \u001b[38;5;241m1\u001b[39m\n\u001b[0;32m--> 173\u001b[0m \u001b[38;5;28mself\u001b[39m\u001b[38;5;241m.\u001b[39mg \u001b[38;5;241m=\u001b[39m \u001b[43mapprox_derivative\u001b[49m\u001b[43m(\u001b[49m\u001b[43mfun_wrapped\u001b[49m\u001b[43m,\u001b[49m\u001b[43m \u001b[49m\u001b[38;5;28;43mself\u001b[39;49m\u001b[38;5;241;43m.\u001b[39;49m\u001b[43mx\u001b[49m\u001b[43m,\u001b[49m\u001b[43m \u001b[49m\u001b[43mf0\u001b[49m\u001b[38;5;241;43m=\u001b[39;49m\u001b[38;5;28;43mself\u001b[39;49m\u001b[38;5;241;43m.\u001b[39;49m\u001b[43mf\u001b[49m\u001b[43m,\u001b[49m\n\u001b[1;32m    174\u001b[0m \u001b[43m                           \u001b[49m\u001b[38;5;241;43m*\u001b[39;49m\u001b[38;5;241;43m*\u001b[39;49m\u001b[43mfinite_diff_options\u001b[49m\u001b[43m)\u001b[49m\n",
      "File \u001b[0;32m~/anaconda3/envs/quantum-dev/lib/python3.8/site-packages/scipy/optimize/_numdiff.py:505\u001b[0m, in \u001b[0;36mapprox_derivative\u001b[0;34m(fun, x0, method, rel_step, abs_step, f0, bounds, sparsity, as_linear_operator, args, kwargs)\u001b[0m\n\u001b[1;32m    502\u001b[0m     use_one_sided \u001b[38;5;241m=\u001b[39m \u001b[38;5;28;01mFalse\u001b[39;00m\n\u001b[1;32m    504\u001b[0m \u001b[38;5;28;01mif\u001b[39;00m sparsity \u001b[38;5;129;01mis\u001b[39;00m \u001b[38;5;28;01mNone\u001b[39;00m:\n\u001b[0;32m--> 505\u001b[0m     \u001b[38;5;28;01mreturn\u001b[39;00m \u001b[43m_dense_difference\u001b[49m\u001b[43m(\u001b[49m\u001b[43mfun_wrapped\u001b[49m\u001b[43m,\u001b[49m\u001b[43m \u001b[49m\u001b[43mx0\u001b[49m\u001b[43m,\u001b[49m\u001b[43m \u001b[49m\u001b[43mf0\u001b[49m\u001b[43m,\u001b[49m\u001b[43m \u001b[49m\u001b[43mh\u001b[49m\u001b[43m,\u001b[49m\n\u001b[1;32m    506\u001b[0m \u001b[43m                             \u001b[49m\u001b[43muse_one_sided\u001b[49m\u001b[43m,\u001b[49m\u001b[43m \u001b[49m\u001b[43mmethod\u001b[49m\u001b[43m)\u001b[49m\n\u001b[1;32m    507\u001b[0m \u001b[38;5;28;01melse\u001b[39;00m:\n\u001b[1;32m    508\u001b[0m     \u001b[38;5;28;01mif\u001b[39;00m \u001b[38;5;129;01mnot\u001b[39;00m issparse(sparsity) \u001b[38;5;129;01mand\u001b[39;00m \u001b[38;5;28mlen\u001b[39m(sparsity) \u001b[38;5;241m==\u001b[39m \u001b[38;5;241m2\u001b[39m:\n",
      "File \u001b[0;32m~/anaconda3/envs/quantum-dev/lib/python3.8/site-packages/scipy/optimize/_numdiff.py:576\u001b[0m, in \u001b[0;36m_dense_difference\u001b[0;34m(fun, x0, f0, h, use_one_sided, method)\u001b[0m\n\u001b[1;32m    574\u001b[0m     x \u001b[38;5;241m=\u001b[39m x0 \u001b[38;5;241m+\u001b[39m h_vecs[i]\n\u001b[1;32m    575\u001b[0m     dx \u001b[38;5;241m=\u001b[39m x[i] \u001b[38;5;241m-\u001b[39m x0[i]  \u001b[38;5;66;03m# Recompute dx as exactly representable number.\u001b[39;00m\n\u001b[0;32m--> 576\u001b[0m     df \u001b[38;5;241m=\u001b[39m \u001b[43mfun\u001b[49m\u001b[43m(\u001b[49m\u001b[43mx\u001b[49m\u001b[43m)\u001b[49m \u001b[38;5;241m-\u001b[39m f0\n\u001b[1;32m    577\u001b[0m \u001b[38;5;28;01melif\u001b[39;00m method \u001b[38;5;241m==\u001b[39m \u001b[38;5;124m'\u001b[39m\u001b[38;5;124m3-point\u001b[39m\u001b[38;5;124m'\u001b[39m \u001b[38;5;129;01mand\u001b[39;00m use_one_sided[i]:\n\u001b[1;32m    578\u001b[0m     x1 \u001b[38;5;241m=\u001b[39m x0 \u001b[38;5;241m+\u001b[39m h_vecs[i]\n",
      "File \u001b[0;32m~/anaconda3/envs/quantum-dev/lib/python3.8/site-packages/scipy/optimize/_numdiff.py:456\u001b[0m, in \u001b[0;36mapprox_derivative.<locals>.fun_wrapped\u001b[0;34m(x)\u001b[0m\n\u001b[1;32m    455\u001b[0m \u001b[38;5;28;01mdef\u001b[39;00m \u001b[38;5;21mfun_wrapped\u001b[39m(x):\n\u001b[0;32m--> 456\u001b[0m     f \u001b[38;5;241m=\u001b[39m np\u001b[38;5;241m.\u001b[39matleast_1d(\u001b[43mfun\u001b[49m\u001b[43m(\u001b[49m\u001b[43mx\u001b[49m\u001b[43m,\u001b[49m\u001b[43m \u001b[49m\u001b[38;5;241;43m*\u001b[39;49m\u001b[43margs\u001b[49m\u001b[43m,\u001b[49m\u001b[43m \u001b[49m\u001b[38;5;241;43m*\u001b[39;49m\u001b[38;5;241;43m*\u001b[39;49m\u001b[43mkwargs\u001b[49m\u001b[43m)\u001b[49m)\n\u001b[1;32m    457\u001b[0m     \u001b[38;5;28;01mif\u001b[39;00m f\u001b[38;5;241m.\u001b[39mndim \u001b[38;5;241m>\u001b[39m \u001b[38;5;241m1\u001b[39m:\n\u001b[1;32m    458\u001b[0m         \u001b[38;5;28;01mraise\u001b[39;00m \u001b[38;5;167;01mRuntimeError\u001b[39;00m(\u001b[38;5;124m\"\u001b[39m\u001b[38;5;124m`fun` return value has \u001b[39m\u001b[38;5;124m\"\u001b[39m\n\u001b[1;32m    459\u001b[0m                            \u001b[38;5;124m\"\u001b[39m\u001b[38;5;124mmore than 1 dimension.\u001b[39m\u001b[38;5;124m\"\u001b[39m)\n",
      "File \u001b[0;32m~/anaconda3/envs/quantum-dev/lib/python3.8/site-packages/scipy/optimize/_differentiable_functions.py:137\u001b[0m, in \u001b[0;36mScalarFunction.__init__.<locals>.fun_wrapped\u001b[0;34m(x)\u001b[0m\n\u001b[1;32m    133\u001b[0m \u001b[38;5;28mself\u001b[39m\u001b[38;5;241m.\u001b[39mnfev \u001b[38;5;241m+\u001b[39m\u001b[38;5;241m=\u001b[39m \u001b[38;5;241m1\u001b[39m\n\u001b[1;32m    134\u001b[0m \u001b[38;5;66;03m# Send a copy because the user may overwrite it.\u001b[39;00m\n\u001b[1;32m    135\u001b[0m \u001b[38;5;66;03m# Overwriting results in undefined behaviour because\u001b[39;00m\n\u001b[1;32m    136\u001b[0m \u001b[38;5;66;03m# fun(self.x) will change self.x, with the two no longer linked.\u001b[39;00m\n\u001b[0;32m--> 137\u001b[0m fx \u001b[38;5;241m=\u001b[39m \u001b[43mfun\u001b[49m\u001b[43m(\u001b[49m\u001b[43mnp\u001b[49m\u001b[38;5;241;43m.\u001b[39;49m\u001b[43mcopy\u001b[49m\u001b[43m(\u001b[49m\u001b[43mx\u001b[49m\u001b[43m)\u001b[49m\u001b[43m,\u001b[49m\u001b[43m \u001b[49m\u001b[38;5;241;43m*\u001b[39;49m\u001b[43margs\u001b[49m\u001b[43m)\u001b[49m\n\u001b[1;32m    138\u001b[0m \u001b[38;5;66;03m# Make sure the function returns a true scalar\u001b[39;00m\n\u001b[1;32m    139\u001b[0m \u001b[38;5;28;01mif\u001b[39;00m \u001b[38;5;129;01mnot\u001b[39;00m np\u001b[38;5;241m.\u001b[39misscalar(fx):\n",
      "File \u001b[0;32m~/anaconda3/envs/quantum-dev/lib/python3.8/site-packages/qiskit_algorithms/minimum_eigensolvers/vqe.py:254\u001b[0m, in \u001b[0;36mVQE._get_evaluate_energy.<locals>.evaluate_energy\u001b[0;34m(parameters)\u001b[0m\n\u001b[1;32m    252\u001b[0m \u001b[38;5;28;01mtry\u001b[39;00m:\n\u001b[1;32m    253\u001b[0m     job \u001b[38;5;241m=\u001b[39m \u001b[38;5;28mself\u001b[39m\u001b[38;5;241m.\u001b[39mestimator\u001b[38;5;241m.\u001b[39mrun(batch_size \u001b[38;5;241m*\u001b[39m [ansatz], batch_size \u001b[38;5;241m*\u001b[39m [operator], parameters)\n\u001b[0;32m--> 254\u001b[0m     estimator_result \u001b[38;5;241m=\u001b[39m \u001b[43mjob\u001b[49m\u001b[38;5;241;43m.\u001b[39;49m\u001b[43mresult\u001b[49m\u001b[43m(\u001b[49m\u001b[43m)\u001b[49m\n\u001b[1;32m    255\u001b[0m \u001b[38;5;28;01mexcept\u001b[39;00m \u001b[38;5;167;01mException\u001b[39;00m \u001b[38;5;28;01mas\u001b[39;00m exc:\n\u001b[1;32m    256\u001b[0m     \u001b[38;5;28;01mraise\u001b[39;00m AlgorithmError(\u001b[38;5;124m\"\u001b[39m\u001b[38;5;124mThe primitive job to evaluate the energy failed!\u001b[39m\u001b[38;5;124m\"\u001b[39m) \u001b[38;5;28;01mfrom\u001b[39;00m \u001b[38;5;21;01mexc\u001b[39;00m\n",
      "File \u001b[0;32m~/anaconda3/envs/quantum-dev/lib/python3.8/site-packages/qiskit/primitives/primitive_job.py:55\u001b[0m, in \u001b[0;36mPrimitiveJob.result\u001b[0;34m(self)\u001b[0m\n\u001b[1;32m     53\u001b[0m \u001b[38;5;250m\u001b[39m\u001b[38;5;124;03m\"\"\"Return the results of the job.\"\"\"\u001b[39;00m\n\u001b[1;32m     54\u001b[0m \u001b[38;5;28mself\u001b[39m\u001b[38;5;241m.\u001b[39m_check_submitted()\n\u001b[0;32m---> 55\u001b[0m \u001b[38;5;28;01mreturn\u001b[39;00m \u001b[38;5;28;43mself\u001b[39;49m\u001b[38;5;241;43m.\u001b[39;49m\u001b[43m_future\u001b[49m\u001b[38;5;241;43m.\u001b[39;49m\u001b[43mresult\u001b[49m\u001b[43m(\u001b[49m\u001b[43m)\u001b[49m\n",
      "File \u001b[0;32m~/anaconda3/envs/quantum-dev/lib/python3.8/concurrent/futures/_base.py:439\u001b[0m, in \u001b[0;36mFuture.result\u001b[0;34m(self, timeout)\u001b[0m\n\u001b[1;32m    436\u001b[0m \u001b[38;5;28;01melif\u001b[39;00m \u001b[38;5;28mself\u001b[39m\u001b[38;5;241m.\u001b[39m_state \u001b[38;5;241m==\u001b[39m FINISHED:\n\u001b[1;32m    437\u001b[0m     \u001b[38;5;28;01mreturn\u001b[39;00m \u001b[38;5;28mself\u001b[39m\u001b[38;5;241m.\u001b[39m__get_result()\n\u001b[0;32m--> 439\u001b[0m \u001b[38;5;28;43mself\u001b[39;49m\u001b[38;5;241;43m.\u001b[39;49m\u001b[43m_condition\u001b[49m\u001b[38;5;241;43m.\u001b[39;49m\u001b[43mwait\u001b[49m\u001b[43m(\u001b[49m\u001b[43mtimeout\u001b[49m\u001b[43m)\u001b[49m\n\u001b[1;32m    441\u001b[0m \u001b[38;5;28;01mif\u001b[39;00m \u001b[38;5;28mself\u001b[39m\u001b[38;5;241m.\u001b[39m_state \u001b[38;5;129;01min\u001b[39;00m [CANCELLED, CANCELLED_AND_NOTIFIED]:\n\u001b[1;32m    442\u001b[0m     \u001b[38;5;28;01mraise\u001b[39;00m CancelledError()\n",
      "File \u001b[0;32m~/anaconda3/envs/quantum-dev/lib/python3.8/threading.py:302\u001b[0m, in \u001b[0;36mCondition.wait\u001b[0;34m(self, timeout)\u001b[0m\n\u001b[1;32m    300\u001b[0m \u001b[38;5;28;01mtry\u001b[39;00m:    \u001b[38;5;66;03m# restore state no matter what (e.g., KeyboardInterrupt)\u001b[39;00m\n\u001b[1;32m    301\u001b[0m     \u001b[38;5;28;01mif\u001b[39;00m timeout \u001b[38;5;129;01mis\u001b[39;00m \u001b[38;5;28;01mNone\u001b[39;00m:\n\u001b[0;32m--> 302\u001b[0m         \u001b[43mwaiter\u001b[49m\u001b[38;5;241;43m.\u001b[39;49m\u001b[43macquire\u001b[49m\u001b[43m(\u001b[49m\u001b[43m)\u001b[49m\n\u001b[1;32m    303\u001b[0m         gotit \u001b[38;5;241m=\u001b[39m \u001b[38;5;28;01mTrue\u001b[39;00m\n\u001b[1;32m    304\u001b[0m     \u001b[38;5;28;01melse\u001b[39;00m:\n",
      "\u001b[0;31mKeyboardInterrupt\u001b[0m: "
     ]
    }
   ],
   "source": [
    "for i in range(1):\n",
    "    driver = PySCFDriver.from_molecule(\n",
    "        MoleculeInfo([\"N\", \"H\", \"H\", \"N\", \"H\", \"H\"], \n",
    "        coordinates[i],\n",
    "        charge=0,\n",
    "        multiplicity=1),\n",
    "        basis='sto3g'\n",
    "        # basis='631+g**'\n",
    "    )\n",
    "    problem = driver.run()\n",
    "    print(problem.num_particles)\n",
    "    # print(problem.num_parameters)\n",
    "    print(problem.num_spatial_orbitals)\n",
    "\n",
    "    transformer = ActiveSpaceTransformer(num_electrons=8, num_spatial_orbitals=8)\n",
    "    transformed_problem = transformer.transform(problem)\n",
    "    print(transformed_problem.num_particles)\n",
    "    print(transformed_problem.num_spatial_orbitals)\n",
    "\n",
    "    mapper = JordanWignerMapper()\n",
    "\n",
    "    ansatz = UCCSD(\n",
    "    transformed_problem.num_spatial_orbitals,\n",
    "    transformed_problem.num_particles,\n",
    "    mapper,\n",
    "    initial_state=HartreeFock(\n",
    "        transformed_problem.num_spatial_orbitals,\n",
    "        transformed_problem.num_particles,\n",
    "        mapper,\n",
    "        ),\n",
    "    )\n",
    "\n",
    "    counts = []\n",
    "    values = []\n",
    "\n",
    "    def iteration_value(eval_count, parameters, mean, std):\n",
    "        counts.append(eval_count)\n",
    "        values.append(mean)\n",
    "\n",
    "    vqe_solver = VQE(Estimator(), ansatz, SLSQP(), callback=iteration_value)\n",
    "    vqe_solver.initial_point = [0.0] * ansatz.num_parameters\n",
    "\n",
    "    calc = GroundStateEigensolver(mapper, vqe_solver)\n",
    "    res = calc.solve(transformed_problem)\n",
    "    print(res)\n"
   ]
  },
  {
   "cell_type": "code",
   "execution_count": 16,
   "metadata": {},
   "outputs": [
    {
     "data": {
      "image/png": "[encoded data removed]",
      "text/plain": [
       "<Figure size 640x480 with 1 Axes>"
      ]
     },
     "metadata": {},
     "output_type": "display_data"
    }
   ],
   "source": [
    "plt.plot(values)\n",
    "config = [8,8]\n",
    "file_path = f\"data/N2H4_{config[0]}_{config[1]}.txt\"\n",
    "# Open the file in write mode\n",
    "with open(file_path, \"w\") as file:\n",
    "    # Write each element of the array to a new line\n",
    "    for element in values:\n",
    "        file.write(str(element) + \"\\n\")"
   ]
  },
  {
   "cell_type": "code",
   "execution_count": 3,
   "metadata": {},
   "outputs": [
    {
     "name": "stderr",
     "output_type": "stream",
     "text": [
      "/home/azhar04/anaconda3/envs/quantum-dev/lib/python3.8/site-packages/pyscf/dft/libxc.py:772: UserWarning: Since PySCF-2.3, B3LYP (and B3P86) are changed to the VWN-RPA variant, the same to the B3LYP functional in Gaussian and ORCA (issue 1480). To restore the VWN5 definition, you can put the setting \"B3LYP_WITH_VWN5 = True\" in pyscf_conf.py\n",
      "  warnings.warn('Since PySCF-2.3, B3LYP (and B3P86) are changed to the VWN-RPA variant, '\n"
     ]
    },
    {
     "name": "stdout",
     "output_type": "stream",
     "text": [
      "(9, 9)\n",
      "14\n",
      "(1, 1)\n",
      "4\n",
      "=== GROUND STATE ENERGY ===\n",
      " \n",
      "* Electronic ground state energy (Hartree): -148.109279681702\n",
      "  - computed part:      -1.004896945548\n",
      "  - ActiveSpaceTransformer extracted energy part: -147.104382736154\n",
      "~ Nuclear repulsion energy (Hartree): 38.534821130542\n",
      "> Total ground state energy (Hartree): -109.57445855116\n",
      " \n",
      "=== MEASURED OBSERVABLES ===\n",
      " \n",
      "  0:  # Particles: 2.000 S: 0.000 S^2: 0.000 M: 0.000\n",
      " \n",
      "=== DIPOLE MOMENTS ===\n",
      " \n",
      "~ Nuclear dipole moment (a.u.): [-6.49127727  24.37038998  -6.80079173]\n",
      " \n",
      "  0: \n",
      "  * Electronic dipole moment (a.u.): [-6.956479717965  24.412595963499  -7.91786348902]\n",
      "    - computed part:      [0.204403474305  5.570461237417  -3.063577176632]\n",
      "    - ActiveSpaceTransformer extracted energy part: [-7.16088319227  18.842134726082  -4.854286312388]\n",
      "  > Dipole moment (a.u.): [0.465202447965  -0.042205983499  1.11707175902]  Total: 1.210803029991\n",
      "                 (debye): [1.182426568792  -0.107276899487  2.839312933308]  Total: 3.077554038031\n",
      " \n"
     ]
    }
   ],
   "source": [
    "for i in range(1):\n",
    "    driver = PySCFDriver.from_molecule(\n",
    "        MoleculeInfo([\"N\", \"H\", \"H\", \"N\", \"H\", \"H\"], \n",
    "        coordinates[i],\n",
    "        charge=0,\n",
    "        multiplicity=1),\n",
    "        basis='sto3g'\n",
    "        # basis='631+g**'\n",
    "    )\n",
    "    problem = driver.run()\n",
    "    print(problem.num_particles)\n",
    "    # print(problem.num_parameters)\n",
    "    print(problem.num_spatial_orbitals)\n",
    "\n",
    "    transformer = ActiveSpaceTransformer(num_electrons=2, num_spatial_orbitals=4)\n",
    "    transformed_problem = transformer.transform(problem)\n",
    "    print(transformed_problem.num_particles)\n",
    "    print(transformed_problem.num_spatial_orbitals)\n",
    "\n",
    "    mapper = JordanWignerMapper()\n",
    "\n",
    "    ansatz = UCCSD(\n",
    "    transformed_problem.num_spatial_orbitals,\n",
    "    transformed_problem.num_particles,\n",
    "    mapper,\n",
    "    initial_state=HartreeFock(\n",
    "        transformed_problem.num_spatial_orbitals,\n",
    "        transformed_problem.num_particles,\n",
    "        mapper,\n",
    "        ),\n",
    "    )\n",
    "\n",
    "    counts = []\n",
    "    values = []\n",
    "\n",
    "    def iteration_value(eval_count, parameters, mean, std):\n",
    "        counts.append(eval_count)\n",
    "        values.append(mean)\n",
    "\n",
    "    vqe_solver = VQE(Estimator(), ansatz, SLSQP(), callback=iteration_value)\n",
    "    vqe_solver.initial_point = [0.0] * ansatz.num_parameters\n",
    "\n",
    "    calc = GroundStateEigensolver(mapper, vqe_solver)\n",
    "    res = calc.solve(transformed_problem)\n",
    "    print(res)\n"
   ]
  },
  {
   "cell_type": "code",
   "execution_count": 4,
   "metadata": {},
   "outputs": [
    {
     "data": {
      "image/png": "[encoded data removed]",
      "text/plain": [
       "<Figure size 640x480 with 1 Axes>"
      ]
     },
     "metadata": {},
     "output_type": "display_data"
    }
   ],
   "source": [
    "plt.plot(values)\n",
    "config = [8,8]\n",
    "file_path = f\"data/N2H4_{config[0]}_{config[1]}.txt\"\n",
    "# Open the file in write mode\n",
    "with open(file_path, \"w\") as file:\n",
    "    # Write each element of the array to a new line\n",
    "    for element in values:\n",
    "        file.write(str(element) + \"\\n\")"
   ]
  }
 ],
 "metadata": {
  "kernelspec": {
   "display_name": "quantum-dev",
   "language": "python",
   "name": "python3"
  },
  "language_info": {
   "codemirror_mode": {
    "name": "ipython",
    "version": 3
   },
   "file_extension": ".py",
   "mimetype": "text/x-python",
   "name": "python",
   "nbconvert_exporter": "python",
   "pygments_lexer": "ipython3",
   "version": "3.8.18"
  }
 },
 "nbformat": 4,
 "nbformat_minor": 2
}
