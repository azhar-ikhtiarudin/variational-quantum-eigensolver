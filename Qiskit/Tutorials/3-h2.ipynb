{
 "cells": [
  {
   "cell_type": "code",
   "execution_count": 2,
   "metadata": {},
   "outputs": [
    {
     "name": "stdout",
     "output_type": "stream",
     "text": [
      "Collecting pyscf\n",
      "  Downloading pyscf-2.6.0-py3-none-manylinux_2_17_x86_64.manylinux2014_x86_64.whl.metadata (6.3 kB)\n",
      "Requirement already satisfied: numpy!=1.16,!=1.17,>=1.13 in /home/azhar04/anaconda3/envs/qiskit-1/lib/python3.12/site-packages (from pyscf) (1.26.4)\n",
      "Requirement already satisfied: scipy!=1.5.0,!=1.5.1 in /home/azhar04/anaconda3/envs/qiskit-1/lib/python3.12/site-packages (from pyscf) (1.13.1)\n",
      "Requirement already satisfied: h5py>=2.7 in /home/azhar04/anaconda3/envs/qiskit-1/lib/python3.12/site-packages (from pyscf) (3.11.0)\n",
      "Requirement already satisfied: setuptools in /home/azhar04/anaconda3/envs/qiskit-1/lib/python3.12/site-packages (from pyscf) (69.5.1)\n",
      "Downloading pyscf-2.6.0-py3-none-manylinux_2_17_x86_64.manylinux2014_x86_64.whl (48.6 MB)\n",
      "\u001b[2K   \u001b[90m━━━━━━━━━━━━━━━━━━━━━━━━━━━━━━━━━━━━━━━━\u001b[0m \u001b[32m48.6/48.6 MB\u001b[0m \u001b[31m2.8 MB/s\u001b[0m eta \u001b[36m0:00:00\u001b[0m00:01\u001b[0m00:01\u001b[0m\n",
      "\u001b[?25hInstalling collected packages: pyscf\n",
      "Successfully installed pyscf-2.6.0\n"
     ]
    }
   ],
   "source": [
    "!pip install pyscf"
   ]
  },
  {
   "cell_type": "code",
   "execution_count": 1,
   "metadata": {},
   "outputs": [
    {
     "name": "stdout",
     "output_type": "stream",
     "text": [
      "=== GROUND STATE ENERGY ===\n",
      " \n",
      "* Electronic ground state energy (Hartree): -1.857275\n",
      "  - computed part:      -1.857275\n",
      "~ Nuclear repulsion energy (Hartree): 0.719969\n",
      "> Total ground state energy (Hartree): -1.137306\n",
      " \n",
      "=== MEASURED OBSERVABLES ===\n",
      " \n",
      "  0:  # Particles: 2.000 S: 0.000 S^2: 0.000 M: 0.000\n",
      " \n",
      "=== DIPOLE MOMENTS ===\n",
      " \n",
      "~ Nuclear dipole moment (a.u.): [0.0  0.0  1.388949]\n",
      " \n",
      "  0: \n",
      "  * Electronic dipole moment (a.u.): [0.0  0.0  1.388949]\n",
      "    - computed part:      [0.0  0.0  1.388949]\n",
      "  > Dipole moment (a.u.): [0.0  0.0  0.0]  Total: 0.0\n",
      "                 (debye): [0.0  0.0  0.0]  Total: 0.0\n",
      " \n"
     ]
    }
   ],
   "source": [
    "from qiskit_nature.units import DistanceUnit\n",
    "from qiskit_nature.second_q.drivers import PySCFDriver\n",
    "\n",
    "# Use PySCF, a classical computational chemistry software\n",
    "# package, to compute the one-body and two-body integrals in\n",
    "# electronic-orbital basis, necessary to form the Fermionic operator\n",
    "driver = PySCFDriver(\n",
    "    atom='H .0 .0 .0; H .0 .0 0.735',\n",
    "    unit=DistanceUnit.ANGSTROM,\n",
    "    basis='sto3g',\n",
    ")\n",
    "problem = driver.run()\n",
    "\n",
    "# setup the qubit mapper\n",
    "from qiskit_nature.second_q.mappers import ParityMapper\n",
    "\n",
    "mapper = ParityMapper(num_particles=problem.num_particles)\n",
    "\n",
    "# setup the classical optimizer for the VQE\n",
    "from qiskit_algorithms.optimizers import L_BFGS_B\n",
    "\n",
    "optimizer = L_BFGS_B()\n",
    "\n",
    "# setup the estimator primitive for the VQE\n",
    "from qiskit.primitives import Estimator\n",
    "\n",
    "estimator = Estimator()\n",
    "\n",
    "# setup the ansatz for VQE\n",
    "from qiskit_nature.second_q.circuit.library import HartreeFock, UCCSD\n",
    "\n",
    "ansatz = UCCSD(\n",
    "    problem.num_spatial_orbitals,\n",
    "    problem.num_particles,\n",
    "    mapper,\n",
    "    initial_state=HartreeFock(\n",
    "        problem.num_spatial_orbitals,\n",
    "        problem.num_particles,\n",
    "        mapper,\n",
    "    ),\n",
    ")\n",
    "\n",
    "# set up our actual VQE instance\n",
    "from qiskit_algorithms import VQE\n",
    "\n",
    "vqe = VQE(estimator, ansatz, optimizer)\n",
    "# ensure that the optimizer starts in the all-zero state which corresponds to\n",
    "# the Hartree-Fock starting point\n",
    "vqe.initial_point = [0] * ansatz.num_parameters\n",
    "\n",
    "# prepare the ground-state solver and run it\n",
    "from qiskit_nature.second_q.algorithms import GroundStateEigensolver\n",
    "\n",
    "algorithm = GroundStateEigensolver(mapper, vqe)\n",
    "\n",
    "electronic_structure_result = algorithm.solve(problem)\n",
    "electronic_structure_result.formatting_precision = 6\n",
    "print(electronic_structure_result)"
   ]
  },
  {
   "cell_type": "code",
   "execution_count": 3,
   "metadata": {},
   "outputs": [],
   "source": [
    "from qiskit_nature.units import DistanceUnit\n",
    "from qiskit_nature.second_q.drivers import PySCFDriver\n",
    "\n",
    "driver = PySCFDriver(\n",
    "    atom=\"H 0 0 0; H 0 0 0.735\",\n",
    "    basis=\"sto3g\",\n",
    "    charge=0,\n",
    "    spin=0,\n",
    "    unit=DistanceUnit.ANGSTROM,\n",
    ")\n",
    "\n",
    "es_problem = driver.run()\n",
    "\n",
    "\n",
    "\n",
    "from qiskit_nature.second_q.mappers import JordanWignerMapper\n",
    "mapper = JordanWignerMapper()\n"
   ]
  },
  {
   "cell_type": "code",
   "execution_count": 4,
   "metadata": {},
   "outputs": [],
   "source": [
    "from qiskit_algorithms import NumPyMinimumEigensolver\n",
    "\n",
    "numpy_solver = NumPyMinimumEigensolver()"
   ]
  },
  {
   "cell_type": "code",
   "execution_count": 5,
   "metadata": {},
   "outputs": [
    {
     "name": "stdout",
     "output_type": "stream",
     "text": [
      "=== GROUND STATE ENERGY ===\n",
      " \n",
      "* Electronic ground state energy (Hartree): -1.857275030146\n",
      "  - computed part:      -1.857275030146\n",
      "~ Nuclear repulsion energy (Hartree): 0.719968994449\n",
      "> Total ground state energy (Hartree): -1.137306035697\n",
      " \n",
      "=== MEASURED OBSERVABLES ===\n",
      " \n",
      "  0:  # Particles: 2.000 S: 0.000 S^2: 0.000 M: 0.000\n",
      " \n",
      "=== DIPOLE MOMENTS ===\n",
      " \n",
      "~ Nuclear dipole moment (a.u.): [0.0  0.0  1.3889487]\n",
      " \n",
      "  0: \n",
      "  * Electronic dipole moment (a.u.): [0.0  0.0  1.38894868734]\n",
      "    - computed part:      [0.0  0.0  1.38894868734]\n",
      "  > Dipole moment (a.u.): [0.0  0.0  0.00000001266]  Total: 0.00000001266\n",
      "                 (debye): [0.0  0.0  0.000000032179]  Total: 0.000000032179\n",
      " \n"
     ]
    }
   ],
   "source": [
    "from qiskit_algorithms import VQE\n",
    "from qiskit_algorithms.optimizers import SLSQP\n",
    "from qiskit.primitives import Estimator\n",
    "from qiskit_nature.second_q.circuit.library import HartreeFock, UCCSD\n",
    "\n",
    "ansatz = UCCSD(\n",
    "    es_problem.num_spatial_orbitals,\n",
    "    es_problem.num_particles,\n",
    "    mapper,\n",
    "    initial_state=HartreeFock(\n",
    "        es_problem.num_spatial_orbitals,\n",
    "        es_problem.num_particles,\n",
    "        mapper,\n",
    "    ),\n",
    ")\n",
    "\n",
    "vqe_solver = VQE(Estimator(), ansatz, SLSQP())\n",
    "vqe_solver.initial_point = [0.0] * ansatz.num_parameters\n",
    "\n",
    "from qiskit_nature.second_q.algorithms import GroundStateEigensolver\n",
    "\n",
    "calc = GroundStateEigensolver(mapper, vqe_solver)\n",
    "\n",
    "res = calc.solve(es_problem)\n",
    "print(res)\n",
    "\n"
   ]
  },
  {
   "cell_type": "code",
   "execution_count": 6,
   "metadata": {},
   "outputs": [
    {
     "name": "stdout",
     "output_type": "stream",
     "text": [
      "=== GROUND STATE ENERGY ===\n",
      " \n",
      "* Electronic ground state energy (Hartree): -1.857275030202\n",
      "  - computed part:      -1.857275030202\n",
      "~ Nuclear repulsion energy (Hartree): 0.719968994449\n",
      "> Total ground state energy (Hartree): -1.137306035753\n",
      " \n",
      "=== MEASURED OBSERVABLES ===\n",
      " \n",
      "  0:  # Particles: 2.000 S: 0.000 S^2: 0.000 M: 0.000\n",
      " \n",
      "=== DIPOLE MOMENTS ===\n",
      " \n",
      "~ Nuclear dipole moment (a.u.): [0.0  0.0  1.3889487]\n",
      " \n",
      "  0: \n",
      "  * Electronic dipole moment (a.u.): [0.0  0.0  1.388948701555]\n",
      "    - computed part:      [0.0  0.0  1.388948701555]\n",
      "  > Dipole moment (a.u.): [0.0  0.0  -0.000000001555]  Total: 0.000000001555\n",
      "                 (debye): [0.0  0.0  -0.000000003953]  Total: 0.000000003953\n",
      " \n"
     ]
    }
   ],
   "source": [
    "calc = GroundStateEigensolver(mapper, numpy_solver)\n",
    "res = calc.solve(es_problem)\n",
    "print(res)"
   ]
  }
 ],
 "metadata": {
  "kernelspec": {
   "display_name": "qiskit-1",
   "language": "python",
   "name": "python3"
  },
  "language_info": {
   "codemirror_mode": {
    "name": "ipython",
    "version": 3
   },
   "file_extension": ".py",
   "mimetype": "text/x-python",
   "name": "python",
   "nbconvert_exporter": "python",
   "pygments_lexer": "ipython3",
   "version": "3.12.3"
  }
 },
 "nbformat": 4,
 "nbformat_minor": 2
}
