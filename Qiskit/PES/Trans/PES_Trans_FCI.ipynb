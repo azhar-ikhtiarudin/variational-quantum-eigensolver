{
 "cells": [
  {
   "cell_type": "code",
   "execution_count": 1,
   "metadata": {},
   "outputs": [],
   "source": [
    "import pyscf\n",
    "import numpy as np\n",
    "import matplotlib.pyplot as plt"
   ]
  },
  {
   "cell_type": "code",
   "execution_count": 2,
   "metadata": {},
   "outputs": [],
   "source": [
    "coordinates = {}\n",
    "\n",
    "coordinates[0]  = [(0.0, 0.0, 0.0),(0.0, 0.0, 1.020682),(0.989529, 0.0, -0.250241),(-0.579536, 1.280832, -0.451222),(-0.824405, 1.82202, 0.378806),(0.004121, 1.705009, -0.796791)]\n",
    "coordinates[1]  = [(0.0, 0.0, 0.0),(0.0, 0.0, 1.020682),(0.989529, 0.0, -0.250241),(-0.579536, 1.280832, -0.451222),(-0.824405, 1.82202, 0.378806),(0.0406, 1.73152, -0.818389)]\n",
    "coordinates[2]  = [(0.0, 0.0, 0.0),(0.0, 0.0, 1.020682),(0.989529, 0.0, -0.250241),(-0.579536, 1.280832, -0.451222),(-0.824405, 1.82202, 0.378806),(0.077078, 1.758031, -0.839987)]\n",
    "coordinates[3]  = [(0.0, 0.0, 0.0),(0.0, 0.0, 1.020682),(0.989529, 0.0, -0.250241),(-0.579536, 1.280832, -0.451222),(-0.824405, 1.82202, 0.378806),(0.113557, 1.784542, -0.861585)]\n",
    "coordinates[4]  = [(0.0, 0.0, 0.0),(0.0, 0.0, 1.020682),(0.989529, 0.0, -0.250241),(-0.579536, 1.280832, -0.451222),(-0.824405, 1.82202, 0.378806),(0.150036, 1.811053, -0.883183)]\n",
    "coordinates[5]  = [(0.0, 0.0, 0.0),(0.0, 0.0, 1.020682),(0.989529, 0.0, -0.250241),(-0.579536, 1.280832, -0.451222),(-0.824405, 1.82202, 0.378806),(0.186514, 1.837564, -0.904781)]\n",
    "coordinates[6]  = [(0.0, 0.0, 0.0),(0.0, 0.0, 1.020682),(0.989529, 0.0, -0.250241),(-0.579536, 1.280832, -0.451222),(-0.824405, 1.82202, 0.378806),(0.222993, 1.864075, -0.926379)]\n",
    "coordinates[7]  = [(0.0, 0.0, 0.0),(0.0, 0.0, 1.020682),(0.989529, 0.0, -0.250241),(-0.579536, 1.280832, -0.451222),(-0.824405, 1.82202, 0.378806),(0.259471, 1.890586, -0.947977)]\n",
    "coordinates[8]  = [(0.0, 0.0, 0.0),(0.0, 0.0, 1.020682),(0.989529, 0.0, -0.250241),(-0.579536, 1.280832, -0.451222),(-0.824405, 1.82202, 0.378806),(0.29595, 1.917098, -0.969575)]\n",
    "coordinates[9]  = [(0.0, 0.0, 0.0),(0.0, 0.0, 1.020682),(0.989529, 0.0, -0.250241),(-0.579536, 1.280832, -0.451222),(-0.824405, 1.82202, 0.378806),(0.332429, 1.943609, -0.991173)]\n",
    "coordinates[10] = [(0.0, 0.0, 0.0),(0.0, 0.0, 1.020682),(0.989529, 0.0, -0.250241),(-0.579536, 1.280832, -0.451222),(-0.824405, 1.82202, 0.378806),(0.368907, 1.97012, -1.012771)]\n",
    "coordinates[11] = [(0.0, 0.0, 0.0),(0.0, 0.0, 1.020682),(0.989529, 0.0, -0.250241),(-0.579536, 1.280832, -0.451222),(-0.824405, 1.82202, 0.378806),(0.405386, 1.996631, -1.034369)]\n",
    "coordinates[12] = [(0.0, 0.0, 0.0),(0.0, 0.0, 1.020682),(0.989529, 0.0, -0.250241),(-0.579536, 1.280832, -0.451222),(-0.824405, 1.82202, 0.378806),(0.441864, 2.023142, -1.055967)]\n",
    "coordinates[13] = [(0.0, 0.0, 0.0),(0.0, 0.0, 1.020682),(0.989529, 0.0, -0.250241),(-0.579536, 1.280832, -0.451222),(-0.824405, 1.82202, 0.378806),(0.478343, 2.049653, -1.077566)]\n",
    "coordinates[14] = [(0.0, 0.0, 0.0),(0.0, 0.0, 1.020682),(0.989529, 0.0, -0.250241),(-0.579536, 1.280832, -0.451222),(-0.824405, 1.82202, 0.378806),(0.514822, 2.076164, -1.099164)]\n",
    "coordinates[15] = [(0.0, 0.0, 0.0),(0.0, 0.0, 1.020682),(0.989529, 0.0, -0.250241),(-0.579536, 1.280832, -0.451222),(-0.824405, 1.82202, 0.378806),(0.5513, 2.102675, -1.120762)]\n",
    "coordinates[16] = [(0.0, 0.0, 0.0),(0.0, 0.0, 1.020682),(0.989529, 0.0, -0.250241),(-0.579536, 1.280832, -0.451222),(-0.824405, 1.82202, 0.378806),(0.587779, 2.129186, -1.14236)]\n",
    "coordinates[17] = [(0.0, 0.0, 0.0),(0.0, 0.0, 1.020682),(0.989529, 0.0, -0.250241),(-0.579536, 1.280832, -0.451222),(-0.824405, 1.82202, 0.378806),(0.624257, 2.155697, -1.163958)]\n",
    "coordinates[18] = [(0.0, 0.0, 0.0),(0.0, 0.0, 1.020682),(0.989529, 0.0, -0.250241),(-0.579536, 1.280832, -0.451222),(-0.824405, 1.82202, 0.378806),(0.660736, 2.182208, -1.185556)]\n",
    "coordinates[19] = [(0.0, 0.0, 0.0),(0.0, 0.0, 1.020682),(0.989529, 0.0, -0.250241),(-0.579536, 1.280832, -0.451222),(-0.824405, 1.82202, 0.378806),(0.697215, 2.208719, -1.207154)]\n",
    "coordinates[20] = [(0.0, 0.0, 0.0),(0.0, 0.0, 1.020682),(0.989529, 0.0, -0.250241),(-0.579536, 1.280832, -0.451222),(-0.824405, 1.82202, 0.378806),(0.733693, 2.23523, -1.228752)]\n",
    "coordinates[21] = [(0.0, 0.0, 0.0),(0.0, 0.0, 1.020682),(0.989529, 0.0, -0.250241),(-0.579536, 1.280832, -0.451222),(-0.824405, 1.82202, 0.378806),(0.770172, 2.261741, -1.25035)]\n",
    "coordinates[22] = [(0.0, 0.0, 0.0),(0.0, 0.0, 1.020682),(0.989529, 0.0, -0.250241),(-0.579536, 1.280832, -0.451222),(-0.824405, 1.82202, 0.378806),(0.80665, 2.288252, -1.271948)]\n",
    "coordinates[23] = [(0.0, 0.0, 0.0),(0.0, 0.0, 1.020682),(0.989529, 0.0, -0.250241),(-0.579536, 1.280832, -0.451222),(-0.824405, 1.82202, 0.378806),(0.843129, 2.314763, -1.293546)]\n",
    "coordinates[24] = [(0.0, 0.0, 0.0),(0.0, 0.0, 1.020682),(0.989529, 0.0, -0.250241),(-0.579536, 1.280832, -0.451222),(-0.824405, 1.82202, 0.378806),(0.879608, 2.341274, -1.315144)]"
   ]
  },
  {
   "cell_type": "code",
   "execution_count": 3,
   "metadata": {},
   "outputs": [
    {
     "data": {
      "text/plain": [
       "(0.0, 0.0, 0.0)"
      ]
     },
     "execution_count": 3,
     "metadata": {},
     "output_type": "execute_result"
    }
   ],
   "source": [
    "coordinates[0][0]"
   ]
  },
  {
   "cell_type": "code",
   "execution_count": 4,
   "metadata": {},
   "outputs": [],
   "source": [
    "def calc_FCI():\n",
    "    mol = pyscf.M(\n",
    "        # atom = f'Li 0 0 0; H 0 0 {r}',  # in Angstrom\n",
    "        atom = f'N 0 0 0; H 0 0 1.020682; H 0.989529 0  -0.250241; N -0.579536 1.280832 -0.451222; H -0.824405 1.82202 0.378806; H 0.004121 1.705009 -0.796791 ',\n",
    "        basis = '631g*',\n",
    "        symmetry = True,\n",
    "    )\n",
    "    myhf = mol.RHF().run()\n",
    "\n",
    "    #\n",
    "    # create an FCI solver based on the SCF object\n",
    "    #\n",
    "    cisolver = pyscf.fci.FCI(myhf)\n",
    "    # print('E(FCI) = %.12f' % cisolver.kernel()[0])\n",
    "    return cisolver.kernel()[0]"
   ]
  },
  {
   "cell_type": "code",
   "execution_count": 5,
   "metadata": {},
   "outputs": [
    {
     "name": "stderr",
     "output_type": "stream",
     "text": [
      "/home/azhar04/anaconda3/envs/quantum-dev/lib/python3.8/site-packages/pyscf/dft/libxc.py:772: UserWarning: Since PySCF-2.3, B3LYP (and B3P86) are changed to the VWN-RPA variant, the same to the B3LYP functional in Gaussian and ORCA (issue 1480). To restore the VWN5 definition, you can put the setting \"B3LYP_WITH_VWN5 = True\" in pyscf_conf.py\n",
      "  warnings.warn('Since PySCF-2.3, B3LYP (and B3P86) are changed to the VWN-RPA variant, '\n"
     ]
    },
    {
     "name": "stdout",
     "output_type": "stream",
     "text": [
      "converged SCF energy = -111.090975031272\n"
     ]
    },
    {
     "ename": "MemoryError",
     "evalue": "Unable to allocate 354. GiB for an array with shape (94143280, 252, 4) and data type int32",
     "output_type": "error",
     "traceback": [
      "\u001b[0;31m---------------------------------------------------------------------------\u001b[0m",
      "\u001b[0;31mMemoryError\u001b[0m                               Traceback (most recent call last)",
      "Cell \u001b[0;32mIn[5], line 1\u001b[0m\n\u001b[0;32m----> 1\u001b[0m energies \u001b[38;5;241m=\u001b[39m \u001b[43mcalc_FCI\u001b[49m\u001b[43m(\u001b[49m\u001b[43m)\u001b[49m\n",
      "Cell \u001b[0;32mIn[4], line 15\u001b[0m, in \u001b[0;36mcalc_FCI\u001b[0;34m()\u001b[0m\n\u001b[1;32m     13\u001b[0m cisolver \u001b[38;5;241m=\u001b[39m pyscf\u001b[38;5;241m.\u001b[39mfci\u001b[38;5;241m.\u001b[39mFCI(myhf)\n\u001b[1;32m     14\u001b[0m \u001b[38;5;66;03m# print('E(FCI) = %.12f' % cisolver.kernel()[0])\u001b[39;00m\n\u001b[0;32m---> 15\u001b[0m \u001b[38;5;28;01mreturn\u001b[39;00m \u001b[43mcisolver\u001b[49m\u001b[38;5;241;43m.\u001b[39;49m\u001b[43mkernel\u001b[49m\u001b[43m(\u001b[49m\u001b[43m)\u001b[49m[\u001b[38;5;241m0\u001b[39m]\n",
      "File \u001b[0;32m~/anaconda3/envs/quantum-dev/lib/python3.8/site-packages/pyscf/fci/__init__.py:225\u001b[0m, in \u001b[0;36mFCI.<locals>.CISolver.kernel\u001b[0;34m(self, h1e, eri, norb, nelec, ci0, ecore, **kwargs)\u001b[0m\n\u001b[1;32m    223\u001b[0m \u001b[38;5;28;01mdef\u001b[39;00m \u001b[38;5;21mkernel\u001b[39m(\u001b[38;5;28mself\u001b[39m, h1e\u001b[38;5;241m=\u001b[39mh1e, eri\u001b[38;5;241m=\u001b[39meri, norb\u001b[38;5;241m=\u001b[39mnorb, nelec\u001b[38;5;241m=\u001b[39mnelec, ci0\u001b[38;5;241m=\u001b[39m\u001b[38;5;28;01mNone\u001b[39;00m,\n\u001b[1;32m    224\u001b[0m            ecore\u001b[38;5;241m=\u001b[39mecore, \u001b[38;5;241m*\u001b[39m\u001b[38;5;241m*\u001b[39mkwargs):\n\u001b[0;32m--> 225\u001b[0m     \u001b[38;5;28;01mreturn\u001b[39;00m \u001b[43mfcisolver_class\u001b[49m\u001b[38;5;241;43m.\u001b[39;49m\u001b[43mkernel\u001b[49m\u001b[43m(\u001b[49m\u001b[38;5;28;43mself\u001b[39;49m\u001b[43m,\u001b[49m\u001b[43m \u001b[49m\u001b[43mh1e\u001b[49m\u001b[43m,\u001b[49m\u001b[43m \u001b[49m\u001b[43meri\u001b[49m\u001b[43m,\u001b[49m\u001b[43m \u001b[49m\u001b[43mnorb\u001b[49m\u001b[43m,\u001b[49m\u001b[43m \u001b[49m\u001b[43mnelec\u001b[49m\u001b[43m,\u001b[49m\u001b[43m \u001b[49m\u001b[43mci0\u001b[49m\u001b[43m,\u001b[49m\n\u001b[1;32m    226\u001b[0m \u001b[43m                                  \u001b[49m\u001b[43mecore\u001b[49m\u001b[38;5;241;43m=\u001b[39;49m\u001b[43mecore\u001b[49m\u001b[43m,\u001b[49m\u001b[43m \u001b[49m\u001b[38;5;241;43m*\u001b[39;49m\u001b[38;5;241;43m*\u001b[39;49m\u001b[43mkwargs\u001b[49m\u001b[43m)\u001b[49m\n",
      "File \u001b[0;32m~/anaconda3/envs/quantum-dev/lib/python3.8/site-packages/pyscf/fci/direct_spin1_symm.py:744\u001b[0m, in \u001b[0;36mFCISolver.kernel\u001b[0;34m(self, h1e, eri, norb, nelec, ci0, tol, lindep, max_cycle, max_space, nroots, davidson_only, pspace_size, orbsym, wfnsym, ecore, **kwargs)\u001b[0m\n\u001b[1;32m    742\u001b[0m \u001b[38;5;28mself\u001b[39m\u001b[38;5;241m.\u001b[39mnorb \u001b[38;5;241m=\u001b[39m norb\n\u001b[1;32m    743\u001b[0m \u001b[38;5;28mself\u001b[39m\u001b[38;5;241m.\u001b[39mnelec \u001b[38;5;241m=\u001b[39m nelec \u001b[38;5;241m=\u001b[39m _unpack_nelec(nelec, \u001b[38;5;28mself\u001b[39m\u001b[38;5;241m.\u001b[39mspin)\n\u001b[0;32m--> 744\u001b[0m link_index \u001b[38;5;241m=\u001b[39m \u001b[43mdirect_spin1\u001b[49m\u001b[38;5;241;43m.\u001b[39;49m\u001b[43m_unpack\u001b[49m\u001b[43m(\u001b[49m\u001b[43mnorb\u001b[49m\u001b[43m,\u001b[49m\u001b[43m \u001b[49m\u001b[43mnelec\u001b[49m\u001b[43m,\u001b[49m\u001b[43m \u001b[49m\u001b[38;5;28;43;01mNone\u001b[39;49;00m\u001b[43m)\u001b[49m\n\u001b[1;32m    746\u001b[0m \u001b[38;5;28;01mif\u001b[39;00m \u001b[38;5;28mgetattr\u001b[39m(\u001b[38;5;28mself\u001b[39m\u001b[38;5;241m.\u001b[39mmol, \u001b[38;5;124m'\u001b[39m\u001b[38;5;124mgroupname\u001b[39m\u001b[38;5;124m'\u001b[39m, \u001b[38;5;28;01mNone\u001b[39;00m) \u001b[38;5;129;01min\u001b[39;00m (\u001b[38;5;124m'\u001b[39m\u001b[38;5;124mDooh\u001b[39m\u001b[38;5;124m'\u001b[39m, \u001b[38;5;124m'\u001b[39m\u001b[38;5;124mCoov\u001b[39m\u001b[38;5;124m'\u001b[39m):\n\u001b[1;32m    747\u001b[0m     \u001b[38;5;28;01mif\u001b[39;00m \u001b[38;5;129;01mnot\u001b[39;00m \u001b[38;5;28mhasattr\u001b[39m(orbsym, \u001b[38;5;124m'\u001b[39m\u001b[38;5;124mdegen_mapping\u001b[39m\u001b[38;5;124m'\u001b[39m):\n",
      "File \u001b[0;32m~/anaconda3/envs/quantum-dev/lib/python3.8/site-packages/pyscf/fci/direct_spin1.py:963\u001b[0m, in \u001b[0;36m_unpack\u001b[0;34m(norb, nelec, link_index, spin)\u001b[0m\n\u001b[1;32m    961\u001b[0m \u001b[38;5;28;01mif\u001b[39;00m link_index \u001b[38;5;129;01mis\u001b[39;00m \u001b[38;5;28;01mNone\u001b[39;00m:\n\u001b[1;32m    962\u001b[0m     neleca, nelecb \u001b[38;5;241m=\u001b[39m _unpack_nelec(nelec, spin)\n\u001b[0;32m--> 963\u001b[0m     link_indexa \u001b[38;5;241m=\u001b[39m link_indexb \u001b[38;5;241m=\u001b[39m \u001b[43mcistring\u001b[49m\u001b[38;5;241;43m.\u001b[39;49m\u001b[43mgen_linkstr_index_trilidx\u001b[49m\u001b[43m(\u001b[49m\u001b[38;5;28;43mrange\u001b[39;49m\u001b[43m(\u001b[49m\u001b[43mnorb\u001b[49m\u001b[43m)\u001b[49m\u001b[43m,\u001b[49m\u001b[43m \u001b[49m\u001b[43mneleca\u001b[49m\u001b[43m)\u001b[49m\n\u001b[1;32m    964\u001b[0m     \u001b[38;5;28;01mif\u001b[39;00m neleca \u001b[38;5;241m!=\u001b[39m nelecb:\n\u001b[1;32m    965\u001b[0m         link_indexb \u001b[38;5;241m=\u001b[39m cistring\u001b[38;5;241m.\u001b[39mgen_linkstr_index_trilidx(\u001b[38;5;28mrange\u001b[39m(norb), nelecb)\n",
      "File \u001b[0;32m~/anaconda3/envs/quantum-dev/lib/python3.8/site-packages/pyscf/fci/cistring.py:266\u001b[0m, in \u001b[0;36mgen_linkstr_index_trilidx\u001b[0;34m(orb_list, nocc, strs)\u001b[0m\n\u001b[1;32m    260\u001b[0m \u001b[38;5;28;01mdef\u001b[39;00m \u001b[38;5;21mgen_linkstr_index_trilidx\u001b[39m(orb_list, nocc, strs\u001b[38;5;241m=\u001b[39m\u001b[38;5;28;01mNone\u001b[39;00m):\n\u001b[1;32m    261\u001b[0m \u001b[38;5;250m    \u001b[39m\u001b[38;5;124mr\u001b[39m\u001b[38;5;124;03m'''Generate linkstr_index with the assumption that :math:`p^+ q|0\\rangle`\u001b[39;00m\n\u001b[1;32m    262\u001b[0m \u001b[38;5;124;03m    where :math:`p > q`.\u001b[39;00m\n\u001b[1;32m    263\u001b[0m \u001b[38;5;124;03m    So the resultant link_index has the structure ``[pq, *, str1, sign]``.\u001b[39;00m\n\u001b[1;32m    264\u001b[0m \u001b[38;5;124;03m    It is identical to a call to ``reform_linkstr_index(gen_linkstr_index(...))``.\u001b[39;00m\n\u001b[1;32m    265\u001b[0m \u001b[38;5;124;03m    '''\u001b[39;00m\n\u001b[0;32m--> 266\u001b[0m     \u001b[38;5;28;01mreturn\u001b[39;00m \u001b[43mgen_linkstr_index\u001b[49m\u001b[43m(\u001b[49m\u001b[43morb_list\u001b[49m\u001b[43m,\u001b[49m\u001b[43m \u001b[49m\u001b[43mnocc\u001b[49m\u001b[43m,\u001b[49m\u001b[43m \u001b[49m\u001b[43mstrs\u001b[49m\u001b[43m,\u001b[49m\u001b[43m \u001b[49m\u001b[38;5;28;43;01mTrue\u001b[39;49;00m\u001b[43m)\u001b[49m\n",
      "File \u001b[0;32m~/anaconda3/envs/quantum-dev/lib/python3.8/site-packages/pyscf/fci/cistring.py:234\u001b[0m, in \u001b[0;36mgen_linkstr_index\u001b[0;34m(orb_list, nocc, strs, tril)\u001b[0m\n\u001b[1;32m    232\u001b[0m nvir \u001b[38;5;241m=\u001b[39m norb \u001b[38;5;241m-\u001b[39m nocc\n\u001b[1;32m    233\u001b[0m na \u001b[38;5;241m=\u001b[39m strs\u001b[38;5;241m.\u001b[39mshape[\u001b[38;5;241m0\u001b[39m]\n\u001b[0;32m--> 234\u001b[0m link_index \u001b[38;5;241m=\u001b[39m \u001b[43mnumpy\u001b[49m\u001b[38;5;241;43m.\u001b[39;49m\u001b[43mempty\u001b[49m\u001b[43m(\u001b[49m\u001b[43m(\u001b[49m\u001b[43mna\u001b[49m\u001b[43m,\u001b[49m\u001b[43mnocc\u001b[49m\u001b[38;5;241;43m*\u001b[39;49m\u001b[43mnvir\u001b[49m\u001b[38;5;241;43m+\u001b[39;49m\u001b[43mnocc\u001b[49m\u001b[43m,\u001b[49m\u001b[38;5;241;43m4\u001b[39;49m\u001b[43m)\u001b[49m\u001b[43m,\u001b[49m\u001b[43m \u001b[49m\u001b[43mdtype\u001b[49m\u001b[38;5;241;43m=\u001b[39;49m\u001b[43mnumpy\u001b[49m\u001b[38;5;241;43m.\u001b[39;49m\u001b[43mint32\u001b[49m\u001b[43m)\u001b[49m\n\u001b[1;32m    235\u001b[0m libfci\u001b[38;5;241m.\u001b[39mFCIlinkstr_index(link_index\u001b[38;5;241m.\u001b[39mctypes\u001b[38;5;241m.\u001b[39mdata_as(ctypes\u001b[38;5;241m.\u001b[39mc_void_p),\n\u001b[1;32m    236\u001b[0m                         ctypes\u001b[38;5;241m.\u001b[39mc_int(norb), ctypes\u001b[38;5;241m.\u001b[39mc_int(na),\n\u001b[1;32m    237\u001b[0m                         ctypes\u001b[38;5;241m.\u001b[39mc_int(nocc),\n\u001b[1;32m    238\u001b[0m                         strs\u001b[38;5;241m.\u001b[39mctypes\u001b[38;5;241m.\u001b[39mdata_as(ctypes\u001b[38;5;241m.\u001b[39mc_void_p),\n\u001b[1;32m    239\u001b[0m                         ctypes\u001b[38;5;241m.\u001b[39mc_int(tril))\n\u001b[1;32m    240\u001b[0m \u001b[38;5;28;01mreturn\u001b[39;00m link_index\n",
      "\u001b[0;31mMemoryError\u001b[0m: Unable to allocate 354. GiB for an array with shape (94143280, 252, 4) and data type int32"
     ]
    }
   ],
   "source": [
    "energies = calc_FCI()"
   ]
  }
 ],
 "metadata": {
  "kernelspec": {
   "display_name": "quantum-dev",
   "language": "python",
   "name": "python3"
  },
  "language_info": {
   "codemirror_mode": {
    "name": "ipython",
    "version": 3
   },
   "file_extension": ".py",
   "mimetype": "text/x-python",
   "name": "python",
   "nbconvert_exporter": "python",
   "pygments_lexer": "ipython3",
   "version": "3.8.18"
  }
 },
 "nbformat": 4,
 "nbformat_minor": 2
}
