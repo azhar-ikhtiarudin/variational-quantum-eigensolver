{
 "cells": [
  {
   "cell_type": "code",
   "execution_count": 30,
   "metadata": {},
   "outputs": [],
   "source": [
    "import numpy as np\n",
    "import matplotlib.pyplot as plt\n",
    "from openfermion.chem import MolecularData\n",
    "from openfermion.transforms import get_fermion_operator, jordan_wigner, bravyi_kitaev\n",
    "from openfermion.linalg import get_sparse_operator\n",
    "from openfermion.ops import FermionOperator\n",
    "from openfermionpyscf import run_pyscf\n",
    "from pyscf import fci\n",
    "# A_to_au_conversion = 1.8897259885789\n",
    "A_to_au_conversion=1"
   ]
  },
  {
   "cell_type": "code",
   "execution_count": 31,
   "metadata": {},
   "outputs": [],
   "source": [
    "#define constants\n",
    "basis = \"sto-3g\"  #basis set\n",
    "multiplicity = 1  #spin multiplicity\n",
    "charge = 0        #total charge for the molecule\n",
    "distance = 0.742*A_to_au_conversion\n",
    "geometry = [(\"H\",(0,0,0)),(\"H\", (0,0,distance))]  #xyz coordinates for atoms\n",
    "description = str(distance)  #description for the psi4 output file\n",
    "\n",
    "molecule = MolecularData(geometry, basis, multiplicity, charge, description)"
   ]
  },
  {
   "cell_type": "code",
   "execution_count": 32,
   "metadata": {},
   "outputs": [],
   "source": [
    "molecule = run_pyscf(molecule,run_scf=1,run_fci=1)"
   ]
  },
  {
   "cell_type": "code",
   "execution_count": 33,
   "metadata": {},
   "outputs": [
    {
     "name": "stdout",
     "output_type": "stream",
     "text": [
      "HF energy: -1.1166512474115224 (Hartree)\n",
      "FCI energy: -1.1372633383635353 (Hartree)\n"
     ]
    }
   ],
   "source": [
    "print(\"HF energy: {} (Hartree)\".format(molecule.hf_energy))\n",
    "print(\"FCI energy: {} (Hartree)\".format(molecule.fci_energy))"
   ]
  },
  {
   "cell_type": "code",
   "execution_count": 34,
   "metadata": {},
   "outputs": [
    {
     "data": {
      "text/plain": [
       "<openfermionpyscf._pyscf_molecular_data.PyscfMolecularData at 0x7f304c256410>"
      ]
     },
     "execution_count": 34,
     "metadata": {},
     "output_type": "execute_result"
    }
   ],
   "source": [
    "molecule"
   ]
  },
  {
   "cell_type": "code",
   "execution_count": 35,
   "metadata": {},
   "outputs": [
    {
     "data": {
      "text/plain": [
       "array([[-1.25210118e+00,  3.01164789e-16],\n",
       "       [ 4.59592276e-17, -4.76324666e-01]])"
      ]
     },
     "execution_count": 35,
     "metadata": {},
     "output_type": "execute_result"
    }
   ],
   "source": [
    "molecule.one_body_integrals"
   ]
  },
  {
   "cell_type": "code",
   "execution_count": 36,
   "metadata": {},
   "outputs": [
    {
     "data": {
      "text/plain": [
       "array([[[[ 6.74374273e-01, -2.77555756e-17],\n",
       "         [ 2.77555756e-17,  1.81322406e-01]],\n",
       "\n",
       "        [[ 2.77555756e-17,  1.81322406e-01],\n",
       "         [ 6.63363875e-01,  4.44089210e-16]]],\n",
       "\n",
       "\n",
       "       [[[-2.77555756e-17,  6.63363875e-01],\n",
       "         [ 1.81322406e-01,  1.94289029e-16]],\n",
       "\n",
       "        [[ 1.81322406e-01,  1.94289029e-16],\n",
       "         [ 4.44089210e-16,  6.97283373e-01]]]])"
      ]
     },
     "execution_count": 36,
     "metadata": {},
     "output_type": "execute_result"
    }
   ],
   "source": [
    "molecule.two_body_integrals"
   ]
  },
  {
   "cell_type": "code",
   "execution_count": 37,
   "metadata": {},
   "outputs": [
    {
     "data": {
      "text/plain": [
       "array([[ 0.54905874,  1.21012637],\n",
       "       [ 0.54905874, -1.21012637]])"
      ]
     },
     "execution_count": 37,
     "metadata": {},
     "output_type": "execute_result"
    }
   ],
   "source": [
    "molecule.canonical_orbitals"
   ]
  },
  {
   "cell_type": "markdown",
   "metadata": {},
   "source": [
    "### LiH"
   ]
  },
  {
   "cell_type": "code",
   "execution_count": 42,
   "metadata": {},
   "outputs": [
    {
     "data": {
      "text/plain": [
       "array([[ 9.91217859e-01, -1.69118000e-01, -2.09651754e-01,\n",
       "         3.98172155e-18,  3.15432108e-17,  8.96222896e-02],\n",
       "       [ 3.25277466e-02,  4.52566663e-01,  8.00010538e-01,\n",
       "        -1.63076365e-17, -1.55239019e-16, -7.14768636e-01],\n",
       "       [-1.44733949e-18,  8.49672494e-17, -3.31431327e-17,\n",
       "        -6.48991817e-01,  7.60795387e-01, -4.89651656e-17],\n",
       "       [-5.84326387e-20, -2.59834040e-17,  1.07532950e-16,\n",
       "         7.60795387e-01,  6.48991817e-01, -1.09614812e-16],\n",
       "       [-6.54523286e-03,  3.47072604e-01, -6.12424962e-01,\n",
       "         5.73274208e-17, -5.14679609e-17, -9.88606462e-01],\n",
       "       [ 5.06953079e-03,  5.47384750e-01, -1.38041507e-01,\n",
       "        -6.96002732e-19,  1.37738828e-16,  1.20039099e+00]])"
      ]
     },
     "execution_count": 42,
     "metadata": {},
     "output_type": "execute_result"
    }
   ],
   "source": [
    "#define constants\n",
    "basis = \"sto-3g\"  #basis set\n",
    "multiplicity = 1  #spin multiplicity\n",
    "charge = 0        #total charge for the molecule\n",
    "distance = 1.57*A_to_au_conversion\n",
    "geometry = [(\"Li\",(0,0,0)),(\"H\", (0,0,distance))]  #xyz coordinates for atoms\n",
    "description = str(distance)  #description for the psi4 output file\n",
    "\n",
    "molecule = MolecularData(geometry, basis, multiplicity, charge, description)\n",
    "\n",
    "molecule = run_pyscf(molecule,run_scf=1,run_fci=1)\n",
    "\n",
    "molecule.canonical_orbitals"
   ]
  },
  {
   "cell_type": "code",
   "execution_count": 43,
   "metadata": {},
   "outputs": [
    {
     "data": {
      "text/plain": [
       "array([[ 0.00506953,  0.54738475, -0.13804151,  0.        , -0.        ,\n",
       "         1.20039099],\n",
       "       [ 0.99121786, -0.169118  , -0.20965175,  0.        , -0.        ,\n",
       "         0.08962229],\n",
       "       [ 0.03252775,  0.45256666,  0.80001054,  0.        , -0.        ,\n",
       "        -0.71476864],\n",
       "       [-0.        ,  0.        , -0.        ,  0.        ,  1.        ,\n",
       "         0.        ],\n",
       "       [-0.        ,  0.        , -0.        ,  1.        , -0.        ,\n",
       "         0.        ],\n",
       "       [ 0.00654523, -0.3470726 ,  0.61242496,  0.        , -0.        ,\n",
       "         0.98860646]])"
      ]
     },
     "execution_count": 43,
     "metadata": {},
     "output_type": "execute_result"
    }
   ],
   "source": [
    "#define constants\n",
    "basis = \"sto-3g\"  #basis set\n",
    "multiplicity = 1  #spin multiplicity\n",
    "charge = 0        #total charge for the molecule\n",
    "distance = 1.57*A_to_au_conversion\n",
    "geometry = [(\"H\",(0,0,0)),(\"Li\", (0,0,distance))]  #xyz coordinates for atoms\n",
    "description = str(distance)  #description for the psi4 output file\n",
    "\n",
    "molecule = MolecularData(geometry, basis, multiplicity, charge, description)\n",
    "\n",
    "molecule = run_pyscf(molecule,run_scf=1,run_fci=1)\n",
    "\n",
    "molecule.canonical_orbitals"
   ]
  },
  {
   "cell_type": "markdown",
   "metadata": {},
   "source": [
    "### N2H4"
   ]
  },
  {
   "cell_type": "code",
   "execution_count": 41,
   "metadata": {},
   "outputs": [
    {
     "data": {
      "text/plain": [
       "array([[ 9.91217859e-01, -1.69118000e-01, -2.09651754e-01,\n",
       "        -3.84519212e-17,  3.57692227e-17,  8.96222896e-02],\n",
       "       [ 3.25277466e-02,  4.52566663e-01,  8.00010538e-01,\n",
       "         1.77217697e-16, -1.99946246e-16, -7.14768636e-01],\n",
       "       [ 2.17844783e-18, -1.75020978e-16,  5.98160478e-17,\n",
       "         8.42864981e-01,  5.38125101e-01,  4.36970903e-17],\n",
       "       [ 4.89478411e-19, -4.54934134e-17,  2.25722201e-16,\n",
       "        -5.38125101e-01,  8.42864981e-01, -1.23983566e-16],\n",
       "       [-6.54523286e-03,  3.47072604e-01, -6.12424962e-01,\n",
       "         4.38463460e-17,  1.29404023e-16, -9.88606462e-01],\n",
       "       [ 5.06953079e-03,  5.47384750e-01, -1.38041507e-01,\n",
       "        -1.34818191e-16,  2.12524399e-16,  1.20039099e+00]])"
      ]
     },
     "execution_count": 41,
     "metadata": {},
     "output_type": "execute_result"
    }
   ],
   "source": [
    "#define constants\n",
    "basis = \"sto-3g\"  #basis set\n",
    "multiplicity = 1  #spin multiplicity\n",
    "charge = 0        #total charge for the molecule\n",
    "distance = 1.57*A_to_au_conversion\n",
    "geometry = [(\"H\",(0,0,0)),(\"Li\", (0,0,distance))]  #xyz coordinates for atoms\n",
    "symbols = [\"N\", \"H\", \"H\", \"N\", \"H\", \"H\"]\n",
    "# ground state coordinate: \n",
    "geometry = np.array([0.0, 0.0, 0.0 , 0.0, 0.0, 1.015264, 0.978541, 0.0, -0.270591, -0.627449, 1.276052, -0.477492 , -0.897827, 1.825923, 0.332013 , 0.080714, 1.825923, -0.953842])*A_to_au_conversion\n",
    "\n",
    "description = str(distance)  #description for the psi4 output file\n",
    "\n",
    "molecule = MolecularData(geometry, basis, multiplicity, charge, description)\n",
    "\n",
    "molecule = run_pyscf(molecule,run_scf=1,run_fci=1)\n",
    "\n",
    "molecule.canonical_orbitals"
   ]
  }
 ],
 "metadata": {
  "kernelspec": {
   "display_name": "quantum-dev-2",
   "language": "python",
   "name": "python3"
  },
  "language_info": {
   "codemirror_mode": {
    "name": "ipython",
    "version": 3
   },
   "file_extension": ".py",
   "mimetype": "text/x-python",
   "name": "python",
   "nbconvert_exporter": "python",
   "pygments_lexer": "ipython3",
   "version": "3.11.8"
  }
 },
 "nbformat": 4,
 "nbformat_minor": 2
}
