{
 "cells": [
  {
   "cell_type": "code",
   "execution_count": 1,
   "metadata": {},
   "outputs": [],
   "source": [
    "import pennylane as qml\n",
    "from pennylane import qchem\n",
    "from pennylane import numpy as np"
   ]
  },
  {
   "cell_type": "code",
   "execution_count": 5,
   "metadata": {},
   "outputs": [
    {
     "name": "stdout",
     "output_type": "stream",
     "text": [
      "  (-0.24274280046588792) [Z2]\n",
      "+ (-0.24274280046588792) [Z3]\n",
      "+ (-0.04207898539364302) [I0]\n",
      "+ (0.17771287502681438) [Z0]\n",
      "+ (0.1777128750268144) [Z1]\n",
      "+ (0.12293305045316086) [Z0 Z2]\n",
      "+ (0.12293305045316086) [Z1 Z3]\n",
      "+ (0.16768319431887935) [Z0 Z3]\n",
      "+ (0.16768319431887935) [Z1 Z2]\n",
      "+ (0.1705973836507714) [Z0 Z1]\n",
      "+ (0.1762764072240811) [Z2 Z3]\n",
      "+ (-0.044750143865718496) [Y0 Y1 X2 X3]\n",
      "+ (-0.044750143865718496) [X0 X1 Y2 Y3]\n",
      "+ (0.044750143865718496) [Y0 X1 X2 Y3]\n",
      "+ (0.044750143865718496) [X0 Y1 Y2 X3]\n"
     ]
    }
   ],
   "source": [
    "symbols, coordinates = qchem.read_structure(\"hydrogen_molecule/h2.xyz\")\n",
    "h, qubits = qchem.molecular_hamiltonian(symbols, coordinates, name=\"h2\")\n",
    "print(h)"
   ]
  },
  {
   "cell_type": "code",
   "execution_count": 6,
   "metadata": {},
   "outputs": [
    {
     "name": "stdout",
     "output_type": "stream",
     "text": [
      "  ((0.375+0j)) [Z0]\n",
      "+ ((0.375+0j)) [Z1]\n",
      "+ ((0.375+0j)) [Z2]\n",
      "+ ((0.375+0j)) [Z3]\n",
      "+ ((0.75+0j)) [I0]\n",
      "+ ((-0.375+0j)) [Z0 Z1]\n",
      "+ ((-0.375+0j)) [Z2 Z3]\n",
      "+ ((-0.125+0j)) [Z0 Z3]\n",
      "+ ((-0.125+0j)) [Z1 Z2]\n",
      "+ ((0.125+0j)) [Z0 Z2]\n",
      "+ ((0.125+0j)) [Z1 Z3]\n",
      "+ ((-0.125+0j)) [Y0 X1 X2 Y3]\n",
      "+ ((-0.125+0j)) [X0 Y1 Y2 X3]\n",
      "+ ((0.125+0j)) [Y0 X1 Y2 X3]\n",
      "+ ((0.125+0j)) [Y0 Y1 X2 X3]\n",
      "+ ((0.125+0j)) [Y0 Y1 Y2 Y3]\n",
      "+ ((0.125+0j)) [X0 X1 X2 X3]\n",
      "+ ((0.125+0j)) [X0 X1 Y2 Y3]\n",
      "+ ((0.125+0j)) [X0 Y1 X2 Y3]\n"
     ]
    }
   ],
   "source": [
    "electrons = 2  # Molecular hydrogen has two electrons\n",
    "\n",
    "S2 = qchem.spin2(electrons, qubits)\n",
    "print(S2)"
   ]
  },
  {
   "cell_type": "code",
   "execution_count": 7,
   "metadata": {},
   "outputs": [],
   "source": [
    "# Hartree-Fock state\n",
    "hf_state = qchem.hf_state(electrons, qubits)\n",
    "# generate single- and double-excitations\n",
    "singles, doubles = qchem.excitations(electrons, qubits)"
   ]
  },
  {
   "cell_type": "code",
   "execution_count": 20,
   "metadata": {},
   "outputs": [],
   "source": [
    "def circuit(params, wires):\n",
    "    qml.templates.AllSinglesDoubles(params, wires, hf_state, singles, doubles)"
   ]
  },
  {
   "cell_type": "markdown",
   "metadata": {},
   "source": [
    "### Measuring the Energy and Total Spin"
   ]
  },
  {
   "cell_type": "code",
   "execution_count": 9,
   "metadata": {},
   "outputs": [
    {
     "name": "stderr",
     "output_type": "stream",
     "text": [
      "/home/azhar04/anaconda3/envs/quantum-dev/lib/python3.8/site-packages/pennylane_lightning/lightning_qubit/lightning_qubit.py:822: UserWarning: Pre-compiled binaries for lightning.qubit are not available. Falling back to using the Python-based default.qubit implementation. To manually compile from source, follow the instructions at https://pennylane-lightning.readthedocs.io/en/latest/installation.html.\n",
      "  warn(\n"
     ]
    }
   ],
   "source": [
    "dev = qml.device(\"lightning.qubit\", wires=qubits)"
   ]
  },
  {
   "cell_type": "code",
   "execution_count": 10,
   "metadata": {},
   "outputs": [],
   "source": [
    "wires = dev.wires.tolist()\n",
    "\n",
    "\n",
    "@qml.qnode(dev)\n",
    "def energy_expval(params):\n",
    "    circuit(params, wires)\n",
    "    return qml.expval(h)\n",
    "\n",
    "\n",
    "@qml.qnode(dev)\n",
    "def S2_expval(params):\n",
    "    circuit(params, wires)\n",
    "    return qml.expval(S2)"
   ]
  },
  {
   "cell_type": "code",
   "execution_count": 11,
   "metadata": {},
   "outputs": [],
   "source": [
    "def spin(params):\n",
    "    return -0.5 + np.sqrt(1 / 4 + S2_expval(params))"
   ]
  },
  {
   "cell_type": "code",
   "execution_count": 16,
   "metadata": {},
   "outputs": [],
   "source": [
    "np.random.seed(1967)\n",
    "params = np.random.normal(0, np.pi, len(singles) + len(doubles))"
   ]
  },
  {
   "cell_type": "code",
   "execution_count": 21,
   "metadata": {},
   "outputs": [
    {
     "name": "stdout",
     "output_type": "stream",
     "text": [
      "Energy: -0.2730496738441154\n",
      "Spin:   0.11000908988780544\n"
     ]
    }
   ],
   "source": [
    "print(\"Energy:\", float(energy_expval(params)))\n",
    "print(\"Spin:  \", float(spin(params)))"
   ]
  },
  {
   "cell_type": "markdown",
   "metadata": {},
   "source": [
    "Minimizing the Energy"
   ]
  },
  {
   "cell_type": "code",
   "execution_count": 28,
   "metadata": {},
   "outputs": [],
   "source": [
    "opt = qml.RMSPropOptimizer(stepsize=0.2)\n",
    "iterations = 7"
   ]
  },
  {
   "cell_type": "code",
   "execution_count": 29,
   "metadata": {},
   "outputs": [],
   "source": [
    "import time\n",
    "\n",
    "def run_vqe(energy_expval, spin, opt, initial_params, iterations):\n",
    "    energies = []\n",
    "    spins = []\n",
    "    params = initial_params\n",
    "\n",
    "    start = time.time()\n",
    "    for i in range(iterations):\n",
    "        params = opt.step(energy_expval, params)\n",
    "\n",
    "        e = energy_expval(params)\n",
    "        s = spin(params)\n",
    "\n",
    "        energies.append(e)\n",
    "        spins.append(s)\n",
    "\n",
    "        # log_metric(metric_name=\"energy\", value=e, iteration_number=i)\n",
    "\n",
    "        print(f\"Completed iteration {i + 1}\")\n",
    "        print(\"Energy:\", e)\n",
    "        print(\"Total spin:\", s)\n",
    "        print(\"----------------\")\n",
    "\n",
    "    print(f\"Optimized energy: {e} Ha\")\n",
    "    print(f\"Corresponding total spin: {s}\")\n",
    "    print(f\"Elapsed: {time.time()-start} s\")\n",
    "    return energies, spins"
   ]
  },
  {
   "cell_type": "code",
   "execution_count": 30,
   "metadata": {},
   "outputs": [
    {
     "name": "stdout",
     "output_type": "stream",
     "text": [
      "Completed iteration 1\n",
      "Energy: -0.32364562062417823\n",
      "Total spin: 0.115232018143262\n",
      "----------------\n",
      "Completed iteration 2\n",
      "Energy: -0.36951289097126916\n",
      "Total spin: 0.11929618280390086\n",
      "----------------\n",
      "Completed iteration 3\n",
      "Energy: -0.41099789088637134\n",
      "Total spin: 0.1221738284052929\n",
      "----------------\n",
      "Completed iteration 4\n",
      "Energy: -0.4487254708660813\n",
      "Total spin: 0.12388005760669574\n",
      "----------------\n",
      "Completed iteration 5\n",
      "Energy: -0.4834754762842132\n",
      "Total spin: 0.12445688237615127\n",
      "----------------\n",
      "Completed iteration 6\n",
      "Energy: -0.516074326058993\n",
      "Total spin: 0.12396017078593258\n",
      "----------------\n",
      "Completed iteration 7\n",
      "Energy: -0.5473108859722116\n",
      "Total spin: 0.12245119241886837\n",
      "----------------\n",
      "Optimized energy: -0.5473108859722116 Ha\n",
      "Corresponding total spin: 0.12245119241886837\n",
      "Elapsed: 0.5211358070373535 s\n"
     ]
    }
   ],
   "source": [
    "energies, spins = run_vqe(energy_expval, spin, opt, params, iterations)"
   ]
  },
  {
   "cell_type": "code",
   "execution_count": 27,
   "metadata": {},
   "outputs": [
    {
     "data": {
      "image/png": "[encoded data removed]",
      "text/plain": [
       "<Figure size 640x480 with 1 Axes>"
      ]
     },
     "metadata": {},
     "output_type": "display_data"
    }
   ],
   "source": [
    "import matplotlib.pyplot as plt\n",
    "\n",
    "theory_energy = -1.136189454088\n",
    "theory_spin = 0\n",
    "\n",
    "plt.hlines(theory_energy, 0, iterations, colors=\"black\")\n",
    "plt.plot(energies, \"o-\")\n",
    "plt.xlabel(\"Steps\")\n",
    "plt.ylabel(\"Energy\")\n",
    "\n",
    "axs = plt.gca()"
   ]
  },
  {
   "cell_type": "code",
   "execution_count": 31,
   "metadata": {},
   "outputs": [
    {
     "data": {
      "image/png": "[encoded data removed]",
      "text/plain": [
       "<Figure size 640x480 with 1 Axes>"
      ]
     },
     "metadata": {},
     "output_type": "display_data"
    }
   ],
   "source": [
    "import matplotlib.pyplot as plt\n",
    "\n",
    "theory_energy = -1.136189454088\n",
    "theory_spin = 0\n",
    "\n",
    "plt.hlines(theory_energy, 0, iterations, colors=\"black\")\n",
    "plt.plot(energies, \"o-\")\n",
    "plt.xlabel(\"Steps\")\n",
    "plt.ylabel(\"Energy\")\n",
    "\n",
    "axs = plt.gca()"
   ]
  }
 ],
 "metadata": {
  "kernelspec": {
   "display_name": "quantum-dev",
   "language": "python",
   "name": "python3"
  },
  "language_info": {
   "codemirror_mode": {
    "name": "ipython",
    "version": 3
   },
   "file_extension": ".py",
   "mimetype": "text/x-python",
   "name": "python",
   "nbconvert_exporter": "python",
   "pygments_lexer": "ipython3",
   "version": "3.8.18"
  }
 },
 "nbformat": 4,
 "nbformat_minor": 2
}
