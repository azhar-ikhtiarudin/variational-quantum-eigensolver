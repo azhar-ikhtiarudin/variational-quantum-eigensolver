{
 "cells": [
  {
   "cell_type": "code",
   "execution_count": 1,
   "metadata": {},
   "outputs": [],
   "source": [
    "import pyscf\n",
    "import numpy as np\n",
    "import matplotlib.pyplot as plt"
   ]
  },
  {
   "cell_type": "code",
   "execution_count": 3,
   "metadata": {},
   "outputs": [],
   "source": [
    "def calc_hf_H2(r):\n",
    "    mol = pyscf.M(\n",
    "        atom = f'Li 0 0 0; H 0 0 {r}',  # in Angstrom\n",
    "        basis = 'sto-3g',\n",
    "        symmetry = True,\n",
    "    )\n",
    "    myhf = mol.HF()\n",
    "    return myhf.kernel()"
   ]
  },
  {
   "cell_type": "code",
   "execution_count": 2,
   "metadata": {},
   "outputs": [
    {
     "data": {
      "text/plain": [
       "array([0.5 , 0.75, 1.  , 1.25, 1.5 , 1.75, 2.  , 2.25, 2.5 , 2.75, 3.  ,\n",
       "       3.25, 3.5 , 3.75, 4.  , 4.25, 4.5 , 4.75])"
      ]
     },
     "execution_count": 2,
     "metadata": {},
     "output_type": "execute_result"
    }
   ],
   "source": [
    "r_array = np.arange(0.5, 5.0, 0.25)\n",
    "r_array"
   ]
  },
  {
   "cell_type": "code",
   "execution_count": 4,
   "metadata": {},
   "outputs": [
    {
     "name": "stderr",
     "output_type": "stream",
     "text": [
      "/home/azhar04/anaconda3/envs/quantum-dev/lib/python3.8/site-packages/pyscf/dft/libxc.py:772: UserWarning: Since PySCF-2.3, B3LYP (and B3P86) are changed to the VWN-RPA variant, the same to the B3LYP functional in Gaussian and ORCA (issue 1480). To restore the VWN5 definition, you can put the setting \"B3LYP_WITH_VWN5 = True\" in pyscf_conf.py\n",
      "  warnings.warn('Since PySCF-2.3, B3LYP (and B3P86) are changed to the VWN-RPA variant, '\n"
     ]
    },
    {
     "name": "stdout",
     "output_type": "stream",
     "text": [
      "converged SCF energy = -7.02841009454192\n",
      "converged SCF energy = -7.5567216602468\n",
      "converged SCF energy = -7.76736213574856\n",
      "converged SCF energy = -7.84490531557397\n",
      "converged SCF energy = -7.86335762153512\n",
      "converged SCF energy = -7.85383960184052\n",
      "converged SCF energy = -7.83090558463707\n",
      "converged SCF energy = -7.80193895704871\n",
      "converged SCF energy = -7.77087366922191\n",
      "converged SCF energy = -7.74000074001332\n",
      "converged SCF energy = -7.71082990021723\n",
      "converged SCF energy = -7.68437642306796\n",
      "converged SCF energy = -7.66120160151512\n",
      "converged SCF energy = -7.64145386532505\n",
      "converged SCF energy = -7.62497563013133\n",
      "converged SCF energy = -7.61143115416104\n",
      "converged SCF energy = -7.60041029150998\n",
      "converged SCF energy = -7.59149580628114\n"
     ]
    }
   ],
   "source": [
    "E_R = []\n",
    "# Data = []\n",
    "for i in range(len(r_array)):\n",
    "    E = calc_hf_H2(r_array[i])\n",
    "    # Data.append(E)\n",
    "    E_R.append(E)"
   ]
  },
  {
   "cell_type": "code",
   "execution_count": 5,
   "metadata": {},
   "outputs": [
    {
     "data": {
      "text/plain": [
       "[<matplotlib.lines.Line2D at 0x7f063564adf0>]"
      ]
     },
     "execution_count": 5,
     "metadata": {},
     "output_type": "execute_result"
    },
    {
     "data": {
      "image/png": "[encoded data removed]",
      "text/plain": [
       "<Figure size 640x480 with 1 Axes>"
      ]
     },
     "metadata": {},
     "output_type": "display_data"
    }
   ],
   "source": [
    "plt.plot(E_R)"
   ]
  },
  {
   "cell_type": "code",
   "execution_count": 7,
   "metadata": {},
   "outputs": [],
   "source": [
    "hf_data_LiH = np.column_stack((r_array, E_R))\n",
    "file_name = 'hf_data_LiH.txt'\n",
    "np.savetxt(file_name, hf_data_LiH, delimiter=',', header='r_array, E_R', comments='')"
   ]
  }
 ],
 "metadata": {
  "kernelspec": {
   "display_name": "quantum-dev",
   "language": "python",
   "name": "python3"
  },
  "language_info": {
   "codemirror_mode": {
    "name": "ipython",
    "version": 3
   },
   "file_extension": ".py",
   "mimetype": "text/x-python",
   "name": "python",
   "nbconvert_exporter": "python",
   "pygments_lexer": "ipython3",
   "version": "3.8.18"
  }
 },
 "nbformat": 4,
 "nbformat_minor": 2
}
