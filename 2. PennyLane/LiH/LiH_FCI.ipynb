{
 "cells": [
  {
   "cell_type": "code",
   "execution_count": 1,
   "metadata": {},
   "outputs": [],
   "source": [
    "import pyscf\n",
    "import numpy as np\n",
    "import matplotlib.pyplot as plt"
   ]
  },
  {
   "cell_type": "code",
   "execution_count": 2,
   "metadata": {},
   "outputs": [],
   "source": [
    "def calc_fci_H2(r):\n",
    "    mol = pyscf.M(\n",
    "        atom = f'Li 0 0 0; H 0 0 {r}',  # in Angstrom\n",
    "        basis = 'sto-3g',\n",
    "        symmetry = True,\n",
    "    )\n",
    "    myhf = mol.RHF().run()\n",
    "\n",
    "    #\n",
    "    # create an FCI solver based on the SCF object\n",
    "    #\n",
    "    cisolver = pyscf.fci.FCI(myhf)\n",
    "    print('E(FCI) = %.12f' % cisolver.kernel()[0])\n",
    "    return cisolver.kernel()[0]"
   ]
  },
  {
   "cell_type": "code",
   "execution_count": 3,
   "metadata": {},
   "outputs": [
    {
     "name": "stderr",
     "output_type": "stream",
     "text": [
      "/home/azhar04/anaconda3/envs/quantum-dev/lib/python3.8/site-packages/pyscf/dft/libxc.py:772: UserWarning: Since PySCF-2.3, B3LYP (and B3P86) are changed to the VWN-RPA variant, the same to the B3LYP functional in Gaussian and ORCA (issue 1480). To restore the VWN5 definition, you can put the setting \"B3LYP_WITH_VWN5 = True\" in pyscf_conf.py\n",
      "  warnings.warn('Since PySCF-2.3, B3LYP (and B3P86) are changed to the VWN-RPA variant, '\n"
     ]
    },
    {
     "name": "stdout",
     "output_type": "stream",
     "text": [
      "converged SCF energy = -7.86311961642149\n",
      "E(FCI) = -7.882762193344\n"
     ]
    }
   ],
   "source": [
    "E_1547 = calc_fci_H2(1.547)"
   ]
  },
  {
   "cell_type": "code",
   "execution_count": 4,
   "metadata": {},
   "outputs": [
    {
     "data": {
      "text/plain": [
       "array([0.5 , 0.75, 1.  , 1.25, 1.5 , 1.75, 2.  , 2.25, 2.5 , 2.75, 3.  ,\n",
       "       3.25, 3.5 , 3.75, 4.  , 4.25, 4.5 , 4.75])"
      ]
     },
     "execution_count": 4,
     "metadata": {},
     "output_type": "execute_result"
    }
   ],
   "source": [
    "r_array = np.arange(0.5, 5.0, 0.25)\n",
    "r_array"
   ]
  },
  {
   "cell_type": "code",
   "execution_count": 5,
   "metadata": {},
   "outputs": [
    {
     "name": "stdout",
     "output_type": "stream",
     "text": [
      "converged SCF energy = -7.02841009454193\n",
      "E(FCI) = -7.050225035300\n",
      "converged SCF energy = -7.55672166024679\n",
      "E(FCI) = -7.575486719856\n",
      "converged SCF energy = -7.76736213574856\n",
      "E(FCI) = -7.784460280031\n",
      "converged SCF energy = -7.84490531557397\n",
      "E(FCI) = -7.861861440548\n",
      "converged SCF energy = -7.86335762153512\n",
      "E(FCI) = -7.882362286799\n",
      "converged SCF energy = -7.85383960184052\n",
      "E(FCI) = -7.877187002305\n",
      "converged SCF energy = -7.83090558463708\n",
      "E(FCI) = -7.861087772481\n",
      "converged SCF energy = -7.80193895704871\n",
      "E(FCI) = -7.841817859457\n",
      "converged SCF energy = -7.7708736692219\n",
      "E(FCI) = -7.823723883468\n",
      "converged SCF energy = -7.74000074001332\n",
      "E(FCI) = -7.809162297675\n",
      "converged SCF energy = -7.71082990021723\n",
      "E(FCI) = -7.798843159502\n",
      "converged SCF energy = -7.68437642306796\n",
      "E(FCI) = -7.792184472005\n",
      "converged SCF energy = -7.66120160151512\n",
      "E(FCI) = -7.788115123279\n",
      "converged SCF energy = -7.64145386532506\n",
      "E(FCI) = -7.785695170102\n",
      "converged SCF energy = -7.62497563013133\n",
      "E(FCI) = -7.784278178715\n",
      "converged SCF energy = -7.61143115416104\n",
      "E(FCI) = -7.783458773950\n",
      "converged SCF energy = -7.60041029150998\n",
      "E(FCI) = -7.782991125444\n",
      "converged SCF energy = -7.59149580628114\n",
      "E(FCI) = -7.782728185439\n"
     ]
    }
   ],
   "source": [
    "E_R = []\n",
    "# Data = []\n",
    "for i in range(len(r_array)):\n",
    "    E = calc_fci_H2(r_array[i])\n",
    "    # Data.append(E)\n",
    "    E_R.append(E)"
   ]
  },
  {
   "cell_type": "code",
   "execution_count": 6,
   "metadata": {},
   "outputs": [
    {
     "data": {
      "text/plain": [
       "[<matplotlib.lines.Line2D at 0x7fde1d5dfeb0>]"
      ]
     },
     "execution_count": 6,
     "metadata": {},
     "output_type": "execute_result"
    },
    {
     "data": {
      "image/png": "[encoded data removed]",
      "text/plain": [
       "<Figure size 640x480 with 1 Axes>"
      ]
     },
     "metadata": {},
     "output_type": "display_data"
    }
   ],
   "source": [
    "plt.plot(E_R)"
   ]
  },
  {
   "cell_type": "code",
   "execution_count": null,
   "metadata": {},
   "outputs": [],
   "source": [
    "fci_data_LiH = np.column_stack((r_array, E_R))\n",
    "file_name = 'fci_data_LiH.txt'\n",
    "np.savetxt(file_name, fci_data_LiH, delimiter=',', header='r_array, E_R', comments='')"
   ]
  }
 ],
 "metadata": {
  "kernelspec": {
   "display_name": "quantum-dev",
   "language": "python",
   "name": "python3"
  },
  "language_info": {
   "codemirror_mode": {
    "name": "ipython",
    "version": 3
   },
   "file_extension": ".py",
   "mimetype": "text/x-python",
   "name": "python",
   "nbconvert_exporter": "python",
   "pygments_lexer": "ipython3",
   "version": "3.8.18"
  }
 },
 "nbformat": 4,
 "nbformat_minor": 2
}
