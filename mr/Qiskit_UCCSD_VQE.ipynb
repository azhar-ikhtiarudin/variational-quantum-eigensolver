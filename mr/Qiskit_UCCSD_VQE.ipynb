{
  "nbformat": 4,
  "nbformat_minor": 0,
  "metadata": {
    "colab": {
      "name": "Qiskit_UCCSD_VQE.ipynb",
      "provenance": [],
      "collapsed_sections": [],
      "toc_visible": true
    },
    "kernelspec": {
      "display_name": "Python 3",
      "name": "python3"
    },
    "language_info": {
      "name": "python"
    }
  },
  "cells": [
    {
      "cell_type": "code",
      "metadata": {
        "id": "P2Ufk0eZN0Lc"
      },
      "source": [
        "%%capture\n",
        "!pip install qiskit[visualization]\n",
        "!pip install pyscf \n",
        "#%pip install pyscf==1.7.5"
      ],
      "execution_count": 1,
      "outputs": []
    },
    {
      "cell_type": "code",
      "metadata": {
        "id": "Tqe00C-LOUTl"
      },
      "source": [
        "import qiskit\n",
        "import scipy\n",
        "import numpy as np\n",
        "import pickle\n",
        "\n",
        "from qiskit import (Aer, QuantumCircuit, ClassicalRegister, QuantumRegister, \n",
        "                    IBMQ, execute, transpile)\n",
        "from qiskit.circuit import QuantumCircuit, ParameterVector\n",
        "from qiskit.algorithms.optimizers import COBYLA\n",
        "from qiskit.providers.ibmq import least_busy\n",
        "from qiskit.aqua.algorithms import NumPyMinimumEigensolver, VQE\n",
        "from qiskit.aqua import QuantumInstance\n",
        "from qiskit.chemistry.components.initial_states import HartreeFock\n",
        "from qiskit.chemistry.components.variational_forms import UCCSD\n",
        "from qiskit.chemistry.drivers import PySCFDriver\n",
        "from qiskit.chemistry.core import Hamiltonian, QubitMappingType\n",
        "from qiskit.providers.aer.noise import NoiseModel\n",
        "from qiskit.providers.aer import QasmSimulator\n",
        "from qiskit.test.mock import FakeBelem\n",
        "from qiskit.providers.aer.noise import thermal_relaxation_error, ReadoutError, pauli_error\n",
        "from qiskit.quantum_info import purity, average_gate_fidelity, gate_error\n",
        "from qiskit import execute, transpile\n",
        "from qiskit.providers.aer.noise.device.models import (gate_param_values, \n",
        "                                                      basic_device_gate_errors,\n",
        "                                                      _device_thermal_relaxation_error,\n",
        "                                                      thermal_relaxation_values, \n",
        "                                                      _device_depolarizing_error)\n",
        "\n",
        "from google.colab import files\n",
        "\n",
        "import matplotlib.pyplot as plt"
      ],
      "execution_count": null,
      "outputs": []
    },
    {
      "cell_type": "code",
      "metadata": {
        "id": "d2f39vDPy0R1"
      },
      "source": [
        "IBMQ.enable_account(\"88757d22d1747c543664fb35d8789fac1c1271ff43dd365e62f067f3e34ab5c4d95f0ed7155eb5685a871a3d3b69eb34a57eece5c139b070062c8396ddc87d66\")"
      ],
      "execution_count": 24,
      "outputs": []
    },
    {
      "cell_type": "code",
      "metadata": {
        "id": "S5Gur7oXeu8C"
      },
      "source": [
        "provider = IBMQ.get_provider(hub='ibm-q-minho')"
      ],
      "execution_count": 25,
      "outputs": []
    },
    {
      "cell_type": "markdown",
      "metadata": {
        "id": "LyMNSbZBN88L"
      },
      "source": [
        "## Molecule Definitions"
      ]
    },
    {
      "cell_type": "code",
      "metadata": {
        "id": "cIo3dw0_OA2L"
      },
      "source": [
        "r = 0.74 # interatomic distance in angstrom\n",
        "h2 = 'H 0.0 0.0 0.0; H 0.0 0.0 {}'\n",
        "charge = 0\n",
        "spin = 0\n",
        "driver = PySCFDriver(h2.format(r), \n",
        "                     charge = charge,\n",
        "                     spin = spin,\n",
        "                     basis='sto3g')\n",
        "h2 = driver.run()\n",
        "\n",
        "r = 1 # interatomic distance in angstrom\n",
        "helonium = 'He 0.0 0.0 0.0; H 0.0 0.0 {}'\n",
        "charge = +1\n",
        "spin = 0\n",
        "driver = PySCFDriver(helonium.format(r), \n",
        "                     charge = charge,\n",
        "                     spin = spin,\n",
        "                     basis='sto3g')\n",
        "helonium = driver.run()\n",
        "\n",
        "# H4\n",
        "r = 3\n",
        "h4 = f'H 0.0 0.0 {0}; H 0.0 0.0 {r}; H 0.0 0.0 {2*r}; H 0.0 0.0 {3*r};'\n",
        "basis = 'sto-3g'\n",
        "spin = 0\n",
        "charge = 0\n",
        "driver = PySCFDriver(h4, \n",
        "                     charge = charge,\n",
        "                     spin = spin,\n",
        "                     basis='sto3g')\n",
        "h4 = driver.run()"
      ],
      "execution_count": 4,
      "outputs": []
    },
    {
      "cell_type": "markdown",
      "metadata": {
        "id": "2Zk5D_V2vOmj"
      },
      "source": [
        "## Choosing the Molecule"
      ]
    },
    {
      "cell_type": "code",
      "metadata": {
        "id": "GE8VhtkHpr-t"
      },
      "source": [
        "molecule = h2"
      ],
      "execution_count": 5,
      "outputs": []
    },
    {
      "cell_type": "code",
      "metadata": {
        "id": "aTQEI5HWyAOW"
      },
      "source": [
        "if molecule == h2:\n",
        "  name = \"H2\"\n",
        "if molecule == helonium:\n",
        "  name = \"HeH+\"\n",
        "if molecule == h4:\n",
        "  name = \"H4\"\n",
        "\n",
        "# Define chemical accuracy\n",
        "chemicalAccuracy = 1.5936*10**-3\n",
        "  \n",
        "# Define the fermion to qubit mapping and forbit qubit reduction\n",
        "observable =  Hamiltonian(qubit_mapping=QubitMappingType.JORDAN_WIGNER,\n",
        "                          two_qubit_reduction=False)\n",
        "\n",
        "# Get the qubit operator representing the hamiltonian, as well as the \n",
        "#auxiliary operators for the total particle number, S^2 spin, etc.\n",
        "# These allow checking their expectation values in the state\n",
        "qubitOp, auxOps = observable.run(molecule)\n",
        "\n",
        "# Get the exact result using Numpy\n",
        "solver = NumPyMinimumEigensolver(qubitOp,aux_operators=auxOps)\n",
        "exactResult =  solver.run()\n",
        "\n",
        "# Process the result\n",
        "exactResult = observable.process_algorithm_result(exactResult)\n",
        "exactEnergy = exactResult.energy"
      ],
      "execution_count": null,
      "outputs": []
    },
    {
      "cell_type": "markdown",
      "metadata": {
        "id": "kwx9PMqgWN_n"
      },
      "source": [
        "## UCCSD VQE"
      ]
    },
    {
      "cell_type": "markdown",
      "metadata": {
        "id": "yJs9V64bvGs1"
      },
      "source": [
        "### Ansatz"
      ]
    },
    {
      "cell_type": "code",
      "metadata": {
        "id": "6MtIxneUvB3l"
      },
      "source": [
        "# Set the Hartree Fock state as reference\n",
        "initial_state = HartreeFock(\n",
        "    observable.molecule_info['num_orbitals'],\n",
        "    observable.molecule_info['num_particles'],\n",
        "    qubit_mapping='jordan_wigner',\n",
        "    two_qubit_reduction = False\n",
        ") \n",
        "\n",
        "# Create the UCCSD ansatz with HF as initial state\n",
        "uccsd = UCCSD(observable.molecule_info['num_orbitals'], # spin orbitals\n",
        "              observable.molecule_info['num_particles'], # (number of alpha, \n",
        "                                                         #number of beta)\n",
        "              reps=1,\n",
        "              num_time_slices=1,\n",
        "              qubit_mapping='jordan_wigner',\n",
        "              two_qubit_reduction=False,\n",
        "              initial_state = initial_state)\n",
        "\n",
        "# Create parameter vector\n",
        "paramsNumber = uccsd.num_parameters\n",
        "parameters = ParameterVector(\"Params\",paramsNumber)"
      ],
      "execution_count": null,
      "outputs": []
    },
    {
      "cell_type": "code",
      "metadata": {
        "colab": {
          "base_uri": "https://localhost:8080/"
        },
        "id": "RRjwfoHJwy2U",
        "outputId": "5e5f83bc-f039-44e9-8c56-54a5bde2945a"
      },
      "source": [
        "print(paramsNumber)"
      ],
      "execution_count": null,
      "outputs": [
        {
          "output_type": "stream",
          "name": "stdout",
          "text": [
            "3\n"
          ]
        }
      ]
    },
    {
      "cell_type": "markdown",
      "metadata": {
        "id": "9Ap6jjWzTxwl"
      },
      "source": [
        "### Purity at the End of the Ansatz"
      ]
    },
    {
      "cell_type": "code",
      "metadata": {
        "id": "7P6djtIneb4L"
      },
      "source": [
        "def getFinalState(circuit,device_backend):\n",
        "  '''\n",
        "  Obtain density matrix at the end of the ansatz circuit using a noise model. \n",
        "\n",
        "  Arguments:\n",
        "    circuit (qiskit.QuantumCircuit): the circuit\n",
        "    device_backend: noise data from qiskit.test.mock\n",
        "\n",
        "  Returns:\n",
        "    dmatrix (numpy.ndarray): density matrix representing the final state\n",
        "  '''\n",
        "\n",
        "  device = QasmSimulator.from_backend(device_backend)\n",
        "  coupling_map = device.configuration().coupling_map\n",
        "\n",
        "  noiseModel = NoiseModel.from_backend(device)\n",
        "  basis_gates = noiseModel.basis_gates\n",
        "\n",
        "  tcirc = transpile(circuit, device_backend)\n",
        "  tcirc.save_density_matrix()\n",
        "\n",
        "  result = execute(tcirc, Aer.get_backend('qasm_simulator'),\n",
        "                  coupling_map=coupling_map,\n",
        "                  basis_gates=basis_gates,\n",
        "                  noise_model=noiseModel).result()\n",
        "                  \n",
        "  dmatrix = (result.data(0))['density_matrix']\n",
        "  \n",
        "  return dmatrix\n",
        "\n",
        "def getIdealState(circuit,device_backend):\n",
        "  '''\n",
        "  Obtain density matrix at the end of the ansatz circuit assuming a noise-free\n",
        "  scenario.\n",
        "\n",
        "  Arguments:\n",
        "    circuit (qiskit.QuantumCircuit): the circuit\n",
        "    device_backend: noise data from qiskit.test.mock. Will be used for \n",
        "      transpilation,...\n",
        "\n",
        "  Returns:\n",
        "    dmatrix (numpy.ndarray): density matrix representing the final state\n",
        "  '''\n",
        "\n",
        "  device = QasmSimulator.from_backend(device_backend)\n",
        "  coupling_map = device.configuration().coupling_map\n",
        "\n",
        "  noiseModel = NoiseModel.from_backend(device)\n",
        "  basis_gates = noiseModel.basis_gates\n",
        "\n",
        "  tcirc = transpile(circuit, device_backend)\n",
        "  tcirc.save_density_matrix()\n",
        "\n",
        "  result = execute(tcirc, Aer.get_backend('statevector_simulator'),\n",
        "                  coupling_map=coupling_map,\n",
        "                  basis_gates=basis_gates,\n",
        "                  noise_model=noiseModel).result()\n",
        "                  \n",
        "  dmatrix = (result.data(0))['density_matrix']\n",
        "  \n",
        "  return dmatrix\n",
        "\n",
        "def getPurity(dmatrix):\n",
        "  '''\n",
        "  Obtain the purity of a state represented by a density matrix.\n",
        "\n",
        "  Arguments:\n",
        "    dmatrix (numpy.ndarray): density matrix representing the state\n",
        "\n",
        "  Returns:\n",
        "    purity (int): the purity of the state \n",
        "  '''\n",
        "\n",
        "  statePurity = purity(dmatrix).real\n",
        "\n",
        "  return statePurity\n",
        "\n",
        "def getFidelity(dmatrix1,dmatrix2):\n",
        "  '''\n",
        "  Obtain the fidelity between two states.\n",
        "\n",
        "  Arguments:\n",
        "    dmatrix1 (numpy.ndarray): density matrix representing state 1\n",
        "    dmatrix2 (numpy.ndarray): density matrix representing state 2\n",
        "\n",
        "  Returns:\n",
        "    fidelity (int): the fidelity between the two states\n",
        "  '''\n",
        "  dimension, _ = dmatrix1.shape\n",
        "\n",
        "  dmatrix1Root = scipy.linalg.sqrtm(dmatrix1)\n",
        "\n",
        "  mat = np.matmul(np.matmul(dmatrix1Root, dmatrix2),dmatrix1Root)\n",
        "  matRoot =  scipy.linalg.sqrtm(mat)\n",
        "\n",
        "  fidelity = np.real((np.trace(matRoot))**2)\n",
        "\n",
        "  return fidelity"
      ],
      "execution_count": null,
      "outputs": []
    },
    {
      "cell_type": "code",
      "metadata": {
        "colab": {
          "base_uri": "https://localhost:8080/"
        },
        "id": "dItY-0vgf562",
        "outputId": "299776de-0220-471a-e80b-9a167422907f"
      },
      "source": [
        "# Obtain purity at the end of the ansatz circuit using a noise model. \n",
        "#IBMQ Belem noise model here\n",
        "\n",
        "# Bind dummy parameters to the circuit and and transpile\n",
        "circ = uccsd.construct_circuit([0 for i in range(paramsNumber)])\n",
        "idealState = getIdealState(circ,FakeBelem())\n",
        "dimension, _ = idealState.shape\n",
        "fullyMixed =  1/dimension * np.identity(dimension)\n",
        "\n",
        "# Number of tests\n",
        "tests = 100\n",
        "\n",
        "purities = []\n",
        "fidelitiesIdeal = []\n",
        "fidelitiesFM = []\n",
        "\n",
        "for _ in range(tests):\n",
        "\n",
        "  finalState = getFinalState(circ,FakeBelem())\n",
        "  finalPurity = getPurity(finalState)\n",
        "  fidelityIdeal = getFidelity(finalState,idealState)\n",
        "  fidelityFM = getFidelity(finalState,fullyMixed)\n",
        "\n",
        "  purities.append(finalPurity)\n",
        "  fidelitiesIdeal.append(fidelityIdeal)\n",
        "  fidelitiesFM.append(fidelityFM)\n",
        "\n",
        "avPurity = np.average(purities)\n",
        "avFidelityFM = np.average(fidelitiesFM)\n",
        "avFidelityIdeal = np.average(fidelitiesIdeal)\n",
        "\n",
        "print(\"Purity of the fully mixed state: \", 1/2**uccsd.num_qubits)\n",
        "print(\"Purity at the end of the UCCSD circuit:\", avPurity)\n",
        "print(\"Fidelity with the ideal state: \", avFidelityIdeal)\n",
        "print(\"Fidelity with the fully mixed state: \", avFidelityFM)"
      ],
      "execution_count": null,
      "outputs": [
        {
          "output_type": "stream",
          "name": "stderr",
          "text": [
            "/usr/local/lib/python3.7/dist-packages/qiskit/chemistry/components/variational_forms/uccsd.py:429: DeprecationWarning: Back-references to from Bit instances to their containing Registers have been deprecated. Instead, inspect Registers to find their contained Bits.\n",
            "  qbits[i] = circuit.qubits[qbits[i].index]\n"
          ]
        },
        {
          "output_type": "stream",
          "name": "stdout",
          "text": [
            "Purity of the fully mixed state:  0.0625\n",
            "Purity at the end of the UCCSD circuit: 0.16029210115478992\n",
            "Fidelity with the ideal state:  0.6562094803909347\n",
            "Fidelity with the fully mixed state:  0.39916840731710646\n"
          ]
        }
      ]
    },
    {
      "cell_type": "markdown",
      "metadata": {
        "id": "r61xnReBV8BD"
      },
      "source": [
        "### Backend"
      ]
    },
    {
      "cell_type": "code",
      "metadata": {
        "id": "k8DQsUvxelG0"
      },
      "source": [
        "backend = Aer.get_backend('qasm_simulator')\n",
        "#backend = provider.get_backend('ibmq_belem')"
      ],
      "execution_count": null,
      "outputs": []
    },
    {
      "cell_type": "markdown",
      "metadata": {
        "id": "wXqnfBCauEEE"
      },
      "source": [
        "### Noise Model"
      ]
    },
    {
      "cell_type": "code",
      "metadata": {
        "colab": {
          "base_uri": "https://localhost:8080/",
          "height": 139
        },
        "id": "1-gzC7a1uHRj",
        "outputId": "4253d5c0-9c06-4123-8967-cdee8c87f7bb"
      },
      "source": [
        "# Noise model from ibmq_belem\n",
        "\n",
        "device_backend = FakeBelem()\n",
        "device = QasmSimulator.from_backend(device_backend)\n",
        "coupling_map = device.configuration().coupling_map\n",
        "\n",
        "belemNM = NoiseModel.from_backend(device)\n",
        "basis_gates = belemNM.basis_gates\n",
        "\n",
        "print(belemNM)\n",
        "\n",
        "'''\n",
        "# Print all individual noise sources from the dictionary\n",
        "list1 = noise_model.to_dict()[\"errors\"]\n",
        "\n",
        "for i in list1:\n",
        "  print(i,\"\\n\\n\")\n",
        "'''"
      ],
      "execution_count": null,
      "outputs": [
        {
          "output_type": "stream",
          "name": "stdout",
          "text": [
            "NoiseModel:\n",
            "  Basis gates: ['cx', 'id', 'kraus', 'roerror', 'rz', 'save_amplitudes', 'save_amplitudes_sq', 'save_density_matrix', 'save_expval', 'save_expval_var', 'save_probabilities', 'save_probabilities_dict', 'save_stabilizer', 'save_state', 'save_statevector', 'save_statevector_dict', 'set_density_matrix', 'set_stabilizer', 'set_statevector', 'snapshot', 'sx', 'x']\n",
            "  Instructions with noise: ['sx', 'cx', 'x', 'measure', 'id', 'reset']\n",
            "  Qubits with noise: [0, 1, 2, 3, 4]\n",
            "  Specific qubit errors: [('id', [0]), ('id', [1]), ('id', [2]), ('id', [3]), ('id', [4]), ('sx', [0]), ('sx', [1]), ('sx', [2]), ('sx', [3]), ('sx', [4]), ('x', [0]), ('x', [1]), ('x', [2]), ('x', [3]), ('x', [4]), ('cx', [4, 3]), ('cx', [3, 4]), ('cx', [3, 1]), ('cx', [1, 3]), ('cx', [2, 1]), ('cx', [1, 2]), ('cx', [1, 0]), ('cx', [0, 1]), ('reset', [0]), ('reset', [1]), ('reset', [2]), ('reset', [3]), ('reset', [4]), ('measure', [0]), ('measure', [1]), ('measure', [2]), ('measure', [3]), ('measure', [4])]\n"
          ]
        },
        {
          "output_type": "execute_result",
          "data": {
            "application/vnd.google.colaboratory.intrinsic+json": {
              "type": "string"
            },
            "text/plain": [
              "'\\n# Print all individual noise sources from the dictionary\\nlist1 = noise_model.to_dict()[\"errors\"]\\n\\nfor i in list1:\\n  print(i,\"\\n\\n\")\\n'"
            ]
          },
          "metadata": {},
          "execution_count": 22
        }
      ]
    },
    {
      "cell_type": "code",
      "metadata": {
        "colab": {
          "base_uri": "https://localhost:8080/"
        },
        "id": "KL1zqO9I91pA",
        "outputId": "7c63ca13-aa9c-4d0c-d202-7e1f1f28be1c"
      },
      "source": [
        "props = props = FakeBelem().properties()\n",
        "device_gate_params = gate_param_values(props)\n",
        "for opname, qubits, gate_length, error_param in device_gate_params:\n",
        "  print(opname, qubits, gate_length, error_param)"
      ],
      "execution_count": null,
      "outputs": [
        {
          "output_type": "stream",
          "name": "stdout",
          "text": [
            "id [0] 35.55555555555556 0.00023078387665829674\n",
            "id [1] 35.55555555555556 0.0004110884185250172\n",
            "id [2] 35.55555555555556 0.0002969675038967522\n",
            "id [3] 35.55555555555556 0.0006730368432933634\n",
            "id [4] 35.55555555555556 0.00033113055580526814\n",
            "rz [0] 0 0\n",
            "rz [1] 0 0\n",
            "rz [2] 0 0\n",
            "rz [3] 0 0\n",
            "rz [4] 0 0\n",
            "sx [0] 35.55555555555556 0.00023078387665829674\n",
            "sx [1] 35.55555555555556 0.0004110884185250172\n",
            "sx [2] 35.55555555555556 0.0002969675038967522\n",
            "sx [3] 35.55555555555556 0.0006730368432933634\n",
            "sx [4] 35.55555555555556 0.00033113055580526814\n",
            "x [0] 35.55555555555556 0.00023078387665829674\n",
            "x [1] 35.55555555555556 0.0004110884185250172\n",
            "x [2] 35.55555555555556 0.0002969675038967522\n",
            "x [3] 35.55555555555556 0.0006730368432933634\n",
            "x [4] 35.55555555555556 0.00033113055580526814\n",
            "cx [4, 3] 554.6666666666666 0.01474875752789484\n",
            "cx [3, 4] 590.2222222222222 0.01474875752789484\n",
            "cx [3, 1] 398.2222222222222 0.013943462569729087\n",
            "cx [1, 3] 433.77777777777777 0.013943462569729087\n",
            "cx [2, 1] 412.4444444444444 0.010693455894408732\n",
            "cx [1, 2] 448 0.010693455894408732\n",
            "cx [1, 0] 775.1111111111111 0.016558485595031758\n",
            "cx [0, 1] 810.6666666666666 0.016558485595031758\n",
            "reset [0] 7342.222222222222 None\n",
            "reset [1] 7342.222222222222 None\n",
            "reset [2] 7342.222222222222 None\n",
            "reset [3] 7342.222222222222 None\n",
            "reset [4] 7342.222222222222 None\n"
          ]
        }
      ]
    },
    {
      "cell_type": "code",
      "metadata": {
        "colab": {
          "base_uri": "https://localhost:8080/"
        },
        "id": "ZBeTx17wDJt9",
        "outputId": "0a8b5d6a-6011-4eae-a909-978900292f05"
      },
      "source": [
        "# Isolate noise (from the backend model) associated with each type of gates\n",
        "\n",
        "noiseDict = belemNM.to_dict()\n",
        "\n",
        "measNoiseDict = {}\n",
        "resetNoiseDict = {}\n",
        "idNoiseDict = {}\n",
        "sxNoiseDict = {}\n",
        "xNoiseDict = {}\n",
        "cxNoiseDict = {}\n",
        "\n",
        "measNoiseDict[\"errors\"] = []\n",
        "resetNoiseDict[\"errors\"] = []\n",
        "idNoiseDict[\"errors\"] = []\n",
        "sxNoiseDict[\"errors\"] = []\n",
        "xNoiseDict[\"errors\"] = []\n",
        "cxNoiseDict[\"errors\"] = []\n",
        "\n",
        "cxMeasNoiseDict = {}\n",
        "cxMeasNoiseDict[\"errors\"] = []\n",
        "\n",
        "# Add to the new noise model the desired errors from the ibmq_belem noise model.\n",
        "for error in noiseDict[\"errors\"]:\n",
        "  #print(error[\"type\"],error[\"operations\"])\n",
        "  # error[\"operations\"][0] is one of [\"measure\",\"reset\",\"id\",\"sx\",\"x\",\"cx\"]\n",
        "\n",
        "  if error[\"operations\"][0] == \"measure\":\n",
        "    measNoiseDict[\"errors\"].append(error)\n",
        "  if error[\"operations\"][0] == \"reset\":\n",
        "    resetNoiseDict[\"errors\"].append(error)\n",
        "  if error[\"operations\"][0] == \"id\":\n",
        "    idNoiseDict[\"errors\"].append(error)\n",
        "  if error[\"operations\"][0] == \"sx\":\n",
        "    sxNoiseDict[\"errors\"].append(error)\n",
        "  if error[\"operations\"][0] == \"x\":\n",
        "    xNoiseDict[\"errors\"].append(error)\n",
        "  if error[\"operations\"][0] == \"cx\":\n",
        "    cxNoiseDict[\"errors\"].append(error)\n",
        "\n",
        "  if error[\"operations\"][0] in [\"cx\",\"measure\"]:\n",
        "    cxMeasNoiseDict[\"errors\"].append(error)\n",
        "\n",
        "measNoiseModel = NoiseModel(basis_gates=belemNM.basis_gates)\n",
        "resetNoiseModel = NoiseModel(basis_gates=belemNM.basis_gates)\n",
        "idNoiseModel = NoiseModel(basis_gates=belemNM.basis_gates)\n",
        "sxNoiseModel = NoiseModel(basis_gates=belemNM.basis_gates)\n",
        "xNoiseModel = NoiseModel(basis_gates=belemNM.basis_gates)\n",
        "cxNoiseModel = NoiseModel(basis_gates=belemNM.basis_gates)\n",
        "\n",
        "measNoiseModel = measNoiseModel.from_dict(measNoiseDict)\n",
        "resetNoiseModel = resetNoiseModel.from_dict(resetNoiseDict)\n",
        "idNoiseModel = idNoiseModel.from_dict(idNoiseDict)\n",
        "sxNoiseModel = sxNoiseModel.from_dict(sxNoiseDict)\n",
        "xNoiseModel = xNoiseModel.from_dict(xNoiseDict)\n",
        "cxNoiseModel = cxNoiseModel.from_dict(cxNoiseDict)\n",
        "\n",
        "cxMeasNoiseModel = NoiseModel(basis_gates=belemNM.basis_gates)\n",
        "cxMeasNoiseModel = cxMeasNoiseModel.from_dict(cxMeasNoiseDict)\n",
        "\n",
        "print(measNoiseModel)\n",
        "print(resetNoiseModel)\n",
        "print(idNoiseModel)\n",
        "print(sxNoiseModel)\n",
        "print(xNoiseModel)\n",
        "print(cxNoiseModel)"
      ],
      "execution_count": null,
      "outputs": [
        {
          "output_type": "stream",
          "name": "stdout",
          "text": [
            "NoiseModel:\n",
            "  Basis gates: ['cx', 'id', 'rz', 'sx']\n",
            "  Instructions with noise: ['measure']\n",
            "  Qubits with noise: [0, 1, 2, 3, 4]\n",
            "  Specific qubit errors: [('measure', [0]), ('measure', [1]), ('measure', [2]), ('measure', [3]), ('measure', [4])]\n",
            "NoiseModel:\n",
            "  Basis gates: ['cx', 'id', 'rz', 'sx']\n",
            "  Instructions with noise: ['reset']\n",
            "  Qubits with noise: [0, 1, 2, 3, 4]\n",
            "  Specific qubit errors: [('reset', [0]), ('reset', [1]), ('reset', [2]), ('reset', [3]), ('reset', [4])]\n",
            "NoiseModel:\n",
            "  Basis gates: ['cx', 'id', 'rz', 'sx']\n",
            "  Instructions with noise: ['id']\n",
            "  Qubits with noise: [0, 1, 2, 3, 4]\n",
            "  Specific qubit errors: [('id', [0]), ('id', [1]), ('id', [2]), ('id', [3]), ('id', [4])]\n",
            "NoiseModel:\n",
            "  Basis gates: ['cx', 'id', 'rz', 'sx']\n",
            "  Instructions with noise: ['sx']\n",
            "  Qubits with noise: [0, 1, 2, 3, 4]\n",
            "  Specific qubit errors: [('sx', [0]), ('sx', [1]), ('sx', [2]), ('sx', [3]), ('sx', [4])]\n",
            "NoiseModel:\n",
            "  Basis gates: ['cx', 'id', 'rz', 'sx', 'x']\n",
            "  Instructions with noise: ['x']\n",
            "  Qubits with noise: [0, 1, 2, 3, 4]\n",
            "  Specific qubit errors: [('x', [0]), ('x', [1]), ('x', [2]), ('x', [3]), ('x', [4])]\n",
            "NoiseModel:\n",
            "  Basis gates: ['cx', 'id', 'rz', 'sx']\n",
            "  Instructions with noise: ['cx']\n",
            "  Qubits with noise: [0, 1, 2, 3, 4]\n",
            "  Specific qubit errors: [('cx', [4, 3]), ('cx', [3, 4]), ('cx', [3, 1]), ('cx', [1, 3]), ('cx', [2, 1]), ('cx', [1, 2]), ('cx', [1, 0]), ('cx', [0, 1])]\n"
          ]
        }
      ]
    },
    {
      "cell_type": "code",
      "metadata": {
        "colab": {
          "base_uri": "https://localhost:8080/"
        },
        "id": "U_uiB5P7Ai0A",
        "outputId": "60b90097-777c-4d4a-b9d9-9d71bd8e8f44"
      },
      "source": [
        "def createNoiseModel(t1,t2,measTime,cxTime,m0p1,m1p0):\n",
        "  '''\n",
        "  Creates an approximate noise model, with:\n",
        "  - Thermal relaxation on CX gates / measurements\n",
        "  - Readout error\n",
        "\n",
        "  Arguments:\n",
        "    t1 (float): relaxation time (average)\n",
        "    t2 (float): dephasing time (average)\n",
        "    cxTime (float): CNOT gate time (average)\n",
        "    m0p1 (float): prepare |1> measure |0> probability (average)\n",
        "    m1p0 (float): prepare |0> measure |1> probability (average)\n",
        "\n",
        "  Returns:\n",
        "    noiseModel (qiskit.providers.aer.noise.noise_model.NoiseModel): the noise\n",
        "      model. Assumes average behaviour for all errors\n",
        "  '''\n",
        "  noiseModel = NoiseModel()\n",
        "\n",
        "  # Thermal relaxation\n",
        "  measError = thermal_relaxation_error(t1, t2, measTime)\n",
        "  cxTError = thermal_relaxation_error(t1, t2, cxTime)\n",
        "  cxTError = cxTError.tensor(cxTError)\n",
        "\n",
        "  for i in range(qubitNumber):\n",
        "\n",
        "    # Add thermal relaxation on each qubit measurement\n",
        "    noiseModel.add_quantum_error(measError,\"measure\",[i])\n",
        "\n",
        "    # Add thermal relaxation + gate error on each possible pair of CNOTs\n",
        "    for j in range(qubitNumber):\n",
        "      if j != i:\n",
        "        noiseModel.add_quantum_error(cxTError,\"cx\",[i,j])\n",
        "\n",
        "  # Readout Error\n",
        "  readoutErrorMatrix = [[1 - m1p0, m1p0],[m0p1, 1 - m0p1]]\n",
        "  readoutError = ReadoutError(readoutErrorMatrix)\n",
        "\n",
        "  for i in range(qubitNumber):\n",
        "    # Adde radout error on each qubit\n",
        "    noiseModel.add_readout_error(readoutError,[i])\n",
        "\n",
        "  return noiseModel\n",
        "\n",
        "# Using IBMQ_Belem data\n",
        "qubitNumber = 5\n",
        "\n",
        "# Multiplier for t1, t2. 1 = 100%; 2 = 200%; ...\n",
        "mult = 100\n",
        "\n",
        "# All nanoseconds\n",
        "t1 = mult * 86.91E3 \n",
        "t2 = mult * 89.65E3\n",
        "measTime = 5351.111\n",
        "cxTime = 552.889\n",
        "\n",
        "# Divisor for the 0/1 preparation errors. If 1 100%; if 10 10%; ...\n",
        "div = 1\n",
        "\n",
        "# Measure 0 prep 1 average\n",
        "m0p1 = 0.0406 / div\n",
        "# Measure 1 prep 0 average\n",
        "m1p0 = 0.0096 / div\n",
        "\n",
        "myNoiseModel = createNoiseModel(t1,t2,measTime,cxTime,m0p1,m1p0)\n",
        "\n",
        "print(myNoiseModel)"
      ],
      "execution_count": null,
      "outputs": [
        {
          "output_type": "stream",
          "name": "stdout",
          "text": [
            "NoiseModel:\n",
            "  Basis gates: ['cx', 'id', 'rz', 'sx']\n",
            "  Instructions with noise: ['measure', 'cx']\n",
            "  Qubits with noise: [0, 1, 2, 3, 4]\n",
            "  Specific qubit errors: [('measure', [0]), ('measure', [1]), ('measure', [2]), ('measure', [3]), ('measure', [4]), ('cx', [0, 1]), ('cx', [0, 2]), ('cx', [0, 3]), ('cx', [0, 4]), ('cx', [1, 0]), ('cx', [1, 2]), ('cx', [1, 3]), ('cx', [1, 4]), ('cx', [2, 0]), ('cx', [2, 1]), ('cx', [2, 3]), ('cx', [2, 4]), ('cx', [3, 0]), ('cx', [3, 1]), ('cx', [3, 2]), ('cx', [3, 4]), ('cx', [4, 0]), ('cx', [4, 1]), ('cx', [4, 2]), ('cx', [4, 3])]\n"
          ]
        }
      ]
    },
    {
      "cell_type": "markdown",
      "metadata": {
        "id": "xLxG880SWAGu"
      },
      "source": [
        "### Callback"
      ]
    },
    {
      "cell_type": "code",
      "metadata": {
        "id": "kuWlisM6V4N1"
      },
      "source": [
        "def callback(nfev, parameters, energy, stddev):\n",
        "\n",
        "    '''\n",
        "    Function to keep intermediary data from the optimization done by running\n",
        "    the instance of the VQE class. \n",
        "    Arguments are supplied at the end of each optimization run:\n",
        "    nfev, parameters, energy, stddev\n",
        "    '''\n",
        "    evolution['nfev'].append(nfev)\n",
        "    evolution['parameters'].append(parameters.copy())\n",
        "    evolution['energy'].append(energy)\n",
        "    evolution['stddev'].append(stddev)"
      ],
      "execution_count": null,
      "outputs": []
    },
    {
      "cell_type": "markdown",
      "metadata": {
        "id": "vT-lXHvKWZPu"
      },
      "source": [
        "### Main Function"
      ]
    },
    {
      "cell_type": "code",
      "metadata": {
        "id": "4jUFHttnS8Jq"
      },
      "source": [
        "def uccsdVQE(qinstance,var_form):\n",
        "  '''\n",
        "  Runs the UCCSD-VQE algorithm\n",
        "\n",
        "  Arguments:\n",
        "    qinstance (qiskit.aqua.quantum_instance.QuantumInstance): the quantum\n",
        "      instance to use\n",
        "    var_form (qiskit.chemistry.components.variational_forms): the variational\n",
        "      form (ansatz)\n",
        "\n",
        "  Returns:\n",
        "    energies (list): list with the evolution of the total energy along\n",
        "      the iterations (evaluated on the backend)\n",
        "  '''\n",
        "\n",
        "  # Initialize dictionary that will be filled with intermediate\n",
        "  #data by the callback function\n",
        "\n",
        "  global evolution\n",
        "  global result\n",
        "  evolution = {\n",
        "      'nfev': [],\n",
        "      'parameters': [],\n",
        "      'energy': [],\n",
        "      'stddev': []\n",
        "  }\n",
        "\n",
        "  vqe = VQE(qubitOp,\n",
        "            var_form = var_form, \n",
        "            optimizer = COBYLA(rhobeg=0.1), \n",
        "            quantum_instance = qinstance,\n",
        "            callback = callback, \n",
        "            aux_operators=auxOps)\n",
        "\n",
        "  # Run the algorithm on the chosen backend\n",
        "  result = vqe.run(qinstance)\n",
        "\n",
        "  # Process the result\n",
        "  result = observable.process_algorithm_result(result)\n",
        "\n",
        "  nuclearRepEnergy = result.nuclear_repulsion_energy\n",
        "\n",
        "  # Electronic ground state energy\n",
        "  energies = evolution[\"energy\"]\n",
        "\n",
        "  # Add nuclear repulsion energy for total energy\n",
        "  for i in range(len(energies)):\n",
        "    energies[i] = energies[i] + nuclearRepEnergy\n",
        "  \n",
        "  return energies"
      ],
      "execution_count": null,
      "outputs": []
    },
    {
      "cell_type": "markdown",
      "metadata": {
        "id": "2fyKTlyoXJSI"
      },
      "source": [
        "### Running the Algorithm"
      ]
    },
    {
      "cell_type": "code",
      "metadata": {
        "id": "G_JFd0mKUPKi"
      },
      "source": [
        "shots = 2**13\n",
        "qinstance = QuantumInstance(backend, \n",
        "                            shots = shots,\n",
        "                            coupling_map=coupling_map,\n",
        "                            basis_gates=basis_gates,\n",
        "                            noise_model=belemNM)\n",
        "                            #noise_model=myNoiseModel)\n",
        "                            #noise_model=cxNoiseModel)\n",
        "\n",
        "energies = uccsdVQE(qinstance,uccsd)"
      ],
      "execution_count": null,
      "outputs": []
    },
    {
      "cell_type": "markdown",
      "metadata": {
        "id": "m9XzVaSkWC1b"
      },
      "source": [
        "## Numerical Results"
      ]
    },
    {
      "cell_type": "markdown",
      "metadata": {
        "id": "5n4RFJMLTp9k"
      },
      "source": [
        "### VQE Result"
      ]
    },
    {
      "cell_type": "code",
      "metadata": {
        "colab": {
          "base_uri": "https://localhost:8080/"
        },
        "id": "i5t6RuPFWp80",
        "outputId": "1f37a051-7b82-48b4-b39f-8ab2f6859672"
      },
      "source": [
        "# Readable VQE result\n",
        "\n",
        "print(result)"
      ],
      "execution_count": null,
      "outputs": [
        {
          "output_type": "stream",
          "name": "stdout",
          "text": [
            "=== GROUND STATE ENERGY ===\n",
            " \n",
            "* Electronic ground state energy (Hartree): -1.019513230201\n",
            "  - computed part:      -1.019513230201\n",
            "  - frozen energy part: 0.0\n",
            "  - particle hole part: 0.0\n",
            "~ Nuclear repulsion energy (Hartree): 0.715104339081\n",
            "> Total ground state energy (Hartree): -0.30440889112\n",
            "  Measured:: # Particles: 1.888 S: 0.432 S^2: 0.619 M: 0.03198\n",
            " \n",
            "=== DIPOLE MOMENT ===\n",
            " \n",
            "* Electronic dipole moment (a.u.): [0.0  0.0  1.27319408]\n",
            "  - computed part:      [0.0  0.0  1.27319408]\n",
            "  - frozen energy part: [0.0  0.0  0.0]\n",
            "  - particle hole part: [0.0  0.0  0.0]\n",
            "~ Nuclear dipole moment (a.u.): [0.0  0.0  1.39839733]\n",
            "> Dipole moment (a.u.): [0.0  0.0  0.12520325]  Total: 0.12520325\n",
            "               (debye): [0.0  0.0  0.31823489]  Total: 0.31823489\n"
          ]
        }
      ]
    },
    {
      "cell_type": "markdown",
      "metadata": {
        "id": "K3s-L7z5TsF5"
      },
      "source": [
        "### Exact Result"
      ]
    },
    {
      "cell_type": "code",
      "metadata": {
        "id": "pmBhTQvDWrbO",
        "colab": {
          "base_uri": "https://localhost:8080/"
        },
        "outputId": "66bade15-e8f6-4244-acdf-79be6a6140a0"
      },
      "source": [
        "# Exact result from diagonalization\n",
        "\n",
        "print(exactResult)"
      ],
      "execution_count": null,
      "outputs": [
        {
          "output_type": "stream",
          "name": "stdout",
          "text": [
            "=== GROUND STATE ENERGY ===\n",
            " \n",
            "* Electronic ground state energy (Hartree): -1.85238817357\n",
            "  - computed part:      -1.85238817357\n",
            "  - frozen energy part: 0.0\n",
            "  - particle hole part: 0.0\n",
            "~ Nuclear repulsion energy (Hartree): 0.715104339081\n",
            "> Total ground state energy (Hartree): -1.137283834488\n",
            "  Measured:: # Particles: 2.000 S: 0.000 S^2: 0.000 M: 0.00000\n",
            " \n",
            "=== DIPOLE MOMENT ===\n",
            " \n",
            "* Electronic dipole moment (a.u.): [0.0  0.0  1.39839733]\n",
            "  - computed part:      [0.0  0.0  1.39839733]\n",
            "  - frozen energy part: [0.0  0.0  0.0]\n",
            "  - particle hole part: [0.0  0.0  0.0]\n",
            "~ Nuclear dipole moment (a.u.): [0.0  0.0  1.39839733]\n",
            "> Dipole moment (a.u.): [0.0  0.0  0.0]  Total: 0.\n",
            "               (debye): [0.0  0.0  -0.00000001]  Total: 0.00000001\n"
          ]
        }
      ]
    },
    {
      "cell_type": "code",
      "metadata": {
        "id": "TEt98AT4Vk1J",
        "colab": {
          "base_uri": "https://localhost:8080/"
        },
        "outputId": "63a7794c-09c8-434d-a052-4bce29e41cf5"
      },
      "source": [
        "print(\"Hartree Fock energy: \",result.hartree_fock_energy)\n",
        "print(\"VQE Final Energy: \", result.energy)\n",
        "print(\"Exact Energy: \",exactEnergy)\n",
        "print(\"Error: \",result.energy-exactEnergy)\n",
        "\n",
        "# Energy = electronic ground state energy (negative) + \n",
        "#nuclear repulsion energy (positive)\n",
        "print(\"\\nElectronic Ground State Energy: \", result.electronic_energy)\n",
        "nuclearRepEnergy = result.nuclear_repulsion_energy\n",
        "print(\"Nuclear Repulsion Energy: \", nuclearRepEnergy)"
      ],
      "execution_count": null,
      "outputs": [
        {
          "output_type": "stream",
          "name": "stdout",
          "text": [
            "Hartree Fock energy:  -1.1167593073964248\n",
            "VQE Final Energy:  -0.3659935247285784\n",
            "Exact Energy:  -1.1372838344884986\n",
            "Error:  0.7712903097599202\n",
            "\n",
            "Electronic Ground State Energy:  -1.0810978638096596\n",
            "Nuclear Repulsion Energy:  0.7151043390810812\n"
          ]
        }
      ]
    },
    {
      "cell_type": "markdown",
      "metadata": {
        "id": "PHwvknY7XAmY"
      },
      "source": [
        "## Plots"
      ]
    },
    {
      "cell_type": "code",
      "metadata": {
        "id": "chYx80ziub5j"
      },
      "source": [
        "if backend.name() == \"statevector_simulator\":\n",
        "  backendName = \"Aer State Vector Simulator\"\n",
        "\n",
        "elif backend.name() == \"qasm_simulator\":\n",
        "  backendName = \"Aer QASM Simulator\"\n",
        "\n",
        "else:\n",
        "  backendName = backend.name()"
      ],
      "execution_count": null,
      "outputs": []
    },
    {
      "cell_type": "markdown",
      "metadata": {
        "id": "Cyh3aXd9YkH_"
      },
      "source": [
        "### Single Run"
      ]
    },
    {
      "cell_type": "code",
      "metadata": {
        "id": "S8eVeAB3SkHW",
        "colab": {
          "base_uri": "https://localhost:8080/",
          "height": 528
        },
        "outputId": "e090c4a2-aa57-4152-f3e5-3311164478ad"
      },
      "source": [
        "fig, ax1 = plt.subplots(figsize=[8,8])\n",
        "\n",
        "title = \"Evolution of the Optimization\\n{}, \".format(name)\n",
        "\n",
        "if backendName != \"Aer State Vector Simulator\":\n",
        "  title += \"{} shots, \".format(shots)\n",
        "title += \"{}\".format(backendName)\n",
        "\n",
        "ax1.set_title(title)\n",
        "\n",
        "color1 = 'b'\n",
        "ax1.plot(range(1,len(energies)+1), energies, '--o', color = color1)\n",
        "\n",
        "ax1.set_xlabel(\"VQE Iteration\")\n",
        "ax1.set_ylabel(\"Energy (au)\")\n",
        "\n",
        "minAccuracy = exactEnergy - chemicalAccuracy\n",
        "maxAccuracy = exactEnergy + chemicalAccuracy\n",
        "l = ax1.axhspan(minAccuracy, maxAccuracy, alpha=0.3, color = 'cornflowerblue')\n",
        "\n",
        "plt.axhline(y = exactEnergy, color = 'cornflowerblue' , linestyle = '-')\n",
        "color2 = 'r'"
      ],
      "execution_count": null,
      "outputs": [
        {
          "output_type": "display_data",
          "data": {
            "image/png": "[encoded data removed]",
            "text/plain": [
              "<Figure size 576x576 with 1 Axes>"
            ]
          },
          "metadata": {
            "needs_background": "light"
          }
        }
      ]
    },
    {
      "cell_type": "markdown",
      "metadata": {
        "id": "bx6ebIZqYeyR"
      },
      "source": [
        "### Noise Models "
      ]
    },
    {
      "cell_type": "code",
      "metadata": {
        "id": "wZHPS-aZuZkK"
      },
      "source": [
        "fig, ax1 = plt.subplots(figsize=[8,8])\n",
        "\n",
        "title = \"Noise Models\\n{}, \".format(name)\n",
        "\n",
        "if backendName != \"Aer State Vector Simulator\":\n",
        "  title += \"{} shots, \".format(shots)\n",
        "title += \"{}\".format(backendName)\n",
        "\n",
        "ax1.set_title(title)\n",
        "\n",
        "color1 = 'b'\n",
        "#ax1.plot(range(nfev), energies, '--o', color = color1)\n",
        "\n",
        "ax1.plot(range(1,1+len(belemNMEnergies)), belemNMEnergies, '--o',label = \"Full Model\")\n",
        "ax1.plot(range(1,1+len(cxMeasEnergies)), cxMeasEnergies, '--o',label = \"Noisy cx, meas\")\n",
        "ax1.plot(range(1,1+len(energies)), energies, '--o',label = \"Simplified Model\")\n",
        "plt.legend()\n",
        "\n",
        "ax1.set_xlabel(\"VQE Iteration\")\n",
        "ax1.set_ylabel(\"Energy (au)\")\n",
        "\n",
        "minAccuracy = exactEnergy - chemicalAccuracy\n",
        "maxAccuracy = exactEnergy + chemicalAccuracy\n",
        "l = ax1.axhspan(minAccuracy, maxAccuracy, alpha=0.3, color = 'cornflowerblue')\n",
        "\n",
        "plt.axhline(y = exactEnergy, color = 'cornflowerblue' , linestyle = '-')\n",
        "color2 = 'r'"
      ],
      "execution_count": null,
      "outputs": []
    },
    {
      "cell_type": "markdown",
      "metadata": {
        "id": "OWpVZoarK_D4"
      },
      "source": [
        "### CNOT Errors"
      ]
    },
    {
      "cell_type": "code",
      "metadata": {
        "colab": {
          "base_uri": "https://localhost:8080/"
        },
        "id": "xzIni1Wmjrm0",
        "outputId": "ccc72acf-c88e-4bdb-ad5e-635d13d8f53f"
      },
      "source": [
        "# Calculate average ratio \n",
        "# gate error due to thermal relaxation / due to depolarizing channel\n",
        "# ~ 3.4\n",
        "\n",
        "temperature = 0\n",
        "relaxParams = thermal_relaxation_values(props)\n",
        "ratios = []\n",
        "\n",
        "for opname, qubits, gate_length, error_param in device_gate_params:\n",
        "\n",
        "  if opname == \"cx\":\n",
        "\n",
        "    relax_error = _device_thermal_relaxation_error(\n",
        "                  qubits, gate_length, relaxParams, temperature)\n",
        "    \n",
        "    depol_error = _device_depolarizing_error(\n",
        "        qubits, error_param, relax_error)\n",
        "\n",
        "    ratio = gate_error(relax_error) / gate_error(depol_error)\n",
        "    \n",
        "    ratios.append(ratio)\n",
        "\n",
        "print(np.average(ratios))"
      ],
      "execution_count": null,
      "outputs": [
        {
          "output_type": "stream",
          "name": "stdout",
          "text": [
            "3.372861829051015\n"
          ]
        }
      ]
    },
    {
      "cell_type": "code",
      "metadata": {
        "id": "bEwiIMuai3Ru"
      },
      "source": [
        "def getCXNoiseModel(cxTime, relax_params, basis_gates):\n",
        "  '''\n",
        "  Creates a noise model including errors in CNOT operations only.\n",
        "  Noise modeled as two-qubit depolarizing error + thermal relaxation in each \n",
        "  qubit. \n",
        "  Ratio between gate error from thermal relaxation error and from the\n",
        "  depolarizing channel is assumed to be 3.4 (same as ibmq_belem average)\n",
        "\n",
        "  Arguments:\n",
        "    cxTime (float): CNOT gate time\n",
        "    relax_params (list): list of relaxation parameters [t1, t2, frequency] \n",
        "      for each qubit.\n",
        "    basis_gates (list): the basis gates to be assumed in the noise model\n",
        "\n",
        "  Returns:\n",
        "    noiseModel (qiskit.providers.aer.noise.noise_model.NoiseModel):\n",
        "      noise model for CNOT gates\n",
        "    error (int): the error associated with each CNOT gate\n",
        "  '''\n",
        "\n",
        "  cxNoiseModel = NoiseModel(basis_gates=basis_gates)\n",
        "\n",
        "  error = None\n",
        "\n",
        "  # Add thermal relaxation on each possible pair of CNOTs\n",
        "  for i in range(qubitNumber):\n",
        "    for j in range(qubitNumber):\n",
        "      if j != i:\n",
        "\n",
        "        # Calculate error from thermal relaxation\n",
        "        relaxError = _device_thermal_relaxation_error([i,j],\n",
        "                                            cxTime,\n",
        "                                            relax_params,\n",
        "                                            0,\n",
        "                                            thermal_relaxation=True)\n",
        "        \n",
        "        # Calculate a depolarizing error that is 3.4x smaller than relax_error.\n",
        "        # _device_depolarizing_error creates depolarizing error that,\n",
        "        # added to the error of relax_error, sums to parameter 'error_param'.\n",
        "        # We want error_param = relax_error + relax_error/3.4 ~ relax_error/1.3\n",
        "\n",
        "        depolarizingError = _device_depolarizing_error([i,j],\n",
        "                                                  1.3*gate_error(relaxError),\n",
        "                                                  relax_error=relaxError,\n",
        "                                                  standard_gates=True)\n",
        "        \n",
        "        if depolarizingError is not None:\n",
        "          error = relaxError.compose(depolarizingError)\n",
        "        \n",
        "        if error is not None:\n",
        "          cxNoiseModel.add_quantum_error(error, \"cx\", [i,j])\n",
        "\n",
        "  if error is not None:\n",
        "    gateError = gate_error(error) # Average error = error of each here\n",
        "  else:\n",
        "    gateError = 0\n",
        "\n",
        "  return cxNoiseModel, gateError "
      ],
      "execution_count": null,
      "outputs": []
    },
    {
      "cell_type": "code",
      "metadata": {
        "colab": {
          "base_uri": "https://localhost:8080/"
        },
        "id": "XklEkgGv_fXl",
        "outputId": "0479f0e9-2ac1-4413-c40a-6c78131c366c"
      },
      "source": [
        "# Choose relaxation parameters\n",
        "t1 = 40E3\n",
        "t2 = 2*t1\n",
        "freq = 5\n",
        "\n",
        "# Assume average behaviour\n",
        "relaxParams = [[t1, t2, freq] for qubit in range(qubitNumber)]\n",
        "\n",
        "# To get relaxation parameters from device:\n",
        "#props = FakeBelem().properties()\n",
        "#relaxParams = thermal_relaxation_values(props)\n",
        "\n",
        "cxTime = 500 # CNOT gate time, ns\n",
        "\n",
        "myNoiseModel, cxError = getCXNoiseModel(cxTime, relaxParams, belemNM.basis_gates)\n",
        "\n",
        "print(cxError)"
      ],
      "execution_count": null,
      "outputs": [
        {
          "output_type": "stream",
          "name": "stdout",
          "text": [
            "0.012899027149039788\n"
          ]
        }
      ]
    },
    {
      "cell_type": "code",
      "metadata": {
        "id": "XC7G6Y0tANXf"
      },
      "source": [
        "# Number of runs over which to take the average and std for each point\n",
        "runs = 20\n",
        "\n",
        "shots = 2**17\n",
        "\n",
        "# Using IBMQ_Belem data\n",
        "qubitNumber = 5\n",
        "\n",
        "cxTime = 100\n",
        "\n",
        "# Frequency for relax_params. Usually ~5\n",
        "freq = 5\n",
        "\n",
        "medianEnergies = []\n",
        "firstQuartiles = []\n",
        "thirdQuartiles = []\n",
        "\n",
        "cxErrors = []\n",
        "\n",
        "t1List = np.logspace(4,6.65,10)\n",
        "\n",
        "for t1 in t1List:\n",
        "\n",
        "  energies = []\n",
        "\n",
        "  t2 = 2*t1\n",
        "  relaxParams = [[t1, t2, freq] for qubit in range(qubitNumber)]\n",
        "\n",
        "  myNoiseModel, cxError = getCXNoiseModel(cxTime,\n",
        "                                          relaxParams,\n",
        "                                          basis_gates)\n",
        "  cxErrors.append(cxError)\n",
        "  \n",
        "  qinstance = QuantumInstance(backend, \n",
        "                              shots = shots,\n",
        "                              coupling_map=coupling_map,\n",
        "                              basis_gates=basis_gates,\n",
        "                              noise_model=myNoiseModel)\n",
        "\n",
        "  finalEnergies = []\n",
        "\n",
        "  for _ in range(runs):\n",
        "\n",
        "    runEnergies = uccsdVQE(qinstance,uccsd)\n",
        "    finalEnergy = runEnergies[-1]\n",
        "    finalEnergies.append(finalEnergy)\n",
        "    \n",
        "  median = np.median(finalEnergies)\n",
        "  firstQuartile = median - np.percentile(finalEnergies,25)\n",
        "  thirdQuartile = np.percentile(finalEnergies,75) - median\n",
        "\n",
        "  medianEnergies.append(median)\n",
        "  firstQuartiles.append(firstQuartile)\n",
        "  thirdQuartiles.append(thirdQuartile)"
      ],
      "execution_count": null,
      "outputs": []
    },
    {
      "cell_type": "code",
      "metadata": {
        "colab": {
          "base_uri": "https://localhost:8080/",
          "height": 532
        },
        "id": "vbZqSjaGDMg_",
        "outputId": "1b44348b-c6b9-4bba-cb82-5f1da5525369"
      },
      "source": [
        "fig, ax1 = plt.subplots(figsize=[8,8])\n",
        "title = \"UCCSD-VQE: Effect of CNOT Errors\\n{}, \".format(name)\n",
        "title += \"{} shots\".format(shots)\n",
        "\n",
        "ax1.set_title(title)\n",
        "\n",
        "start = 0\n",
        "stop = len(cxErrors)\n",
        "\n",
        "errors = [energy - exactEnergy for energy in medianEnergies]\n",
        "ax1.errorbar(cxErrors[start:stop], \n",
        "             errors[start:stop], \n",
        "             fmt = '--o',\n",
        "             yerr = (firstQuartiles[start:stop],thirdQuartiles[start:stop]),\n",
        "             capsize = 3)\n",
        "\n",
        "\n",
        "ax1.set_xlabel(\"Average CNOT Gate Error\")\n",
        "ax1.set_ylabel(\"Error in the Energy (au)\")\n",
        "ax1.set_xscale(\"log\")\n",
        "#ax1.set_yscale(\"log\")\n",
        "\n",
        "#l = ax1.axhspan(0, chemicalAccuracy, alpha=0.3, color = 'cornflowerblue')"
      ],
      "execution_count": null,
      "outputs": [
        {
          "output_type": "display_data",
          "data": {
            "image/png": "[encoded data removed]",
            "text/plain": [
              "<Figure size 576x576 with 1 Axes>"
            ]
          },
          "metadata": {
            "needs_background": "light"
          }
        }
      ]
    },
    {
      "cell_type": "markdown",
      "metadata": {
        "id": "iBGb4_GIOh7f"
      },
      "source": [
        "### Sampling"
      ]
    },
    {
      "cell_type": "code",
      "metadata": {
        "id": "ahL94p7TOnCd"
      },
      "source": [
        "# Number of runs over which to take the median and IQR for each point\n",
        "runs = 20\n",
        "\n",
        "# Circuit repetitions\n",
        "testShots = [2**i for i in range(5,14,1)] \n",
        "\n",
        "medianEnergies = []\n",
        "firstQuartiles = []\n",
        "thirdQuartiles = []\n",
        "\n",
        "for shots in testShots:\n",
        "  shots = int(shots)\n",
        "\n",
        "  energies = []\n",
        "\n",
        "  qinstance = QuantumInstance(backend, \n",
        "                              shots = shots)\n",
        "  finalEnergies = []\n",
        "\n",
        "  for _ in range(runs):\n",
        "\n",
        "    runEnergies = uccsdVQE(qinstance,uccsd)\n",
        "    finalEnergy = runEnergies[-1]\n",
        "    finalEnergies.append(finalEnergy)\n",
        "\n",
        "  #runAverage = np.mean(finalEnergies)\n",
        "  #runSTD = np.std(finalEnergies)\n",
        "  median = np.median(finalEnergies)\n",
        "  firstQuartile = median - np.percentile(finalEnergies,25)\n",
        "  thirdQuartile = np.percentile(finalEnergies,75) - median\n",
        "\n",
        "  medianEnergies.append(median)\n",
        "  firstQuartiles.append(firstQuartile)\n",
        "  thirdQuartiles.append(thirdQuartile)"
      ],
      "execution_count": null,
      "outputs": []
    },
    {
      "cell_type": "code",
      "metadata": {
        "colab": {
          "base_uri": "https://localhost:8080/",
          "height": 534
        },
        "id": "oRbAA_t6bx0n",
        "outputId": "7abc95da-a5ea-4b8f-9d69-923a6c095144"
      },
      "source": [
        "fig, ax1 = plt.subplots(figsize=[8,8])\n",
        "\n",
        "title = \"UCCSD-VQE: Effect of Sampling Noise ({})\".format(name)\n",
        "\n",
        "ax1.set_title(title)\n",
        "\n",
        "start = 0\n",
        "stop = len(testShots)\n",
        "\n",
        "errors = [energy - exactEnergy for energy in medianEnergies]\n",
        "\n",
        "ax1.errorbar(testShots, \n",
        "             #errors[start:stop], \n",
        "             #medianEnergies[start:stop],\n",
        "             [- mE for mE in medianEnergies[start:stop]],\n",
        "             fmt = '--o',\n",
        "             # REVERSED beacause of the negative\n",
        "             yerr = (thirdQuartiles[start:stop],firstQuartiles[start:stop]),\n",
        "             capsize = 3)\n",
        "\n",
        "ax1.set_xlabel(\"Number of Shots\")\n",
        "ax1.set_ylabel(\"- Energy (au)\")\n",
        "ax1.set_yscale(\"log\")\n",
        "ax1.set_xscale(\"log\")\n",
        "\n",
        "caMin = exactEnergy - chemicalAccuracy\n",
        "caMax = exactEnergy + chemicalAccuracy\n",
        "#l = ax1.axhspan(caMin,caMax, alpha=0.3, color = 'cornflowerblue')\n",
        "l = ax1.axhspan(-caMax, -caMin, alpha=0.3, color = 'cornflowerblue')\n",
        "\n",
        "plt.axhline(y = -exactEnergy, color = 'cornflowerblue' , linestyle = '-')"
      ],
      "execution_count": null,
      "outputs": [
        {
          "output_type": "execute_result",
          "data": {
            "text/plain": [
              "<matplotlib.lines.Line2D at 0x7ff3884c6810>"
            ]
          },
          "metadata": {},
          "execution_count": 19
        },
        {
          "output_type": "display_data",
          "data": {
            "image/png": "[encoded data removed]",
            "text/plain": [
              "<Figure size 576x576 with 1 Axes>"
            ]
          },
          "metadata": {
            "needs_background": "light"
          }
        }
      ]
    },
    {
      "cell_type": "code",
      "metadata": {
        "colab": {
          "base_uri": "https://localhost:8080/",
          "height": 534
        },
        "id": "YojErfCGQ3WL",
        "outputId": "8a61229f-a9c1-40ac-d39e-d7c4fd300081"
      },
      "source": [
        "fig, ax1 = plt.subplots(figsize=[8,8])\n",
        "\n",
        "title = \"UCCSD vs ADAPT VQE: Effect of Sampling Noise ({})\".format(name)\n",
        "\n",
        "ax1.set_title(title)\n",
        "\n",
        "start = 0\n",
        "stop = len(testShots)\n",
        "\n",
        "errors = [energy - exactEnergy for energy in medianEnergies]\n",
        "\n",
        "ax1.errorbar(testShots, \n",
        "             #errors[start:stop], \n",
        "             #medianEnergies[start:stop],\n",
        "             [- mE for mE in medianEnergies[start:stop]],\n",
        "             fmt = '--o',\n",
        "             # REVERSED beacause of the negative\n",
        "             yerr = (thirdQuartiles[start:stop],firstQuartiles[start:stop]),\n",
        "             label = \"UCCSD-VQE\",\n",
        "             capsize = 3)\n",
        "\n",
        "ax1.errorbar(testShots, \n",
        "             #errors[start:stop], \n",
        "             #medianEnergies[start:stop],\n",
        "             [- mE for mE in medianEnergies2[start:stop]],\n",
        "             fmt = '--o',\n",
        "             # REVERSED beacause of the negative\n",
        "             yerr = (thirdQuartiles2[start:stop],firstQuartiles2[start:stop]),\n",
        "             label = \"ADAPT-VQE\",\n",
        "             capsize = 3)\n",
        "\n",
        "ax1.set_xlabel(\"Number of Shots\")\n",
        "ax1.set_ylabel(\"- Energy (au)\")\n",
        "ax1.set_yscale(\"log\")\n",
        "ax1.set_xscale(\"log\")\n",
        "\n",
        "ax1.legend()\n",
        "\n",
        "caMin = exactEnergy - chemicalAccuracy\n",
        "caMax = exactEnergy + chemicalAccuracy\n",
        "#l = ax1.axhspan(caMin,caMax, alpha=0.3, color = 'cornflowerblue')\n",
        "l = ax1.axhspan(-caMax, -caMin, alpha=0.3, color = 'cornflowerblue')\n",
        "\n",
        "plt.axhline(y = -exactEnergy, color = 'cornflowerblue' , linestyle = '-')"
      ],
      "execution_count": null,
      "outputs": [
        {
          "output_type": "execute_result",
          "data": {
            "text/plain": [
              "<matplotlib.lines.Line2D at 0x7ff3814a3990>"
            ]
          },
          "metadata": {},
          "execution_count": 25
        },
        {
          "output_type": "display_data",
          "data": {
            "image/png": "[encoded data removed]",
            "text/plain": [
              "<Figure size 576x576 with 1 Axes>"
            ]
          },
          "metadata": {
            "needs_background": "light"
          }
        }
      ]
    },
    {
      "cell_type": "markdown",
      "metadata": {
        "id": "hb9hR1KPMc8W"
      },
      "source": [
        "### Decoherence"
      ]
    },
    {
      "cell_type": "code",
      "metadata": {
        "id": "n7Yi0rt4Me7r"
      },
      "source": [
        "def getDecNoiseModel(t1,t2,measTime,resetTime,cxTime,uTime,qubitNumber,basis_gates):\n",
        "  '''\n",
        "  Creates a noise model with decoherence only.\n",
        "  Must have t2 <= 2t1\n",
        "\n",
        "  Arguments:\n",
        "    t1 (float): relaxation time\n",
        "    t2 (float): dephasing time\n",
        "    measTime (float): measurement time\n",
        "    resetTime (float): reset time\n",
        "    cxTime: \n",
        "    qubitNumber (int): the number of qubits of the backend. The error\n",
        "      will be assumed to apply to all (connected) pairs of qubits.\n",
        "    basis_gates (list): the basis gates to be assumed in the noise model\n",
        "  \n",
        "  Returns:\n",
        "    noiseModel (qiskit.providers.aer.noise.noise_model.NoiseModel):\n",
        "      noise model for decoherence\n",
        "  '''\n",
        "\n",
        "  noiseModel = NoiseModel(basis_gates=belemNM.basis_gates)\n",
        "\n",
        "  # Thermal relaxation\n",
        "  uError = thermal_relaxation_error(t1,t2,uTime)\n",
        "  measError = thermal_relaxation_error(t1, t2, measTime)\n",
        "  resetError = thermal_relaxation_error(t1, t2, resetTime)\n",
        "  cxTError = thermal_relaxation_error(t1, t2, cxTime)\n",
        "  cxTError = cxTError.tensor(cxTError)\n",
        "\n",
        "  for i in range(qubitNumber):\n",
        "\n",
        "    # Add thermal relaxation on each qubit measurement\n",
        "    noiseModel.add_quantum_error(measError,\"measure\",[i])\n",
        "    noiseModel.add_quantum_error(resetError,\"reset\",[i])\n",
        "\n",
        "    # Add thermal relaxation on single qubit gates\n",
        "    noiseModel.add_quantum_error(uError,\"id\",[i])\n",
        "    noiseModel.add_quantum_error(uError,\"rz\",[i])\n",
        "    noiseModel.add_quantum_error(uError,\"x\",[i])\n",
        "    noiseModel.add_quantum_error(uError,\"sx\",[i])\n",
        "\n",
        "    # Add thermal relaxation on each possible pair of CNOTs\n",
        "    for j in range(qubitNumber):\n",
        "      if j != i:\n",
        "        noiseModel.add_quantum_error(cxTError,\"cx\",[i,j])\n",
        "\n",
        "    return noiseModel"
      ],
      "execution_count": null,
      "outputs": []
    },
    {
      "cell_type": "code",
      "metadata": {
        "id": "IO_XcXILP_zd"
      },
      "source": [
        "# Number of runs over which to take the average and std for each point\n",
        "runs = 20\n",
        "\n",
        "shots = 2**17\n",
        "\n",
        "# Using IBMQ_Belem data\n",
        "qubitNumber = 5\n",
        "\n",
        "# Basic times\n",
        "# All nanoseconds\n",
        "t1 = 100E3\n",
        "t2 = 2*t1\n",
        "\n",
        "# Times for operations\n",
        "measTime = 5000 # Measuring\n",
        "resetTime = 5000 # Reset\n",
        "cxTime = 500 # CNOT gate\n",
        "uTime = 100 # Single qubit gate\n",
        "\n",
        "# Multipliers for t1, t2. 1 = 100%; 2 = 200%; ...\n",
        "# Will correspond to graph points. 100% of t1, t2; \n",
        "#then 200%;...\n",
        "multipliers = [i/40 for i in range(400,8000,800)]\n",
        "multipliers = [i/40 for i in range(2,8000,1000)]\n",
        "\n",
        "medianEnergies = []\n",
        "firstQuartiles = []\n",
        "thirdQuartiles = []\n",
        "\n",
        "for mult in multipliers:\n",
        "\n",
        "  energies = []\n",
        "  t1mult = mult * t1\n",
        "  t2mult = mult * t2\n",
        "\n",
        "  myNoiseModel = getDecNoiseModel(t1mult,\n",
        "                                  t2mult,\n",
        "                                  measTime,\n",
        "                                  resetTime,\n",
        "                                  cxTime,\n",
        "                                  uTime,\n",
        "                                  qubitNumber,\n",
        "                                  basis_gates)\n",
        "  \n",
        "  qinstance = QuantumInstance(backend, \n",
        "                              shots = shots,\n",
        "                              coupling_map=coupling_map,\n",
        "                              basis_gates=basis_gates,\n",
        "                              noise_model=myNoiseModel)\n",
        "\n",
        "  finalEnergies = []\n",
        "\n",
        "  for _ in range(runs):\n",
        "\n",
        "    runEnergies = uccsdVQE(qinstance,uccsd)\n",
        "    finalEnergy = runEnergies[-1]\n",
        "    finalEnergies.append(finalEnergy)\n",
        "\n",
        "  #runAverage = np.mean(finalEnergies)\n",
        "  #runSTD = np.std(finalEnergies)\n",
        "  median = np.median(finalEnergies)\n",
        "  firstQuartile = median - np.percentile(finalEnergies,25)\n",
        "  thirdQuartile = np.percentile(finalEnergies,75) - median\n",
        "\n",
        "  medianEnergies.append(median)\n",
        "  firstQuartiles.append(firstQuartile)\n",
        "  thirdQuartiles.append(thirdQuartile)"
      ],
      "execution_count": null,
      "outputs": []
    },
    {
      "cell_type": "code",
      "metadata": {
        "colab": {
          "base_uri": "https://localhost:8080/",
          "height": 545
        },
        "id": "oGu5H0ZpRqUK",
        "outputId": "253e658f-fde6-4976-c6b1-7e4e048ce1d7"
      },
      "source": [
        "fig, ax1 = plt.subplots(figsize=[8,8])\n",
        "\n",
        "title = \"UCCSD-VQE: Effect of Decoherence\\n{}, \".format(name)\n",
        "title += \"{} shots\".format(shots)\n",
        "\n",
        "ax1.set_title(title)\n",
        "\n",
        "start = 0\n",
        "stop = len(multipliers)\n",
        "times = [multiplier * t1 * 10**(-9) for multiplier in multipliers]\n",
        "\n",
        "errors = [energy - exactEnergy for energy in medianEnergies]\n",
        "ax1.errorbar(times[start:stop], \n",
        "             errors[start:stop], \n",
        "             fmt = '--o',\n",
        "             yerr = (firstQuartiles[start:stop],thirdQuartiles[start:stop]),\n",
        "             capsize = 3)\n",
        "\n",
        "\n",
        "ax1.set_xlabel(\"T1 = T2/2 (s)\")\n",
        "ax1.set_ylabel(\"Error (au)\")\n",
        "ax1.set_yscale(\"log\")\n",
        "#ax1.set_xscale(\"log\")\n",
        "\n",
        "l = ax1.axhspan(0, chemicalAccuracy, alpha=0.3, color = 'cornflowerblue')\n",
        "\n",
        "plt.axhline(y = exactEnergy, color = 'cornflowerblue' , linestyle = '-')"
      ],
      "execution_count": null,
      "outputs": [
        {
          "output_type": "execute_result",
          "data": {
            "text/plain": [
              "<matplotlib.lines.Line2D at 0x7f5ef4240450>"
            ]
          },
          "metadata": {
            "tags": []
          },
          "execution_count": 24
        },
        {
          "output_type": "display_data",
          "data": {
            "image/png": "[encoded data removed]",
            "text/plain": [
              "<Figure size 576x576 with 1 Axes>"
            ]
          },
          "metadata": {
            "tags": []
          }
        }
      ]
    },
    {
      "cell_type": "code",
      "metadata": {
        "colab": {
          "base_uri": "https://localhost:8080/",
          "height": 528
        },
        "id": "QiViCl6Nlb8X",
        "outputId": "0106d203-320c-463e-f8fe-18609bc2fd57"
      },
      "source": [
        "#errors\n",
        "shots = 2**17\n",
        "fig, ax1 = plt.subplots(figsize=[8,8])\n",
        "\n",
        "title = \"UCCSD vs ADAPT VQE: Effect of Decoherence\\n{}, \".format(name)\n",
        "title += \"{} shots\".format(shots)\n",
        "\n",
        "ax1.set_title(title)\n",
        "\n",
        "start = 0\n",
        "stop = len(multipliers)\n",
        "times = [multiplier * t1 * 10**(-9) for multiplier in multipliers]\n",
        "\n",
        "errors = [np.abs(exactEnergy - energy) for energy in medianEnergies]\n",
        "errors2 = [np.abs(exactEnergy - energy) for energy in medianEnergies2]\n",
        "\n",
        "ax1.errorbar(times[start:stop], \n",
        "             #medianEnergies[start:stop], \n",
        "             errors[start:stop],\n",
        "             fmt = '--o',\n",
        "             yerr = (firstQuartiles[start:stop],thirdQuartiles[start:stop]),\n",
        "             label = 'ADAPT-VQE',\n",
        "             capsize = 3)\n",
        "\n",
        "ax1.errorbar(times[start:stop], \n",
        "             #medianEnergies[start:stop], \n",
        "             errors2[start:stop],\n",
        "             fmt = '--o',\n",
        "             yerr = (firstQuartiles2[start:stop],thirdQuartiles2[start:stop]),\n",
        "             label = 'UCCSD-VQE',\n",
        "             capsize = 3)\n",
        "\n",
        "ax1.set_xlabel(\"T1 = T2/2 (s)\")\n",
        "ax1.set_ylabel(\"Error (au)\")\n",
        "\n",
        "ax1.set_yscale('log')\n",
        "ax1.legend()\n",
        "\n",
        "minAccuracy = exactEnergy - chemicalAccuracy\n",
        "maxAccuracy = exactEnergy + chemicalAccuracy\n",
        "l = ax1.axhspan(0, chemicalAccuracy, alpha=0.3, color = 'cornflowerblue')"
      ],
      "execution_count": null,
      "outputs": [
        {
          "output_type": "display_data",
          "data": {
            "image/png": "[encoded data removed]",
            "text/plain": [
              "<Figure size 576x576 with 1 Axes>"
            ]
          },
          "metadata": {
            "tags": []
          }
        }
      ]
    },
    {
      "cell_type": "markdown",
      "metadata": {
        "id": "IbbBoZzCUKma"
      },
      "source": [
        "### Readout Errors"
      ]
    },
    {
      "cell_type": "code",
      "metadata": {
        "id": "VV37soauUYGD"
      },
      "source": [
        "%%capture\n",
        "\n",
        "# Number of runs over which to take the median and IQR for each point\n",
        "runs = 20\n",
        "\n",
        "# Circuit repetitions\n",
        "shots = 2**17\n",
        "\n",
        "# Measure 1 prep 0 average\n",
        "m1p0 = 0.01\n",
        "# Measure 0 prep 1 average\n",
        "m0p1 = 5 * m1p0\n",
        "\n",
        "multipliers = [i/10 for i in range(0,21,4)]\n",
        "#multipliers = [i/1000 for i in range(0,20,2)] # UCCSD only\n",
        "\n",
        "medianEnergies = []\n",
        "firstQuartiles = []\n",
        "thirdQuartiles = []\n",
        "\n",
        "for mult in multipliers:\n",
        "\n",
        "  energies = []\n",
        "\n",
        "  # Readout Error\n",
        "  readoutErrorMatrix = [[1 - m1p0 * mult, m1p0 * mult],\n",
        "                        [m0p1 * mult, 1 - m0p1 * mult]]\n",
        "  readoutError = ReadoutError(readoutErrorMatrix)\n",
        "\n",
        "  noiseModel = NoiseModel()\n",
        "  for i in range(qubitNumber):\n",
        "    # Adde readout error on each qubit\n",
        "    noiseModel.add_readout_error(readoutError,[i])\n",
        "  \n",
        "  qinstance = QuantumInstance(backend, \n",
        "                              shots = shots,\n",
        "                              coupling_map=coupling_map,\n",
        "                              basis_gates=basis_gates,\n",
        "                              noise_model=noiseModel)\n",
        "\n",
        "  finalEnergies = []\n",
        "\n",
        "  for _ in range(runs):\n",
        "\n",
        "    runEnergies = uccsdVQE(qinstance,uccsd)\n",
        "    finalEnergy = runEnergies[-1]\n",
        "    finalEnergies.append(finalEnergy)\n",
        "\n",
        "  #runAverage = np.mean(finalEnergies)\n",
        "  #runSTD = np.std(finalEnergies)\n",
        "  median = np.median(finalEnergies)\n",
        "  firstQuartile = median - np.percentile(finalEnergies,25)\n",
        "  thirdQuartile = np.percentile(finalEnergies,75) - median\n",
        "\n",
        "  medianEnergies.append(median)\n",
        "  firstQuartiles.append(firstQuartile)\n",
        "  thirdQuartiles.append(thirdQuartile)"
      ],
      "execution_count": null,
      "outputs": []
    },
    {
      "cell_type": "code",
      "metadata": {
        "colab": {
          "base_uri": "https://localhost:8080/",
          "height": 545
        },
        "id": "pNilBpciVdR5",
        "outputId": "204eb043-9044-4e8c-a570-ff1228293306"
      },
      "source": [
        "fig, ax1 = plt.subplots(figsize=[8,8])\n",
        "\n",
        "title = \"UCCSD-VQE: Effect of Readout Errors\\n{}, \".format(name)\n",
        "title += \"{} shots\".format(shots)\n",
        "\n",
        "ax1.set_title(title)\n",
        "\n",
        "start = 0\n",
        "stop = len(multipliers)\n",
        "\n",
        "m0p1s = [multiplier * m0p1 for multiplier in multipliers]\n",
        "\n",
        "errors = [energy - exactEnergy for energy in medianEnergies]\n",
        "\n",
        "ax1.errorbar(m0p1s[start:stop], \n",
        "             errors[start:stop], \n",
        "             fmt = '--o',\n",
        "             yerr = (firstQuartiles[start:stop],thirdQuartiles[start:stop]),\n",
        "             capsize = 3)\n",
        "\n",
        "ax1.set_xlabel(\"m0p1 = 5 * m1p0\")\n",
        "ax1.set_ylabel(\"Error (au)\")\n",
        "ax1.set_yscale(\"log\")\n",
        "\n",
        "l = ax1.axhspan(0, chemicalAccuracy, alpha=0.3, color = 'cornflowerblue')\n",
        "\n",
        "plt.axhline(y = exactEnergy, color = 'cornflowerblue' , linestyle = '-')"
      ],
      "execution_count": null,
      "outputs": [
        {
          "output_type": "execute_result",
          "data": {
            "text/plain": [
              "<matplotlib.lines.Line2D at 0x7f0abcdc9c50>"
            ]
          },
          "metadata": {
            "tags": []
          },
          "execution_count": 18
        },
        {
          "output_type": "display_data",
          "data": {
            "image/png": "[encoded data removed]",
            "text/plain": [
              "<Figure size 576x576 with 1 Axes>"
            ]
          },
          "metadata": {
            "tags": [],
            "needs_background": "light"
          }
        }
      ]
    },
    {
      "cell_type": "code",
      "metadata": {
        "colab": {
          "base_uri": "https://localhost:8080/",
          "height": 528
        },
        "id": "EiM4jw3KtU8e",
        "outputId": "bcd2603e-d607-4c7e-ce85-26f72f954c69"
      },
      "source": [
        "shots = 2**17\n",
        "fig, ax1 = plt.subplots(figsize=[8,8])\n",
        "\n",
        "title = \"UCCSD vs ADAPT VQE: Effect of Readout Errors\\n{}, \".format(name)\n",
        "title += \"{} shots\".format(shots)\n",
        "\n",
        "ax1.set_title(title)\n",
        "\n",
        "start = 0\n",
        "stop = len(multipliers)\n",
        "m0p1s = [multiplier * m0p1 for multiplier in multipliers]\n",
        "\n",
        "errors = [np.abs(exactEnergy - energy) for energy in medianEnergies]\n",
        "errors2 = [np.abs(exactEnergy - energy) for energy in medianEnergies2]\n",
        "\n",
        "ax1.errorbar(m0p1s[start:stop], \n",
        "             errors2[start:stop],\n",
        "             fmt = '--o',\n",
        "             yerr = (firstQuartiles2[start:stop],thirdQuartiles2[start:stop]),\n",
        "             label = 'ADAPT-VQE',\n",
        "             capsize = 3)\n",
        "\n",
        "ax1.errorbar(m0p1s[start:stop], \n",
        "             errors[start:stop],\n",
        "             fmt = '--o',\n",
        "             yerr = (firstQuartiles[start:stop],thirdQuartiles[start:stop]),\n",
        "             label = 'UCCSD-VQE',\n",
        "             capsize = 3)\n",
        "\n",
        "ax1.set_xlabel(\"m0p1 = 5 * m1p0\")\n",
        "ax1.set_ylabel(\"Error (au)\")\n",
        "\n",
        "ax1.set_yscale('log')\n",
        "ax1.legend()\n",
        "\n",
        "minAccuracy = exactEnergy - chemicalAccuracy\n",
        "maxAccuracy = exactEnergy + chemicalAccuracy\n",
        "l = ax1.axhspan(0, chemicalAccuracy, alpha=0.3, color = 'cornflowerblue')"
      ],
      "execution_count": null,
      "outputs": [
        {
          "output_type": "display_data",
          "data": {
            "image/png": "[encoded data removed]",
            "text/plain": [
              "<Figure size 576x576 with 1 Axes>"
            ]
          },
          "metadata": {
            "needs_background": "light"
          }
        }
      ]
    },
    {
      "cell_type": "markdown",
      "metadata": {
        "id": "mUdjpHR7vAHn"
      },
      "source": [
        "### Noise Model"
      ]
    },
    {
      "cell_type": "code",
      "metadata": {
        "id": "VWw561KfvRsm"
      },
      "source": [
        "# Number of runs over which to take the median and IQR for each point\n",
        "runs = 20\n",
        "\n",
        "shots = 2**17\n",
        "\n",
        "# Using IBMQ_Belem data\n",
        "qubitNumber = 5\n",
        "\n",
        "# Basic; t1 is from ibmq_belem\n",
        "# All nanoseconds\n",
        "t1 = 86.91E3\n",
        "t2 = 2*t1\n",
        "\n",
        "# Measure / CNOT gate times. FrommBelem\n",
        "measTime = 5351.111\n",
        "cxTime = 552.889\n",
        "\n",
        "# Measure 0 prep 1 average\n",
        "m0p1 = 0.0406\n",
        "# Measure 1 prep 0 average\n",
        "m1p0 = 0.0096 \n",
        "\n",
        "\n",
        "# Multipliers for t1, t2. 1 = 100%; 2 = 200%; ...\n",
        "# Will correspond to graph points. 100% of t1, t2; \n",
        "#then 200%;...\n",
        "multipliers = [i/5 for i in range(1,2250,200)]\n",
        "\n",
        "medianEnergies = []\n",
        "firstQuartiles = []\n",
        "thirdQuartiles = []\n",
        "\n",
        "for mult in multipliers:\n",
        "\n",
        "  energies = []\n",
        "  t1mult = mult * t1\n",
        "  t2mult = mult * t2\n",
        "\n",
        "  myNoiseModel = createNoiseModel(t1mult,t2mult,measTime,cxTime,m0p1,m1p0)\n",
        "  \n",
        "  qinstance = QuantumInstance(backend, \n",
        "                              shots = shots,\n",
        "                              coupling_map=coupling_map,\n",
        "                              basis_gates=basis_gates,\n",
        "                              noise_model=myNoiseModel)\n",
        "\n",
        "  finalEnergies = []\n",
        "\n",
        "  for _ in range(runs):\n",
        "\n",
        "    runEnergies = uccsdVQE(qinstance,uccsd)\n",
        "    finalEnergy = runEnergies[-1]\n",
        "    finalEnergies.append(finalEnergy)\n",
        "\n",
        "  #runAverage = np.mean(finalEnergies)\n",
        "  #runSTD = np.std(finalEnergies)\n",
        "  median = np.median(finalEnergies)\n",
        "  firstQuartile = median - np.percentile(finalEnergies,25)\n",
        "  thirdQuartile = np.percentile(finalEnergies,75) - median\n",
        "\n",
        "  medianEnergies.append(median)\n",
        "  firstQuartiles.append(firstQuartile)\n",
        "  thirdQuartiles.append(thirdQuartile)"
      ],
      "execution_count": null,
      "outputs": []
    },
    {
      "cell_type": "markdown",
      "metadata": {
        "id": "31slUpC7iTTV"
      },
      "source": [
        "### Bond Dissociation"
      ]
    },
    {
      "cell_type": "code",
      "metadata": {
        "id": "ncKnCv7IijEe"
      },
      "source": [
        "name = 'H2'\n",
        "h2 = 'H 0.0 0.0 0.0; H 0.0 0.0 {}'\n",
        "charge = 0\n",
        "spin = 0\n",
        "\n",
        "'''\n",
        "name = 'H4'\n",
        "charge = 0\n",
        "spin = 0\n",
        "'''\n",
        "\n",
        "backend = Aer.get_backend('qasm_simulator')\n",
        "#backend = Aer.get_backend('statevector_simulator')\n",
        "shots = 2**8\n",
        "qinstance = QuantumInstance(backend, shots = shots)\n",
        "\n",
        "vqeEnergies = []\n",
        "exactEnergies = []\n",
        "hfEnergies = []\n",
        "\n",
        "zoom = False\n",
        "\n",
        "if zoom:\n",
        "\n",
        "  if name == \"H2\":\n",
        "    start = 0.6\n",
        "    stop = 0.9\n",
        "    points = 20\n",
        "  \n",
        "  if name == \"H4\":\n",
        "    start = 0.7\n",
        "    stop = 1\n",
        "    points = 20\n",
        "\n",
        "else:\n",
        "  \n",
        "  if name == \"H2\":\n",
        "    start = 0.2\n",
        "    stop = 2.2\n",
        "    points = 50\n",
        "\n",
        "  if name == \"H4\":\n",
        "    start = 0.24\n",
        "    stop = 2.0\n",
        "    points = 50\n",
        "\n",
        "rList = np.linspace(start,stop,points)\n",
        "\n",
        "for r in rList:\n",
        "\n",
        "  if name == \"H2\":\n",
        "    molecule = f'H 0.0 0.0 0.0; H 0.0 0.0 {r}'\n",
        "    \n",
        "  if name == \"H4\":\n",
        "    molecule = f'H 0.0 0.0 {0}; H 0.0 0.0 {r}; H 0.0 0.0 {2*r}; H 0.0 0.0 {3*r};'\n",
        "\n",
        "  driver = PySCFDriver(molecule, \n",
        "                      charge = charge,\n",
        "                      spin = spin,\n",
        "                      basis='sto3g')\n",
        "  molecule = driver.run()\n",
        "\n",
        "  observable =  Hamiltonian(qubit_mapping=QubitMappingType.JORDAN_WIGNER,\n",
        "                            two_qubit_reduction=False)\n",
        "  \n",
        "  qubitOp, auxOps = observable.run(molecule)\n",
        "\n",
        "  # Set the Hartree Fock state as reference\n",
        "  initial_state = HartreeFock(\n",
        "      observable.molecule_info['num_orbitals'],\n",
        "      observable.molecule_info['num_particles'],\n",
        "      qubit_mapping='jordan_wigner',\n",
        "      two_qubit_reduction = False\n",
        "  ) \n",
        "\n",
        "  # Create the UCCSD ansatz with HF as initial state\n",
        "  uccsd = UCCSD(observable.molecule_info['num_orbitals'], \n",
        "                observable.molecule_info['num_particles'], \n",
        "                reps=1,\n",
        "                num_time_slices=1,\n",
        "                qubit_mapping='jordan_wigner',\n",
        "                two_qubit_reduction=False,\n",
        "                initial_state = initial_state)\n",
        "\n",
        "  # Create parameter vector\n",
        "  paramsNumber = uccsd.num_parameters\n",
        "  parameters = ParameterVector(\"Params\",paramsNumber)\n",
        "\n",
        "  vqe = VQE(qubitOp,\n",
        "            var_form = uccsd, \n",
        "            optimizer = COBYLA(rhobeg=0.1), \n",
        "            quantum_instance = qinstance,\n",
        "            callback = callback,\n",
        "            aux_operators = auxOps)\n",
        "  \n",
        "\n",
        "  # Run the algorithm on the chosen backend\n",
        "  result = vqe.run(qinstance)\n",
        "\n",
        "  # Process the result\n",
        "  result = observable.process_algorithm_result(result)\n",
        "\n",
        "  # Append VQE result to the list\n",
        "  vqeEnergies.append(result.energy)\n",
        "\n",
        "  # Get the exact result using Numpy\n",
        "  solver = NumPyMinimumEigensolver(qubitOp,aux_operators=auxOps)\n",
        "  exactResult =  solver.run()\n",
        "\n",
        "  # Process the result\n",
        "  exactResult = observable.process_algorithm_result(exactResult)\n",
        "  exactEnergy = exactResult.energy\n",
        "\n",
        "  hfEnergies.append(result.hartree_fock_energy)\n",
        "\n",
        "  exactEnergies.append(exactEnergy)"
      ],
      "execution_count": null,
      "outputs": []
    },
    {
      "cell_type": "code",
      "metadata": {
        "colab": {
          "base_uri": "https://localhost:8080/",
          "height": 546
        },
        "id": "fgXQuf3Mkl4w",
        "outputId": "1f27a6ad-ffd0-4dec-d09c-d38e8e7d0d9f"
      },
      "source": [
        "if backend.name() == \"statevector_simulator\":\n",
        "  backendName = \"Aer State Vector Simulator\"\n",
        "\n",
        "elif backend.name() == \"qasm_simulator\":\n",
        "  backendName = \"Aer QASM Simulator\"\n",
        "\n",
        "else:\n",
        "  backendName = backend.name()\n",
        "\n",
        "# Change this to plot only part of the data\n",
        "start = 0\n",
        "stop = len(rList)\n",
        "\n",
        "# Define chemical accuracy\n",
        "chemicalAccuracy = 1.5936*10**-3\n",
        "\n",
        "minEnergies = [energy - chemicalAccuracy for energy in exactEnergies][start:stop]\n",
        "maxEnergies = [energy + chemicalAccuracy for energy in exactEnergies][start:stop]\n",
        "\n",
        "fig = plt.subplots(figsize = [8,8])\n",
        "\n",
        "plt.plot(rList[start:stop],hfEnergies[start:stop],color = 'g',label = 'Hartree Fock Ground Energy')\n",
        "plt.plot(rList[start:stop],vqeEnergies[start:stop],'o',color = 'b',label = 'VQE Ground Energy')\n",
        "plt.plot(rList[start:stop],exactEnergies[start:stop],color = 'r',label = 'Exact Diagonalization Energy')\n",
        "plt.fill_between(rList[start:stop],minEnergies,maxEnergies,color='cornflowerblue',alpha=0.3)\n",
        "\n",
        "plt.ylabel(\"Energy (au)\")\n",
        "plt.xlabel(\"Interatomic Distance (Å)\")\n",
        "\n",
        "title = f\"UCCSD-VQE for {name}\\n\"\n",
        "if backendName != \"Aer State Vector Simulator\":\n",
        "  title += \"{} shots, \".format(shots)\n",
        "title += \"{}\".format(backendName)\n",
        "\n",
        "plt.title(title)\n",
        "plt.legend()"
      ],
      "execution_count": null,
      "outputs": [
        {
          "output_type": "execute_result",
          "data": {
            "text/plain": [
              "<matplotlib.legend.Legend at 0x7fc6bc125410>"
            ]
          },
          "metadata": {
            "tags": []
          },
          "execution_count": 20
        },
        {
          "output_type": "display_data",
          "data": {
            "image/png": "[encoded data removed]",
            "text/plain": [
              "<Figure size 576x576 with 1 Axes>"
            ]
          },
          "metadata": {
            "tags": []
          }
        }
      ]
    },
    {
      "cell_type": "markdown",
      "metadata": {
        "id": "qdy3wBzEr5hY"
      },
      "source": [
        "### Error Along Bond Dissociation"
      ]
    },
    {
      "cell_type": "code",
      "metadata": {
        "id": "Eyls7GtYF39y"
      },
      "source": [
        "%%capture\n",
        "# Error along bond dissociation graph for H2\n",
        "# with number of shots per interatomic distance\n",
        "\n",
        "# Number of runs over which to take the median and IQR for each point\n",
        "runs = 10\n",
        "\n",
        "# Circuit repetitions\n",
        "shots = 2**18\n",
        "\n",
        "medianEnergies = []\n",
        "exactEnergies = []\n",
        "totalShots = []\n",
        "nfevList = []\n",
        "numberMeasuredObs = []\n",
        "\n",
        "zoom = True\n",
        "\n",
        "backend = Aer.get_backend('qasm_simulator')\n",
        "\n",
        "qinstance = QuantumInstance(backend, shots = shots)\n",
        "\n",
        "# Number of Pauli strings in the Hamiltonian\n",
        "# See Qiskit_AdaptVQE for obtaining this\n",
        "hamiltonianStringCount = 14\n",
        "\n",
        "if zoom:\n",
        "  start = 0.6\n",
        "  stop = 0.8\n",
        "  points = 10\n",
        "\n",
        "else:\n",
        "  start = 0.2\n",
        "  stop = 2.2\n",
        "  points = 50\n",
        "\n",
        "rList = np.linspace(start,stop,points)\n",
        "\n",
        "for r in rList:\n",
        "\n",
        "  molecule = f'H 0.0 0.0 0.0; H 0.0 0.0 {r}'\n",
        "  name = 'H2'\n",
        "  charge = 0\n",
        "  spin = 0\n",
        "\n",
        "  driver = PySCFDriver(molecule, \n",
        "                      charge = charge,\n",
        "                      spin = spin,\n",
        "                      basis='sto3g')\n",
        "  \n",
        "  molecule = driver.run()\n",
        "\n",
        "  observable =  Hamiltonian(qubit_mapping=QubitMappingType.JORDAN_WIGNER,\n",
        "                            two_qubit_reduction=False)\n",
        "  \n",
        "  qubitOp, auxOps = observable.run(molecule)\n",
        "\n",
        "  # Set the Hartree Fock state as reference\n",
        "  initial_state = HartreeFock(\n",
        "      observable.molecule_info['num_orbitals'],\n",
        "      observable.molecule_info['num_particles'],\n",
        "      qubit_mapping='jordan_wigner',\n",
        "      two_qubit_reduction = False\n",
        "  ) \n",
        "\n",
        "  # Create the UCCSD ansatz with HF as initial state\n",
        "  uccsd = UCCSD(observable.molecule_info['num_orbitals'], \n",
        "                observable.molecule_info['num_particles'], \n",
        "                reps=1,\n",
        "                num_time_slices=1,\n",
        "                qubit_mapping='jordan_wigner',\n",
        "                two_qubit_reduction=False,\n",
        "                initial_state = initial_state)\n",
        "\n",
        "  # Get the exact result using Numpy\n",
        "  solver = NumPyMinimumEigensolver(qubitOp,aux_operators=auxOps)\n",
        "  exactResult =  solver.run()\n",
        "\n",
        "  # Process the result\n",
        "  exactResult = observable.process_algorithm_result(exactResult)\n",
        "  exactEnergy = exactResult.energy\n",
        "\n",
        "  exactEnergies.append(exactEnergy)\n",
        "\n",
        "  finalEnergies = []\n",
        "  nfevs = []\n",
        "\n",
        "  for _ in range(runs):\n",
        "\n",
        "    # Create parameter vector\n",
        "    paramsNumber = uccsd.num_parameters\n",
        "    parameters = ParameterVector(\"Params\",paramsNumber)\n",
        "\n",
        "    vqe = VQE(qubitOp,\n",
        "              var_form = uccsd, \n",
        "              optimizer = COBYLA(rhobeg=0.1), \n",
        "              quantum_instance = qinstance,\n",
        "              callback = callback,\n",
        "              aux_operators = auxOps)\n",
        "    \n",
        "    # Run the algorithm on the chosen backend\n",
        "    result = vqe.run(qinstance)\n",
        "\n",
        "    # Process the result\n",
        "    result = observable.process_algorithm_result(result)\n",
        "\n",
        "    # Append VQE result to the list\n",
        "    finalEnergies.append(result.energy)\n",
        "\n",
        "    nfev = evolution['nfev'][-1]\n",
        "    nfevs.append(nfev)\n",
        "\n",
        "  median = np.median(finalEnergies)\n",
        "  medianEnergies.append(median)\n",
        "\n",
        "  # Calculate average number of function evaluations for this interatomic distance\n",
        "  nfev = np.average(nfevs)\n",
        "\n",
        "  # Append average number of function evaluations for this interatomic distance\n",
        "  nfevList.append(nfev)\n",
        "\n",
        "  # Calculate average number of function evaluations for this interatomic distance\n",
        "  nfev = np.average(nfev)\n",
        "\n",
        "  # Total number of measured observables= # energy evaluations (nfev) \n",
        "  measuredObservables = nfev\n",
        "\n",
        "  numberMeasuredObs.append(measuredObservables)\n",
        "\n",
        "  # # shots to evaluate the energy =\n",
        "  # (# energy evaluations) * (# strings in Hamiltonian) * (# shots per string)\n",
        "  energyShots = nfev * hamiltonianStringCount * shots\n",
        "\n",
        "  totalShots.append(energyShots)"
      ],
      "execution_count": null,
      "outputs": []
    },
    {
      "cell_type": "code",
      "metadata": {
        "colab": {
          "base_uri": "https://localhost:8080/",
          "height": 546
        },
        "id": "ke3107Fc53Tk",
        "outputId": "8af931aa-635d-4d17-c1ab-7ebc14ca16bb"
      },
      "source": [
        "# Change this to plot only part of the data\n",
        "start = 0\n",
        "stop = len(rList)\n",
        "\n",
        "uccsdErrors = [np.abs(medianEnergy - energy) for (medianEnergy, energy) in \\\n",
        "               zip(medianEnergies, exactEnergies)][start:stop]\n",
        "\n",
        "fig, ax1 = plt.subplots(figsize = [8,8])\n",
        "\n",
        "ax1.plot(rList[start:stop], \n",
        "        uccsdErrors[start:stop], \n",
        "        '--o',\n",
        "        color = 'b')\n",
        "\n",
        "l = ax1.axhspan(0, chemicalAccuracy, alpha=0.3, color = 'cornflowerblue')\n",
        "\n",
        "ax1.set_ylabel(\"Error (au)\")\n",
        "ax1.set_xlabel(\"Interatomic Distance (Å)\")\n",
        "\n",
        "title = f\"UCCSD-VQE: Error in the Energy\\n\"\n",
        "title += \"{} shots, {}\".format(shots,name)\n",
        "\n",
        "ax1.set_title(title)"
      ],
      "execution_count": null,
      "outputs": [
        {
          "output_type": "execute_result",
          "data": {
            "text/plain": [
              "Text(0.5, 1.0, 'UCCSD-VQE: Error in the Energy\\n262144 shots, H2')"
            ]
          },
          "metadata": {},
          "execution_count": 39
        },
        {
          "output_type": "display_data",
          "data": {
            "image/png": "[encoded data removed]",
            "text/plain": [
              "<Figure size 576x576 with 1 Axes>"
            ]
          },
          "metadata": {
            "needs_background": "light"
          }
        }
      ]
    },
    {
      "cell_type": "code",
      "metadata": {
        "colab": {
          "base_uri": "https://localhost:8080/",
          "height": 546
        },
        "id": "Y8KTWzy0G1sS",
        "outputId": "f90dfe62-4878-4eb7-f8bb-a01329dafde2"
      },
      "source": [
        "# Plot average total number of measured observables per run\n",
        "\n",
        "# Change this to plot only part of the data\n",
        "start = 0\n",
        "stop = len(rList)\n",
        "\n",
        "fig, ax1 = plt.subplots(figsize = [8,8])\n",
        "\n",
        "ax1.plot(rList[start:stop], \n",
        "        numberMeasuredObs[start:stop], \n",
        "        '--o',\n",
        "        color = 'b')\n",
        "\n",
        "ax1.set_ylabel(\"Average Number of Measured Observables (total per run)\")\n",
        "ax1.set_xlabel(\"Interatomic Distance (Å)\")\n",
        "\n",
        "title = f\"UCCSD-VQE: Measured Observables\\n\"\n",
        "title += \"{} shots, {}\".format(shots,name)\n",
        "\n",
        "ax1.set_title(title)"
      ],
      "execution_count": null,
      "outputs": [
        {
          "output_type": "execute_result",
          "data": {
            "text/plain": [
              "Text(0.5, 1.0, 'UCCSD-VQE: Measured Observables\\n262144 shots, H2')"
            ]
          },
          "metadata": {},
          "execution_count": 42
        },
        {
          "output_type": "display_data",
          "data": {
            "image/png": "[encoded data removed]",
            "text/plain": [
              "<Figure size 576x576 with 1 Axes>"
            ]
          },
          "metadata": {
            "needs_background": "light"
          }
        }
      ]
    },
    {
      "cell_type": "code",
      "metadata": {
        "colab": {
          "base_uri": "https://localhost:8080/",
          "height": 546
        },
        "id": "Y7JIPiZjH88a",
        "outputId": "1bc4f799-a3cc-41c1-8c35-f464f4629b59"
      },
      "source": [
        "# Plot average total number of shots per run\n",
        "\n",
        "# Change this to plot only part of the data\n",
        "start = 0\n",
        "stop = len(rList)\n",
        "\n",
        "fig, ax1 = plt.subplots(figsize = [8,8])\n",
        "\n",
        "ax1.plot(rList[start:stop], \n",
        "        totalShots[start:stop], \n",
        "        '--o',\n",
        "        color = 'b')\n",
        "\n",
        "ax1.set_ylabel(\"Average Number of Shots (total per run)\")\n",
        "ax1.set_xlabel(\"Interatomic Distance (Å)\")\n",
        "\n",
        "title = f\"UCCSD-VQE: Number of Shots\\n\"\n",
        "title += \"{} shots, {}\".format(shots,name)\n",
        "\n",
        "ax1.set_title(title)"
      ],
      "execution_count": null,
      "outputs": [
        {
          "output_type": "execute_result",
          "data": {
            "text/plain": [
              "Text(0.5, 1.0, 'UCCSD-VQE: Number of Shots\\n262144 shots, H2')"
            ]
          },
          "metadata": {},
          "execution_count": 43
        },
        {
          "output_type": "display_data",
          "data": {
            "image/png": "[encoded data removed]",
            "text/plain": [
              "<Figure size 576x576 with 1 Axes>"
            ]
          },
          "metadata": {
            "needs_background": "light"
          }
        }
      ]
    },
    {
      "cell_type": "code",
      "metadata": {
        "colab": {
          "base_uri": "https://localhost:8080/",
          "height": 546
        },
        "id": "b9UPX-glILfn",
        "outputId": "d34936d2-8e56-431d-ff68-cbf5c229ec7e"
      },
      "source": [
        "# Plot average total number of function evaluations per run\n",
        "\n",
        "# Change this to plot only part of the data\n",
        "start = 0\n",
        "stop = len(rList)\n",
        "\n",
        "fig, ax1 = plt.subplots(figsize = [8,8])\n",
        "\n",
        "ax1.plot(rList[start:stop], \n",
        "        nfevList[start:stop], \n",
        "        '--o',\n",
        "        color = 'b')\n",
        "\n",
        "ax1.set_ylabel(\"Average Number of Energy Evaluations (total per run)\")\n",
        "ax1.set_xlabel(\"Interatomic Distance (Å)\")\n",
        "\n",
        "title = f\"UCCSD-VQE: Energy Evaluations\\n\"\n",
        "title += \"{} shots, {}\".format(shots,name)\n",
        "\n",
        "ax1.set_title(title)"
      ],
      "execution_count": null,
      "outputs": [
        {
          "output_type": "execute_result",
          "data": {
            "text/plain": [
              "Text(0.5, 1.0, 'UCCSD-VQE: Energy Evaluations\\n262144 shots, H2')"
            ]
          },
          "metadata": {},
          "execution_count": 44
        },
        {
          "output_type": "display_data",
          "data": {
            "image/png": "[encoded data removed]",
            "text/plain": [
              "<Figure size 576x576 with 1 Axes>"
            ]
          },
          "metadata": {
            "needs_background": "light"
          }
        }
      ]
    },
    {
      "cell_type": "code",
      "metadata": {
        "colab": {
          "base_uri": "https://localhost:8080/",
          "height": 17
        },
        "id": "7dUouE40WyxW",
        "outputId": "ed8c379b-b74f-415f-a568-5d84f722a8b1"
      },
      "source": [
        "fileName = \"uccsd_analysis1.pkl\"\n",
        "data = (totalShots, nfevList, uccsdErrors, numberMeasuredObs)\n",
        "\n",
        "myFile = open(fileName, \"wb\")\n",
        "pickle.dump(data, myFile)\n",
        "myFile.close()\n",
        "\n",
        "files.download(fileName) "
      ],
      "execution_count": null,
      "outputs": [
        {
          "output_type": "display_data",
          "data": {
            "application/javascript": [
              "\n",
              "    async function download(id, filename, size) {\n",
              "      if (!google.colab.kernel.accessAllowed) {\n",
              "        return;\n",
              "      }\n",
              "      const div = document.createElement('div');\n",
              "      const label = document.createElement('label');\n",
              "      label.textContent = `Downloading \"${filename}\": `;\n",
              "      div.appendChild(label);\n",
              "      const progress = document.createElement('progress');\n",
              "      progress.max = size;\n",
              "      div.appendChild(progress);\n",
              "      document.body.appendChild(div);\n",
              "\n",
              "      const buffers = [];\n",
              "      let downloaded = 0;\n",
              "\n",
              "      const channel = await google.colab.kernel.comms.open(id);\n",
              "      // Send a message to notify the kernel that we're ready.\n",
              "      channel.send({})\n",
              "\n",
              "      for await (const message of channel.messages) {\n",
              "        // Send a message to notify the kernel that we're ready.\n",
              "        channel.send({})\n",
              "        if (message.buffers) {\n",
              "          for (const buffer of message.buffers) {\n",
              "            buffers.push(buffer);\n",
              "            downloaded += buffer.byteLength;\n",
              "            progress.value = downloaded;\n",
              "          }\n",
              "        }\n",
              "      }\n",
              "      const blob = new Blob(buffers, {type: 'application/binary'});\n",
              "      const a = document.createElement('a');\n",
              "      a.href = window.URL.createObjectURL(blob);\n",
              "      a.download = filename;\n",
              "      div.appendChild(a);\n",
              "      a.click();\n",
              "      div.remove();\n",
              "    }\n",
              "  "
            ],
            "text/plain": [
              "<IPython.core.display.Javascript object>"
            ]
          },
          "metadata": {}
        },
        {
          "output_type": "display_data",
          "data": {
            "application/javascript": [
              "download(\"download_7cd82635-9b4c-455b-b330-6ddc5b03544c\", \"uccsd_analysis1.pkl\", 997)"
            ],
            "text/plain": [
              "<IPython.core.display.Javascript object>"
            ]
          },
          "metadata": {}
        }
      ]
    },
    {
      "cell_type": "markdown",
      "metadata": {
        "id": "usENoaf29Qu5"
      },
      "source": [
        "## Downloading / Uploading Data to/from File"
      ]
    },
    {
      "cell_type": "code",
      "metadata": {
        "colab": {
          "base_uri": "https://localhost:8080/",
          "height": 34
        },
        "id": "T_1mfGg7Ge9D",
        "outputId": "4e50cdfb-997c-47e7-ca24-2a4b92cc770c"
      },
      "source": [
        "fileName = f\"{name}_UCCSD_{backendName}_{shots}\"\n",
        "print(fileName)\n",
        "\n",
        "myFile = open(fileName, \"wb\")\n",
        "pickle.dump(evolution, myFile)\n",
        "myFile.close()\n",
        "\n",
        "files.download(fileName) "
      ],
      "execution_count": null,
      "outputs": [
        {
          "output_type": "stream",
          "text": [
            "H2_UCCSD_ibmq_belem_8192\n"
          ],
          "name": "stdout"
        },
        {
          "output_type": "display_data",
          "data": {
            "application/javascript": [
              "\n",
              "    async function download(id, filename, size) {\n",
              "      if (!google.colab.kernel.accessAllowed) {\n",
              "        return;\n",
              "      }\n",
              "      const div = document.createElement('div');\n",
              "      const label = document.createElement('label');\n",
              "      label.textContent = `Downloading \"${filename}\": `;\n",
              "      div.appendChild(label);\n",
              "      const progress = document.createElement('progress');\n",
              "      progress.max = size;\n",
              "      div.appendChild(progress);\n",
              "      document.body.appendChild(div);\n",
              "\n",
              "      const buffers = [];\n",
              "      let downloaded = 0;\n",
              "\n",
              "      const channel = await google.colab.kernel.comms.open(id);\n",
              "      // Send a message to notify the kernel that we're ready.\n",
              "      channel.send({})\n",
              "\n",
              "      for await (const message of channel.messages) {\n",
              "        // Send a message to notify the kernel that we're ready.\n",
              "        channel.send({})\n",
              "        if (message.buffers) {\n",
              "          for (const buffer of message.buffers) {\n",
              "            buffers.push(buffer);\n",
              "            downloaded += buffer.byteLength;\n",
              "            progress.value = downloaded;\n",
              "          }\n",
              "        }\n",
              "      }\n",
              "      const blob = new Blob(buffers, {type: 'application/binary'});\n",
              "      const a = document.createElement('a');\n",
              "      a.href = window.URL.createObjectURL(blob);\n",
              "      a.download = filename;\n",
              "      div.appendChild(a);\n",
              "      a.click();\n",
              "      div.remove();\n",
              "    }\n",
              "  "
            ],
            "text/plain": [
              "<IPython.core.display.Javascript object>"
            ]
          },
          "metadata": {
            "tags": []
          }
        },
        {
          "output_type": "display_data",
          "data": {
            "application/javascript": [
              "download(\"download_0a9d3d0c-7a24-4970-a160-1709d7db2b76\", \"H2_UCCSD_ibmq_belem_8192\", 3065)"
            ],
            "text/plain": [
              "<IPython.core.display.Javascript object>"
            ]
          },
          "metadata": {
            "tags": []
          }
        }
      ]
    },
    {
      "cell_type": "code",
      "metadata": {
        "colab": {
          "base_uri": "https://localhost:8080/",
          "height": 17
        },
        "id": "9cc7Is6IgQ4O",
        "outputId": "0d868eb0-a567-431a-d3d6-fd11a8bcf3ee"
      },
      "source": [
        "fileName = \"uccsd_readout.pkl\"\n",
        "data = (medianEnergies, firstQuartiles, thirdQuartiles)\n",
        "\n",
        "myFile = open(fileName, \"wb\")\n",
        "pickle.dump(data, myFile)\n",
        "myFile.close()\n",
        "\n",
        "files.download(fileName) "
      ],
      "execution_count": null,
      "outputs": [
        {
          "output_type": "display_data",
          "data": {
            "application/javascript": [
              "\n",
              "    async function download(id, filename, size) {\n",
              "      if (!google.colab.kernel.accessAllowed) {\n",
              "        return;\n",
              "      }\n",
              "      const div = document.createElement('div');\n",
              "      const label = document.createElement('label');\n",
              "      label.textContent = `Downloading \"${filename}\": `;\n",
              "      div.appendChild(label);\n",
              "      const progress = document.createElement('progress');\n",
              "      progress.max = size;\n",
              "      div.appendChild(progress);\n",
              "      document.body.appendChild(div);\n",
              "\n",
              "      const buffers = [];\n",
              "      let downloaded = 0;\n",
              "\n",
              "      const channel = await google.colab.kernel.comms.open(id);\n",
              "      // Send a message to notify the kernel that we're ready.\n",
              "      channel.send({})\n",
              "\n",
              "      for await (const message of channel.messages) {\n",
              "        // Send a message to notify the kernel that we're ready.\n",
              "        channel.send({})\n",
              "        if (message.buffers) {\n",
              "          for (const buffer of message.buffers) {\n",
              "            buffers.push(buffer);\n",
              "            downloaded += buffer.byteLength;\n",
              "            progress.value = downloaded;\n",
              "          }\n",
              "        }\n",
              "      }\n",
              "      const blob = new Blob(buffers, {type: 'application/binary'});\n",
              "      const a = document.createElement('a');\n",
              "      a.href = window.URL.createObjectURL(blob);\n",
              "      a.download = filename;\n",
              "      div.appendChild(a);\n",
              "      a.click();\n",
              "      div.remove();\n",
              "    }\n",
              "  "
            ],
            "text/plain": [
              "<IPython.core.display.Javascript object>"
            ]
          },
          "metadata": {}
        },
        {
          "output_type": "display_data",
          "data": {
            "application/javascript": [
              "download(\"download_35cc73dc-4406-4f56-9497-2e339926ba49\", \"uccsd_readout.pkl\", 507)"
            ],
            "text/plain": [
              "<IPython.core.display.Javascript object>"
            ]
          },
          "metadata": {}
        }
      ]
    },
    {
      "cell_type": "code",
      "metadata": {
        "colab": {
          "resources": {
            "http://localhost:8080/nbextensions/google.colab/files.js": {
              "data": "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",
              "ok": true,
              "headers": [
                [
                  "content-type",
                  "application/javascript"
                ]
              ],
              "status": 200,
              "status_text": ""
            }
          },
          "base_uri": "https://localhost:8080/",
          "height": 90
        },
        "id": "V_xMAdCuyLsd",
        "outputId": "6ea79ec1-f3b7-46c6-c7b6-2feb6acb3914"
      },
      "source": [
        "# Upload from computer\n",
        "\n",
        "uploaded = files.upload()\n",
        "\n",
        "for fn in uploaded.keys():\n",
        "  print('User uploaded file \"{name}\" with length {length} bytes'.format(\n",
        "      name=fn, length=len(uploaded[fn])))\n",
        "  \n",
        "myFile = open(fn, \"rb\")\n",
        "data2 = pickle.load(myFile)"
      ],
      "execution_count": null,
      "outputs": [
        {
          "output_type": "display_data",
          "data": {
            "text/html": [
              "\n",
              "     <input type=\"file\" id=\"files-4b7a4e75-f4e4-46ce-8080-07bc5960671e\" name=\"files[]\" multiple disabled\n",
              "        style=\"border:none\" />\n",
              "     <output id=\"result-4b7a4e75-f4e4-46ce-8080-07bc5960671e\">\n",
              "      Upload widget is only available when the cell has been executed in the\n",
              "      current browser session. Please rerun this cell to enable.\n",
              "      </output>\n",
              "      <script src=\"/nbextensions/google.colab/files.js\"></script> "
            ],
            "text/plain": [
              "<IPython.core.display.HTML object>"
            ]
          },
          "metadata": {}
        },
        {
          "output_type": "stream",
          "name": "stdout",
          "text": [
            "Saving adapt_readout.pkl to adapt_readout.pkl\n",
            "User uploaded file \"adapt_readout.pkl\" with length 507 bytes\n"
          ]
        }
      ]
    },
    {
      "cell_type": "code",
      "metadata": {
        "id": "7nxaSPirge5Q"
      },
      "source": [
        "# ADAPT: data\n",
        "# UCCSD: data2\n",
        "\n",
        "(medianEnergies, firstQuartiles, thirdQuartiles) = data \n",
        "(medianEnergies2, firstQuartiles2, thirdQuartiles2) = data2"
      ],
      "execution_count": null,
      "outputs": []
    }
  ]
}
