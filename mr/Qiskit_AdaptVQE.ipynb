{
  "nbformat": 4,
  "nbformat_minor": 0,
  "metadata": {
    "colab": {
      "name": "Qiskit_AdaptVQE.ipynb",
      "provenance": [],
      "collapsed_sections": [],
      "toc_visible": true
    },
    "kernelspec": {
      "display_name": "Python 3",
      "name": "python3"
    },
    "language_info": {
      "name": "python"
    }
  },
  "cells": [
    {
      "cell_type": "code",
      "metadata": {
        "id": "P2Ufk0eZN0Lc"
      },
      "source": [
        "%%capture\n",
        "!pip install qiskit[visualization]\n",
        "#!pip install pycsf not working?\n",
        "%pip install pyscf==1.7.5\n",
        "!pip install openfermion\n",
        "!pip install openfermionpyscf"
      ],
      "execution_count": null,
      "outputs": []
    },
    {
      "cell_type": "code",
      "metadata": {
        "id": "ja4qC1Q8lg2C"
      },
      "source": [
        "%%capture\n",
        "import scipy\n",
        "import pyscf\n",
        "import openfermion\n",
        "import openfermionpyscf \n",
        "import itertools\n",
        "import qiskit\n",
        "import numpy as np\n",
        "import copy\n",
        "import pickle\n",
        "\n",
        "from google.colab import files\n",
        "from openfermionpyscf import run_pyscf\n",
        "from openfermion.utils import count_qubits, hermitian_conjugated\n",
        "from openfermion.linalg import jw_hartree_fock_state\n",
        "from openfermion.circuits import simulate_trotter\n",
        "from openfermion.transforms import (\n",
        "    jordan_wigner, get_fermion_operator, normal_ordered\n",
        ")\n",
        "from openfermion import (\n",
        "    get_sparse_operator, get_ground_state, FermionOperator,\n",
        "    jw_get_ground_state_at_particle_number, MolecularData,\n",
        "    expectation, uccsd_convert_amplitude_format,\n",
        "    get_interaction_operator, QubitOperator, eigenspectrum,\n",
        "    InteractionOperator, FermionOperator\n",
        ")\n",
        "\n",
        "from qiskit import (Aer, QuantumCircuit, ClassicalRegister, QuantumRegister, IBMQ,\n",
        "                   execute, transpile)\n",
        "from qiskit.circuit import QuantumCircuit, ParameterVector, Parameter\n",
        "from qiskit.algorithms.optimizers import COBYLA\n",
        "from qiskit.providers.ibmq import least_busy\n",
        "from qiskit.test.mock import FakeBelem\n",
        "from qiskit.providers.aer import QasmSimulator\n",
        "from qiskit.quantum_info import purity\n",
        "from qiskit.providers.aer.noise.device import (\n",
        "    basic_device_gate_errors, gate_error_values\n",
        ")\n",
        "from qiskit.providers.aer.noise import (\n",
        "    NoiseModel,thermal_relaxation_error, pauli_error, ReadoutError\n",
        ")\n",
        "\n",
        "from qiskit.aqua import QuantumInstance\n",
        "from qiskit.aqua.algorithms import VQE, NumPyMinimumEigensolver\n",
        "from qiskit.aqua.operators import I, Z, X, Y\n",
        "\n",
        "import matplotlib.pyplot as plt"
      ],
      "execution_count": null,
      "outputs": []
    },
    {
      "cell_type": "code",
      "metadata": {
        "colab": {
          "base_uri": "https://localhost:8080/"
        },
        "id": "d2f39vDPy0R1",
        "outputId": "10df48f2-1597-4509-a08c-603045e3f068"
      },
      "source": [
        "IBMQ.enable_account(\"88757d22d1747c543664fb35d8789fac1c1271ff43dd365e62f067f3e34ab5c4d95f0ed7155eb5685a871a3d3b69eb34a57eece5c139b070062c8396ddc87d66\")"
      ],
      "execution_count": null,
      "outputs": [
        {
          "output_type": "execute_result",
          "data": {
            "text/plain": [
              "<AccountProvider for IBMQ(hub='ibm-q', group='open', project='main')>"
            ]
          },
          "metadata": {},
          "execution_count": 9
        }
      ]
    },
    {
      "cell_type": "code",
      "metadata": {
        "id": "cThBylHU3xht"
      },
      "source": [
        "provider = IBMQ.get_provider(hub='ibm-q-minho')"
      ],
      "execution_count": null,
      "outputs": []
    },
    {
      "cell_type": "markdown",
      "metadata": {
        "id": "tqH_z6vymZ-D"
      },
      "source": [
        "## Function Definitions"
      ]
    },
    {
      "cell_type": "code",
      "metadata": {
        "id": "tqC4XOOyfzPV"
      },
      "source": [
        "# Define chemical accuracy\n",
        "chemicalAccuracy = 1.5936*10**-3\n",
        "\n",
        "# Define necessary Pauli operators (two-dimensional) as matrices\n",
        "pauliX = np.array([[0,1],\n",
        "                 [1,0]],\n",
        "                dtype = complex)\n",
        "pauliZ = np.array([[1,0],\n",
        "                 [0,-1]],\n",
        "                dtype = complex)\n",
        "pauliY = np.array([[0,-1j],\n",
        "                 [1j,0]],\n",
        "                dtype = complex)\n",
        "\n",
        "def stringToMatrix(pauliString):\n",
        "  '''\n",
        "  Converts a Pauli string to its matrix form.\n",
        "\n",
        "  Arguments:\n",
        "    pauliString (str): the Pauli string (e.g. \"IXYIZ\")\n",
        "\n",
        "  Returns:\n",
        "    matrix (np.ndarray): the corresponding matrix, in the computational basis\n",
        "\n",
        "  '''\n",
        "\n",
        "  matrix = np.array([1])\n",
        "\n",
        "  # Iteratively construct the matrix, going through each single qubit Pauli term\n",
        "  for pauli in pauliString:\n",
        "      if pauli == \"I\":\n",
        "        matrix = np.kron(matrix,np.identity(2))\n",
        "      elif pauli == \"X\":\n",
        "        matrix = np.kron(matrix,pauliX)\n",
        "      elif pauli == \"Y\":\n",
        "        matrix = np.kron(matrix,pauliY)\n",
        "      elif pauli == \"Z\":\n",
        "        matrix = np.kron(matrix,pauliZ)\n",
        "\n",
        "  return matrix\n",
        "  \n",
        "def fromVectortoKet(stateVector):\n",
        "  '''\n",
        "  Transforms a vector representing a basis state to the corresponding ket.\n",
        "\n",
        "  Arguments:\n",
        "    stateVector (np.ndarray): computational basis vector in the 2^n dimensional \n",
        "      Hilbert space\n",
        "\n",
        "  Returns:\n",
        "    ket (list): a list of length n representing the corresponding ket \n",
        "  '''\n",
        "\n",
        "  dim = len(stateVector)\n",
        "  ket = []\n",
        "\n",
        "  while dim>1:\n",
        "    if any (stateVector[i] for i in range(int(dim/2))):\n",
        "      # Ket is of the form |0>|...>. \n",
        "\n",
        "      #Fix |0> as the msq.\n",
        "      ket.append(0)\n",
        "\n",
        "      # Get the vector representing the state of the remaining qubits.\n",
        "      stateVector = stateVector[:int(dim/2)]\n",
        "\n",
        "    else:\n",
        "      # Ket is of the form |1>|...>. \n",
        "      \n",
        "      #Fix |0> as the msq.\n",
        "      ket.append(1)\n",
        "\n",
        "      # Get the vector representing the state of the remaining qubits.\n",
        "      stateVector = stateVector[int(dim//2):]\n",
        "\n",
        "    dim = dim/2\n",
        "\n",
        "  return ket\n",
        "\n",
        "def fromKettoVector(ket):\n",
        "  '''\n",
        "  Transforms a ket representing a basis state to the corresponding state vector.\n",
        "\n",
        "  Arguments:\n",
        "    ket (list): a list of length n representing the ket \n",
        "\n",
        "  Returns:\n",
        "    stateVector (np.ndarray): the corresponding basis vector in the \n",
        "      2^n dimensional Hilbert space\n",
        "  '''\n",
        "  stateVector = [1]\n",
        "  \n",
        "  # Iterate through the ket, calculating the tensor product of the qubit states\n",
        "  for i in ket:\n",
        "    qubitVector = [not i,i]\n",
        "    stateVector = np.kron(stateVector,qubitVector)\n",
        "\n",
        "  return stateVector\n",
        "\n",
        "def slaterDeterminantToKet(index, dimension):\n",
        "  '''\n",
        "  Transforms a Slater Determinant (computational basis state) into\n",
        "    the corresponding ket.\n",
        "\n",
        "  Arguments:\n",
        "    index (int): the index of the non-zero element of the computational\n",
        "      basis state.\n",
        "    dimension (int): the dimension of the Hilbert space\n",
        "  \n",
        "  Returns:\n",
        "    ket (list): the corresponding ket as a list of length dimension\n",
        "    \n",
        "  '''\n",
        "  \n",
        "  vector = [0 for _ in range (index)]+[1]+[1 for _ in range (dimension-index-1)]\n",
        "  ket = fromVectortoKet(vector)\n",
        "\n",
        "  return ket\n",
        "  \n",
        "def getHartreeFockKet(electronNumber,qubitNumber):\n",
        "  '''\n",
        "  Get the Hartree Fock determinant, as a list in big endian representing the ket\n",
        "  |1>|1>...|0>|0>.\n",
        "\n",
        "  Arguments:\n",
        "    electronNumber (int): the number of electrons of the molecule.\n",
        "    qubitNumber (int): the number of qubits necessary to represent the molecule\n",
        "      (equal to the number of spin orbitals we're considering active).\n",
        "\n",
        "  Returns:\n",
        "    referenceDeterminant (list): a list of lenght qubitNumber, representing the \n",
        "      ket of the adequate computational basis state in big-endian ordering.\n",
        "  '''\n",
        "\n",
        "  # Consider occupied the lower energy orbitals, until enough one particle \n",
        "  #states are filled\n",
        "  referenceDeterminant = [1 for _ in range(electronNumber)]\n",
        "\n",
        "  # Consider the remaining orbitals empty\n",
        "  referenceDeterminant += [0 for _ in range(qubitNumber-electronNumber)]\n",
        "\n",
        "  return referenceDeterminant\n",
        "\n",
        "def calculateOverlap(stateCoordinates1,stateCoordinates2):\n",
        "    '''\n",
        "    Calculates the overlap between two states, given their coordinates.\n",
        "\n",
        "    Arguments:\n",
        "      stateCoordinates1 (np.ndarray): the coordinates of one of the states in \n",
        "        some orthonormal basis,\n",
        "      stateCoordinates2 (np.ndarray): the coordinates of the other state, in \n",
        "        the same basis\n",
        "\n",
        "    Returns: \n",
        "      overlap (float): the overlap between two states (absolute value of the \n",
        "        inner product).\n",
        "    '''\n",
        "\n",
        "    bra = np.conj(stateCoordinates1)\n",
        "    ket = stateCoordinates2\n",
        "    overlap = np.abs(np.dot(bra,ket))\n",
        "    \n",
        "    return overlap\n",
        "\n",
        "def findSubStrings(mainString,hamiltonian,checked = []):\n",
        "    '''\n",
        "    Finds and groups all the strings in a Hamiltonian that only differ from \n",
        "    mainString by identity operators.\n",
        "\n",
        "    Arguments:\n",
        "      mainString (str): a Pauli string (e.g. \"XZ)\n",
        "      hamiltonian (dict): a Hamiltonian (with Pauli strings as keys and their \n",
        "        coefficients as values)\n",
        "      checked (list): a list of the strings in the Hamiltonian that have already\n",
        "        been inserted in another group\n",
        "\n",
        "    Returns: \n",
        "      groupedOperators (dict): a dictionary whose keys are boolean strings \n",
        "        representing substrings of the mainString (e.g. if mainString = \"XZ\", \n",
        "        \"IZ\" would be represented as \"01\"). It includes all the strings in the \n",
        "        hamiltonian that can be written in this form (because they only differ \n",
        "        from mainString by identities), except for those that were in checked\n",
        "        (because they are already part of another group of strings).\n",
        "      checked (list):  the same list passed as an argument, with extra values\n",
        "        (the strings that were grouped in this function call).\n",
        "    '''\n",
        "    \n",
        "    groupedOperators = {}\n",
        "    \n",
        "    # Go through the keys in the dictionary representing the Hamiltonian that \n",
        "    #haven't been grouped yet, and find those that only differ from mainString \n",
        "    #by identities\n",
        "    for pauliString in hamiltonian:\n",
        "        \n",
        "        if pauliString not in checked:\n",
        "            # The string hasn't been grouped yet\n",
        "            \n",
        "            if(all((op1 == op2 or op2 == \"I\") \\\n",
        "                   for op1,op2 in zip(mainString,pauliString))):\n",
        "                # The string only differs from mainString by identities\n",
        "                \n",
        "                # Represent the string as a substring of the main one\n",
        "                booleanString = \"\".join([str(int(op1 == op2)) for op1,op2 in \\\n",
        "                                       zip(mainString,pauliString)])\n",
        "                    \n",
        "                # Add the boolean string representing this string as a key to \n",
        "                #the dictionary of grouped operators, and associate its \n",
        "                #coefficient as its value\n",
        "                groupedOperators[booleanString] = hamiltonian[pauliString]\n",
        "                \n",
        "                # Mark the string as grouped, so that it's not added to any \n",
        "                #other group\n",
        "                checked.append(pauliString)\n",
        "                \n",
        "    return (groupedOperators,checked)\n",
        "\n",
        "def groupHamiltonian(hamiltonian):\n",
        "    '''\n",
        "    Organizes a Hamiltonian into groups where strings only differ from \n",
        "    identities, so that the expectation values of all the strings in each \n",
        "    group can be calculated from the same measurement array.\n",
        "\n",
        "    Arguments: \n",
        "      hamiltonian (dict): a dictionary representing a Hamiltonian, with Pauli \n",
        "        strings as keys and their coefficients as values.\n",
        "\n",
        "    Returns: \n",
        "      groupedHamiltonian (dict): a dictionary of subhamiltonians, each of \n",
        "        which includes Pauli strings that only differ from each other by \n",
        "        identities. \n",
        "        The keys of groupedHamiltonian are the main strings of each group: the \n",
        "        ones with least identity terms. The value associated to a main string is \n",
        "        a dictionary, whose keys are boolean strings representing substrings of \n",
        "        the respective main string (with 1 where the Pauli is the same, and 0\n",
        "        where it's identity instead). The values are their coefficients.\n",
        "    '''\n",
        "    groupedHamiltonian = {}\n",
        "    checked = []\n",
        "    \n",
        "    # Go through the hamiltonian, starting by the terms that have less\n",
        "    #identity operators\n",
        "    for mainString in \\\n",
        "        sorted(hamiltonian,key = lambda pauliString: pauliString.count(\"I\")):\n",
        "            \n",
        "        # Call findSubStrings to find all the strings in the dictionary that \n",
        "        #only differ from mainString by identities, and organize them as a \n",
        "        #dictionary (groupedOperators)\n",
        "        groupedOperators,checked = findSubStrings(mainString,hamiltonian,checked)\n",
        "        \n",
        "        # Use the dictionary as a value for the mainString key in the \n",
        "        #groupedHamiltonian dictionary\n",
        "        groupedHamiltonian[mainString] = groupedOperators\n",
        "        \n",
        "        # If all the strings have been grouped, exit the for cycle\n",
        "        if(len(checked) == len(hamiltonian.keys())):\n",
        "           break\n",
        "       \n",
        "    return groupedHamiltonian\n",
        "\n",
        "def convertHamiltonian(openfermionHamiltonian):\n",
        "  '''\n",
        "  Formats a qubit Hamiltonian obtained from openfermion, so that it's a suitable\n",
        "  argument for functions such as measureExpectationEstimation.\n",
        "\n",
        "  Arguments:\n",
        "    openfermionHamiltonian (openfermion.qubitOperator): the Hamiltonian.\n",
        "\n",
        "  Returns:\n",
        "    formattedHamiltonian (dict): the Hamiltonian as a dictionary with Pauli\n",
        "      strings (eg 'YXZI') as keys and their coefficients as values.\n",
        "  '''\n",
        "\n",
        "  formattedHamiltonian = {}\n",
        "  qubitNumber = count_qubits(openfermionHamiltonian)\n",
        "\n",
        "  # Iterate through the terms in the Hamiltonian\n",
        "  for term in openfermionHamiltonian.get_operators():\n",
        "\n",
        "    operators = []\n",
        "    coefficient = list(term.terms.values())[0]\n",
        "    pauliString = list(term.terms.keys())[0]\n",
        "    previousQubit = -1\n",
        "\n",
        "    for (qubit,operator) in pauliString:\n",
        "\n",
        "      # If there are qubits in which no operations are performed, add identities \n",
        "      #as necessary, to make sure that the length of the string will match the \n",
        "      #number of qubits\n",
        "      identities = (qubit-previousQubit-1)\n",
        "      if identities>0: \n",
        "        operators.append('I'*identities)\n",
        "\n",
        "      operators.append(operator)\n",
        "      previousQubit = qubit\n",
        "    \n",
        "    # Add final identity operators if the string still doesn't have the \n",
        "    #correct length (because no operations are performed in the last qubits)\n",
        "    operators.append('I'*(qubitNumber-previousQubit-1))\n",
        "\n",
        "    formattedHamiltonian[\"\".join(operators)] = coefficient\n",
        "\n",
        "  return formattedHamiltonian\n",
        "\n",
        "def hamiltonianToMatrix(hamiltonian):\n",
        "    '''\n",
        "    Convert a Hamiltonian (from OpenFermion) to matrix form.\n",
        "    \n",
        "    Arguments:\n",
        "      hamiltonian (openfermion.InteractionOperator): the Hamiltonian to be\n",
        "        transformed.\n",
        "\n",
        "    Returns:\n",
        "      matrix (np.ndarray): the Hamiltonian, as a matrix in the computational \n",
        "        basis\n",
        "    \n",
        "    ''' \n",
        "    \n",
        "    qubitNumber = hamiltonian.n_qubits\n",
        "    \n",
        "    hamiltonian = jordan_wigner(hamiltonian)\n",
        "\n",
        "    formattedHamiltonian = convertHamiltonian(hamiltonian)\n",
        "    groupedHamiltonian = groupHamiltonian(formattedHamiltonian)\n",
        "\n",
        "    matrix = np.zeros((2**qubitNumber,2**qubitNumber),dtype = complex)\n",
        "\n",
        "    # Iterate through the strings in the Hamiltonian, adding the respective \n",
        "    #contribution to the matrix\n",
        "    for string in groupedHamiltonian:\n",
        "\n",
        "      for substring in groupedHamiltonian[string]:\n",
        "        pauli = (\"\".join(\"I\"*(not int(b)) + a*int(b) \\\n",
        "                         for (a,b) in zip(string,substring)))\n",
        "        \n",
        "        matrix += stringToMatrix(pauli) * groupedHamiltonian[string][substring]\n",
        "\n",
        "    return matrix\n",
        "\n",
        "def stateEnergy(stateCoordinates,hamiltonian):\n",
        "    ''' \n",
        "    Calculates the exact energy in a specific state.\n",
        "\n",
        "    Arguments:\n",
        "      stateCoordinates (np.ndarray): the state in which to obtain the \n",
        "        expectation value.\n",
        "      hamiltonian (dict): the Hamiltonian of the system.\n",
        "    \n",
        "    Returns:\n",
        "      exactEnergy (float): the energy expecation value in the state.\n",
        "    ''' \n",
        "\n",
        "    exactEnergy = 0\n",
        "    \n",
        "    # Obtain the theoretical expectation value for each Pauli string in the\n",
        "    #Hamiltonian by matrix multiplication, and perform the necessary weighed\n",
        "    #sum to obtain the energy expectation value.\n",
        "    for pauliString in hamiltonian:\n",
        "        \n",
        "        ket = np.array(stateCoordinates,dtype = complex)\n",
        "        bra = np.conj(ket)\n",
        "        \n",
        "        ket = np.matmul(stringToMatrix(pauliString),ket)\n",
        "        expectationValue = np.real(np.dot(bra,ket))\n",
        "        \n",
        "        exactEnergy+=\\\n",
        "            hamiltonian[pauliString]*expectationValue\n",
        "            \n",
        "    return exactEnergy\n",
        "\n",
        "def exactStateEnergySparse(stateVector,sparseHamiltonian):\n",
        "    ''' \n",
        "    Calculates the exact energy in a specific state, using sparse matrices.\n",
        "\n",
        "    Arguments:\n",
        "      stateVector (Union[np.ndarray, scipy.sparse.csc_matrix): the state in \n",
        "        which to obtain the expectation value.\n",
        "      sparseHamiltonian (scipy.sparse.csc_matrix): the Hamiltonian of the system.\n",
        "    \n",
        "    Returns:\n",
        "      energy (float): the energy expecation value in the state.\n",
        "    ''' \n",
        "\n",
        "    if not isinstance(stateVector,scipy.sparse.csc_matrix):\n",
        "      ket = scipy.sparse.csc_matrix(stateVector,dtype=complex).transpose()\n",
        "    else:\n",
        "      ket = stateVector\n",
        "      \n",
        "    bra = ket.transpose().conj()\n",
        "\n",
        "    energy = (bra * sparseHamiltonian * ket)[0,0].real\n",
        "    \n",
        "    return energy\n",
        "\n",
        "def pauliToCircuit(operator,parameter,circuit,qubitNumber): \n",
        "  '''\n",
        "  Creates the circuit for applying e^ (j * operator * parameter), for 'operator'\n",
        "  a single Pauli string.\n",
        "  Uses little endian endian, as Qiskit requires.\n",
        "\n",
        "  Arguments:\n",
        "    operator (union[openfermion.QubitOperator, openfermion.FermionOperator,\n",
        "      openfermion.InteractionOperator]): the operator to be simulated\n",
        "    parameter (qiskit.circuit.parameter): the variational parameter\n",
        "    circuit (qiskit.circuit.QuantumCircuit): the circuit to add the gates to\n",
        "    qubitNumber (int): the number of qubits in the circuit\n",
        "  '''\n",
        "\n",
        "  # If operator is an InteractionOperator, shape it into a FermionOperator\n",
        "  if isinstance(operator,InteractionOperator):\n",
        "    operator = get_fermion_operator(operator)\n",
        "\n",
        "  # If operator is a FermionOperator, use the Jordan Wigner transformation\n",
        "  #to map it into a QubitOperator\n",
        "  if isinstance(operator,FermionOperator):\n",
        "    operator = jordan_wigner(operator)\n",
        "\n",
        "  # Isolate the Pauli string (term should only have one)\n",
        "  pauliString = list(operator.terms.keys())[0]\n",
        "\n",
        "  # Keep track of the qubit indices involved in this particular Pauli string.\n",
        "  # It's necessary so as to know which are included in the sequence of CNOTs \n",
        "  #that compute the parity\n",
        "  involvedQubits = []\n",
        "\n",
        "  # Perform necessary basis rotations\n",
        "  for pauli in pauliString:\n",
        "\n",
        "    # Get the index of the qubit this Pauli operator acts on\n",
        "    qubitIndex = pauli[0]\n",
        "    involvedQubits.append(qubitIndex)\n",
        "\n",
        "    # Get the Pauli operator identifier (X,Y or Z)\n",
        "    pauliOp = pauli[1]\n",
        "\n",
        "    if pauliOp == \"X\":\n",
        "      # Rotate to X basis\n",
        "      # In big endian the argument would be qubitIndex\n",
        "      circuit.h(qubitNumber - 1 - qubitIndex)\n",
        "\n",
        "    if pauliOp == \"Y\":\n",
        "      # Rotate to Y Basis\n",
        "      circuit.rx(np.pi/2,qubitNumber - 1 - qubitIndex)\n",
        "\n",
        "  # Compute parity and store the result on the last involved qubit\n",
        "  for i in range(len(involvedQubits)-1):\n",
        "\n",
        "    control = involvedQubits[i]\n",
        "    target = involvedQubits[i+1]\n",
        "\n",
        "    circuit.cx(qubitNumber - 1 - control,qubitNumber - 1 - target)\n",
        "  \n",
        "  # Apply e^(i*Z*parameter) = Rz(-parameter*2) to the last involved qubit\n",
        "  lastQubit = max(involvedQubits)\n",
        "  circuit.rz(-2 * parameter,qubitNumber - 1 - lastQubit)\n",
        "\n",
        "  # Uncompute parity\n",
        "  for i in range(len(involvedQubits)-2,-1,-1):\n",
        "\n",
        "    control = involvedQubits[i]\n",
        "    target = involvedQubits[i+1]\n",
        "\n",
        "    circuit.cx(qubitNumber - 1 - control,qubitNumber - 1 - target)\n",
        "\n",
        "  # Undo basis rotations\n",
        "  for pauli in pauliString:\n",
        "\n",
        "    # Get the index of the qubit this Pauli operator acts on\n",
        "    qubitIndex = pauli[0]\n",
        "\n",
        "    # Get the Pauli operator identifier (X,Y or Z)\n",
        "    pauliOp = pauli[1]\n",
        "\n",
        "    if pauliOp == \"X\":\n",
        "      # Rotate to Z basis from X basis\n",
        "      circuit.h(qubitNumber - 1 - qubitIndex)\n",
        "\n",
        "    if pauliOp == \"Y\":\n",
        "      # Rotate to Z basis from Y Basis\n",
        "      circuit.rx(-np.pi/2,qubitNumber - 1 - qubitIndex)\n",
        "\n",
        "def toAquaObservable(operator):\n",
        "  observable = 0\n",
        "\n",
        "  for pauliString in operator:\n",
        "\n",
        "    transformedPauli = 1\n",
        "    for pauli in pauliString:\n",
        "      if pauli == \"I\":\n",
        "        transformedPauli = transformedPauli ^ I\n",
        "      elif pauli == \"X\":\n",
        "        transformedPauli = transformedPauli ^ X\n",
        "      elif pauli == \"Y\":\n",
        "        transformedPauli = transformedPauli ^ Y\n",
        "      elif pauli == \"Z\":\n",
        "        transformedPauli = transformedPauli ^ Z\n",
        "\n",
        "\n",
        "    coefficient = operator[pauliString]\n",
        "    observable += transformedPauli * coefficient\n",
        "\n",
        "  return observable"
      ],
      "execution_count": null,
      "outputs": []
    },
    {
      "cell_type": "markdown",
      "metadata": {
        "id": "_I7NdyTYmkch"
      },
      "source": [
        "## Molecule Definitions"
      ]
    },
    {
      "cell_type": "code",
      "metadata": {
        "id": "UPNcPicHlYCa"
      },
      "source": [
        "# H2\n",
        "geometry = [['H',[0,0,0]],['H',[0,0,0.74]]]\n",
        "basis = 'sto-3g'\n",
        "multiplicity = 1\n",
        "charge = 0\n",
        "h2 = MolecularData(geometry,basis,multiplicity,charge,description='H2')\n",
        "h2m = run_pyscf(h2,run_fci = True,run_ccsd = True)\n",
        "\n",
        "# HeH+\n",
        "r = 1 # interatomic distance in angstrom\n",
        "geometry = [['He',[0,0,0]],['H',[0,0,r]]]\n",
        "basis = 'sto-3g'\n",
        "multiplicity = 1\n",
        "charge = +1\n",
        "helonium = MolecularData(geometry,basis,multiplicity,charge,description='HeH+')\n",
        "helonium = run_pyscf(helonium,run_fci = True,run_ccsd = True)\n",
        "\n",
        "# LiH\n",
        "bondLength = 1.45 # interatomic distance in angstrom\n",
        "geometry = [['Li',[0,0,0]],['H',[0,0,bondLength]]]\n",
        "basis = 'sto-3g'\n",
        "multiplicity = 1\n",
        "charge = 0\n",
        "liH = MolecularData(geometry,basis,multiplicity,charge,description='LiH')\n",
        "liH = run_pyscf(liH,run_fci = True,run_ccsd = True)\n",
        "\n",
        "# Alternative to using run_pyscf: load from OpenFermion (data for this \n",
        "#particular molecule at this particular interatomic distance is available in \n",
        "#a file that comes with OF)\n",
        "liHOF = MolecularData(geometry,basis,multiplicity,charge,description = '1.45')\n",
        "liHOF.load()\n",
        "\n",
        "# H4\n",
        "r = 1.5\n",
        "geometry = [('H', (0,0,0)), ('H', (0,0,r)), ('H', (0,0,2*r)), \n",
        "            ('H', (0,0,3*r))]\n",
        "basis = 'sto-3g'\n",
        "multiplicity = 1\n",
        "charge = 0\n",
        "h4 = MolecularData(geometry,basis,multiplicity,charge,description='H4')\n",
        "h4 = run_pyscf(h4,run_fci = True,run_ccsd = True)\n",
        "\n",
        "# H6\n",
        "r = 1.5\n",
        "geometry = [('H', (0,0,0)), ('H', (0,0,r)), ('H', (0,0,2*r)), \n",
        "            ('H', (0,0,3*r)), ('H', (0,0,4*r)), ('H', (0,0,5*r))]\n",
        "basis = 'sto-3g'\n",
        "multiplicity = 1\n",
        "charge = 0\n",
        "h6 = MolecularData(geometry,basis,multiplicity,charge,description='H6')\n",
        "h6 = run_pyscf(h6,run_fci = True,run_ccsd = True)"
      ],
      "execution_count": null,
      "outputs": []
    },
    {
      "cell_type": "markdown",
      "metadata": {
        "id": "nT60NNP0mniZ"
      },
      "source": [
        "## Choosing the Molecule"
      ]
    },
    {
      "cell_type": "code",
      "metadata": {
        "id": "Pynw8Rtwl5HT"
      },
      "source": [
        "molecule = h2\n",
        "exactEnergy = molecule.fci_energy"
      ],
      "execution_count": null,
      "outputs": []
    },
    {
      "cell_type": "code",
      "metadata": {
        "id": "IqJ_LU9LmB5s"
      },
      "source": [
        "name = molecule.description\n",
        "bondLength = molecule.geometry[1][1][2]\n",
        "\n",
        "qubitNumber = molecule.n_qubits\n",
        "electronNumber = molecule.n_electrons\n",
        "orbitalNumber = molecule.n_orbitals"
      ],
      "execution_count": null,
      "outputs": []
    },
    {
      "cell_type": "markdown",
      "metadata": {
        "id": "S3tE_Y9KZGVv"
      },
      "source": [
        "## Defining the Operator Pool"
      ]
    },
    {
      "cell_type": "markdown",
      "metadata": {
        "id": "RZ0tOG9fV3Qb"
      },
      "source": [
        "Code for creating the fermionic pool (singlet_gsd) taken from [the GitHub repository with the original Adapt-VQE implementation](https://github.com/mayhallgroup/adapt-vqe)."
      ]
    },
    {
      "cell_type": "code",
      "metadata": {
        "colab": {
          "base_uri": "https://localhost:8080/"
        },
        "id": "8rQxneWssGkV",
        "outputId": "536494e4-2da9-4ef4-f83c-655609080519"
      },
      "source": [
        "singlet_gsd = []\n",
        "\n",
        "for p in range(0,orbitalNumber):\n",
        "    pa = 2*p\n",
        "    pb = 2*p+1\n",
        "\n",
        "    for q in range(p,orbitalNumber):\n",
        "        qa = 2*q\n",
        "        qb = 2*q+1\n",
        "\n",
        "        termA =  FermionOperator(((pa,1),(qa,0)))\n",
        "        termA += FermionOperator(((pb,1),(qb,0)))\n",
        "\n",
        "        termA -= hermitian_conjugated(termA)\n",
        "        termA = normal_ordered(termA)\n",
        "\n",
        "        #Normalize\n",
        "        coeffA = 0\n",
        "        for t in termA.terms:\n",
        "            coeff_t = termA.terms[t]\n",
        "            coeffA += coeff_t * coeff_t\n",
        "\n",
        "        if termA.many_body_order() > 0:\n",
        "            termA = termA/np.sqrt(coeffA)\n",
        "            singlet_gsd.append(termA)\n",
        "\n",
        "\n",
        "pq = -1\n",
        "for p in range(0,orbitalNumber):\n",
        "    pa = 2*p\n",
        "    pb = 2*p+1\n",
        "\n",
        "    for q in range(p,orbitalNumber):\n",
        "        qa = 2*q\n",
        "        qb = 2*q+1\n",
        "\n",
        "        pq += 1\n",
        "\n",
        "        rs = -1\n",
        "        for r in range(0,orbitalNumber):\n",
        "            ra = 2*r\n",
        "            rb = 2*r+1\n",
        "\n",
        "            for s in range(r,orbitalNumber):\n",
        "                sa = 2*s\n",
        "                sb = 2*s+1\n",
        "\n",
        "                rs += 1\n",
        "\n",
        "                if(pq > rs):\n",
        "                    continue\n",
        "\n",
        "                termA =  FermionOperator(((ra,1),(pa,0),(sa,1),(qa,0)), 2/np.sqrt(12))\n",
        "                termA += FermionOperator(((rb,1),(pb,0),(sb,1),(qb,0)), 2/np.sqrt(12))\n",
        "                termA += FermionOperator(((ra,1),(pa,0),(sb,1),(qb,0)), 1/np.sqrt(12))\n",
        "                termA += FermionOperator(((rb,1),(pb,0),(sa,1),(qa,0)), 1/np.sqrt(12))\n",
        "                termA += FermionOperator(((ra,1),(pb,0),(sb,1),(qa,0)), 1/np.sqrt(12))\n",
        "                termA += FermionOperator(((rb,1),(pa,0),(sa,1),(qb,0)), 1/np.sqrt(12))\n",
        "\n",
        "                termB =  FermionOperator(((ra,1),(pa,0),(sb,1),(qb,0)),  1/2.0)\n",
        "                termB += FermionOperator(((rb,1),(pb,0),(sa,1),(qa,0)),  1/2.0)\n",
        "                termB += FermionOperator(((ra,1),(pb,0),(sb,1),(qa,0)), -1/2.0)\n",
        "                termB += FermionOperator(((rb,1),(pa,0),(sa,1),(qb,0)), -1/2.0)\n",
        "\n",
        "                termA -= hermitian_conjugated(termA)\n",
        "                termB -= hermitian_conjugated(termB)\n",
        "\n",
        "                termA = normal_ordered(termA)\n",
        "                termB = normal_ordered(termB)\n",
        "\n",
        "                #Normalize\n",
        "                coeffA = 0\n",
        "                coeffB = 0\n",
        "                for t in termA.terms:\n",
        "                    coeff_t = termA.terms[t]\n",
        "                    coeffA += coeff_t * coeff_t\n",
        "                for t in termB.terms:\n",
        "                    coeff_t = termB.terms[t]\n",
        "                    coeffB += coeff_t * coeff_t\n",
        "\n",
        "\n",
        "                if termA.many_body_order() > 0:\n",
        "                    termA = termA/np.sqrt(coeffA)\n",
        "                    singlet_gsd.append(termA)\n",
        "\n",
        "                if termB.many_body_order() > 0:\n",
        "                    termB = termB/np.sqrt(coeffB)\n",
        "                    singlet_gsd.append(termB)\n",
        "\n",
        "print(\"Pool size:\",len(singlet_gsd))"
      ],
      "execution_count": null,
      "outputs": [
        {
          "output_type": "stream",
          "name": "stdout",
          "text": [
            "Pool size: 4\n"
          ]
        }
      ]
    },
    {
      "cell_type": "code",
      "metadata": {
        "colab": {
          "base_uri": "https://localhost:8080/"
        },
        "id": "uQrzUz3Nsagd",
        "outputId": "1ce6326d-5b35-4802-fb87-d34d0c656e14"
      },
      "source": [
        "pool = singlet_gsd\n",
        "\n",
        "qubitPool = []\n",
        "\n",
        "for fermionOp in pool:\n",
        "\n",
        "  qubitOp = jordan_wigner(fermionOp)\n",
        "  \n",
        "  for pauli in qubitOp.terms:\n",
        "\n",
        "    qubitOp = QubitOperator(pauli,1j)\n",
        "\n",
        "    if qubitOp not in qubitPool:\n",
        "      qubitPool.append(qubitOp)\n",
        "\n",
        "print(\"Pool Size:\",len(qubitPool))"
      ],
      "execution_count": null,
      "outputs": [
        {
          "output_type": "stream",
          "name": "stdout",
          "text": [
            "Pool Size: 20\n"
          ]
        }
      ]
    },
    {
      "cell_type": "markdown",
      "metadata": {
        "id": "woJ4S64BZDri"
      },
      "source": [
        "## AdaptData class"
      ]
    },
    {
      "cell_type": "code",
      "metadata": {
        "id": "RzBD5YU4mfYz"
      },
      "source": [
        "class AdaptData:\n",
        "  '''\n",
        "  Class meant to store data from an Adapt VQE run. \n",
        "\n",
        "  Methods:\n",
        "    processIteration: to be called by the AdaptVQE class at the end of each \n",
        "      iteration\n",
        "    close: to be called by the AdaptVQE class at the end of the run\n",
        "    plot: to be called to plot data after the run \n",
        "  '''\n",
        "\n",
        "  def __init__(self,\n",
        "               initialEnergy,\n",
        "               pool,\n",
        "               sparsePool,\n",
        "               referenceDeterminant,\n",
        "               backend,\n",
        "               shots,\n",
        "               previousData = None):\n",
        "    '''\n",
        "    Initialize class instance\n",
        "\n",
        "    Arguments:\n",
        "      initialEnergy (float): energy of the reference state\n",
        "      pool (list): operator pool\n",
        "      sparsePool (list): sparse version of the pool\n",
        "      referenceDeterminant (list): the Slater determinant to be used as reference,\n",
        "        in big endian ordering (|abcd> <-> [a,b,c,d]; [qubit 0, qubit 1,...])\n",
        "      backend (Union[None,qiskit.providers.ibmq.IBMQBackend]): the backend to \n",
        "        be used. If none, a simulation will be run using sparse matrices.\n",
        "      shots (int): number of circuit repetitions\n",
        "      previousData (AdaptData): data from a previous run, to be used as a \n",
        "        starting point\n",
        "    '''\n",
        "\n",
        "    self.pool = pool\n",
        "    self.sparsePool = sparsePool\n",
        "    self.backend = qinstance.backend\n",
        "    self.shots = shots\n",
        "    \n",
        "    if previousData is not None:\n",
        "      # Starting point is the result of a previous Adapt run\n",
        "\n",
        "      self.initialEnergy = initialEnergy\n",
        "      self.evolution = copy.deepcopy(previousData.evolution)\n",
        "\n",
        "      # Make sure the data corresponds to a complete run\n",
        "      if not previousData.result:\n",
        "        raise ValueError(\"Previous data does not supply final results.\")\n",
        "\n",
        "      self.current = copy.deepcopy(previousData.result)\n",
        "      self.iterationCounter = previousData.iterationCounter\n",
        "\n",
        "      # Make sure we're using the same pool\n",
        "      # Comparing lenght is good enough\n",
        "      if previousData is not None:\n",
        "        assert(len(self.sparsePool) == len(previousData.sparsePool))\n",
        "\n",
        "      '''\n",
        "      assert(self.iterationCounter == len(self.evolution[\"selected gradient\"]))\n",
        "      assert(self.iterationCounter == len(self.evolution[\"total norm\"\"]))\n",
        "      assert(self.iterationCounter == len(self.evolution[\"coefficients\"]))\n",
        "      assert(self.iterationCounter == len(self.current[\"ansatz\"]))\n",
        "      assert(self.iterationCounter == len(self.current[\"coefficients\"]))\n",
        "      assert(self.iterationCounter == len(self.current[\"indices\"]))\n",
        "      '''\n",
        "\n",
        "    else:\n",
        "      # The initial energy is stored apart from the remaining ones, so that the \n",
        "      #index of the gradient norms in the beginning of each iteration \n",
        "      #corresponds to the index of the coefficients and energies in that \n",
        "      #iteration in the respective arrays.\n",
        "      self.initialEnergy = initialEnergy\n",
        "\n",
        "      self.evolution = {}\n",
        "      self.evolution[\"energies\"] = []\n",
        "      self.evolution[\"total norm\"] = []\n",
        "      self.evolution[\"selected gradient\"] = []\n",
        "      self.evolution[\"coefficients\"] = []\n",
        "      self.evolution[\"energyChange\"] = []\n",
        "      self.evolution[\"indices\"] = []\n",
        "\n",
        "      self.current = {}\n",
        "      self.current[\"ansatz\"] = []\n",
        "      self.current[\"coefficients\"] = []\n",
        "      self.current[\"indices\"] = []\n",
        "      # performance of a selected operator = | energy change / gradient | \n",
        "      self.current[\"ansatz performances\"] = []\n",
        "      self.current[\"performances\"] = []\n",
        "      self.current[\"energy\"] = None\n",
        "      self.current[\"state\"] = None\n",
        "      self.current[\"total norm\"] = None\n",
        "\n",
        "      self.iterationCounter = 0\n",
        "\n",
        "    self.closed = False\n",
        "    self.success = False\n",
        "\n",
        "    assert(self.iterationCounter == len(self.evolution[\"selected gradient\"]))\n",
        "    assert(self.iterationCounter == len(self.evolution[\"total norm\"]))\n",
        "    assert(self.iterationCounter == len(self.evolution[\"coefficients\"]))\n",
        " \n",
        "    self.result = {}\n",
        "\n",
        "  def processIteration(self,\n",
        "                   operatorIndex,\n",
        "                   operator,\n",
        "                   energy,\n",
        "                   totalNorm,\n",
        "                   selectedGradient,\n",
        "                   coefficients):\n",
        "    '''\n",
        "    Receives and processes the values fed to it by an instance of the AdaptVQE \n",
        "    class at the end of each run.\n",
        "\n",
        "    Arguments:\n",
        "      operatorIndex (int): index of the selected operator\n",
        "      operator (union[openfermion.QubitOperator, openfermion.FermionOperator]):\n",
        "        the selected operator\n",
        "      energy (float): the optimized energy, at the end of the iteration\n",
        "      totalNorm (int): the norm of the total gradient norm at the beggining \n",
        "        of this iteration\n",
        "      selectedGradient (float): the absolute value of the gradient of the \n",
        "        operator that was added in this iteration\n",
        "      coefficients (list): a list of the coefficients selected by the optimizer\n",
        "        in this iteration\n",
        "    '''\n",
        "\n",
        "    if not isinstance(energy,float):\n",
        "      raise TypeError(\"Expected float, not {}.\".format(type(energy).__name__))\n",
        "    if not isinstance(totalNorm,float):\n",
        "      raise TypeError(\"Expected float, not {}.\".format(type(totalNorm).__name__))\n",
        "    if not isinstance(selectedGradient,float):\n",
        "      raise TypeError(\"Expected float, not {}.\".format(type(selectedGradient).__name__))\n",
        "    if not isinstance(coefficients,list):\n",
        "      raise TypeError(\"Expected list, not {}.\".format(type(coefficients).__name__))\n",
        "\n",
        "    if len(coefficients) != len(self.current[\"ansatz\"]) + 1:\n",
        "      raise ValueError(\"The length of the coefficient list should match the\"\n",
        "      \" ansatz size ({} != {}).\".format\n",
        "        (len(coefficients),len(self.current[\"ansatz\"]) + 1))\n",
        "\n",
        "    if totalNorm < 0:\n",
        "      raise ValueError(\"Total gradient norm should be positive; its {}\".\\\n",
        "                       format(totalNorm))\n",
        "      \n",
        "    self.current[\"coefficients\"] = copy.deepcopy(coefficients)\n",
        "    \n",
        "    if self.iterationCounter == 0:\n",
        "      previousEnergy = self.initialEnergy\n",
        "    else:\n",
        "      previousEnergy = self.current[\"energy\"] \n",
        "\n",
        "    energyChange = energy - previousEnergy\n",
        "    performance = np.abs(energyChange / selectedGradient)\n",
        "\n",
        "    self.current[\"ansatz performances\"].append(performance)\n",
        "    self.current[\"performances\"].append(performance)\n",
        "\n",
        "    ansatzPerformance = np.average(self.current[\"ansatz performances\"])\n",
        "\n",
        "    print(\"Energy Change: \",energyChange)\n",
        "    print(\"Performance ratio: \",performance)\n",
        "    print(\"\\nCurrent average performance ratio: \", \n",
        "          np.average(self.current[\"performances\"]))\n",
        "    print(\"Current 10-last average performance ratio: \", \n",
        "          np.average(self.current[\"performances\"][-10:]))\n",
        "    print(\"Current average performance ratio of the ansatz: \",\n",
        "          ansatzPerformance)\n",
        "\n",
        "    self.current[\"ansatz\"].append(operator)\n",
        "    self.current[\"energy\"] = energy\n",
        "    self.current[\"indices\"].append(operatorIndex)\n",
        "    self.current[\"total norm\"] = totalNorm\n",
        "\n",
        "    coefficientCopy = copy.deepcopy(self.current[\"coefficients\"])\n",
        "    indicesCopy = copy.deepcopy(self.current[\"indices\"])\n",
        "\n",
        "    self.evolution[\"energies\"].append(energy)\n",
        "    self.evolution[\"energyChange\"].append(energyChange)\n",
        "    self.evolution[\"total norm\"].append(totalNorm)\n",
        "    self.evolution[\"selected gradient\"].append(selectedGradient)\n",
        "    self.evolution[\"indices\"].append(indicesCopy) \n",
        "\n",
        "    self.evolution[\"coefficients\"].append(coefficientCopy)\n",
        "\n",
        "    self.iterationCounter += 1\n",
        "\n",
        "    #assert(self.iterationCounter == len(self.evolution[\"total norm\"]))\n",
        "    #assert(self.iterationCounter == len(self.evolution[\"coefficients\"]))\n",
        "    #assert(self.iterationCounter == len(self.evolution[\"energies\"]))\n",
        "\n",
        "  def close(self,success):\n",
        "    '''\n",
        "    To be called at the end of the run, to close the data structures\n",
        "\n",
        "    Arguments:\n",
        "      success (bool): True if the convergence condition was met, False if not\n",
        "        (the maximum number of iterations was met before that)\n",
        "    '''\n",
        "\n",
        "    self.result = self.current\n",
        "    self.closed = True\n",
        "    self.success = success\n",
        "\n",
        "  def plot(self, plotGradient = True, detailedTitle = True):\n",
        "    '''\n",
        "    Plots the evolution of the energy along the run.\n",
        "\n",
        "    Arguments:\n",
        "      plotGradient (bool): whether the total gradient norm should be plotted \n",
        "        as well.\n",
        "      detailedTitle (bool): whether the title should have include which was the\n",
        "        used backend and the shot number.\n",
        "    '''\n",
        "\n",
        "    iterationNumber = self.iterationCounter\n",
        "    iterationLabels = [iterationLable \n",
        "                      for iterationLable in range(0,self.iterationCounter+1)]\n",
        "\n",
        "\n",
        "    gradientNorms = self.evolution[\"total norm\"]\n",
        "    energies = [self.initialEnergy] + self.evolution[\"energies\"]\n",
        "\n",
        "    fig, ax1 = plt.subplots(figsize=[8,8])\n",
        "    title = \"Qubit Adapt VQE for {}\".format(molecule.description)\n",
        "\n",
        "    if self.backend is None:\n",
        "      backendName = None\n",
        "\n",
        "    elif self.backend.name() == \"statevector_simulator\":\n",
        "      backendName = \"Aer State Vector Simulator\"\n",
        "\n",
        "    elif self.backend.name() == \"qasm_simulator\":\n",
        "      backendName = \"Aer QASM Simulator\"\n",
        "\n",
        "    else:\n",
        "      backendName = self.backend.name()\n",
        "\n",
        "    if detailedTitle:\n",
        "      title += \"\\nr = {}Å\".format(str(bondLength))\n",
        "      if backendName is not None:\n",
        "        title += \", {}\".format(backendName)\n",
        "      if backendName != \"Aer State Vector Simulator\":\n",
        "        title += \", {} shots\".format(self.shots)\n",
        "\n",
        "    plt.title(title)\n",
        "\n",
        "    color1 = 'b'  \n",
        "    ax1.plot(iterationLabels, energies, '--o',color = color1)\n",
        "    ax1.tick_params(axis='y', labelcolor = color1)\n",
        "\n",
        "    # Shade area within chemical accuracy\n",
        "    exactEnergy = molecule.fci_energy\n",
        "    minAccuracy = exactEnergy - chemicalAccuracy\n",
        "    maxAccuracy = exactEnergy + chemicalAccuracy\n",
        "    l = ax1.axhspan(minAccuracy, maxAccuracy, alpha=0.3, color = 'cornflowerblue')\n",
        "\n",
        "    ax1.set_xlabel(\"Iteration Number\")\n",
        "    ax1.set_ylabel(\"Energy (au)\",color = color1)\n",
        "    \n",
        "    plt.xticks(range(1, 1 + self.iterationCounter))\n",
        "\n",
        "    if plotGradient:\n",
        "      color2 = 'r'\n",
        "      ax2 = ax1.twinx()\n",
        "      ax2.plot(iterationLabels[1:], gradientNorms, '--o',color = color2)\n",
        "      ax2.tick_params(axis='y', labelcolor = color2)\n",
        "      ax2.set_ylabel(\"Total Gradient Norm\",color = color2)"
      ],
      "execution_count": null,
      "outputs": []
    },
    {
      "cell_type": "markdown",
      "metadata": {
        "id": "yhKAS__aZKWP"
      },
      "source": [
        "## AdaptVQE Class"
      ]
    },
    {
      "cell_type": "code",
      "metadata": {
        "id": "mBSXVmsiZNEz"
      },
      "source": [
        "class AdaptVQE:\n",
        "  '''\n",
        "  Class for running the VQE algorithm.\n",
        "\n",
        "  Methods:\n",
        "    prepare: to be called before the run, in order to prepare the sparse pool\n",
        "      and possibly upload previous data\n",
        "    printSettings: print the algorithm options\n",
        "    computeState: calculate the state with the current ansatz and coefficients\n",
        "    calculateOperatorGradient: calculate the absolute vale of the gradient of \n",
        "      a given operator\n",
        "    selectOperator: select the operator to be added to the ansatz\n",
        "    calculateEnergy: calculate the energy with a certain ansatz and coefficients\n",
        "    callback: store intermediate data from the optimization\n",
        "    optimizeCircuit: optimize a parametrized circuit with a given ansatz\n",
        "    run: run the algorithm\n",
        "  '''\n",
        "\n",
        "  def __init__(self,\n",
        "               pool,\n",
        "               molecule,\n",
        "               qinstance,\n",
        "               referenceDeterminant = None,\n",
        "               verbose = False,\n",
        "               maxIterations = 50,\n",
        "               threshold = 0.1,\n",
        "               shots = 1000):\n",
        "    '''\n",
        "    Initialize class instance\n",
        "\n",
        "    Arguments:\n",
        "      pool (list): operator pool\n",
        "      molecule (openfermion.MolecularData): the molecule we're finding the \n",
        "        ground state of\n",
        "      referenceDeterminant (list): the Slater determinant to be used as reference,\n",
        "        in big endian ordering (|abcd> <-> [a,b,c,d]; [qubit 0, qubit 1,...]).\n",
        "        If none, the Hartree Fock determinant will be used.\n",
        "      verbose (bool): whether to print all the non-zero gradients, or to just\n",
        "        leave out that information\n",
        "      maxIterations (int): maximum allowed number of iterations until forcing\n",
        "        a stop, even if the convergence threshold isn't met\n",
        "      threshold (float): the convergence threshold. When the total gradient norm\n",
        "        is lower than this, the algorithm will stop\n",
        "      backend (Union[None,qiskit.providers.ibmq.IBMQBackend]): the backend to \n",
        "        be used. If none, a simulation will be run using sparse matrices.\n",
        "      shots (int): number of circuit repetitions\n",
        "    '''\n",
        "    self.pool = pool.copy()\n",
        "    self.molecule = molecule\n",
        "    self.verbose = verbose\n",
        "\n",
        "    self.referenceDeterminant = referenceDeterminant\n",
        "    self.electronNumber = molecule.n_electrons\n",
        "    self.hamiltonian = molecule.get_molecular_hamiltonian()\n",
        "    self.qubitNumber = self.hamiltonian.n_qubits\n",
        "    self.sparseHamiltonian = get_sparse_operator(self.hamiltonian,self.qubitNumber)\n",
        "    self.qubitHamiltonian = jordan_wigner(self.hamiltonian)\n",
        "    \n",
        "    dictHamiltonian = convertHamiltonian(self.qubitHamiltonian)\n",
        "    self.aquaObservable = toAquaObservable(dictHamiltonian)\n",
        "  \n",
        "    # Format and group the Hamiltonian, so as to save measurements in the \n",
        "    #circuit simulation by using the same data for Pauli strings that only \n",
        "    #differ by identities\n",
        "    self.formattedHamiltonian = convertHamiltonian(self.qubitHamiltonian)\n",
        "    self.groupedHamiltonian = groupHamiltonian(self.formattedHamiltonian)\n",
        "\n",
        "    self.maxIterations = maxIterations\n",
        "    self.threshold = threshold\n",
        "\n",
        "    self.backend = backend\n",
        "    self.shots = shots\n",
        "\n",
        "    self.sparsePool = []\n",
        "    self.ansatz = []\n",
        "    self.coefficients = []\n",
        "    self.indices = []\n",
        "\n",
        "  def prepare(self,\n",
        "              sparsePool = None,\n",
        "              previousData = None):\n",
        "    '''\n",
        "    Prepare to run the algorithm\n",
        "\n",
        "    Arguments:\n",
        "      sparsePool (list): a sparse version of the pool, to avoid reobtaining \n",
        "        sparse versions of the operators if they've already been obtained\n",
        "      previousData (AdaptData): data from a previous run, that will be continued\n",
        "      \n",
        "    '''\n",
        "    # If they weren't provided, obtain sparse versions of the operators to \n",
        "    #avoid constantly recalculating them\n",
        "    if sparsePool is None:\n",
        "      print(\"Sparse version of the pool was not provided. Obtaining it...\")\n",
        "\n",
        "      for operator in self.pool:\n",
        "        self.sparsePool.append(get_sparse_operator(operator,self.qubitNumber))\n",
        "\n",
        "    else:\n",
        "      self.sparsePool = sparsePool\n",
        "\n",
        "    print(\"Initializing data structures...\")\n",
        "\n",
        "    if self.referenceDeterminant is None:\n",
        "      # Set the Hartree Fock state as reference\n",
        "      self.referenceDeterminant = getHartreeFockKet(self.electronNumber,self.qubitNumber)\n",
        "\n",
        "    print(\"\\nAdapt VQE prepared with the following settings:\")\n",
        "    self.printSettings()\n",
        "    self.referenceState = fromKettoVector(self.referenceDeterminant)\n",
        "\n",
        "    self.sparseReferenceState = scipy.sparse.csc_matrix(\n",
        "        self.referenceState,dtype=complex\n",
        "        ).transpose()\n",
        "\n",
        "    # Calculate energy of the reference state.\n",
        "    initialEnergy = self.calculateEnergy([],[])\n",
        "\n",
        "    # Initialize insance of AdaptData class that will store the data from the \n",
        "    #run\n",
        "    self.data = AdaptData(initialEnergy,\n",
        "                          self.pool,\n",
        "                          self.sparsePool,\n",
        "                          self.referenceDeterminant,\n",
        "                          self.backend,\n",
        "                          self.shots,\n",
        "                          previousData)\n",
        "        \n",
        "    if self.data.current[\"state\"] is None:\n",
        "      # There's no previous data; initialize state at reference\n",
        "      self.data.current[\"state\"] = self.sparseReferenceState\n",
        "    \n",
        "  def printSettings(self):\n",
        "      '''\n",
        "      Prints the options that were chosen for the Adapt VQE run.\n",
        "      '''\n",
        "\n",
        "      print(\"> Convergence threshold (gradient norm): \", self.threshold)\n",
        "      print(\"> Maximum number of iterations: \", self.maxIterations)\n",
        "      print(\"> Backend: \",self.backend)\n",
        "      if self.backend is None:\n",
        "        print(\"(using sparse matrices)\")\n",
        "      elif backend.name() != \"statevector_simulator\":\n",
        "        print(\"(Shot number: {})\".format(self.shots))\n",
        "\n",
        "  def computeState(self):\n",
        "    '''\n",
        "      Calculates the state with the current ansatz and coefficients.\n",
        "\n",
        "      Returns:\n",
        "        state (scipy.sparse.csc_matrix): the state\n",
        "    '''\n",
        "\n",
        "    # Since the coefficients are reoptimized every iteration, the state has to \n",
        "    #be built from the reference state each time.\n",
        "\n",
        "    # Initialize the state vector with the reference state.\n",
        "    state = self.sparseReferenceState\n",
        "\n",
        "    # Apply the ansatz operators one by one to obtain the state as optimized\n",
        "    #by the last iteration\n",
        "    for (i,operatorIndex) in enumerate(self.data.current[\"indices\"]):\n",
        "\n",
        "      # Obtain the exponentiated pool operator, multiplied by the respective\n",
        "      #variational parameter (as optimized by the last iteration)\n",
        "      coefficient = self.data.current[\"coefficients\"][i]\n",
        "      sparseOperator = self.sparsePool[operatorIndex].multiply(coefficient)\n",
        "      expOperator = scipy.sparse.linalg.expm(sparseOperator)\n",
        "\n",
        "      # Act on the state with the operator \n",
        "      state = expOperator * state\n",
        "\n",
        "    return state\n",
        "\n",
        "  def calculateOperatorGradient(self,operatorIndex):\n",
        "    '''\n",
        "      Calculates the gradient of a given operator in the current state.\n",
        "      Uses dexp(c*A)/dc = <psi|[H,A]|psi> = 2 * real(<psi|HA|psi>).\n",
        "      This is the gradient calculated at c = 0, which will be the initial value \n",
        "      of the coefficient in the optimization.\n",
        "\n",
        "      Arguments:\n",
        "        operatorIndex (int): the index that labels this operator\n",
        "      \n",
        "      Returns:\n",
        "        gradient (float): the norm of the gradient of this operator in the \n",
        "          current state\n",
        "    '''\n",
        "\n",
        "    sparseOperator = self.sparsePool[operatorIndex]\n",
        "    currentState = self.data.current[\"state\"]\n",
        "\n",
        "    testState = sparseOperator * currentState\n",
        "    bra = currentState.transpose().conj()\n",
        "\n",
        "    gradient = 2 * (np.abs(bra * self.sparseHamiltonian * testState)[0,0].real)\n",
        "\n",
        "    return gradient\n",
        "  \n",
        "  def selectOperator(self):\n",
        "    ''' \n",
        "    Choose the next operator to be added to the ansatz, using as criterion\n",
        "    that the one with the maximum gradient norm is the selected one.\n",
        "\n",
        "    Returns:\n",
        "      selectedIndex (int): the index that labels the selected operator\n",
        "      selectedGradient (float): the norm of the gradient of that operator\n",
        "      totalNorm (float): the total gradient norm\n",
        "    '''\n",
        "\n",
        "    selectedGradient = 0\n",
        "    selectedIndex = None\n",
        "    totalNorm = 0\n",
        "\n",
        "    print(\"Calculating gradients and selecting the next operator...\")\n",
        "    \n",
        "    if self.verbose:\n",
        "      print(\"\\nNon-Zero Gradients (calculated, tolerance E-5):\")\n",
        "\n",
        "    for operatorIndex in range(len(self.pool)):\n",
        "\n",
        "      gradient = self.calculateOperatorGradient(operatorIndex)\n",
        "\n",
        "      totalNorm += gradient**2\n",
        "\n",
        "      if self.verbose:\n",
        "        if gradient > 10**-5:\n",
        "          print(\"Operator {}: {}\".format(operatorIndex,gradient))\n",
        "\n",
        "      if gradient > selectedGradient:\n",
        "        selectedIndex = operatorIndex\n",
        "        selectedGradient = gradient\n",
        "\n",
        "    totalNorm = np.sqrt(totalNorm)\n",
        "    \n",
        "    print(\"Total gradient norm: {}\".format(totalNorm))\n",
        "\n",
        "    return selectedIndex, selectedGradient, totalNorm\n",
        "\n",
        "  def calculateEnergy(self,coefficients,indices):\n",
        "    '''\n",
        "    Calculates the energy in a specified state.\n",
        "\n",
        "    Arguments:\n",
        "      coefficients (list): coefficients of the ansatz indices\n",
        "      indices (list): indices that specify which operators are in the ansatz.\n",
        "\n",
        "    Returns:\n",
        "      energy (float): the energy in this state.\n",
        "    '''\n",
        "\n",
        "    assert(len(coefficients) == len(indices))\n",
        "    \n",
        "    ket = self.sparseReferenceState\n",
        "\n",
        "    # Apply e ** (coefficient * operator) to the state (ket) for each operator in \n",
        "    #the ansatz, following the order of the list\n",
        "    for (coefficient,operatorIndex) in zip(coefficients,indices):\n",
        "\n",
        "      # Multiply the operator by the respective coefficient\n",
        "      sparseOperator = coefficient * self.sparsePool[operatorIndex]\n",
        "\n",
        "      # Exponentiate the operator and update ket to represent the state after\n",
        "      #this operator has been applied\n",
        "      expOperator = scipy.sparse.linalg.expm(sparseOperator)\n",
        "      ket = expOperator * ket\n",
        "\n",
        "    # Get the corresponding bra and calculate the energy: |<bra| H |ket>|\n",
        "    bra = ket.transpose().conj()\n",
        "    energy = (bra * self.sparseHamiltonian * ket)[0,0].real\n",
        "\n",
        "    return energy\n",
        "\n",
        "  def callback(self, nfev, parameters, energy, stddev):\n",
        "    '''\n",
        "    Function to gather intermediate data from the optimization. Fills the \n",
        "    instance variable optEvolution with the data from each step in the \n",
        "    optimization process.\n",
        "    '''\n",
        "\n",
        "    self.optEvolution['nfev'].append(nfev)\n",
        "    self.optEvolution['parameters'].append(parameters.copy())\n",
        "    self.optEvolution['energy'].append(energy)\n",
        "    self.optEvolution['stddev'].append(stddev)\n",
        "        \n",
        "  def optimizeCircuit(self,initialCoefficients,indices):\n",
        "    '''\n",
        "    Optimizes a certain ansatz, filling the instance variable optEvolution \n",
        "      with the optimization data.\n",
        "\n",
        "    Arguments:\n",
        "      initialCoefficients (list): the coefficients that define the starting \n",
        "        point.\n",
        "      indices (list): the indices that identify the ansatz to be optimized\n",
        "    '''\n",
        "    \n",
        "    # Initialize instance variable, that will be filled with the data from this \n",
        "    #optimization. The data from the previous one will be deleted.\n",
        "    self.optEvolution = {\n",
        "        'nfev': [],\n",
        "        'parameters': [],\n",
        "        'energy': [],\n",
        "        'stddev': []\n",
        "    }\n",
        "\n",
        "    # Initialize parameter vector and circuit in Qiskit\n",
        "    parameters = ParameterVector(\"Params\",len(indices))\n",
        "    ansatz = QuantumCircuit(self.qubitNumber)\n",
        "\n",
        "    # Apply gates that prepare the reference determinant\n",
        "    for i,state in enumerate(self.referenceDeterminant):\n",
        "      if state == 1:\n",
        "        ansatz.x(self.qubitNumber - 1 - i)\n",
        "\n",
        "    # Apply gates corresponding to each of the ansatz operators.\n",
        "    for i, op in enumerate(indices):\n",
        "      pauliToCircuit(self.pool[op],\n",
        "                      parameters[i],\n",
        "                      ansatz,\n",
        "                      self.qubitNumber)\n",
        "\n",
        "    vqe = VQE(self.aquaObservable,\n",
        "              var_form = ansatz, \n",
        "              optimizer = COBYLA(rhobeg = 0.1), \n",
        "              quantum_instance = qinstance,\n",
        "              callback = self.callback,\n",
        "              initial_point = initialCoefficients)\n",
        "\n",
        "    result = vqe.run()\n",
        "\n",
        "  def run(self):\n",
        "    '''\n",
        "    Run the full Adapt VQE algorithm, until either the convergence condition is\n",
        "      met or the maximum number of iterations is reached.\n",
        "    '''\n",
        "\n",
        "    while self.data.iterationCounter < self.maxIterations:\n",
        "\n",
        "      print(\"\\n*** Adapt Iteration {} ***\\n\".format\n",
        "            (self.data.iterationCounter + 1))\n",
        "\n",
        "      maxIndex, maxGradient, totalNorm = self.selectOperator()\n",
        "      maxOperator = self.pool[maxIndex]\n",
        "\n",
        "      if totalNorm < self.threshold:\n",
        "\n",
        "        print(\"\\nConvergence condition achieved!\\n\")\n",
        "        self.data.close(success = True)\n",
        "\n",
        "        if self.data.result[\"energy\"] is None:\n",
        "          print(\"The chosen threshold was too large;\" \n",
        "                \" no iterations were completed.\")\n",
        "          return\n",
        "\n",
        "        print(\"Final Energy:\", self.data.result[\"energy\"])\n",
        "        error = self.data.result[\"energy\"] - molecule.fci_energy\n",
        "        print(\"Error:\",error)\n",
        "        print(\"(in % of chemical accuracy: {:.3f}%)\\n\".format\n",
        "              (error/chemicalAccuracy*100))\n",
        "        \n",
        "        print(\"Ansatz Indices:\", self.data.result[\"indices\"])\n",
        "        print(\"Coefficients:\", self.data.result[\"coefficients\"])\n",
        "\n",
        "        return\n",
        "\n",
        "      print(\"Selected: {}, index {}\".format(self.pool[maxIndex],maxIndex))\n",
        "\n",
        "      print(\"(gradient: {})\".format(maxGradient))\n",
        "\n",
        "      newIndices = self.data.current[\"indices\"].copy()\n",
        "      newIndices.append(maxIndex)\n",
        "\n",
        "      # Initialize the coefficient of the operator that will be newly added at 0\n",
        "      newCoefficients = copy.deepcopy(self.data.current[\"coefficients\"])\n",
        "      newCoefficients.append(0)\n",
        "\n",
        "      print(\"\\nOptimizing energy with indices {}...\".format\n",
        "            (self.data.current[\"indices\"] + [maxIndex]))\n",
        "      indices = self.data.current[\"indices\"] + [maxIndex]\n",
        "\n",
        "      if self.backend is None:\n",
        "        # Use sparse matrices\n",
        "        opt_result = scipy.optimize.minimize(self.calculateEnergy, \n",
        "                                            newCoefficients,\n",
        "                                            indices,\n",
        "                                            method = \"COBYLA\",\n",
        "                                            #tol = 10**-4,\n",
        "                                            options = {'rhobeg': 0.1,\n",
        "                                                        'disp': True})\n",
        "        optimizedCoefficients = list(opt_result.x)\n",
        "        nfev = opt_result.nfev\n",
        "\n",
        "      else:\n",
        "        # Optimize the ansatz in Qiskit\n",
        "        self.optimizeCircuit(newCoefficients,indices)\n",
        "\n",
        "        evolution = self.optEvolution\n",
        "        optimizedCoefficients = list(self.optEvolution[\"parameters\"][-1])\n",
        "        nfev = self.optEvolution[\"nfev\"][-1]\n",
        "        \n",
        "      optimizedEnergy = self.calculateEnergy(optimizedCoefficients,\n",
        "                                             indices)\n",
        "      \n",
        "      print(\"Number of function evaluations:\",nfev)\n",
        "      print(\"Optimized energy: \",optimizedEnergy)\n",
        "      print(\"Optimized coefficients: \", optimizedCoefficients)\n",
        "        \n",
        "      self.data.processIteration(maxIndex,\n",
        "                             maxOperator,\n",
        "                             optimizedEnergy,\n",
        "                             totalNorm,\n",
        "                             maxGradient,\n",
        "                             optimizedCoefficients)\n",
        "      \n",
        "      print(\"Current ansatz:\", self.data.current[\"ansatz\"])\n",
        "      \n",
        "      # Update current state\n",
        "      newState = self.computeState()\n",
        "      self.data.current[\"state\"] = newState\n",
        "      \n",
        "      print(\"\\nEnergy Changes Associated with the Indices:\",\n",
        "            self.data.evolution[\"energyChange\"])\n",
        "      print(\"Performances Associated with the Indices: \",\n",
        "            self.data.current[\"ansatz performances\"])\n",
        "    \n",
        "    print(\"\\nThe maximum number of iterations ({}) was hit before the\"\n",
        "    \" convergence criterion was satisfied.\\n\"\n",
        "    \"(current gradient norm is {} > {})\"\n",
        "    .format(self.maxIterations,self.data.current[\"total norm\"],self.threshold))\n",
        "    self.data.close(success = False)\n"
      ],
      "execution_count": null,
      "outputs": []
    },
    {
      "cell_type": "markdown",
      "metadata": {
        "id": "6Pit4sRCufDb"
      },
      "source": [
        "## Noise Model"
      ]
    },
    {
      "cell_type": "markdown",
      "metadata": {
        "id": "JJbRUc78g1Cn"
      },
      "source": [
        "### Backend noise models"
      ]
    },
    {
      "cell_type": "code",
      "metadata": {
        "id": "Xlu587inugWT"
      },
      "source": [
        "# Noise model from ibmq_belem\n",
        "\n",
        "device_backend = FakeBelem()\n",
        "device = QasmSimulator.from_backend(device_backend)\n",
        "coupling_map = device.configuration().coupling_map\n",
        "\n",
        "belemNM = NoiseModel.from_backend(device)\n",
        "basis_gates = belemNM.basis_gates"
      ],
      "execution_count": null,
      "outputs": []
    },
    {
      "cell_type": "code",
      "metadata": {
        "id": "Q9jJ0ieVMaZf",
        "colab": {
          "base_uri": "https://localhost:8080/"
        },
        "outputId": "f88be636-b7b8-429d-c8ea-4822b2f92c95"
      },
      "source": [
        "config = device_backend.configuration()\n",
        "props = device_backend.properties()\n",
        "gateErrors = basic_device_gate_errors(props,thermal_relaxation = False)\n",
        "\n",
        "import pprint\n",
        "pprint.pprint(gateErrors)\n",
        "print(gate_error_values(props))"
      ],
      "execution_count": null,
      "outputs": [
        {
          "output_type": "stream",
          "name": "stdout",
          "text": [
            "[('id',\n",
            "  [0],\n",
            "  QuantumError([([{'name': 'x', 'qubits': [0]}], 0.00011539193832914837), ([{'name': 'y', 'qubits': [0]}], 0.00011539193832914837), ([{'name': 'z', 'qubits': [0]}], 0.00011539193832914837), ([{'name': 'id', 'qubits': [0]}], 0.9996538241850126)])),\n",
            " ('id',\n",
            "  [1],\n",
            "  QuantumError([([{'name': 'x', 'qubits': [0]}], 0.0002055442092625086), ([{'name': 'y', 'qubits': [0]}], 0.0002055442092625086), ([{'name': 'z', 'qubits': [0]}], 0.0002055442092625086), ([{'name': 'id', 'qubits': [0]}], 0.9993833673722124)])),\n",
            " ('id',\n",
            "  [2],\n",
            "  QuantumError([([{'name': 'x', 'qubits': [0]}], 0.0001484837519483761), ([{'name': 'y', 'qubits': [0]}], 0.0001484837519483761), ([{'name': 'z', 'qubits': [0]}], 0.0001484837519483761), ([{'name': 'id', 'qubits': [0]}], 0.9995545487441548)])),\n",
            " ('id',\n",
            "  [3],\n",
            "  QuantumError([([{'name': 'x', 'qubits': [0]}], 0.0003365184216466817), ([{'name': 'y', 'qubits': [0]}], 0.0003365184216466817), ([{'name': 'z', 'qubits': [0]}], 0.0003365184216466817), ([{'name': 'id', 'qubits': [0]}], 0.9989904447350599)])),\n",
            " ('id',\n",
            "  [4],\n",
            "  QuantumError([([{'name': 'x', 'qubits': [0]}], 0.00016556527790263407), ([{'name': 'y', 'qubits': [0]}], 0.00016556527790263407), ([{'name': 'z', 'qubits': [0]}], 0.00016556527790263407), ([{'name': 'id', 'qubits': [0]}], 0.9995033041662921)])),\n",
            " ('sx',\n",
            "  [0],\n",
            "  QuantumError([([{'name': 'x', 'qubits': [0]}], 0.00011539193832914837), ([{'name': 'y', 'qubits': [0]}], 0.00011539193832914837), ([{'name': 'z', 'qubits': [0]}], 0.00011539193832914837), ([{'name': 'id', 'qubits': [0]}], 0.9996538241850126)])),\n",
            " ('sx',\n",
            "  [1],\n",
            "  QuantumError([([{'name': 'x', 'qubits': [0]}], 0.0002055442092625086), ([{'name': 'y', 'qubits': [0]}], 0.0002055442092625086), ([{'name': 'z', 'qubits': [0]}], 0.0002055442092625086), ([{'name': 'id', 'qubits': [0]}], 0.9993833673722124)])),\n",
            " ('sx',\n",
            "  [2],\n",
            "  QuantumError([([{'name': 'x', 'qubits': [0]}], 0.0001484837519483761), ([{'name': 'y', 'qubits': [0]}], 0.0001484837519483761), ([{'name': 'z', 'qubits': [0]}], 0.0001484837519483761), ([{'name': 'id', 'qubits': [0]}], 0.9995545487441548)])),\n",
            " ('sx',\n",
            "  [3],\n",
            "  QuantumError([([{'name': 'x', 'qubits': [0]}], 0.0003365184216466817), ([{'name': 'y', 'qubits': [0]}], 0.0003365184216466817), ([{'name': 'z', 'qubits': [0]}], 0.0003365184216466817), ([{'name': 'id', 'qubits': [0]}], 0.9989904447350599)])),\n",
            " ('sx',\n",
            "  [4],\n",
            "  QuantumError([([{'name': 'x', 'qubits': [0]}], 0.00016556527790263407), ([{'name': 'y', 'qubits': [0]}], 0.00016556527790263407), ([{'name': 'z', 'qubits': [0]}], 0.00016556527790263407), ([{'name': 'id', 'qubits': [0]}], 0.9995033041662921)])),\n",
            " ('x',\n",
            "  [0],\n",
            "  QuantumError([([{'name': 'x', 'qubits': [0]}], 0.00011539193832914837), ([{'name': 'y', 'qubits': [0]}], 0.00011539193832914837), ([{'name': 'z', 'qubits': [0]}], 0.00011539193832914837), ([{'name': 'id', 'qubits': [0]}], 0.9996538241850126)])),\n",
            " ('x',\n",
            "  [1],\n",
            "  QuantumError([([{'name': 'x', 'qubits': [0]}], 0.0002055442092625086), ([{'name': 'y', 'qubits': [0]}], 0.0002055442092625086), ([{'name': 'z', 'qubits': [0]}], 0.0002055442092625086), ([{'name': 'id', 'qubits': [0]}], 0.9993833673722124)])),\n",
            " ('x',\n",
            "  [2],\n",
            "  QuantumError([([{'name': 'x', 'qubits': [0]}], 0.0001484837519483761), ([{'name': 'y', 'qubits': [0]}], 0.0001484837519483761), ([{'name': 'z', 'qubits': [0]}], 0.0001484837519483761), ([{'name': 'id', 'qubits': [0]}], 0.9995545487441548)])),\n",
            " ('x',\n",
            "  [3],\n",
            "  QuantumError([([{'name': 'x', 'qubits': [0]}], 0.0003365184216466817), ([{'name': 'y', 'qubits': [0]}], 0.0003365184216466817), ([{'name': 'z', 'qubits': [0]}], 0.0003365184216466817), ([{'name': 'id', 'qubits': [0]}], 0.9989904447350599)])),\n",
            " ('x',\n",
            "  [4],\n",
            "  QuantumError([([{'name': 'x', 'qubits': [0]}], 0.00016556527790263407), ([{'name': 'y', 'qubits': [0]}], 0.00016556527790263407), ([{'name': 'z', 'qubits': [0]}], 0.00016556527790263407), ([{'name': 'id', 'qubits': [0]}], 0.9995033041662921)])),\n",
            " ('cx',\n",
            "  [4, 3],\n",
            "  QuantumError([([{'name': 'x', 'qubits': [0]}], 0.00122906312732457), ([{'name': 'y', 'qubits': [0]}], 0.00122906312732457), ([{'name': 'z', 'qubits': [0]}], 0.00122906312732457), ([{'name': 'x', 'qubits': [1]}], 0.00122906312732457), ([{'name': 'x', 'qubits': [0]}, {'name': 'x', 'qubits': [1]}], 0.00122906312732457), ([{'name': 'y', 'qubits': [0]}, {'name': 'x', 'qubits': [1]}], 0.00122906312732457), ([{'name': 'z', 'qubits': [0]}, {'name': 'x', 'qubits': [1]}], 0.00122906312732457), ([{'name': 'y', 'qubits': [1]}], 0.00122906312732457), ([{'name': 'x', 'qubits': [0]}, {'name': 'y', 'qubits': [1]}], 0.00122906312732457), ([{'name': 'y', 'qubits': [0]}, {'name': 'y', 'qubits': [1]}], 0.00122906312732457), ([{'name': 'z', 'qubits': [0]}, {'name': 'y', 'qubits': [1]}], 0.00122906312732457), ([{'name': 'z', 'qubits': [1]}], 0.00122906312732457), ([{'name': 'x', 'qubits': [0]}, {'name': 'z', 'qubits': [1]}], 0.00122906312732457), ([{'name': 'y', 'qubits': [0]}, {'name': 'z', 'qubits': [1]}], 0.00122906312732457), ([{'name': 'z', 'qubits': [0]}, {'name': 'z', 'qubits': [1]}], 0.00122906312732457), ([{'name': 'id', 'qubits': [0]}], 0.9815640530901315)])),\n",
            " ('cx',\n",
            "  [3, 4],\n",
            "  QuantumError([([{'name': 'x', 'qubits': [0]}], 0.00122906312732457), ([{'name': 'y', 'qubits': [0]}], 0.00122906312732457), ([{'name': 'z', 'qubits': [0]}], 0.00122906312732457), ([{'name': 'x', 'qubits': [1]}], 0.00122906312732457), ([{'name': 'x', 'qubits': [0]}, {'name': 'x', 'qubits': [1]}], 0.00122906312732457), ([{'name': 'y', 'qubits': [0]}, {'name': 'x', 'qubits': [1]}], 0.00122906312732457), ([{'name': 'z', 'qubits': [0]}, {'name': 'x', 'qubits': [1]}], 0.00122906312732457), ([{'name': 'y', 'qubits': [1]}], 0.00122906312732457), ([{'name': 'x', 'qubits': [0]}, {'name': 'y', 'qubits': [1]}], 0.00122906312732457), ([{'name': 'y', 'qubits': [0]}, {'name': 'y', 'qubits': [1]}], 0.00122906312732457), ([{'name': 'z', 'qubits': [0]}, {'name': 'y', 'qubits': [1]}], 0.00122906312732457), ([{'name': 'z', 'qubits': [1]}], 0.00122906312732457), ([{'name': 'x', 'qubits': [0]}, {'name': 'z', 'qubits': [1]}], 0.00122906312732457), ([{'name': 'y', 'qubits': [0]}, {'name': 'z', 'qubits': [1]}], 0.00122906312732457), ([{'name': 'z', 'qubits': [0]}, {'name': 'z', 'qubits': [1]}], 0.00122906312732457), ([{'name': 'id', 'qubits': [0]}], 0.9815640530901315)])),\n",
            " ('cx',\n",
            "  [3, 1],\n",
            "  QuantumError([([{'name': 'x', 'qubits': [0]}], 0.0011619552141440906), ([{'name': 'y', 'qubits': [0]}], 0.0011619552141440906), ([{'name': 'z', 'qubits': [0]}], 0.0011619552141440906), ([{'name': 'x', 'qubits': [1]}], 0.0011619552141440906), ([{'name': 'x', 'qubits': [0]}, {'name': 'x', 'qubits': [1]}], 0.0011619552141440906), ([{'name': 'y', 'qubits': [0]}, {'name': 'x', 'qubits': [1]}], 0.0011619552141440906), ([{'name': 'z', 'qubits': [0]}, {'name': 'x', 'qubits': [1]}], 0.0011619552141440906), ([{'name': 'y', 'qubits': [1]}], 0.0011619552141440906), ([{'name': 'x', 'qubits': [0]}, {'name': 'y', 'qubits': [1]}], 0.0011619552141440906), ([{'name': 'y', 'qubits': [0]}, {'name': 'y', 'qubits': [1]}], 0.0011619552141440906), ([{'name': 'z', 'qubits': [0]}, {'name': 'y', 'qubits': [1]}], 0.0011619552141440906), ([{'name': 'z', 'qubits': [1]}], 0.0011619552141440906), ([{'name': 'x', 'qubits': [0]}, {'name': 'z', 'qubits': [1]}], 0.0011619552141440906), ([{'name': 'y', 'qubits': [0]}, {'name': 'z', 'qubits': [1]}], 0.0011619552141440906), ([{'name': 'z', 'qubits': [0]}, {'name': 'z', 'qubits': [1]}], 0.0011619552141440906), ([{'name': 'id', 'qubits': [0]}], 0.9825706717878386)])),\n",
            " ('cx',\n",
            "  [1, 3],\n",
            "  QuantumError([([{'name': 'x', 'qubits': [0]}], 0.0011619552141440906), ([{'name': 'y', 'qubits': [0]}], 0.0011619552141440906), ([{'name': 'z', 'qubits': [0]}], 0.0011619552141440906), ([{'name': 'x', 'qubits': [1]}], 0.0011619552141440906), ([{'name': 'x', 'qubits': [0]}, {'name': 'x', 'qubits': [1]}], 0.0011619552141440906), ([{'name': 'y', 'qubits': [0]}, {'name': 'x', 'qubits': [1]}], 0.0011619552141440906), ([{'name': 'z', 'qubits': [0]}, {'name': 'x', 'qubits': [1]}], 0.0011619552141440906), ([{'name': 'y', 'qubits': [1]}], 0.0011619552141440906), ([{'name': 'x', 'qubits': [0]}, {'name': 'y', 'qubits': [1]}], 0.0011619552141440906), ([{'name': 'y', 'qubits': [0]}, {'name': 'y', 'qubits': [1]}], 0.0011619552141440906), ([{'name': 'z', 'qubits': [0]}, {'name': 'y', 'qubits': [1]}], 0.0011619552141440906), ([{'name': 'z', 'qubits': [1]}], 0.0011619552141440906), ([{'name': 'x', 'qubits': [0]}, {'name': 'z', 'qubits': [1]}], 0.0011619552141440906), ([{'name': 'y', 'qubits': [0]}, {'name': 'z', 'qubits': [1]}], 0.0011619552141440906), ([{'name': 'z', 'qubits': [0]}, {'name': 'z', 'qubits': [1]}], 0.0011619552141440906), ([{'name': 'id', 'qubits': [0]}], 0.9825706717878386)])),\n",
            " ('cx',\n",
            "  [2, 1],\n",
            "  QuantumError([([{'name': 'x', 'qubits': [0]}], 0.000891121324534061), ([{'name': 'y', 'qubits': [0]}], 0.000891121324534061), ([{'name': 'z', 'qubits': [0]}], 0.000891121324534061), ([{'name': 'x', 'qubits': [1]}], 0.000891121324534061), ([{'name': 'x', 'qubits': [0]}, {'name': 'x', 'qubits': [1]}], 0.000891121324534061), ([{'name': 'y', 'qubits': [0]}, {'name': 'x', 'qubits': [1]}], 0.000891121324534061), ([{'name': 'z', 'qubits': [0]}, {'name': 'x', 'qubits': [1]}], 0.000891121324534061), ([{'name': 'y', 'qubits': [1]}], 0.000891121324534061), ([{'name': 'x', 'qubits': [0]}, {'name': 'y', 'qubits': [1]}], 0.000891121324534061), ([{'name': 'y', 'qubits': [0]}, {'name': 'y', 'qubits': [1]}], 0.000891121324534061), ([{'name': 'z', 'qubits': [0]}, {'name': 'y', 'qubits': [1]}], 0.000891121324534061), ([{'name': 'z', 'qubits': [1]}], 0.000891121324534061), ([{'name': 'x', 'qubits': [0]}, {'name': 'z', 'qubits': [1]}], 0.000891121324534061), ([{'name': 'y', 'qubits': [0]}, {'name': 'z', 'qubits': [1]}], 0.000891121324534061), ([{'name': 'z', 'qubits': [0]}, {'name': 'z', 'qubits': [1]}], 0.000891121324534061), ([{'name': 'id', 'qubits': [0]}], 0.9866331801319891)])),\n",
            " ('cx',\n",
            "  [1, 2],\n",
            "  QuantumError([([{'name': 'x', 'qubits': [0]}], 0.000891121324534061), ([{'name': 'y', 'qubits': [0]}], 0.000891121324534061), ([{'name': 'z', 'qubits': [0]}], 0.000891121324534061), ([{'name': 'x', 'qubits': [1]}], 0.000891121324534061), ([{'name': 'x', 'qubits': [0]}, {'name': 'x', 'qubits': [1]}], 0.000891121324534061), ([{'name': 'y', 'qubits': [0]}, {'name': 'x', 'qubits': [1]}], 0.000891121324534061), ([{'name': 'z', 'qubits': [0]}, {'name': 'x', 'qubits': [1]}], 0.000891121324534061), ([{'name': 'y', 'qubits': [1]}], 0.000891121324534061), ([{'name': 'x', 'qubits': [0]}, {'name': 'y', 'qubits': [1]}], 0.000891121324534061), ([{'name': 'y', 'qubits': [0]}, {'name': 'y', 'qubits': [1]}], 0.000891121324534061), ([{'name': 'z', 'qubits': [0]}, {'name': 'y', 'qubits': [1]}], 0.000891121324534061), ([{'name': 'z', 'qubits': [1]}], 0.000891121324534061), ([{'name': 'x', 'qubits': [0]}, {'name': 'z', 'qubits': [1]}], 0.000891121324534061), ([{'name': 'y', 'qubits': [0]}, {'name': 'z', 'qubits': [1]}], 0.000891121324534061), ([{'name': 'z', 'qubits': [0]}, {'name': 'z', 'qubits': [1]}], 0.000891121324534061), ([{'name': 'id', 'qubits': [0]}], 0.9866331801319891)])),\n",
            " ('cx',\n",
            "  [1, 0],\n",
            "  QuantumError([([{'name': 'x', 'qubits': [0]}], 0.0013798737995859799), ([{'name': 'y', 'qubits': [0]}], 0.0013798737995859799), ([{'name': 'z', 'qubits': [0]}], 0.0013798737995859799), ([{'name': 'x', 'qubits': [1]}], 0.0013798737995859799), ([{'name': 'x', 'qubits': [0]}, {'name': 'x', 'qubits': [1]}], 0.0013798737995859799), ([{'name': 'y', 'qubits': [0]}, {'name': 'x', 'qubits': [1]}], 0.0013798737995859799), ([{'name': 'z', 'qubits': [0]}, {'name': 'x', 'qubits': [1]}], 0.0013798737995859799), ([{'name': 'y', 'qubits': [1]}], 0.0013798737995859799), ([{'name': 'x', 'qubits': [0]}, {'name': 'y', 'qubits': [1]}], 0.0013798737995859799), ([{'name': 'y', 'qubits': [0]}, {'name': 'y', 'qubits': [1]}], 0.0013798737995859799), ([{'name': 'z', 'qubits': [0]}, {'name': 'y', 'qubits': [1]}], 0.0013798737995859799), ([{'name': 'z', 'qubits': [1]}], 0.0013798737995859799), ([{'name': 'x', 'qubits': [0]}, {'name': 'z', 'qubits': [1]}], 0.0013798737995859799), ([{'name': 'y', 'qubits': [0]}, {'name': 'z', 'qubits': [1]}], 0.0013798737995859799), ([{'name': 'z', 'qubits': [0]}, {'name': 'z', 'qubits': [1]}], 0.0013798737995859799), ([{'name': 'id', 'qubits': [0]}], 0.9793018930062103)])),\n",
            " ('cx',\n",
            "  [0, 1],\n",
            "  QuantumError([([{'name': 'x', 'qubits': [0]}], 0.0013798737995859799), ([{'name': 'y', 'qubits': [0]}], 0.0013798737995859799), ([{'name': 'z', 'qubits': [0]}], 0.0013798737995859799), ([{'name': 'x', 'qubits': [1]}], 0.0013798737995859799), ([{'name': 'x', 'qubits': [0]}, {'name': 'x', 'qubits': [1]}], 0.0013798737995859799), ([{'name': 'y', 'qubits': [0]}, {'name': 'x', 'qubits': [1]}], 0.0013798737995859799), ([{'name': 'z', 'qubits': [0]}, {'name': 'x', 'qubits': [1]}], 0.0013798737995859799), ([{'name': 'y', 'qubits': [1]}], 0.0013798737995859799), ([{'name': 'x', 'qubits': [0]}, {'name': 'y', 'qubits': [1]}], 0.0013798737995859799), ([{'name': 'y', 'qubits': [0]}, {'name': 'y', 'qubits': [1]}], 0.0013798737995859799), ([{'name': 'z', 'qubits': [0]}, {'name': 'y', 'qubits': [1]}], 0.0013798737995859799), ([{'name': 'z', 'qubits': [1]}], 0.0013798737995859799), ([{'name': 'x', 'qubits': [0]}, {'name': 'z', 'qubits': [1]}], 0.0013798737995859799), ([{'name': 'y', 'qubits': [0]}, {'name': 'z', 'qubits': [1]}], 0.0013798737995859799), ([{'name': 'z', 'qubits': [0]}, {'name': 'z', 'qubits': [1]}], 0.0013798737995859799), ([{'name': 'id', 'qubits': [0]}], 0.9793018930062103)]))]\n",
            "[('id', [0], 0.00023078387665829674), ('id', [1], 0.0004110884185250172), ('id', [2], 0.0002969675038967522), ('id', [3], 0.0006730368432933634), ('id', [4], 0.00033113055580526814), ('rz', [0], 0), ('rz', [1], 0), ('rz', [2], 0), ('rz', [3], 0), ('rz', [4], 0), ('sx', [0], 0.00023078387665829674), ('sx', [1], 0.0004110884185250172), ('sx', [2], 0.0002969675038967522), ('sx', [3], 0.0006730368432933634), ('sx', [4], 0.00033113055580526814), ('x', [0], 0.00023078387665829674), ('x', [1], 0.0004110884185250172), ('x', [2], 0.0002969675038967522), ('x', [3], 0.0006730368432933634), ('x', [4], 0.00033113055580526814), ('cx', [4, 3], 0.01474875752789484), ('cx', [3, 4], 0.01474875752789484), ('cx', [3, 1], 0.013943462569729087), ('cx', [1, 3], 0.013943462569729087), ('cx', [2, 1], 0.010693455894408732), ('cx', [1, 2], 0.010693455894408732), ('cx', [1, 0], 0.016558485595031758), ('cx', [0, 1], 0.016558485595031758), ('reset', [0], None), ('reset', [1], None), ('reset', [2], None), ('reset', [3], None), ('reset', [4], None)]\n"
          ]
        }
      ]
    },
    {
      "cell_type": "markdown",
      "metadata": {
        "id": "ieao3UhDgwjW"
      },
      "source": [
        "### Isolate noise from different operations"
      ]
    },
    {
      "cell_type": "code",
      "metadata": {
        "colab": {
          "base_uri": "https://localhost:8080/"
        },
        "id": "9Pb8IADVukJy",
        "outputId": "91c3cd01-7e4f-4e54-e673-577e0739a5ff"
      },
      "source": [
        "# Isolate noise (from the backend model) associated with each type of gates\n",
        "\n",
        "noiseDict = belemNM.to_dict()\n",
        "\n",
        "measNoiseDict = {}\n",
        "resetNoiseDict = {}\n",
        "idNoiseDict = {}\n",
        "sxNoiseDict = {}\n",
        "xNoiseDict = {}\n",
        "cxNoiseDict = {}\n",
        "\n",
        "measNoiseDict[\"errors\"] = []\n",
        "resetNoiseDict[\"errors\"] = []\n",
        "idNoiseDict[\"errors\"] = []\n",
        "sxNoiseDict[\"errors\"] = []\n",
        "xNoiseDict[\"errors\"] = []\n",
        "cxNoiseDict[\"errors\"] = []\n",
        "\n",
        "cxMeasNoiseDict = {}\n",
        "cxMeasNoiseDict[\"errors\"] = []\n",
        "\n",
        "# Add to the new noise model the desired errors from the ibmq_belem noise model.\n",
        "for error in noiseDict[\"errors\"]:\n",
        "  #print(error[\"type\"],error[\"operations\"])\n",
        "  # error[\"operations\"][0] is one of [\"measure\",\"reset\",\"id\",\"sx\",\"x\",\"cx\"]\n",
        "\n",
        "  if error[\"operations\"][0] == \"measure\":\n",
        "    measNoiseDict[\"errors\"].append(error)\n",
        "  if error[\"operations\"][0] == \"reset\":\n",
        "    resetNoiseDict[\"errors\"].append(error)\n",
        "  if error[\"operations\"][0] == \"id\":\n",
        "    idNoiseDict[\"errors\"].append(error)\n",
        "  if error[\"operations\"][0] == \"sx\":\n",
        "    sxNoiseDict[\"errors\"].append(error)\n",
        "  if error[\"operations\"][0] == \"x\":\n",
        "    xNoiseDict[\"errors\"].append(error)\n",
        "  if error[\"operations\"][0] == \"cx\":\n",
        "    cxNoiseDict[\"errors\"].append(error)\n",
        "\n",
        "  if error[\"operations\"][0] in [\"cx\",\"measure\"]:\n",
        "    cxMeasNoiseDict[\"errors\"].append(error)\n",
        "\n",
        "measNoiseModel = NoiseModel(basis_gates=belemNM.basis_gates)\n",
        "resetNoiseModel = NoiseModel(basis_gates=belemNM.basis_gates)\n",
        "idNoiseModel = NoiseModel(basis_gates=belemNM.basis_gates)\n",
        "sxNoiseModel = NoiseModel(basis_gates=belemNM.basis_gates)\n",
        "xNoiseModel = NoiseModel(basis_gates=belemNM.basis_gates)\n",
        "cxNoiseModel = NoiseModel(basis_gates=belemNM.basis_gates)\n",
        "\n",
        "measNoiseModel = measNoiseModel.from_dict(measNoiseDict)\n",
        "resetNoiseModel = resetNoiseModel.from_dict(resetNoiseDict)\n",
        "idNoiseModel = idNoiseModel.from_dict(idNoiseDict)\n",
        "sxNoiseModel = sxNoiseModel.from_dict(sxNoiseDict)\n",
        "xNoiseModel = xNoiseModel.from_dict(xNoiseDict)\n",
        "cxNoiseModel = cxNoiseModel.from_dict(cxNoiseDict)\n",
        "\n",
        "cxMeasNoiseModel = NoiseModel(basis_gates=belemNM.basis_gates)\n",
        "cxMeasNoiseModel = cxMeasNoiseModel.from_dict(cxMeasNoiseDict)\n",
        "\n",
        "print(measNoiseModel)\n",
        "print(resetNoiseModel)\n",
        "print(idNoiseModel)\n",
        "print(sxNoiseModel)\n",
        "print(xNoiseModel)\n",
        "print(cxNoiseModel)"
      ],
      "execution_count": null,
      "outputs": [
        {
          "output_type": "stream",
          "name": "stdout",
          "text": [
            "NoiseModel:\n",
            "  Basis gates: ['cx', 'id', 'rz', 'sx']\n",
            "  Instructions with noise: ['measure']\n",
            "  Qubits with noise: [0, 1, 2, 3, 4]\n",
            "  Specific qubit errors: [('measure', [0]), ('measure', [1]), ('measure', [2]), ('measure', [3]), ('measure', [4])]\n",
            "NoiseModel:\n",
            "  Basis gates: ['cx', 'id', 'rz', 'sx']\n",
            "  Instructions with noise: ['reset']\n",
            "  Qubits with noise: [0, 1, 2, 3, 4]\n",
            "  Specific qubit errors: [('reset', [0]), ('reset', [1]), ('reset', [2]), ('reset', [3]), ('reset', [4])]\n",
            "NoiseModel:\n",
            "  Basis gates: ['cx', 'id', 'rz', 'sx']\n",
            "  Instructions with noise: ['id']\n",
            "  Qubits with noise: [0, 1, 2, 3, 4]\n",
            "  Specific qubit errors: [('id', [0]), ('id', [1]), ('id', [2]), ('id', [3]), ('id', [4])]\n",
            "NoiseModel:\n",
            "  Basis gates: ['cx', 'id', 'rz', 'sx']\n",
            "  Instructions with noise: ['sx']\n",
            "  Qubits with noise: [0, 1, 2, 3, 4]\n",
            "  Specific qubit errors: [('sx', [0]), ('sx', [1]), ('sx', [2]), ('sx', [3]), ('sx', [4])]\n",
            "NoiseModel:\n",
            "  Basis gates: ['cx', 'id', 'rz', 'sx', 'x']\n",
            "  Instructions with noise: ['x']\n",
            "  Qubits with noise: [0, 1, 2, 3, 4]\n",
            "  Specific qubit errors: [('x', [0]), ('x', [1]), ('x', [2]), ('x', [3]), ('x', [4])]\n",
            "NoiseModel:\n",
            "  Basis gates: ['cx', 'id', 'rz', 'sx']\n",
            "  Instructions with noise: ['cx']\n",
            "  Qubits with noise: [0, 1, 2, 3, 4]\n",
            "  Specific qubit errors: [('cx', [4, 3]), ('cx', [3, 4]), ('cx', [3, 1]), ('cx', [1, 3]), ('cx', [2, 1]), ('cx', [1, 2]), ('cx', [1, 0]), ('cx', [0, 1])]\n"
          ]
        }
      ]
    },
    {
      "cell_type": "markdown",
      "metadata": {
        "id": "GhlCsZ9ngucm"
      },
      "source": [
        "### Customized Noise Model"
      ]
    },
    {
      "cell_type": "code",
      "metadata": {
        "id": "c1_WaNdLyeV0"
      },
      "source": [
        "def createNoiseModel(t1,t2,measTime,cxTime,m0p1,m1p0):\n",
        "  '''\n",
        "  Creates an approximate noise model, with:\n",
        "  - Thermal relaxation on CX gates / measurements\n",
        "  - Readout error\n",
        "\n",
        "  Arguments:\n",
        "    t1 (float): relaxation time (average)\n",
        "    t2 (float): dephasing time (average)\n",
        "    cxTime (float): CNOT gate time (average)\n",
        "    m0p1 (float): prepare |1> measure |0> probability (average)\n",
        "    m1p0 (float): prepare |0> measure |1> probability (average)\n",
        "\n",
        "  Returns:\n",
        "    noiseModel (qiskit.providers.aer.noise.noise_model.NoiseModel): the noise\n",
        "      model. Assumes average behaviour for all errors\n",
        "  '''\n",
        "  noiseModel = NoiseModel()\n",
        "\n",
        "  # Thermal relaxation\n",
        "  measError = thermal_relaxation_error(t1, t2, measTime)\n",
        "  cxTError = thermal_relaxation_error(t1, t2, cxTime)\n",
        "  cxTError = cxTError.tensor(cxTError)\n",
        "\n",
        "  for i in range(qubitNumber):\n",
        "\n",
        "    # Add thermal relaxation on each qubit measurement\n",
        "    noiseModel.add_quantum_error(measError,\"measure\",[i])\n",
        "\n",
        "    # Add thermal relaxation + gate error on each possible pair of CNOTs\n",
        "    for j in range(qubitNumber):\n",
        "      if j != i:\n",
        "        noiseModel.add_quantum_error(cxTError,\"cx\",[i,j])\n",
        "\n",
        "  # Readout Error\n",
        "  readoutErrorMatrix = [[1 - m1p0, m1p0],[m0p1, 1 - m0p1]]\n",
        "  readoutError = ReadoutError(readoutErrorMatrix)\n",
        "\n",
        "  for i in range(qubitNumber):\n",
        "    # Adde radout error on each qubit\n",
        "    noiseModel.add_readout_error(readoutError,[i])\n",
        "\n",
        "  return noiseModel"
      ],
      "execution_count": null,
      "outputs": []
    },
    {
      "cell_type": "markdown",
      "metadata": {
        "id": "z-q7nmh9ggAk"
      },
      "source": [
        "### Measuring the purity at the end of the ansatz"
      ]
    },
    {
      "cell_type": "code",
      "metadata": {
        "id": "7P6djtIneb4L"
      },
      "source": [
        "def getFinalState(circuit,device_backend):\n",
        "  '''\n",
        "  Obtain density matrix at the end of the ansatz circuit using a noise model. \n",
        "\n",
        "  Arguments:\n",
        "    circuit (qiskit.QuantumCircuit): the circuit\n",
        "    device_backend: noise data from qiskit.test.mock\n",
        "\n",
        "  Returns:\n",
        "    dmatrix (numpy.ndarray): density matrix representing the final state\n",
        "  '''\n",
        "\n",
        "  device = QasmSimulator.from_backend(device_backend)\n",
        "  coupling_map = device.configuration().coupling_map\n",
        "\n",
        "  noiseModel = NoiseModel.from_backend(device)\n",
        "  basis_gates = noiseModel.basis_gates\n",
        "\n",
        "  tcirc = transpile(circuit, device_backend)\n",
        "  tcirc.save_density_matrix()\n",
        "\n",
        "  result = execute(tcirc, Aer.get_backend('qasm_simulator'),\n",
        "                  coupling_map=coupling_map,\n",
        "                  basis_gates=basis_gates,\n",
        "                  noise_model=noiseModel).result()\n",
        "                  \n",
        "  dmatrix = (result.data(0))['density_matrix']\n",
        "  \n",
        "  return dmatrix\n",
        "\n",
        "def getIdealState(circuit,device_backend):\n",
        "  '''\n",
        "  Obtain density matrix at the end of the ansatz circuit assuming a noise-free\n",
        "  scenario.\n",
        "\n",
        "  Arguments:\n",
        "    circuit (qiskit.QuantumCircuit): the circuit\n",
        "    device_backend: noise data from qiskit.test.mock. Will be used for \n",
        "      transpilation,...\n",
        "\n",
        "  Returns:\n",
        "    dmatrix (numpy.ndarray): density matrix representing the final state\n",
        "  '''\n",
        "\n",
        "  device = QasmSimulator.from_backend(device_backend)\n",
        "  coupling_map = device.configuration().coupling_map\n",
        "\n",
        "  noiseModel = NoiseModel.from_backend(device)\n",
        "  basis_gates = noiseModel.basis_gates\n",
        "\n",
        "  tcirc = transpile(circuit, device_backend)\n",
        "  tcirc.save_density_matrix()\n",
        "\n",
        "  result = execute(tcirc, Aer.get_backend('statevector_simulator'),\n",
        "                  coupling_map=coupling_map,\n",
        "                  basis_gates=basis_gates,\n",
        "                  noise_model=noiseModel).result()\n",
        "                  \n",
        "  dmatrix = (result.data(0))['density_matrix']\n",
        "  \n",
        "  return dmatrix\n",
        "\n",
        "def getPurity(dmatrix):\n",
        "  '''\n",
        "  Obtain the purity of a state represented by a density matrix.\n",
        "\n",
        "  Arguments:\n",
        "    dmatrix (numpy.ndarray): density matrix representing the state\n",
        "\n",
        "  Returns:\n",
        "    purity (int): the purity of the state \n",
        "  '''\n",
        "\n",
        "  statePurity = purity(dmatrix).real\n",
        "\n",
        "  return statePurity\n",
        "\n",
        "def getFidelity(dmatrix1,dmatrix2):\n",
        "  '''\n",
        "  Obtain the fidelity between two states.\n",
        "\n",
        "  Arguments:\n",
        "    dmatrix1 (numpy.ndarray): density matrix representing state 1\n",
        "    dmatrix2 (numpy.ndarray): density matrix representing state 2\n",
        "\n",
        "  Returns:\n",
        "    fidelity (int): the fidelity between the two states\n",
        "  '''\n",
        "  dimension, _ = dmatrix1.shape\n",
        "\n",
        "  dmatrix1Root = scipy.linalg.sqrtm(dmatrix1)\n",
        "\n",
        "  mat = np.matmul(np.matmul(dmatrix1Root, dmatrix2),dmatrix1Root)\n",
        "  matRoot =  scipy.linalg.sqrtm(mat)\n",
        "\n",
        "  fidelity = np.real((np.trace(matRoot))**2)\n",
        "\n",
        "  return fidelity"
      ],
      "execution_count": null,
      "outputs": []
    },
    {
      "cell_type": "code",
      "metadata": {
        "colab": {
          "base_uri": "https://localhost:8080/"
        },
        "id": "LK6IbMLaNarC",
        "outputId": "3805b272-624e-4180-dc13-ac3d7b5e8783"
      },
      "source": [
        "# Obtain purity at the end of the ansatz circuit using a noise model. \n",
        "#IBMQ Belem noise model here\n",
        "# Test for a single operator\n",
        "\n",
        "# Choose the operator\n",
        "op = qubitPool[10]\n",
        "\n",
        "circ = QuantumCircuit(qubitNumber)\n",
        "pauliToCircuit(op,0,circ,qubitNumber)\n",
        "\n",
        "idealState = getIdealState(circ,FakeBelem())\n",
        "dimension, _ = idealState.shape\n",
        "fullyMixed =  1/dimension * np.identity(dimension)\n",
        "\n",
        "# Number of tests\n",
        "tests = 10\n",
        "\n",
        "purities = []\n",
        "fidelitiesIdeal = []\n",
        "fidelitiesFM = []\n",
        "\n",
        "for _ in range(tests):\n",
        "\n",
        "  finalState = getFinalState(circ,FakeBelem())\n",
        "  finalPurity = getPurity(finalState)\n",
        "  fidelityIdeal = getFidelity(finalState,idealState)\n",
        "  fidelityFM = getFidelity(finalState,fullyMixed)\n",
        "\n",
        "  purities.append(finalPurity)\n",
        "  fidelitiesIdeal.append(fidelityIdeal)\n",
        "  fidelitiesFM.append(fidelityFM)\n",
        "\n",
        "avPurity = np.average(purities)\n",
        "avFidelityFM = np.average(fidelitiesFM)\n",
        "avFidelityIdeal = np.average(fidelitiesIdeal)\n",
        "\n",
        "print(\"Purity of the fully mixed state: \", 1/2**qubitNumber)\n",
        "print(\"Purity at the end of the UCCSD circuit:\", avPurity)\n",
        "print(\"Fidelity with the ideal state: \", avFidelityIdeal)\n",
        "print(\"Fidelity with the fully mixed state: \", avFidelityFM)"
      ],
      "execution_count": null,
      "outputs": [
        {
          "output_type": "stream",
          "name": "stdout",
          "text": [
            "Purity of the fully mixed state:  0.0625\n",
            "Purity at the end of the UCCSD circuit: 0.8193062474460507\n",
            "Fidelity with the ideal state:  0.9429338046954573\n",
            "Fidelity with the fully mixed state:  0.1001725751230291\n"
          ]
        }
      ]
    },
    {
      "cell_type": "markdown",
      "metadata": {
        "id": "JvZEJ3zbZZze"
      },
      "source": [
        "## Running the Algorithm"
      ]
    },
    {
      "cell_type": "code",
      "metadata": {
        "id": "OPjLQ6PP00-T"
      },
      "source": [
        "threshold = 0.15\n",
        "\n",
        "backend = provider.get_backend('ibmq_belem')\n",
        "backend = Aer.get_backend('qasm_simulator')\n",
        "\n",
        "maxIterations = 1\n",
        "\n",
        "shots = 2**17"
      ],
      "execution_count": null,
      "outputs": []
    },
    {
      "cell_type": "code",
      "metadata": {
        "colab": {
          "base_uri": "https://localhost:8080/"
        },
        "id": "Knzd6VDQetoL",
        "outputId": "045e3925-ef7a-4c3f-d9e5-273e904cc60b"
      },
      "source": [
        "qinstance = QuantumInstance(backend, \n",
        "                            shots = shots,\n",
        "                            coupling_map=coupling_map,\n",
        "                            basis_gates=basis_gates,\n",
        "                            noise_model=belemNM)\n",
        "\n",
        "myAdapt = AdaptVQE(qubitPool,\n",
        "                   molecule,\n",
        "                   qinstance = qinstance,\n",
        "                   verbose = True,\n",
        "                   threshold = threshold,\n",
        "                   maxIterations = maxIterations,\n",
        "                   shots = shots,\n",
        "                   referenceDeterminant = None\n",
        "                   )\n",
        "myAdapt.prepare()"
      ],
      "execution_count": null,
      "outputs": [
        {
          "output_type": "stream",
          "name": "stdout",
          "text": [
            "Sparse version of the pool was not provided. Obtaining it...\n",
            "Initializing data structures...\n",
            "\n",
            "Adapt VQE prepared with the following settings:\n",
            "> Convergence treshold (gradient norm):  0.15\n",
            "> Maximum number of iterations:  1\n",
            "> Backend:  qasm_simulator\n",
            "(Shot number: 131072)\n"
          ]
        }
      ]
    },
    {
      "cell_type": "code",
      "metadata": {
        "colab": {
          "base_uri": "https://localhost:8080/"
        },
        "id": "ubD8Wl1yoiXQ",
        "outputId": "9f6a4808-fbb0-4081-8153-6d69ec9146c0"
      },
      "source": [
        "myAdapt.run()\n",
        "data = myAdapt.data"
      ],
      "execution_count": null,
      "outputs": [
        {
          "output_type": "stream",
          "name": "stdout",
          "text": [
            "\n",
            "*** Adapt Iteration 1 ***\n",
            "\n",
            "Calculating gradients and selecting the next operator...\n",
            "\n",
            "Non-Zero Gradients (calculated, tolerance E-5):\n",
            "Operator 8: 0.3608964040523989\n",
            "Operator 9: 0.3608964040523989\n",
            "Operator 10: 0.3608964040523989\n",
            "Operator 11: 0.3608964040523989\n",
            "Operator 12: 0.3608964040523989\n",
            "Operator 13: 0.3608964040523989\n",
            "Operator 14: 0.3608964040523989\n",
            "Operator 15: 0.3608964040523989\n",
            "Total gradient norm: 1.020769178445166\n",
            "Selected: 1j [X0 X1 Y2 X3], index 8\n",
            "(gradient: 0.3608964040523989)\n",
            "\n",
            "Optimizing energy with indices [8]...\n"
          ]
        },
        {
          "output_type": "stream",
          "name": "stderr",
          "text": [
            "/usr/local/lib/python3.7/dist-packages/qiskit/utils/deprecation.py:62: DeprecationWarning: Using a qobj for run() is deprecated as of qiskit-aer 0.9.0 and will be removed no sooner than 3 months from that release date. Transpiled circuits should now be passed directly using `backend.run(circuits, **run_options).\n",
            "  return func(*args, **kwargs)\n"
          ]
        },
        {
          "output_type": "stream",
          "name": "stdout",
          "text": [
            "Number of function evaluations: 16\n",
            "Optimized energy:  -1.135226863371902\n",
            "Optimized coefficients:  [0.0751]\n",
            "Energy Change:  -0.01791831476342831\n",
            "Performance ratio:  0.04964946882880754\n",
            "\n",
            "Current average performance ratio:  0.04964946882880754\n",
            "Current 10-last average performance ratio:  0.04964946882880754\n",
            "Current average performance ratio of the ansatz:  0.04964946882880754\n",
            "Current ansatz: [1j [X0 X1 Y2 X3]]\n",
            "\n",
            "Energy Changes Associated with the Indices: [-0.01791831476342831]\n",
            "Performances Associated with the Indices:  [0.04964946882880754]\n",
            "\n",
            "The maximum number of iterations (1) was hit before the convergence criterion was satisfied.\n",
            "(current gradient norm is 1.020769178445166 > 0.15)\n"
          ]
        }
      ]
    },
    {
      "cell_type": "markdown",
      "metadata": {
        "id": "0Pi0etoLuI2J"
      },
      "source": [
        "## Plots"
      ]
    },
    {
      "cell_type": "markdown",
      "metadata": {
        "id": "akVKcq-uuMSx"
      },
      "source": [
        "### Single Run"
      ]
    },
    {
      "cell_type": "code",
      "metadata": {
        "colab": {
          "base_uri": "https://localhost:8080/",
          "height": 528
        },
        "id": "Q_F1ZYg0foje",
        "outputId": "3f0b3d47-f4b8-442a-9d0d-ced8d04e586c"
      },
      "source": [
        "data.plot()"
      ],
      "execution_count": null,
      "outputs": [
        {
          "output_type": "display_data",
          "data": {
            "image/png": "[encoded data removed]",
            "text/plain": [
              "<Figure size 576x576 with 2 Axes>"
            ]
          },
          "metadata": {
            "needs_background": "light"
          }
        }
      ]
    },
    {
      "cell_type": "markdown",
      "metadata": {
        "id": "6jdU12YP5NNh"
      },
      "source": [
        "### Single Iteration"
      ]
    },
    {
      "cell_type": "code",
      "metadata": {
        "colab": {
          "resources": {
            "http://localhost:8080/nbextensions/google.colab/files.js": {
              "data": "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",
              "headers": [
                [
                  "content-type",
                  "application/javascript"
                ]
              ],
              "ok": true,
              "status": 200,
              "status_text": ""
            }
          },
          "base_uri": "https://localhost:8080/",
          "height": 90
        },
        "id": "NdgTJOD0gpYg",
        "outputId": "53dbdfb7-9a89-4cc3-8a10-e47ee133fe26"
      },
      "source": [
        "# Upload evolution dict from computer\n",
        "\n",
        "uploaded = files.upload()\n",
        "\n",
        "for fn in uploaded.keys():\n",
        "  print('User uploaded file \"{name}\" with length {length} bytes'.format(\n",
        "      name=fn, length=len(uploaded[fn])))\n",
        "  \n",
        "myFile = open(fn, \"rb\")\n",
        "evolution = pickle.load(myFile)"
      ],
      "execution_count": null,
      "outputs": [
        {
          "output_type": "display_data",
          "data": {
            "text/html": [
              "\n",
              "     <input type=\"file\" id=\"files-89a12db8-1791-4f41-b52c-ca1acf128c3f\" name=\"files[]\" multiple disabled\n",
              "        style=\"border:none\" />\n",
              "     <output id=\"result-89a12db8-1791-4f41-b52c-ca1acf128c3f\">\n",
              "      Upload widget is only available when the cell has been executed in the\n",
              "      current browser session. Please rerun this cell to enable.\n",
              "      </output>\n",
              "      <script src=\"/nbextensions/google.colab/files.js\"></script> "
            ],
            "text/plain": [
              "<IPython.core.display.HTML object>"
            ]
          },
          "metadata": {
            "tags": []
          }
        },
        {
          "output_type": "stream",
          "text": [
            "Saving H2_ibmq_belem_iteration1 (1).pkl to H2_ibmq_belem_iteration1 (1) (3).pkl\n",
            "User uploaded file \"H2_ibmq_belem_iteration1 (1).pkl\" with length 1396 bytes\n"
          ],
          "name": "stdout"
        }
      ]
    },
    {
      "cell_type": "code",
      "metadata": {
        "id": "_OT3Z7hY6h_W"
      },
      "source": [
        "# Use last run\n",
        "\n",
        "evolution = myAdapt.optEvolution"
      ],
      "execution_count": null,
      "outputs": []
    },
    {
      "cell_type": "code",
      "metadata": {
        "colab": {
          "base_uri": "https://localhost:8080/",
          "height": 528
        },
        "id": "Eo5pgrRhmOhE",
        "outputId": "5fff53f2-3cff-453c-c601-ff6dec71c9d8"
      },
      "source": [
        "nfev = evolution[\"nfev\"][-1]\n",
        "energies = []\n",
        "for i in range(nfev):\n",
        "  optimizedCoefficients = list(evolution[\"parameters\"][i])\n",
        "  energy = myAdapt.calculateEnergy(optimizedCoefficients,data.result[\"indices\"])\n",
        "  energies.append(energy)\n",
        "\n",
        "fig, ax1 = plt.subplots(figsize=[8,8])\n",
        "\n",
        "nfev = evolution[\"nfev\"][-1]\n",
        "\n",
        "title = \"Adapt-VQE Iteration 1: Evolution of the Optimization\\n{}, \".format(name)\n",
        "\n",
        "if backend.name() == \"statevector_simulator\":\n",
        "  backendName = \"Aer State Vector Simulator\"\n",
        "\n",
        "elif backend.name() == \"qasm_simulator\":\n",
        "  backendName = \"Aer QASM Simulator\"\n",
        "\n",
        "else:\n",
        "  backendName = backend.name()\n",
        "\n",
        "if backendName != \"Aer State Vector Simulator\":\n",
        "  title += \"{} shots, \".format(myAdapt.shots)\n",
        "title += \"{}\".format(backendName)\n",
        "\n",
        "ax1.set_title(title)\n",
        "\n",
        "color1 = 'b'\n",
        "ax1.plot(range(nfev), energies, '--o', color = color1)\n",
        "ax1.set_xlabel(\"Optimization Iteration\")\n",
        "ax1.set_ylabel(\"Energy (au)\")\n",
        "\n",
        "# UCCSD graph scale\n",
        "#ax1.set_ylim(-1.15,-0.05)\n",
        "\n",
        "minAccuracy = exactEnergy - chemicalAccuracy\n",
        "maxAccuracy = exactEnergy + chemicalAccuracy\n",
        "l = ax1.axhspan(minAccuracy, maxAccuracy, alpha=0.3, color = 'cornflowerblue')\n",
        "\n",
        "plt.axhline(y = exactEnergy, color = 'cornflowerblue' , linestyle = '-')"
      ],
      "execution_count": null,
      "outputs": [
        {
          "output_type": "display_data",
          "data": {
            "image/png": "[encoded data removed]",
            "text/plain": [
              "<Figure size 576x576 with 1 Axes>"
            ]
          },
          "metadata": {
            "tags": []
          }
        }
      ]
    },
    {
      "cell_type": "markdown",
      "metadata": {
        "id": "G4YMazt8qjAb"
      },
      "source": [
        "### Bond Dissociation Graph"
      ]
    },
    {
      "cell_type": "code",
      "metadata": {
        "id": "rya5kzUbqiNN"
      },
      "source": [
        "%%capture\n",
        "\n",
        "backend = Aer.get_backend('qasm_simulator')\n",
        "#backend = Aer.get_backend('statevector_simulator')\n",
        "shots = 2**13\n",
        "zoom = True\n",
        "name = molecule.description\n",
        "\n",
        "threshold = 2.5*10**(-1)\n",
        "adaptEnergies = []\n",
        "exactEnergies = []\n",
        "hfEnergies = []\n",
        "\n",
        "\n",
        "if zoom:\n",
        "\n",
        "  if name == \"H2\":\n",
        "    start = 0.3\n",
        "    stop = 0.45\n",
        "    points = 20\n",
        "  \n",
        "  if name == \"H4\":\n",
        "    start = 0.7\n",
        "    stop = 1\n",
        "    points = 20\n",
        "\n",
        "else:\n",
        "\n",
        "  if name == \"H2\":\n",
        "    start = 0.1\n",
        "    stop = 1.1\n",
        "    points = 50\n",
        "\n",
        "  if name == \"H4\":\n",
        "    start = 0.25\n",
        "    stop = 2.0\n",
        "    points = 50\n",
        "\n",
        "rList = np.linspace(start,stop,points)\n",
        "\n",
        "for r in rList:\n",
        "\n",
        "  if name == \"H2\":\n",
        "    geometry = [['H',[0,0,0]],['H',[0,0,2*r]]]\n",
        "    basis = 'sto-3g'\n",
        "    multiplicity = 1\n",
        "    charge = 0\n",
        "    h2 = MolecularData(geometry,basis,multiplicity,charge,description='H2')\n",
        "    molecule = run_pyscf(h2,run_fci = True,run_ccsd = True)\n",
        "\n",
        "  if name == \"H4\":\n",
        "    geometry = [('H', (0,0,0)), ('H', (0,0,2*r)), ('H', (0,0,4*r)), \n",
        "                ('H', (0,0,6*r))]\n",
        "    basis = 'sto-3g'\n",
        "    multiplicity = 1\n",
        "    charge = 0\n",
        "    h4 = MolecularData(geometry,basis,multiplicity,charge,description='H4')\n",
        "    molecule = run_pyscf(h4,run_fci = True,run_ccsd = True)\n",
        "\n",
        "  qinstance = QuantumInstance(backend, \n",
        "                              shots = shots)\n",
        "\n",
        "  myAdapt = AdaptVQE(qubitPool,\n",
        "                    molecule,\n",
        "                    qinstance = qinstance,\n",
        "                    verbose = False,\n",
        "                    threshold = threshold,\n",
        "                    maxIterations = 1,\n",
        "                    shots = shots,\n",
        "                    referenceDeterminant = None\n",
        "                    )\n",
        "  \n",
        "  myAdapt.prepare()\n",
        "  myAdapt.run()\n",
        "  data = myAdapt.data\n",
        "\n",
        "  hfEnergies.append(data.initialEnergy)\n",
        "  exactEnergies.append(molecule.fci_energy)\n",
        "  adaptEnergies.append(data.result[\"energy\"])"
      ],
      "execution_count": null,
      "outputs": []
    },
    {
      "cell_type": "code",
      "metadata": {
        "colab": {
          "base_uri": "https://localhost:8080/",
          "height": 546
        },
        "id": "bWt2u6klqd9d",
        "outputId": "893afcef-2247-4af6-f42a-d1d4a9786711"
      },
      "source": [
        "if backend.name() == \"statevector_simulator\":\n",
        "  backendName = \"Aer State Vector Simulator\"\n",
        "\n",
        "elif backend.name() == \"qasm_simulator\":\n",
        "  backendName = \"Aer QASM Simulator\"\n",
        "\n",
        "else:\n",
        "  backendName = backend.name()\n",
        "\n",
        "# Change this to plot only part of the data\n",
        "start = 0\n",
        "stop = len(rList)\n",
        "\n",
        "minEnergies = [energy - chemicalAccuracy for energy in exactEnergies][start:stop]\n",
        "maxEnergies = [energy + chemicalAccuracy for energy in exactEnergies][start:stop]\n",
        "\n",
        "fig = plt.subplots(figsize = [8,8])\n",
        "\n",
        "plt.plot(rList[start:stop],hfEnergies[start:stop],color = 'g',label = 'Hartree Fock Ground Energy')\n",
        "plt.plot(rList[start:stop],adaptEnergies[start:stop],'o',color = 'b',label = 'ADAPT-VQE Ground Energy')\n",
        "plt.plot(rList[start:stop],exactEnergies[start:stop],color = 'r',label = 'Exact Diagonalization Energy')\n",
        "plt.fill_between(rList[start:stop],minEnergies,maxEnergies,color='cornflowerblue',alpha=0.3)\n",
        "\n",
        "plt.ylabel(\"Energy (au)\")\n",
        "plt.xlabel(\"Interatomic Distance (Å)\")\n",
        "\n",
        "title = f\"ADAPT-VQE for {name}\\n\"\n",
        "if backendName != \"Aer State Vector Simulator\":\n",
        "  title += \"{} shots, \".format(shots)\n",
        "title += \"{}\".format(backendName,threshold)\n",
        "\n",
        "plt.title(title)\n",
        "plt.legend()"
      ],
      "execution_count": null,
      "outputs": [
        {
          "output_type": "execute_result",
          "data": {
            "text/plain": [
              "<matplotlib.legend.Legend at 0x7f861e811b10>"
            ]
          },
          "metadata": {},
          "execution_count": 116
        },
        {
          "output_type": "display_data",
          "data": {
            "image/png": "[encoded data removed]",
            "text/plain": [
              "<Figure size 576x576 with 1 Axes>"
            ]
          },
          "metadata": {
            "needs_background": "light"
          }
        }
      ]
    },
    {
      "cell_type": "markdown",
      "metadata": {
        "id": "ynxE6UzTFPMJ"
      },
      "source": [
        "### Error Along Bond Dissociation Graph"
      ]
    },
    {
      "cell_type": "markdown",
      "metadata": {
        "id": "-aYzcwZ0G2jQ"
      },
      "source": [
        "Calculate error along bond dissociation graph for H2, along with the number of shots per run per interatomic distance."
      ]
    },
    {
      "cell_type": "code",
      "metadata": {
        "colab": {
          "base_uri": "https://localhost:8080/"
        },
        "id": "_53kGXrpuQXz",
        "outputId": "dcb519c8-f90d-4fbc-f87f-f3719ae103ca"
      },
      "source": [
        "# Obtain number of Pauli strings in the Hamiltonian\n",
        "\n",
        "hamiltonian = molecule.get_molecular_hamiltonian()\n",
        "qubitHamiltonian = jordan_wigner(hamiltonian)\n",
        "\n",
        "qHamiltonianOps = list(qubitHamiltonian.get_operators())\n",
        "\n",
        "# Create list of Pauli strings in Hamiltonian\n",
        "hamiltonianStrings = []\n",
        "\n",
        "for term in qubitHamiltonian.get_operators():\n",
        "\n",
        "  pauliString = list(term.terms.keys())[0]\n",
        "  hamiltonianStrings.append(pauliString)\n",
        "\n",
        "\n",
        "# Get total number of Pauli strings in the Hamiltonian.\n",
        "# Exclude identity (does not imply measurements)\n",
        "hamiltonianStringCount = len(hamiltonianStrings)-1\n",
        "print(hamiltonianStringCount)"
      ],
      "execution_count": null,
      "outputs": [
        {
          "output_type": "stream",
          "name": "stdout",
          "text": [
            "14\n"
          ]
        }
      ]
    },
    {
      "cell_type": "code",
      "metadata": {
        "colab": {
          "base_uri": "https://localhost:8080/"
        },
        "id": "1OtByCdPvY2R",
        "outputId": "06e19bb9-5d10-40d0-89d2-d0d4b7a0f961"
      },
      "source": [
        "# Get total number of Pauli strings in the observables [H,A], that are measured\n",
        "#to evaluate the gradients.\n",
        "# If strings are repeated between the Hamiltonian and the operators [H,A], \n",
        "#one can recycle measurements. Each string should be included only once in the\n",
        "#total shot count calculations.\n",
        "\n",
        "poolMeasStrings = []\n",
        "totalStrings = 0\n",
        "\n",
        "for operator in qubitPool:\n",
        "\n",
        "  observable = qubitHamiltonian*operator - operator*qubitHamiltonian\n",
        "\n",
        "  for term in observable.get_operators():\n",
        "    pauliString = list(term.terms.keys())[0]\n",
        "    totalStrings += 1\n",
        "\n",
        "    if pauliString not in poolMeasStrings \\\n",
        "    and pauliString not in hamiltonianStrings:\n",
        "      poolMeasStrings.append(pauliString)\n",
        "\n",
        "gradientsStringCount = len(poolMeasStrings)\n",
        "\n",
        "print(\"Strings that need to be measured to evaluate the gradients\"\n",
        "      \" each iteration: \", gradientsStringCount)\n",
        "print(\"Total number of strings in the observables (including repeats): \"\n",
        "      ,totalStrings)"
      ],
      "execution_count": null,
      "outputs": [
        {
          "output_type": "stream",
          "name": "stdout",
          "text": [
            "Strings that need to be measured to evaluate the gradients each iteration:  24\n",
            "Total number of strings in the observables (including repeats):  152\n"
          ]
        }
      ]
    },
    {
      "cell_type": "code",
      "metadata": {
        "id": "Eyls7GtYF39y"
      },
      "source": [
        "%%capture\n",
        "\n",
        "# Number of runs over which to take the median and IQR for each point\n",
        "runs = 10\n",
        "\n",
        "# Circuit repetitions\n",
        "shots = int(2**13/1.35)\n",
        "shots = int(2**13)\n",
        "\n",
        "medianEnergies = []\n",
        "exactEnergies = []\n",
        "totalShots = []\n",
        "nfevList = []\n",
        "numberMeasuredObs = []\n",
        "\n",
        "backend = Aer.get_backend('qasm_simulator')\n",
        "\n",
        "zoom = True\n",
        "\n",
        "if zoom:\n",
        "  start = 0.3\n",
        "  stop = 0.4\n",
        "  points = 10\n",
        "\n",
        "else:\n",
        "  start = 0.1\n",
        "  stop = 1.1\n",
        "  points = 50\n",
        "  points = 50\n",
        "\n",
        "rList = np.linspace(start,stop,points)\n",
        "\n",
        "for r in rList:\n",
        "  \n",
        "  geometry = [['H',[0,0,0]],['H',[0,0,2*r]]]\n",
        "  name = \"H2\"\n",
        "  basis = 'sto-3g'\n",
        "  multiplicity = 1\n",
        "  charge = 0\n",
        "  h2 = MolecularData(geometry,basis,multiplicity,charge,description='H2')\n",
        "  molecule = run_pyscf(h2,run_fci = True,run_ccsd = True)\n",
        "\n",
        "  finalEnergies = []\n",
        "  nfevs = []\n",
        "\n",
        "  for _ in range(runs):\n",
        "\n",
        "    qinstance = QuantumInstance(backend, \n",
        "                                shots = shots)\n",
        "\n",
        "    myAdapt = AdaptVQE(qubitPool,\n",
        "                      molecule,\n",
        "                      qinstance = qinstance,\n",
        "                      verbose = False,\n",
        "                      maxIterations = 1,\n",
        "                      shots = shots,\n",
        "                      referenceDeterminant = None\n",
        "                      )\n",
        "  \n",
        "    myAdapt.prepare()\n",
        "    myAdapt.run()\n",
        "    data = myAdapt.data\n",
        "\n",
        "    finalEnergies.append(data.result[\"energy\"])\n",
        "\n",
        "    nfev = myAdapt.optEvolution['nfev'][-1]\n",
        "    nfevs.append(nfev)\n",
        "\n",
        "  exactEnergies.append(molecule.fci_energy)\n",
        "\n",
        "  median = np.median(finalEnergies)\n",
        "  medianEnergies.append(median)\n",
        "\n",
        "  # Calculate average number of function evaluations for this interatomic distance\n",
        "  nfev = np.average(nfevs)\n",
        "\n",
        "  # Append average number of function evaluations for this interatomic distance\n",
        "  nfevList.append(nfev)\n",
        "\n",
        "  # Total number of measured observables\n",
        "  # = # energy evaluations (nfev) + # operators in pool\n",
        "  # only 1 iteration here\n",
        "  measuredObservables = nfev + len(qubitPool)\n",
        "\n",
        "  numberMeasuredObs.append(measuredObservables)\n",
        "\n",
        "  # # shots to evaluate the energy =\n",
        "  # (# energy evaluations) * (# strings in Hamiltonian) * (# shots per string)\n",
        "  # Only one iteration here, so only one nfev\n",
        "  energyShots = nfev * hamiltonianStringCount * shots\n",
        "\n",
        "  # # shots to evaluate the gradients = (# different strings) * (# shots)\n",
        "  # Again, only one iteration. Would come multiplied by #iter otherwise\n",
        "  gradientShots = gradientsStringCount * shots\n",
        "  \n",
        "  # Add total number of shots used in obtaining the energy for this interatomic\n",
        "  #distance\n",
        "  totalShots.append(energyShots + gradientShots)"
      ],
      "execution_count": null,
      "outputs": []
    },
    {
      "cell_type": "code",
      "metadata": {
        "colab": {
          "base_uri": "https://localhost:8080/",
          "height": 546
        },
        "id": "ke3107Fc53Tk",
        "outputId": "e5c6eeb8-ea76-4148-9e99-3e04fab3f89b"
      },
      "source": [
        "# Change this to plot only part of the data\n",
        "start = 0\n",
        "stop = len(rList)\n",
        "\n",
        "adaptErrors = [np.abs(medianEnergy - energy) for (medianEnergy, energy) in \\\n",
        "               zip(medianEnergies, exactEnergies)][start:stop]\n",
        "\n",
        "fig, ax1 = plt.subplots(figsize = [8,8])\n",
        "\n",
        "ax1.plot(rList[start:stop], \n",
        "        adaptErrors[start:stop], \n",
        "        '--o',\n",
        "        color = 'b')\n",
        "\n",
        "l = ax1.axhspan(0, chemicalAccuracy, alpha=0.3, color = 'cornflowerblue')\n",
        "\n",
        "ax1.set_ylabel(\"Error (au)\")\n",
        "ax1.set_xlabel(\"Interatomic Distance (Å)\")\n",
        "\n",
        "title = f\"ADAPT-VQE: Error in the Energy\\n\"\n",
        "title += \"{} shots, {}\".format(shots,name)\n",
        "\n",
        "ax1.set_title(title)"
      ],
      "execution_count": null,
      "outputs": [
        {
          "output_type": "execute_result",
          "data": {
            "text/plain": [
              "Text(0.5, 1.0, 'ADAPT-VQE: Error in the Energy\\n8192 shots, H2')"
            ]
          },
          "metadata": {},
          "execution_count": 37
        },
        {
          "output_type": "display_data",
          "data": {
            "image/png": "[encoded data removed]",
            "text/plain": [
              "<Figure size 576x576 with 1 Axes>"
            ]
          },
          "metadata": {
            "needs_background": "light"
          }
        }
      ]
    },
    {
      "cell_type": "code",
      "metadata": {
        "colab": {
          "base_uri": "https://localhost:8080/",
          "height": 546
        },
        "id": "_yUzNA_SDwj2",
        "outputId": "480b1fdb-bf24-427d-c3d7-87e890a46e39"
      },
      "source": [
        "# Plot average total number of measured observables per run\n",
        "\n",
        "# Change this to plot only part of the data\n",
        "start = 0\n",
        "stop = len(rList)\n",
        "\n",
        "fig, ax1 = plt.subplots(figsize = [8,8])\n",
        "\n",
        "ax1.plot(rList[start:stop], \n",
        "        numberMeasuredObs[start:stop], \n",
        "        '--o',\n",
        "        color = 'b')\n",
        "\n",
        "ax1.set_ylabel(\"Average Number of Measured Observables (total per run)\")\n",
        "ax1.set_xlabel(\"Interatomic Distance (Å)\")\n",
        "\n",
        "title = f\"ADAPT-VQE: Measured Observables\\n\"\n",
        "title += \"{} shots, {}\".format(shots,name)\n",
        "\n",
        "ax1.set_title(title)"
      ],
      "execution_count": null,
      "outputs": [
        {
          "output_type": "execute_result",
          "data": {
            "text/plain": [
              "Text(0.5, 1.0, 'ADAPT-VQE: Measured Observables\\n8192 shots, H2')"
            ]
          },
          "metadata": {},
          "execution_count": 38
        },
        {
          "output_type": "display_data",
          "data": {
            "image/png": "[encoded data removed]",
            "text/plain": [
              "<Figure size 576x576 with 1 Axes>"
            ]
          },
          "metadata": {
            "needs_background": "light"
          }
        }
      ]
    },
    {
      "cell_type": "code",
      "metadata": {
        "colab": {
          "base_uri": "https://localhost:8080/",
          "height": 546
        },
        "id": "UUeE108fD_Vx",
        "outputId": "c4a4bff0-7d13-44ee-f8fe-cf72d19ac8ca"
      },
      "source": [
        "# Plot average total number of shots per run\n",
        "\n",
        "# Change this to plot only part of the data\n",
        "start = 0\n",
        "stop = len(rList)\n",
        "\n",
        "fig, ax1 = plt.subplots(figsize = [8,8])\n",
        "\n",
        "ax1.plot(rList[start:stop], \n",
        "        totalShots[start:stop], \n",
        "        '--o',\n",
        "        color = 'b')\n",
        "\n",
        "ax1.set_ylabel(\"Average Number of Shots (total per run)\")\n",
        "ax1.set_xlabel(\"Interatomic Distance (Å)\")\n",
        "\n",
        "title = f\"ADAPT-VQE: Number of Shots\\n\"\n",
        "title += \"{} shots, {}\".format(shots,name)\n",
        "\n",
        "ax1.set_title(title)"
      ],
      "execution_count": null,
      "outputs": [
        {
          "output_type": "execute_result",
          "data": {
            "text/plain": [
              "Text(0.5, 1.0, 'ADAPT-VQE: Number of Shots\\n8192 shots, H2')"
            ]
          },
          "metadata": {},
          "execution_count": 39
        },
        {
          "output_type": "display_data",
          "data": {
            "image/png": "[encoded data removed]",
            "text/plain": [
              "<Figure size 576x576 with 1 Axes>"
            ]
          },
          "metadata": {
            "needs_background": "light"
          }
        }
      ]
    },
    {
      "cell_type": "code",
      "metadata": {
        "colab": {
          "base_uri": "https://localhost:8080/",
          "height": 546
        },
        "id": "YIRhtXJCE3XQ",
        "outputId": "c7ef4a00-376a-4ab2-f3fc-d3caca1b5207"
      },
      "source": [
        "# Plot average total number of function evaluations per run\n",
        "\n",
        "# Change this to plot only part of the data\n",
        "start = 0\n",
        "stop = len(rList)\n",
        "\n",
        "fig, ax1 = plt.subplots(figsize = [8,8])\n",
        "\n",
        "ax1.plot(rList[start:stop], \n",
        "        nfevList[start:stop], \n",
        "        '--o',\n",
        "        color = 'b')\n",
        "\n",
        "ax1.set_ylabel(\"Average Number of Energy Evaluations (total per run)\")\n",
        "ax1.set_xlabel(\"Interatomic Distance (Å)\")\n",
        "\n",
        "title = f\"ADAPT-VQE: Energy Evaluations\\n\"\n",
        "title += \"{} shots, {}\".format(shots,name)\n",
        "\n",
        "ax1.set_title(title)"
      ],
      "execution_count": null,
      "outputs": [
        {
          "output_type": "execute_result",
          "data": {
            "text/plain": [
              "Text(0.5, 1.0, 'ADAPT-VQE: Energy Evaluations\\n8192 shots, H2')"
            ]
          },
          "metadata": {},
          "execution_count": 40
        },
        {
          "output_type": "display_data",
          "data": {
            "image/png": "[encoded data removed]",
            "text/plain": [
              "<Figure size 576x576 with 1 Axes>"
            ]
          },
          "metadata": {
            "needs_background": "light"
          }
        }
      ]
    },
    {
      "cell_type": "code",
      "metadata": {
        "colab": {
          "base_uri": "https://localhost:8080/"
        },
        "id": "63ftFvGI0Zh4",
        "outputId": "00bbb991-b4fd-436d-967b-8cec55fce587"
      },
      "source": [
        "print(np.average(adaptErrors))"
      ],
      "execution_count": null,
      "outputs": [
        {
          "output_type": "stream",
          "name": "stdout",
          "text": [
            "0.00038212834726167875\n"
          ]
        }
      ]
    },
    {
      "cell_type": "code",
      "metadata": {
        "colab": {
          "base_uri": "https://localhost:8080/",
          "height": 17
        },
        "id": "YTmxFlhoHYU-",
        "outputId": "3e17b32a-291e-4f5f-c458-2eea96c84005"
      },
      "source": [
        "fileName = \"adapt_analysis2.pkl\"\n",
        "data = (totalShots, nfevList, adaptErrors, numberMeasuredObs)\n",
        "\n",
        "myFile = open(fileName, \"wb\")\n",
        "pickle.dump(data, myFile)\n",
        "myFile.close()\n",
        "\n",
        "files.download(fileName) "
      ],
      "execution_count": null,
      "outputs": [
        {
          "output_type": "display_data",
          "data": {
            "application/javascript": [
              "\n",
              "    async function download(id, filename, size) {\n",
              "      if (!google.colab.kernel.accessAllowed) {\n",
              "        return;\n",
              "      }\n",
              "      const div = document.createElement('div');\n",
              "      const label = document.createElement('label');\n",
              "      label.textContent = `Downloading \"${filename}\": `;\n",
              "      div.appendChild(label);\n",
              "      const progress = document.createElement('progress');\n",
              "      progress.max = size;\n",
              "      div.appendChild(progress);\n",
              "      document.body.appendChild(div);\n",
              "\n",
              "      const buffers = [];\n",
              "      let downloaded = 0;\n",
              "\n",
              "      const channel = await google.colab.kernel.comms.open(id);\n",
              "      // Send a message to notify the kernel that we're ready.\n",
              "      channel.send({})\n",
              "\n",
              "      for await (const message of channel.messages) {\n",
              "        // Send a message to notify the kernel that we're ready.\n",
              "        channel.send({})\n",
              "        if (message.buffers) {\n",
              "          for (const buffer of message.buffers) {\n",
              "            buffers.push(buffer);\n",
              "            downloaded += buffer.byteLength;\n",
              "            progress.value = downloaded;\n",
              "          }\n",
              "        }\n",
              "      }\n",
              "      const blob = new Blob(buffers, {type: 'application/binary'});\n",
              "      const a = document.createElement('a');\n",
              "      a.href = window.URL.createObjectURL(blob);\n",
              "      a.download = filename;\n",
              "      div.appendChild(a);\n",
              "      a.click();\n",
              "      div.remove();\n",
              "    }\n",
              "  "
            ],
            "text/plain": [
              "<IPython.core.display.Javascript object>"
            ]
          },
          "metadata": {}
        },
        {
          "output_type": "display_data",
          "data": {
            "application/javascript": [
              "download(\"download_eee9602c-78a3-4931-8bc2-517252c4db75\", \"adapt_analysis2.pkl\", 997)"
            ],
            "text/plain": [
              "<IPython.core.display.Javascript object>"
            ]
          },
          "metadata": {}
        }
      ]
    },
    {
      "cell_type": "code",
      "metadata": {
        "colab": {
          "resources": {
            "http://localhost:8080/nbextensions/google.colab/files.js": {
              "data": "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",
              "ok": true,
              "headers": [
                [
                  "content-type",
                  "application/javascript"
                ]
              ],
              "status": 200,
              "status_text": ""
            }
          },
          "base_uri": "https://localhost:8080/",
          "height": 90
        },
        "id": "lEBCA4Fz1ZBd",
        "outputId": "37bf7862-e86f-465c-df05-43eb8a1508bc"
      },
      "source": [
        "# Upload from computer\n",
        "uploaded = files.upload()\n",
        "\n",
        "for fn in uploaded.keys():\n",
        "  print('User uploaded file \"{name}\" with length {length} bytes'.format(\n",
        "      name=fn, length=len(uploaded[fn])))\n",
        "  \n",
        "myFile = open(fn, \"rb\")\n",
        "(uccsdtotalShots, uccsdnfevList, uccsdErrors, uccsdnumberMeasuredObs) = pickle.load(myFile)"
      ],
      "execution_count": null,
      "outputs": [
        {
          "output_type": "display_data",
          "data": {
            "text/html": [
              "\n",
              "     <input type=\"file\" id=\"files-03c5a41c-263f-4a4c-b880-2e9642d75207\" name=\"files[]\" multiple disabled\n",
              "        style=\"border:none\" />\n",
              "     <output id=\"result-03c5a41c-263f-4a4c-b880-2e9642d75207\">\n",
              "      Upload widget is only available when the cell has been executed in the\n",
              "      current browser session. Please rerun this cell to enable.\n",
              "      </output>\n",
              "      <script src=\"/nbextensions/google.colab/files.js\"></script> "
            ],
            "text/plain": [
              "<IPython.core.display.HTML object>"
            ]
          },
          "metadata": {}
        },
        {
          "output_type": "stream",
          "name": "stdout",
          "text": [
            "Saving adapt_analysis.pkl to adapt_analysis.pkl\n",
            "User uploaded file \"adapt_analysis.pkl\" with length 997 bytes\n"
          ]
        }
      ]
    },
    {
      "cell_type": "code",
      "metadata": {
        "colab": {
          "base_uri": "https://localhost:8080/",
          "height": 531
        },
        "id": "6jAwZ4ax1p1N",
        "outputId": "826129b1-872c-481b-8ae7-13a7fd64478c"
      },
      "source": [
        "# Change this to plot only part of the data\n",
        "start = 0\n",
        "stop = len(rList)\n",
        "\n",
        "adaptErrors = [np.abs(medianEnergy - energy) for (medianEnergy, energy) in \\\n",
        "               zip(medianEnergies, exactEnergies)][start:stop]\n",
        "\n",
        "fig, ax1 = plt.subplots(figsize = [8,8])\n",
        "\n",
        "ax1.plot(rList[start:stop], \n",
        "        adaptErrors[start:stop], \n",
        "        '--o',\n",
        "        color = 'b',\n",
        "        label = \"ADAPT-VQE\")\n",
        "\n",
        "ax1.plot(rList[start:stop], \n",
        "        uccsdErrors[start:stop], \n",
        "        '--o',\n",
        "        color = 'orange',\n",
        "        label = \"UCCSD-VQE\")\n",
        "\n",
        "ax1.legend()\n",
        "\n",
        "l = ax1.axhspan(0, chemicalAccuracy, alpha=0.3, color = 'cornflowerblue')\n",
        "\n",
        "ax1.set_ylabel(\"Error (au)\")\n",
        "ax1.set_xlabel(\"Interatomic Distance (Å)\")\n",
        "\n",
        "title = f\"UCCSD-VQE vs ADAPT-VQE: Error in the Energy ({name})\"\n",
        "\n",
        "ax1.set_title(title)"
      ],
      "execution_count": null,
      "outputs": [
        {
          "output_type": "execute_result",
          "data": {
            "text/plain": [
              "Text(0.5, 1.0, 'UCCSD-VQE vs ADAPT-VQE: Error in the Energy (H2)')"
            ]
          },
          "metadata": {},
          "execution_count": 48
        },
        {
          "output_type": "display_data",
          "data": {
            "image/png": "[encoded data removed]",
            "text/plain": [
              "<Figure size 576x576 with 1 Axes>"
            ]
          },
          "metadata": {
            "needs_background": "light"
          }
        }
      ]
    },
    {
      "cell_type": "code",
      "metadata": {
        "colab": {
          "base_uri": "https://localhost:8080/",
          "height": 531
        },
        "id": "Yfsdkt2k1p1Q",
        "outputId": "91c22189-ef9a-4795-9d28-04c5dc90ada4"
      },
      "source": [
        "# Plot average total number of measured observables per run\n",
        "\n",
        "# Change this to plot only part of the data\n",
        "start = 0\n",
        "stop = len(rList)\n",
        "\n",
        "fig, ax1 = plt.subplots(figsize = [8,8])\n",
        "\n",
        "ax1.plot(rList[start:stop], \n",
        "        numberMeasuredObs[start:stop], \n",
        "        '--o',\n",
        "        color = 'b',\n",
        "        label = \"ADAPT-VQE\")\n",
        "\n",
        "ax1.plot(rList[start:stop], \n",
        "        uccsdnumberMeasuredObs[start:stop], \n",
        "        '--o',\n",
        "        color = 'orange',\n",
        "        label = \"UCCSD-VQE\")\n",
        "\n",
        "ax1.legend()\n",
        "\n",
        "ax1.set_ylabel(\"Average Number of Measured Observables (total per run)\")\n",
        "ax1.set_xlabel(\"Interatomic Distance (Å)\")\n",
        "\n",
        "title = f\"UCCSD-VQE vs ADAPT-VQE: Measured Observables ({name})\"\n",
        "\n",
        "ax1.set_title(title)"
      ],
      "execution_count": null,
      "outputs": [
        {
          "output_type": "execute_result",
          "data": {
            "text/plain": [
              "Text(0.5, 1.0, 'UCCSD-VQE vs ADAPT-VQE: Measured Observables (H2)')"
            ]
          },
          "metadata": {},
          "execution_count": 52
        },
        {
          "output_type": "display_data",
          "data": {
            "image/png": "[encoded data removed]",
            "text/plain": [
              "<Figure size 576x576 with 1 Axes>"
            ]
          },
          "metadata": {
            "needs_background": "light"
          }
        }
      ]
    },
    {
      "cell_type": "code",
      "metadata": {
        "colab": {
          "base_uri": "https://localhost:8080/",
          "height": 531
        },
        "id": "c-SLOG-M1p1Q",
        "outputId": "0f24bfb8-b28a-4007-dd84-e21570c554d9"
      },
      "source": [
        "# Plot average total number of shots per run\n",
        "\n",
        "# Change this to plot only part of the data\n",
        "start = 0\n",
        "stop = len(rList)\n",
        "\n",
        "fig, ax1 = plt.subplots(figsize = [8,8])\n",
        "\n",
        "ax1.plot(rList[start:stop], \n",
        "        totalShots[start:stop], \n",
        "        '--o',\n",
        "        color = 'b',\n",
        "        label = \"ADAPT-VQE\")\n",
        "\n",
        "ax1.plot(rList[start:stop], \n",
        "        uccsdtotalShots[start:stop], \n",
        "        '--o',\n",
        "        color = 'orange',\n",
        "        label = \"UCCSD-VQE\")\n",
        "\n",
        "ax1.legend()\n",
        "\n",
        "ax1.set_ylabel(\"Average Number of Shots (total per run)\")\n",
        "ax1.set_xlabel(\"Interatomic Distance (Å)\")\n",
        "\n",
        "title = f\"UCCSD-VQE vs ADAPT-VQE: Number of Shots ({name})\"\n",
        "\n",
        "ax1.set_title(title)"
      ],
      "execution_count": null,
      "outputs": [
        {
          "output_type": "execute_result",
          "data": {
            "text/plain": [
              "Text(0.5, 1.0, 'UCCSD-VQE vs ADAPT-VQE: Number of Shots (H2)')"
            ]
          },
          "metadata": {},
          "execution_count": 50
        },
        {
          "output_type": "display_data",
          "data": {
            "image/png": "[encoded data removed]",
            "text/plain": [
              "<Figure size 576x576 with 1 Axes>"
            ]
          },
          "metadata": {
            "needs_background": "light"
          }
        }
      ]
    },
    {
      "cell_type": "code",
      "metadata": {
        "colab": {
          "base_uri": "https://localhost:8080/",
          "height": 531
        },
        "id": "xRd68gW21p1Q",
        "outputId": "ccd0120c-44a0-4ddc-8291-85e5a750d7be"
      },
      "source": [
        "# Plot average total number of function evaluations per run\n",
        "\n",
        "# Change this to plot only part of the data\n",
        "start = 0\n",
        "stop = len(rList)\n",
        "\n",
        "fig, ax1 = plt.subplots(figsize = [8,8])\n",
        "\n",
        "ax1.plot(rList[start:stop], \n",
        "        nfevList[start:stop], \n",
        "        '--o',\n",
        "        color = 'b',\n",
        "        label = \"ADAPT-VQE\")\n",
        "\n",
        "ax1.plot(rList[start:stop], \n",
        "        uccsdnfevList[start:stop], \n",
        "        '--o',\n",
        "        color = 'orange',\n",
        "        label = \"UCCSD-VQE\")\n",
        "\n",
        "ax1.legend()\n",
        "\n",
        "ax1.set_ylabel(\"Average Number of Energy Evaluations (total per run)\")\n",
        "ax1.set_xlabel(\"Interatomic Distance (Å)\")\n",
        "\n",
        "title = f\"UCCSD-VQE vs ADAPT-VQE: Energy Evaluations ({name})\"\n",
        "\n",
        "ax1.set_title(title)"
      ],
      "execution_count": null,
      "outputs": [
        {
          "output_type": "execute_result",
          "data": {
            "text/plain": [
              "Text(0.5, 1.0, 'UCCSD-VQE vs ADAPT-VQE: Energy Evaluations (H2)')"
            ]
          },
          "metadata": {},
          "execution_count": 49
        },
        {
          "output_type": "display_data",
          "data": {
            "image/png": "[encoded data removed]",
            "text/plain": [
              "<Figure size 576x576 with 1 Axes>"
            ]
          },
          "metadata": {
            "needs_background": "light"
          }
        }
      ]
    },
    {
      "cell_type": "markdown",
      "metadata": {
        "id": "SUMpXdBYNxEc"
      },
      "source": [
        "### Sampling "
      ]
    },
    {
      "cell_type": "code",
      "metadata": {
        "id": "3668PPXnNzgi"
      },
      "source": [
        "%%capture\n",
        "\n",
        "# Number of runs over which to take the median and IQR for each point\n",
        "runs = 20\n",
        "\n",
        "# Circuit repetitions\n",
        "testShots = [2**i for i in range(5,20,2)] \n",
        "testShots = [2**i for i in range(5,14,1)] \n",
        "\n",
        "medianEnergies = []\n",
        "firstQuartiles = []\n",
        "thirdQuartiles = []\n",
        "\n",
        "for shots in testShots:\n",
        "  shots = int(shots)\n",
        "\n",
        "  energies = []\n",
        "  \n",
        "  qinstance = QuantumInstance(backend, \n",
        "                              shots = shots)\n",
        "\n",
        "  finalEnergies = []\n",
        "\n",
        "  for _ in range(runs):\n",
        "\n",
        "    myAdapt = AdaptVQE(qubitPool,\n",
        "                      molecule,\n",
        "                      qinstance = qinstance,\n",
        "                      verbose = False,\n",
        "                      threshold = threshold,\n",
        "                      maxIterations = maxIterations,\n",
        "                      shots = shots,\n",
        "                      referenceDeterminant = None\n",
        "                      )\n",
        "    \n",
        "    myAdapt.prepare()\n",
        "    myAdapt.run()\n",
        "    data = myAdapt.data\n",
        "\n",
        "    finalEnergy = data.result[\"energy\"]\n",
        "    finalEnergies.append(finalEnergy)\n",
        "\n",
        "  #runAverage = np.mean(finalEnergies)\n",
        "  #runSTD = np.std(finalEnergies)\n",
        "  median = np.median(finalEnergies)\n",
        "  firstQuartile = median - np.percentile(finalEnergies,25)\n",
        "  thirdQuartile = np.percentile(finalEnergies,75) - median\n",
        "\n",
        "  medianEnergies.append(median)\n",
        "  firstQuartiles.append(firstQuartile)\n",
        "  thirdQuartiles.append(thirdQuartile)"
      ],
      "execution_count": null,
      "outputs": []
    },
    {
      "cell_type": "code",
      "metadata": {
        "colab": {
          "base_uri": "https://localhost:8080/",
          "height": 534
        },
        "id": "i3YmiWwZdzoU",
        "outputId": "a5ab4029-ac36-4a6d-f7d6-1c87e0ba4e79"
      },
      "source": [
        "fig, ax1 = plt.subplots(figsize=[8,8])\n",
        "\n",
        "title = \"ADAPT-VQE: Effect of Sampling Noise ({})\".format(name)\n",
        "\n",
        "ax1.set_title(title)\n",
        "\n",
        "start = 0\n",
        "stop = len(testShots)\n",
        "\n",
        "errors = [energy - exactEnergy for energy in medianEnergies]\n",
        "\n",
        "ax1.errorbar(testShots[start:stop], \n",
        "             #errors[start:stop], \n",
        "             #medianEnergies[start:stop],\n",
        "             #medianEnergies[start:stop],\n",
        "             [- mE for mE in medianEnergies[start:stop]],\n",
        "             fmt = '--o',\n",
        "             # REVERSED beacause of the negative\n",
        "             yerr = (thirdQuartiles[start:stop],firstQuartiles[start:stop]),\n",
        "             capsize = 3)\n",
        "\n",
        "ax1.set_xlabel(\"Number of Shots\")\n",
        "ax1.set_ylabel(\"- Energy (au)\")\n",
        "ax1.set_yscale(\"log\")\n",
        "ax1.set_xscale(\"log\")\n",
        "\n",
        "caMin = exactEnergy - chemicalAccuracy\n",
        "caMax = exactEnergy + chemicalAccuracy\n",
        "#l = ax1.axhspan(caMin,caMax, alpha=0.3, color = 'cornflowerblue')\n",
        "l = ax1.axhspan(-caMax, -caMin, alpha=0.3, color = 'cornflowerblue')\n",
        "\n",
        "plt.axhline(y = -exactEnergy, color = 'cornflowerblue' , linestyle = '-')"
      ],
      "execution_count": null,
      "outputs": [
        {
          "output_type": "execute_result",
          "data": {
            "text/plain": [
              "<matplotlib.lines.Line2D at 0x7fe58f75ad10>"
            ]
          },
          "metadata": {},
          "execution_count": 34
        },
        {
          "output_type": "display_data",
          "data": {
            "image/png": "[encoded data removed]",
            "text/plain": [
              "<Figure size 576x576 with 1 Axes>"
            ]
          },
          "metadata": {
            "needs_background": "light"
          }
        }
      ]
    },
    {
      "cell_type": "markdown",
      "metadata": {
        "id": "f661dWFBRtwR"
      },
      "source": [
        "### Decoherence"
      ]
    },
    {
      "cell_type": "code",
      "metadata": {
        "id": "n7Yi0rt4Me7r"
      },
      "source": [
        "def getDecNoiseModel(t1,t2,measTime,resetTime,cxTime,uTime,qubitNumber,basis_gates):\n",
        "  '''\n",
        "  Creates a noise model with decoherence only.\n",
        "  Must have t2 <= 2t1\n",
        "\n",
        "  Arguments:\n",
        "    t1 (float): relaxation time\n",
        "    t2 (float): dephasing time\n",
        "    measTime (float): measurement time\n",
        "    resetTime (float): reset time\n",
        "    cxTime: \n",
        "    qubitNumber (int): the number of qubits of the backend. The error\n",
        "      will be assumed to apply to all (connected) pairs of qubits.\n",
        "    basis_gates (list): the basis gates to be assumed in the noise model\n",
        "  \n",
        "  Returns:\n",
        "    noiseModel (qiskit.providers.aer.noise.noise_model.NoiseModel):\n",
        "      noise model for decoherence\n",
        "  '''\n",
        "\n",
        "  noiseModel = NoiseModel(basis_gates=belemNM.basis_gates)\n",
        "\n",
        "  # Thermal relaxation\n",
        "  uError = thermal_relaxation_error(t1,t2,uTime)\n",
        "  measError = thermal_relaxation_error(t1, t2, measTime)\n",
        "  resetError = thermal_relaxation_error(t1, t2, resetTime)\n",
        "  cxTError = thermal_relaxation_error(t1, t2, cxTime)\n",
        "  cxTError = cxTError.tensor(cxTError)\n",
        "\n",
        "  for i in range(qubitNumber):\n",
        "\n",
        "    # Add thermal relaxation on each qubit measurement\n",
        "    noiseModel.add_quantum_error(measError,\"measure\",[i])\n",
        "    noiseModel.add_quantum_error(resetError,\"reset\",[i])\n",
        "\n",
        "    # Add thermal relaxation on single qubit gates\n",
        "    noiseModel.add_quantum_error(uError,\"id\",[i])\n",
        "    noiseModel.add_quantum_error(uError,\"rz\",[i])\n",
        "    noiseModel.add_quantum_error(uError,\"x\",[i])\n",
        "    noiseModel.add_quantum_error(uError,\"sx\",[i])\n",
        "\n",
        "    # Add thermal relaxation on each possible pair of CNOTs\n",
        "    for j in range(qubitNumber):\n",
        "      if j != i:\n",
        "        noiseModel.add_quantum_error(cxTError,\"cx\",[i,j])\n",
        "\n",
        "    return noiseModel"
      ],
      "execution_count": null,
      "outputs": []
    },
    {
      "cell_type": "code",
      "metadata": {
        "id": "RsILyfTURyMd"
      },
      "source": [
        "%%capture\n",
        "\n",
        "# Number of runs over which to take the average and std for each point\n",
        "runs = 20\n",
        "\n",
        "shots = 2**17\n",
        "\n",
        "# Using IBMQ_Belem data\n",
        "qubitNumber = 5\n",
        "\n",
        "# Basic times\n",
        "# All nanoseconds\n",
        "t1 = 100E3\n",
        "t2 = 2*t1\n",
        "\n",
        "# Times for operations\n",
        "measTime = 5000 # Measuring\n",
        "resetTime = 5000 # Reset\n",
        "cxTime = 500 # CNOT gate\n",
        "uTime = 100 # Single qubit gate\n",
        "\n",
        "# Multipliers for t1, t2. 1 = 100%; 2 = 200%; ...\n",
        "# Will correspond to graph points. 100% of t1, t2; \n",
        "#then 200%;...\n",
        "multipliers = [i/40 for i in range(1,10)]\n",
        "multipliers = [i/40 for i in range(2,8000,1000)]\n",
        "\n",
        "medianEnergies = []\n",
        "firstQuartiles = []\n",
        "thirdQuartiles = []\n",
        "\n",
        "for mult in multipliers:\n",
        "  energies = []\n",
        "  t1mult = mult * t1\n",
        "  t2mult = mult * t2\n",
        "\n",
        "  myNoiseModel = getDecNoiseModel(t1mult,\n",
        "                                  t2mult,\n",
        "                                  measTime,\n",
        "                                  resetTime,\n",
        "                                  cxTime,\n",
        "                                  uTime,\n",
        "                                  qubitNumber,\n",
        "                                  basis_gates)\n",
        "  \n",
        "  qinstance = QuantumInstance(backend, \n",
        "                              shots = shots,\n",
        "                              coupling_map=coupling_map,\n",
        "                              basis_gates=basis_gates,\n",
        "                              noise_model=myNoiseModel)\n",
        "\n",
        "  finalEnergies = []\n",
        "  \n",
        "  for _ in range(runs):\n",
        "\n",
        "    myAdapt = AdaptVQE(qubitPool,\n",
        "                      molecule,\n",
        "                      qinstance = qinstance,\n",
        "                      verbose = False,\n",
        "                      threshold = threshold,\n",
        "                      maxIterations = maxIterations,\n",
        "                      shots = shots,\n",
        "                      referenceDeterminant = None\n",
        "                      )\n",
        "    myAdapt.prepare()\n",
        "    myAdapt.run()\n",
        "    data = myAdapt.data\n",
        "\n",
        "    finalEnergy = data.result[\"energy\"]\n",
        "    finalEnergies.append(finalEnergy)\n",
        "    \n",
        "  median = np.median(finalEnergies)\n",
        "  firstQuartile = median - np.percentile(finalEnergies,25)\n",
        "  thirdQuartile = np.percentile(finalEnergies,75) - median\n",
        "\n",
        "  medianEnergies.append(median)\n",
        "  firstQuartiles.append(firstQuartile)\n",
        "  thirdQuartiles.append(thirdQuartile)"
      ],
      "execution_count": null,
      "outputs": []
    },
    {
      "cell_type": "code",
      "metadata": {
        "colab": {
          "base_uri": "https://localhost:8080/",
          "height": 545
        },
        "id": "oGu5H0ZpRqUK",
        "outputId": "506ee92c-a382-4cca-86b5-38f1e971c751"
      },
      "source": [
        "fig, ax1 = plt.subplots(figsize=[8,8])\n",
        "\n",
        "title = \"ADAPT-VQE: Effect of Decoherence\\n{}, \".format(name)\n",
        "title += \"{} shots\".format(shots)\n",
        "\n",
        "ax1.set_title(title)\n",
        "\n",
        "start = 0\n",
        "stop = len(multipliers)\n",
        "times = [multiplier * t1 * 10**(-9) for multiplier in multipliers]\n",
        "\n",
        "errors = [energy - exactEnergy for energy in medianEnergies]\n",
        "ax1.errorbar(times[start:stop], \n",
        "             errors[start:stop], \n",
        "             fmt = '--o',\n",
        "             yerr = (firstQuartiles[start:stop],thirdQuartiles[start:stop]),\n",
        "             capsize = 3)\n",
        "\n",
        "\n",
        "ax1.set_xlabel(\"T1 = T2/2 (s)\")\n",
        "ax1.set_ylabel(\"Error (au)\")\n",
        "ax1.set_yscale(\"log\")\n",
        "\n",
        "minAccuracy = exactEnergy - chemicalAccuracy\n",
        "maxAccuracy = exactEnergy + chemicalAccuracy\n",
        "l = ax1.axhspan(0, chemicalAccuracy, alpha=0.3, color = 'cornflowerblue')\n",
        "\n",
        "plt.axhline(y = exactEnergy, color = 'cornflowerblue' , linestyle = '-')"
      ],
      "execution_count": null,
      "outputs": [
        {
          "output_type": "execute_result",
          "data": {
            "text/plain": [
              "<matplotlib.lines.Line2D at 0x7f9adaf9d210>"
            ]
          },
          "metadata": {
            "tags": []
          },
          "execution_count": 30
        },
        {
          "output_type": "display_data",
          "data": {
            "image/png": "[encoded data removed]",
            "text/plain": [
              "<Figure size 576x576 with 1 Axes>"
            ]
          },
          "metadata": {
            "tags": []
          }
        }
      ]
    },
    {
      "cell_type": "markdown",
      "metadata": {
        "id": "rpTNLqviVRlf"
      },
      "source": [
        "### Readout Errors"
      ]
    },
    {
      "cell_type": "code",
      "metadata": {
        "id": "VV37soauUYGD"
      },
      "source": [
        "%%capture\n",
        "\n",
        "# Number of runs over which to take the median and IQR for each point\n",
        "runs = 20\n",
        "\n",
        "# Circuit repetitions\n",
        "shots = 2**17\n",
        "\n",
        "# Measure 1 prep 0 average\n",
        "m1p0 = 0.01 \n",
        "# Measure 0 prep 1 average\n",
        "m0p1 = 5 * m1p0\n",
        "\n",
        "multipliers = [i/10 for i in range(0,21,4)]\n",
        "#multipliers = [i/10 for i in range(0,40,4)] # ADAPT only\n",
        "\n",
        "medianEnergies = []\n",
        "firstQuartiles = []\n",
        "thirdQuartiles = []\n",
        "\n",
        "for mult in multipliers:\n",
        "\n",
        "  energies = []\n",
        "\n",
        "  # Readout Error\n",
        "  readoutErrorMatrix = [[1 - m1p0 * mult, m1p0 * mult],\n",
        "                        [m0p1 * mult, 1 - m0p1 * mult]]\n",
        "  readoutError = ReadoutError(readoutErrorMatrix)\n",
        "\n",
        "  noiseModel = NoiseModel()\n",
        "  for i in range(qubitNumber):\n",
        "    # Adde readout error on each qubit\n",
        "    noiseModel.add_readout_error(readoutError,[i])\n",
        "  \n",
        "  qinstance = QuantumInstance(backend, \n",
        "                              shots = shots,\n",
        "                              coupling_map=coupling_map,\n",
        "                              basis_gates=basis_gates,\n",
        "                              noise_model=noiseModel)\n",
        "\n",
        "  finalEnergies = []\n",
        "\n",
        "  for _ in range(runs):\n",
        "\n",
        "    myAdapt = AdaptVQE(qubitPool,\n",
        "                      molecule,\n",
        "                      qinstance = qinstance,\n",
        "                      verbose = False,\n",
        "                      threshold = threshold,\n",
        "                      maxIterations = maxIterations,\n",
        "                      shots = shots,\n",
        "                      referenceDeterminant = None\n",
        "                      )\n",
        "    myAdapt.prepare()\n",
        "    myAdapt.run()\n",
        "    data = myAdapt.data\n",
        "\n",
        "    finalEnergy = data.result[\"energy\"]\n",
        "    finalEnergies.append(finalEnergy)\n",
        "\n",
        "  #runAverage = np.mean(finalEnergies)\n",
        "  #runSTD = np.std(finalEnergies)\n",
        "  median = np.median(finalEnergies)\n",
        "  firstQuartile = median - np.percentile(finalEnergies,25)\n",
        "  thirdQuartile = np.percentile(finalEnergies,75) - median\n",
        "\n",
        "  medianEnergies.append(median)\n",
        "  firstQuartiles.append(firstQuartile)\n",
        "  thirdQuartiles.append(thirdQuartile)"
      ],
      "execution_count": null,
      "outputs": []
    },
    {
      "cell_type": "code",
      "metadata": {
        "colab": {
          "background_save": true
        },
        "id": "2CDin25obDPE",
        "outputId": "1ddb495e-14c2-4971-d424-00a584d38a9c"
      },
      "source": [
        "fig, ax1 = plt.subplots(figsize=[8,8])\n",
        "\n",
        "title = \"ADAPT-VQE: Effect of Readout Errors\\n{}, \".format(name)\n",
        "title += \"{} shots\".format(shots)\n",
        "\n",
        "ax1.set_title(title)\n",
        "\n",
        "start = 0\n",
        "stop = len(multipliers)\n",
        "m0p1s = [multiplier * m0p1 for multiplier in multipliers]\n",
        "\n",
        "errors = [energy - exactEnergy for energy in medianEnergies]\n",
        "ax1.errorbar(m0p1s[start:stop], \n",
        "             errors[start:stop], \n",
        "             fmt = '--o',\n",
        "             yerr = (firstQuartiles[start:stop],thirdQuartiles[start:stop]),\n",
        "             capsize = 3)\n",
        "\n",
        "\n",
        "ax1.set_xlabel(\"m0p1 = 5 * m1p0\")\n",
        "ax1.set_ylabel(\"Error (au)\")\n",
        "ax1.set_yscale(\"log\")\n",
        "\n",
        "l = ax1.axhspan(0, chemicalAccuracy, alpha=0.3, color = 'cornflowerblue')\n",
        "\n",
        "plt.axhline(y = exactEnergy, color = 'cornflowerblue' , linestyle = '-')"
      ],
      "execution_count": null,
      "outputs": [
        {
          "output_type": "execute_result",
          "data": {
            "text/plain": [
              "<matplotlib.lines.Line2D at 0x7f4a60fd8e90>"
            ]
          },
          "metadata": {
            "tags": []
          },
          "execution_count": 0
        },
        {
          "output_type": "display_data",
          "data": {
            "image/png": "[encoded data removed]",
            "text/plain": [
              "<Figure size 576x576 with 1 Axes>"
            ]
          },
          "metadata": {
            "tags": []
          }
        }
      ]
    },
    {
      "cell_type": "markdown",
      "metadata": {
        "id": "FsiUtJFuuPKD"
      },
      "source": [
        "### Noise Model"
      ]
    },
    {
      "cell_type": "code",
      "metadata": {
        "id": "uyhX5BV9uWRj"
      },
      "source": [
        "%%capture\n",
        "\n",
        "# Number of runs over which to take the average and std for each point\n",
        "runs = 20\n",
        "\n",
        "shots = 2**17\n",
        "\n",
        "# Using IBMQ_Belem data\n",
        "qubitNumber = 5\n",
        "\n",
        "# Basic times; t1 is from ibmq_belem\n",
        "# All nanoseconds\n",
        "t1 = 86.91E3\n",
        "t2 = 2*t1\n",
        "\n",
        "# Measure / CNOT gate times. FrommBelem\n",
        "measTime = 5351.111\n",
        "cxTime = 552.889\n",
        "\n",
        "# Measure 0 prep 1 average\n",
        "m0p1 = 0.0406\n",
        "# Measure 1 prep 0 average\n",
        "m1p0 = 0.0096 \n",
        "\n",
        "\n",
        "# Multipliers for t1, t2. 1 = 100%; 2 = 200%; ...\n",
        "# Will correspond to graph points. 100% of t1, t2; \n",
        "#then 200%;...\n",
        "multipliers = [i/5 for i in range(1,12)]\n",
        "multipliers = [i/5 for i in range(1,2250,200)]\n",
        "\n",
        "medianEnergies = []\n",
        "firstQuartiles = []\n",
        "thirdQuartiles = []\n",
        "\n",
        "for mult in multipliers:\n",
        "  energies = []\n",
        "  t1mult = mult * t1\n",
        "  t2mult = mult * t2\n",
        "\n",
        "  myNoiseModel = createNoiseModel(t1mult,t2mult,measTime,cxTime,m0p1,m1p0)\n",
        "  qinstance = QuantumInstance(backend, \n",
        "                              shots = shots,\n",
        "                              coupling_map=coupling_map,\n",
        "                              basis_gates=basis_gates,\n",
        "                              noise_model=myNoiseModel)\n",
        "\n",
        "  finalEnergies = []\n",
        "  \n",
        "  for _ in range(runs):\n",
        "\n",
        "    myAdapt = AdaptVQE(qubitPool,\n",
        "                      molecule,\n",
        "                      qinstance = qinstance,\n",
        "                      verbose = False,\n",
        "                      threshold = threshold,\n",
        "                      maxIterations = maxIterations,\n",
        "                      shots = shots,\n",
        "                      referenceDeterminant = None\n",
        "                      )\n",
        "    myAdapt.prepare()\n",
        "    myAdapt.run()\n",
        "    data = myAdapt.data\n",
        "\n",
        "    finalEnergy = data.result[\"energy\"]\n",
        "    finalEnergies.append(finalEnergy)\n",
        "    \n",
        "  median = np.median(finalEnergies)\n",
        "  firstQuartile = median - np.percentile(finalEnergies,25)\n",
        "  thirdQuartile = np.percentile(finalEnergies,75) - median\n",
        "\n",
        "  medianEnergies.append(median)\n",
        "  firstQuartiles.append(firstQuartile)\n",
        "  thirdQuartiles.append(thirdQuartile)"
      ],
      "execution_count": null,
      "outputs": []
    },
    {
      "cell_type": "code",
      "metadata": {
        "colab": {
          "base_uri": "https://localhost:8080/",
          "height": 528
        },
        "id": "q75h-zKjIcG_",
        "outputId": "f215431a-0d53-4446-fc05-1e6d90d8ec55"
      },
      "source": [
        "fig, ax1 = plt.subplots(figsize=[8,8])\n",
        "\n",
        "title = \"ADAPT-VQE: Effect of Decoherence\\n{}, \".format(name)\n",
        "title += \"{} shots\".format(shots)\n",
        "\n",
        "ax1.set_title(title)\n",
        "\n",
        "start = 0\n",
        "stop = len(multipliers)\n",
        "times = [multiplier * t1 * 10**(-9) for multiplier in multipliers]\n",
        "ax1.errorbar(times[start:stop], \n",
        "             medianEnergies[start:stop], \n",
        "             fmt = '--o',\n",
        "             yerr = (firstQuartiles[start:stop],thirdQuartiles[start:stop]),\n",
        "             capsize = 3)\n",
        "\n",
        "\n",
        "ax1.set_xlabel(\"T1 = T2/2 (s)\")\n",
        "ax1.set_ylabel(\"Energy (au)\")\n",
        "\n",
        "minAccuracy = exactEnergy - chemicalAccuracy\n",
        "maxAccuracy = exactEnergy + chemicalAccuracy\n",
        "l = ax1.axhspan(minAccuracy, maxAccuracy, alpha=0.3, color = 'cornflowerblue')\n",
        "\n",
        "plt.axhline(y = exactEnergy, color = 'cornflowerblue' , linestyle = '-')"
      ],
      "execution_count": null,
      "outputs": [
        {
          "output_type": "display_data",
          "data": {
            "image/png": "[encoded data removed]",
            "text/plain": [
              "<Figure size 576x576 with 1 Axes>"
            ]
          },
          "metadata": {
            "tags": []
          }
        }
      ]
    },
    {
      "cell_type": "code",
      "metadata": {
        "colab": {
          "base_uri": "https://localhost:8080/",
          "height": 528
        },
        "id": "QiViCl6Nlb8X",
        "outputId": "27ee851c-b3b6-4e0a-ba10-08c28c3192ae"
      },
      "source": [
        "#errors\n",
        "#(medianEnergies, firstQuartiles, thirdQuartiles) = data\n",
        "fig, ax1 = plt.subplots(figsize=[8,8])\n",
        "\n",
        "title = \"ADAPT-VQE: Effect of Decoherence\\n{}, \".format(name)\n",
        "title += \"{} shots\".format(shots)\n",
        "\n",
        "ax1.set_title(title)\n",
        "\n",
        "start = 1\n",
        "stop = len(multipliers)\n",
        "times = [multiplier * t1 * 10**(-9) for multiplier in multipliers]\n",
        "\n",
        "errors = [np.abs(exactEnergy - energy) for energy in medianEnergies]\n",
        "\n",
        "ax1.errorbar(times[start:stop], \n",
        "             #medianEnergies[start:stop], \n",
        "             errors[start:stop],\n",
        "             fmt = '--o',\n",
        "             yerr = (firstQuartiles[start:stop],thirdQuartiles[start:stop]),\n",
        "             capsize = 3)\n",
        "\n",
        "\n",
        "ax1.set_xlabel(\"T1 = T2/2 (s)\")\n",
        "ax1.set_ylabel(\"Error (au)\")\n",
        "\n",
        "ax1.set_yscale('log')\n",
        "\n",
        "minAccuracy = exactEnergy - chemicalAccuracy\n",
        "maxAccuracy = exactEnergy + chemicalAccuracy\n",
        "l = ax1.axhspan(0, chemicalAccuracy, alpha=0.3, color = 'cornflowerblue')"
      ],
      "execution_count": null,
      "outputs": [
        {
          "output_type": "display_data",
          "data": {
            "image/png": "[encoded data removed]",
            "text/plain": [
              "<Figure size 576x576 with 1 Axes>"
            ]
          },
          "metadata": {
            "tags": []
          }
        }
      ]
    },
    {
      "cell_type": "markdown",
      "metadata": {
        "id": "usENoaf29Qu5"
      },
      "source": [
        "## Downloading / Uploading Data to/from File"
      ]
    },
    {
      "cell_type": "code",
      "metadata": {
        "id": "T_1mfGg7Ge9D"
      },
      "source": [
        "fileName = molecule.description + \"_\" + backend.name() + \"_\" + str(data.shots) + \"_\" + str(maxIterations) + \".pkl\"\n",
        "print(fileName)\n",
        "\n",
        "myFile = open(fileName, \"wb\")\n",
        "pickle.dump(data, myFile)\n",
        "myFile.close()\n",
        "\n",
        "files.download(fileName) "
      ],
      "execution_count": null,
      "outputs": []
    },
    {
      "cell_type": "code",
      "metadata": {
        "colab": {
          "base_uri": "https://localhost:8080/",
          "height": 17
        },
        "id": "3DBbzgYDgNKO",
        "outputId": "c66c2ecf-6df0-4892-b1d3-66eca7882bdb"
      },
      "source": [
        "fileName = \"adapt_readout.pkl\"\n",
        "data = (medianEnergies, firstQuartiles, thirdQuartiles)\n",
        "\n",
        "myFile = open(fileName, \"wb\")\n",
        "pickle.dump(data, myFile)\n",
        "myFile.close()\n",
        "\n",
        "files.download(fileName) "
      ],
      "execution_count": null,
      "outputs": [
        {
          "output_type": "display_data",
          "data": {
            "application/javascript": [
              "\n",
              "    async function download(id, filename, size) {\n",
              "      if (!google.colab.kernel.accessAllowed) {\n",
              "        return;\n",
              "      }\n",
              "      const div = document.createElement('div');\n",
              "      const label = document.createElement('label');\n",
              "      label.textContent = `Downloading \"${filename}\": `;\n",
              "      div.appendChild(label);\n",
              "      const progress = document.createElement('progress');\n",
              "      progress.max = size;\n",
              "      div.appendChild(progress);\n",
              "      document.body.appendChild(div);\n",
              "\n",
              "      const buffers = [];\n",
              "      let downloaded = 0;\n",
              "\n",
              "      const channel = await google.colab.kernel.comms.open(id);\n",
              "      // Send a message to notify the kernel that we're ready.\n",
              "      channel.send({})\n",
              "\n",
              "      for await (const message of channel.messages) {\n",
              "        // Send a message to notify the kernel that we're ready.\n",
              "        channel.send({})\n",
              "        if (message.buffers) {\n",
              "          for (const buffer of message.buffers) {\n",
              "            buffers.push(buffer);\n",
              "            downloaded += buffer.byteLength;\n",
              "            progress.value = downloaded;\n",
              "          }\n",
              "        }\n",
              "      }\n",
              "      const blob = new Blob(buffers, {type: 'application/binary'});\n",
              "      const a = document.createElement('a');\n",
              "      a.href = window.URL.createObjectURL(blob);\n",
              "      a.download = filename;\n",
              "      div.appendChild(a);\n",
              "      a.click();\n",
              "      div.remove();\n",
              "    }\n",
              "  "
            ],
            "text/plain": [
              "<IPython.core.display.Javascript object>"
            ]
          },
          "metadata": {}
        },
        {
          "output_type": "display_data",
          "data": {
            "application/javascript": [
              "download(\"download_e1fbf3b3-5114-468a-89b5-4ff024e04360\", \"adapt_readout.pkl\", 507)"
            ],
            "text/plain": [
              "<IPython.core.display.Javascript object>"
            ]
          },
          "metadata": {}
        }
      ]
    },
    {
      "cell_type": "code",
      "metadata": {
        "colab": {
          "resources": {
            "http://localhost:8080/nbextensions/google.colab/files.js": {
              "data": "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",
              "ok": true,
              "headers": [
                [
                  "content-type",
                  "application/javascript"
                ]
              ],
              "status": 200,
              "status_text": ""
            }
          },
          "base_uri": "https://localhost:8080/",
          "height": 90
        },
        "id": "V_xMAdCuyLsd",
        "outputId": "b1bb9de8-b4f9-4713-ee65-9dbadc965b1a"
      },
      "source": [
        "# Upload from computer\n",
        "uploaded = files.upload()\n",
        "\n",
        "for fn in uploaded.keys():\n",
        "  print('User uploaded file \"{name}\" with length {length} bytes'.format(\n",
        "      name=fn, length=len(uploaded[fn])))\n",
        "  \n",
        "myFile = open(fn, \"rb\")\n",
        "data = pickle.load(myFile)"
      ],
      "execution_count": null,
      "outputs": [
        {
          "output_type": "display_data",
          "data": {
            "text/html": [
              "\n",
              "     <input type=\"file\" id=\"files-db8205ce-eabb-4361-aabc-9add8e2b0529\" name=\"files[]\" multiple disabled\n",
              "        style=\"border:none\" />\n",
              "     <output id=\"result-db8205ce-eabb-4361-aabc-9add8e2b0529\">\n",
              "      Upload widget is only available when the cell has been executed in the\n",
              "      current browser session. Please rerun this cell to enable.\n",
              "      </output>\n",
              "      <script src=\"/nbextensions/google.colab/files.js\"></script> "
            ],
            "text/plain": [
              "<IPython.core.display.HTML object>"
            ]
          },
          "metadata": {}
        },
        {
          "output_type": "stream",
          "name": "stdout",
          "text": [
            "Saving adapt_readout.pkl to adapt_readout (1).pkl\n",
            "User uploaded file \"adapt_readout.pkl\" with length 507 bytes\n"
          ]
        }
      ]
    }
  ]
}