{
  "nbformat": 4,
  "nbformat_minor": 0,
  "metadata": {
    "colab": {
      "name": "Qiskit_VQE.ipynb",
      "provenance": [],
      "collapsed_sections": [],
      "toc_visible": true
    },
    "kernelspec": {
      "name": "python3",
      "display_name": "Python 3"
    },
    "language_info": {
      "name": "python"
    }
  },
  "cells": [
    {
      "cell_type": "code",
      "metadata": {
        "id": "P2Ufk0eZN0Lc"
      },
      "source": [
        "%%capture\n",
        "\n",
        "!pip install qiskit[visualization]"
      ],
      "execution_count": null,
      "outputs": []
    },
    {
      "cell_type": "code",
      "metadata": {
        "id": "Tqe00C-LOUTl"
      },
      "source": [
        "import qiskit\n",
        "import numpy as np\n",
        "\n",
        "from qiskit import Aer, QuantumCircuit, ClassicalRegister, QuantumRegister, IBMQ\n",
        "from qiskit.circuit import QuantumCircuit, ParameterVector\n",
        "from qiskit.algorithms.optimizers import COBYLA\n",
        "from qiskit.providers.ibmq import least_busy\n",
        "\n",
        "from qiskit.aqua import QuantumInstance\n",
        "from qiskit.aqua.algorithms import VQE, NumPyMinimumEigensolver\n",
        "from qiskit.aqua.operators import I, Z, X, Y\n",
        "\n",
        "import matplotlib.pyplot as plt"
      ],
      "execution_count": null,
      "outputs": []
    },
    {
      "cell_type": "code",
      "metadata": {
        "colab": {
          "base_uri": "https://localhost:8080/"
        },
        "id": "d2f39vDPy0R1",
        "outputId": "1b21e012-c9ae-4335-d5f0-48a67d5fa040"
      },
      "source": [
        "IBMQ.enable_account(\"8ee0cdbd442f6bb654b16a42a75546db448bed4a29f8874f7a3c96e4ba6381db750772327bbc111999756c30f142b957e3f6de4fb20c7622cf177b54c1df38c8\")"
      ],
      "execution_count": null,
      "outputs": [
        {
          "output_type": "execute_result",
          "data": {
            "text/plain": [
              "<AccountProvider for IBMQ(hub='ibm-q', group='open', project='main')>"
            ]
          },
          "metadata": {
            "tags": []
          },
          "execution_count": 3
        }
      ]
    },
    {
      "cell_type": "markdown",
      "metadata": {
        "id": "VrFx4ETmp-9L"
      },
      "source": [
        "## Functions"
      ]
    },
    {
      "cell_type": "code",
      "metadata": {
        "id": "EvAhWLCSCWj4"
      },
      "source": [
        "def calculateOverlap(stateCoordinates1,stateCoordinates2):\n",
        "    '''\n",
        "    Calculates the overlap between two states, given their coordinates.\n",
        "\n",
        "    Arguments:\n",
        "      stateCoordinates1 (np.ndarray): the coordinates of one of the states in \n",
        "        some orthonormal basis,\n",
        "      stateCoordinates2 (np.ndarray): the coordinates of the other state, in \n",
        "        the same basis\n",
        "\n",
        "    Returns: \n",
        "      overlap (float): the overlap between two states (absolute value of the \n",
        "        inner product).\n",
        "    '''\n",
        "\n",
        "    bra = np.conj(stateCoordinates1)\n",
        "    ket = stateCoordinates2\n",
        "    overlap = np.abs(np.dot(bra,ket))\n",
        "    \n",
        "    return overlap\n",
        "\n",
        "def callback(nfev, parameters, energy, stddev):\n",
        "    '''\n",
        "    Function to keep intermediary data from the optimization done by running\n",
        "    the instance of the VQE class. Called at the end of each optimization run.\n",
        "\n",
        "    Arguments:\n",
        "      nfev (int): the number of function evaluations performed so far\n",
        "      parameters (list): the parameters found by the optimizer in this \n",
        "        iteration\n",
        "      energy (float):\n",
        "      stddev (float):\n",
        "\n",
        "    Returns: \n",
        "      No return value. Just fills the dictionary 'evolution', assumed to be \n",
        "        defined, with the data.\n",
        "    '''\n",
        "\n",
        "    evolution['nfev'].append(nfev)\n",
        "    evolution['parameters'].append(parameters.copy())\n",
        "    evolution['energy'].append(energy)\n",
        "    evolution['stddev'].append(stddev)\n",
        "    \n",
        "    print(\"{}: {}\".format(nfev,energy))"
      ],
      "execution_count": null,
      "outputs": []
    },
    {
      "cell_type": "markdown",
      "metadata": {
        "id": "Ier9DQiA9m68"
      },
      "source": [
        "## Defining the Hamiltonian in Qiskit Aqua"
      ]
    },
    {
      "cell_type": "code",
      "metadata": {
        "id": "rJEPp-N59sS0"
      },
      "source": [
        "def toAquaObservable(operator):\n",
        "  '''\n",
        "  Transforms a Hamiltonian so that it's suitable for use\n",
        "  with Qiskit Aqua\n",
        "\n",
        "  Arguments:\n",
        "    operator (dict): the Hamiltonian as a sum of Pauli strings,\n",
        "      represented by a dictionary\n",
        "\n",
        "  Returns:\n",
        "    observable (qiskit.aqua.operators.OperatorBase): the observable\n",
        "      as required by Aqua\n",
        "  '''\n",
        "\n",
        "  observable = 0\n",
        "\n",
        "  for pauliString in operator:\n",
        "\n",
        "    transformedPauli = 1\n",
        "    for pauli in pauliString:\n",
        "      if pauli == \"I\":\n",
        "        transformedPauli = transformedPauli ^ I\n",
        "      elif pauli == \"X\":\n",
        "        transformedPauli = transformedPauli ^ X\n",
        "      elif pauli == \"Y\":\n",
        "        transformedPauli = transformedPauli ^ Y\n",
        "      elif pauli == \"Z\":\n",
        "        transformedPauli = transformedPauli ^ Z\n",
        "\n",
        "\n",
        "    coefficient = operator[pauliString]\n",
        "    observable += transformedPauli * coefficient\n",
        "\n",
        "  return observable"
      ],
      "execution_count": null,
      "outputs": []
    },
    {
      "cell_type": "code",
      "metadata": {
        "colab": {
          "base_uri": "https://localhost:8080/"
        },
        "id": "-GJdSY32wS9z",
        "outputId": "c70acdcb-e94d-49b9-95d8-85c1906d771b"
      },
      "source": [
        "# Hamiltonian for HeH+ at r=90pm, from table 2 of the supplementary section\n",
        "#of the original article.\n",
        "hamiltonian90={\n",
        "    \"II\": -3.8505,\n",
        "    \"IX\": -0.2288,\n",
        "    \"IZ\": -1.0466,\n",
        "    \"XI\": -0.2288,\n",
        "    \"XX\": +0.2613,\n",
        "    \"XZ\": +0.2288,\n",
        "    \"ZI\": -1.0466,\n",
        "    \"ZX\": +0.2288,\n",
        "    \"ZZ\": +0.2356\n",
        "    }\n",
        "\n",
        "# There's a strange factor of two in the table of the original article, that \n",
        "#causes the energy to be double what it should.\n",
        "for key in hamiltonian90.keys():\n",
        "  hamiltonian90[key] = hamiltonian90[key] / 2\n",
        "\n",
        "hamiltonian = hamiltonian90\n",
        "\n",
        "observable = toAquaObservable(hamiltonian)\n",
        "\n",
        "print(observable)"
      ],
      "execution_count": null,
      "outputs": [
        {
          "output_type": "stream",
          "text": [
            "SummedOp([\n",
            "  -1.92525 * II,\n",
            "  -0.1144 * IX,\n",
            "  -0.5233 * IZ,\n",
            "  -0.1144 * XI,\n",
            "  0.13065 * XX,\n",
            "  0.1144 * XZ,\n",
            "  -0.5233 * ZI,\n",
            "  0.1144 * ZX,\n",
            "  0.1178 * ZZ\n",
            "])\n"
          ],
          "name": "stdout"
        },
        {
          "output_type": "stream",
          "text": [
            "/usr/local/lib/python3.7/dist-packages/qiskit/aqua/operators/operator_base.py:46: DeprecationWarning: The package qiskit.aqua.operators is deprecated. It was moved/refactored to qiskit.opflow (pip install qiskit-terra). For more information see <https://github.com/Qiskit/qiskit-aqua/blob/master/README.md#migration-guide>\n",
            "  warn_package('aqua.operators', 'qiskit.opflow', 'qiskit-terra')\n"
          ],
          "name": "stderr"
        }
      ]
    },
    {
      "cell_type": "markdown",
      "metadata": {
        "id": "mrF3X5mjqBeh"
      },
      "source": [
        "## Ansatz (Full 2-qubit Hilbert Space)"
      ]
    },
    {
      "cell_type": "code",
      "metadata": {
        "colab": {
          "base_uri": "https://localhost:8080/",
          "height": 140
        },
        "id": "K8VetVtazP7d",
        "outputId": "d3c640c5-12ca-45b1-be09-8f754f6ea197"
      },
      "source": [
        "# Define the parameter vector\n",
        "params = ParameterVector(\"Params\",6)\n",
        "\n",
        "ansatz = QuantumCircuit(2)\n",
        "\n",
        "# Apply parameterized gates\n",
        "ansatz.ry(params[0],0)\n",
        "ansatz.cx(0,1)\n",
        "ansatz.rz(params[1],0)\n",
        "ansatz.ry(params[2],0)\n",
        "ansatz.rz(params[3],0)\n",
        "ansatz.ry(params[4],1)\n",
        "ansatz.rz(params[5],1)\n",
        "\n",
        "ansatz.draw(\"mpl\")"
      ],
      "execution_count": null,
      "outputs": [
        {
          "output_type": "execute_result",
          "data": {
            "image/png": "[encoded data removed]",
            "text/plain": [
              "<Figure size 628.252x144.48 with 1 Axes>"
            ]
          },
          "metadata": {
            "tags": []
          },
          "execution_count": 7
        }
      ]
    },
    {
      "cell_type": "markdown",
      "metadata": {
        "id": "Z9P0c-_g8In3"
      },
      "source": [
        "## Choosing the Backend"
      ]
    },
    {
      "cell_type": "code",
      "metadata": {
        "id": "cThBylHU3xht"
      },
      "source": [
        "# Check the accessible backends\n",
        "provider = IBMQ.get_provider(hub='ibm-q-minho')\n",
        "provider.backends()"
      ],
      "execution_count": null,
      "outputs": []
    },
    {
      "cell_type": "code",
      "metadata": {
        "id": "cJnNyd6i5KRG"
      },
      "source": [
        "# Filter the backends that aren't simulators, have at least two qubits and\n",
        "#are available\n",
        "\n",
        "devices = provider.backends(filters=lambda x: x.configuration().n_qubits >= 2\n",
        "                                    and not x.configuration().simulator\n",
        "                                    and x.status().operational==True)"
      ],
      "execution_count": null,
      "outputs": []
    },
    {
      "cell_type": "code",
      "metadata": {
        "colab": {
          "base_uri": "https://localhost:8080/"
        },
        "id": "HsfpGLkP9pHC",
        "outputId": "d492e388-a2cc-41fc-bc75-1f0d99ae41f7"
      },
      "source": [
        "# Check which one is the least busy\n",
        "least_busy(devices)"
      ],
      "execution_count": null,
      "outputs": [
        {
          "output_type": "execute_result",
          "data": {
            "text/plain": [
              "<IBMQBackend('ibmq_manhattan') from IBMQ(hub='ibm-q-minho', group='academicprojects', project='quantalab')>"
            ]
          },
          "metadata": {
            "tags": []
          },
          "execution_count": 10
        }
      ]
    },
    {
      "cell_type": "code",
      "metadata": {
        "id": "VGreXH8E8dIj"
      },
      "source": [
        "# Choose\n",
        "\n",
        "backend = Aer.get_backend('statevector_simulator')\n",
        "#backend = provider.get_backend('ibmq_lima')"
      ],
      "execution_count": null,
      "outputs": []
    },
    {
      "cell_type": "markdown",
      "metadata": {
        "id": "a7MOAJNh8kxF"
      },
      "source": [
        "## Running VQE"
      ]
    },
    {
      "cell_type": "code",
      "metadata": {
        "colab": {
          "base_uri": "https://localhost:8080/"
        },
        "id": "otrFoe8guiSW",
        "outputId": "a0892040-a2ac-4e6a-e18f-4631708b6be1"
      },
      "source": [
        "# Create empty evolution dictionary, to be filled with the data from each\n",
        "#iteration\n",
        "evolution = {\n",
        "    'nfev': [],\n",
        "    'parameters': [],\n",
        "    'energy': [],\n",
        "    'stddev': []\n",
        "}\n",
        "\n",
        "shots = 2**13\n",
        "tol = 10**-2\n",
        "qinstance = QuantumInstance(backend, shots = shots)\n",
        "\n",
        "randomState = [np.random.rand() * np.pi for _ in range(6)]\n",
        "randomState = [0.58871762, 2.52740039, 0.95600407, 2.65695065, 1.47913046, 2.58053004]\n",
        "\n",
        "\n",
        "vqe = VQE(observable,\n",
        "          var_form = ansatz, \n",
        "          optimizer = COBYLA(tol = tol), \n",
        "          quantum_instance = qinstance,\n",
        "          callback = callback,\n",
        "          initial_point = randomState)\n",
        "\n",
        "result = vqe.run()"
      ],
      "execution_count": null,
      "outputs": [
        {
          "output_type": "stream",
          "text": [
            "/usr/local/lib/python3.7/dist-packages/qiskit/aqua/quantum_instance.py:137: DeprecationWarning: The class qiskit.aqua.QuantumInstance is deprecated. It was moved/refactored to qiskit.utils.QuantumInstance (pip install qiskit-terra). For more information see <https://github.com/Qiskit/qiskit-aqua/blob/master/README.md#migration-guide>\n",
            "  'qiskit-terra')\n",
            "/usr/local/lib/python3.7/dist-packages/qiskit/aqua/algorithms/vq_algorithm.py:72: DeprecationWarning: The class qiskit.aqua.algorithms.VQAlgorithm is deprecated. It was moved/refactored to qiskit.algorithms.VariationalAlgorithm (pip install qiskit-terra). For more information see <https://github.com/Qiskit/qiskit-aqua/blob/master/README.md#migration-guide>\n",
            "  'qiskit-terra')\n"
          ],
          "name": "stderr"
        },
        {
          "output_type": "stream",
          "text": [
            "1: -2.059527479020077\n",
            "2: -1.9266433196018105\n",
            "3: -2.1432981237452164\n",
            "4: -1.5707029189685622\n",
            "5: -2.1544142917301117\n",
            "6: -1.7224534628015689\n",
            "7: -2.0841625824774455\n",
            "8: -2.6824744349729253\n",
            "9: -2.8247430800233264\n",
            "10: -2.517855497384611\n",
            "11: -2.7603692771144144\n",
            "12: -2.7982651215240613\n",
            "13: -2.8211975326207015\n",
            "14: -2.781712688425788\n",
            "15: -2.761572960304558\n",
            "16: -2.675581473228312\n",
            "17: -2.8378883906648826\n",
            "18: -2.840007085629539\n",
            "19: -2.835909354720178\n",
            "20: -2.84271608596779\n",
            "21: -2.7798312531832656\n",
            "22: -2.843114215639516\n",
            "23: -2.8545041282439496\n",
            "24: -2.838315971765259\n",
            "25: -2.845043173065518\n",
            "26: -2.8575990197792533\n",
            "27: -2.859582339071141\n",
            "28: -2.859193153467056\n",
            "29: -2.8569688401880584\n",
            "30: -2.85435633251592\n",
            "31: -2.861159460160705\n",
            "32: -2.860107272939235\n",
            "33: -2.8609449879324043\n",
            "34: -2.860020565216155\n",
            "35: -2.8610250221971896\n",
            "36: -2.859825957226935\n",
            "37: -2.86110535242687\n",
            "38: -2.859818603062794\n",
            "39: -2.862283048069578\n",
            "40: -2.8623218160901756\n",
            "41: -2.8623282278839404\n",
            "42: -2.86216627069302\n",
            "43: -2.8622083975699035\n",
            "44: -2.862237099438743\n",
            "45: -2.8623351272997968\n",
            "46: -2.862389409964385\n",
            "47: -2.8622976592224987\n",
            "48: -2.8623901727057453\n",
            "49: -2.862347102480051\n",
            "50: -2.8623850939613917\n",
            "51: -2.8623585164447753\n",
            "52: -2.862380959205568\n",
            "53: -2.8623720735442797\n",
            "54: -2.8623871077154672\n",
            "55: -2.8623899637174035\n"
          ],
          "name": "stdout"
        }
      ]
    },
    {
      "cell_type": "markdown",
      "metadata": {
        "id": "zcQO1hCU8v2h"
      },
      "source": [
        "## Checking the Result"
      ]
    },
    {
      "cell_type": "markdown",
      "metadata": {
        "id": "r9R1rYgs80bx"
      },
      "source": [
        "### Calculating Overlaps"
      ]
    },
    {
      "cell_type": "code",
      "metadata": {
        "colab": {
          "base_uri": "https://localhost:8080/"
        },
        "id": "MB6N2HZs_vIV",
        "outputId": "1d126c4b-0e58-4592-b821-544605f221d6"
      },
      "source": [
        "# Use Numpy to find the exact result\n",
        "solver = NumPyMinimumEigensolver()\n",
        "exactResult = solver.compute_minimum_eigenvalue(observable)\n",
        "\n",
        "exactState = exactResult.eigenstate.to_matrix()\n",
        "exactEnergy = exactResult.eigenvalue.real\n",
        "\n",
        "# Use Aer to get the final state produced by the optimized\n",
        "#ansatz circuit\n",
        "finalParameters = evolution[\"parameters\"][-1]\n",
        "finalCircuit = ansatz.assign_parameters(finalParameters)\n",
        "simulator = Aer.get_backend(\"statevector_simulator\")\n",
        "\n",
        "job = qiskit.execute(finalCircuit,simulator)\n",
        "result = job.result()\n",
        "finalState = result.get_statevector(finalCircuit, decimals=3)\n",
        "\n",
        "# Check the overlap between the exact state and the final\n",
        "#VQE state\n",
        "print(calculateOverlap(exactState,finalState))"
      ],
      "execution_count": null,
      "outputs": [
        {
          "output_type": "stream",
          "text": [
            "0.9998819363679626\n"
          ],
          "name": "stdout"
        },
        {
          "output_type": "stream",
          "text": [
            "/usr/local/lib/python3.7/dist-packages/qiskit/aqua/algorithms/minimum_eigen_solvers/minimum_eigen_solver.py:38: DeprecationWarning: The package qiskit.aqua.algorithms.minimum_eigen_solvers is deprecated. It was moved/refactored to qiskit.algorithms.minimum_eigen_solvers (pip install qiskit-terra). For more information see <https://github.com/Qiskit/qiskit-aqua/blob/master/README.md#migration-guide>\n",
            "  'qiskit-terra')\n",
            "/usr/local/lib/python3.7/dist-packages/qiskit/aqua/algorithms/eigen_solvers/eigen_solver.py:38: DeprecationWarning: The package qiskit.aqua.algorithms.eigen_solvers is deprecated. It was moved/refactored to qiskit.algorithms.eigen_solvers (pip install qiskit-terra). For more information see <https://github.com/Qiskit/qiskit-aqua/blob/master/README.md#migration-guide>\n",
            "  'qiskit-terra')\n"
          ],
          "name": "stderr"
        }
      ]
    },
    {
      "cell_type": "code",
      "metadata": {
        "id": "8lvWYquVCga-"
      },
      "source": [
        "overlaps = []\n",
        "\n",
        "# Calculate the overlap with the ground state at each\n",
        "#optimization step\n",
        "for parameters in evolution[\"parameters\"]:\n",
        "\n",
        "  finalCircuit = ansatz.assign_parameters(parameters)\n",
        "  simulator = Aer.get_backend(\"statevector_simulator\")\n",
        "\n",
        "  job = qiskit.execute(finalCircuit,simulator)\n",
        "  result = job.result()\n",
        "  finalState = result.get_statevector(finalCircuit, decimals=3)\n",
        "\n",
        "  overlap = calculateOverlap(exactState,finalState)\n",
        "  overlaps.append(overlap)"
      ],
      "execution_count": null,
      "outputs": []
    },
    {
      "cell_type": "code",
      "metadata": {
        "id": "NX1-4xjQTSnH"
      },
      "source": [
        "# Attributing a name to the backend for the title of the plot\n",
        "\n",
        "if backend.name() == \"statevector_simulator\":\n",
        "  backendName = \"Aer State Vector Simulator\"\n",
        "\n",
        "elif backend.name() == \"qasm_simulator\":\n",
        "  backendName = \"Aer QASM Simulator\"\n",
        "\n",
        "else:\n",
        "  backendName = backend.name()"
      ],
      "execution_count": null,
      "outputs": []
    },
    {
      "cell_type": "markdown",
      "metadata": {
        "id": "ehbSJUPV84J6"
      },
      "source": [
        "### Plotting Results"
      ]
    },
    {
      "cell_type": "code",
      "metadata": {
        "colab": {
          "base_uri": "https://localhost:8080/",
          "height": 545
        },
        "id": "kcodhYed-nR_",
        "outputId": "390ecbb9-27c0-4a9d-93c8-6669d57ab6f0"
      },
      "source": [
        "fig, ax1 = plt.subplots(figsize=[8,8])\n",
        "\n",
        "nfev = evolution[\"nfev\"][-1]\n",
        "\n",
        "title = \"Evolution of the Optimization\\nHe-H+, \"\n",
        "\n",
        "if backendName != \"Aer State Vector Simulator\":\n",
        "  title += \"{} shots, \".format(shots)\n",
        "title += \"{}\".format(backendName)\n",
        "\n",
        "ax1.set_title(title)\n",
        "\n",
        "color1 = 'b'\n",
        "ax1.plot(range(1,nfev+1), evolution[\"energy\"], '--o', color = color1)\n",
        "ax1.set_xlabel(\"VQE Iteration\")\n",
        "ax1.tick_params(axis='y', labelcolor = color1)\n",
        "ax1.set_ylabel(\"Energy (au)\", \n",
        "               color = color1)\n",
        "\n",
        "plt.axhline(y = exactEnergy, color = 'cornflowerblue' , linestyle = '-')\n",
        "\n",
        "color2 = 'r'\n",
        "ax2 = ax1.twinx()\n",
        "ax2.plot(range(1,nfev+1), overlaps, '--o', color = color2)\n",
        "ax2.tick_params(axis='y', labelcolor = color2)\n",
        "ax2.set_ylabel(\"Overlap with the ground state\",\n",
        "               color = color2)"
      ],
      "execution_count": null,
      "outputs": [
        {
          "output_type": "execute_result",
          "data": {
            "text/plain": [
              "Text(0, 0.5, 'Overlap with the ground state')"
            ]
          },
          "metadata": {
            "tags": []
          },
          "execution_count": 16
        },
        {
          "output_type": "display_data",
          "data": {
            "image/png": "[encoded data removed]",
            "text/plain": [
              "<Figure size 576x576 with 2 Axes>"
            ]
          },
          "metadata": {
            "tags": [],
            "needs_background": "light"
          }
        }
      ]
    }
  ]
}